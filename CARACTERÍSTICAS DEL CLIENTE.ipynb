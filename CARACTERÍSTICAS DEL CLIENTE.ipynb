{
 "cells": [
  {
   "cell_type": "markdown",
   "metadata": {},
   "source": [
    "# CARACTERÍSTICAS DEL CLIENTE - TRATAMIENTO"
   ]
  },
  {
   "cell_type": "markdown",
   "metadata": {},
   "source": [
    "# Proposito:"
   ]
  },
  {
   "cell_type": "markdown",
   "metadata": {},
   "source": [
    "En este notebook nos dedicaremos al tratamiento de los diferentes archivos que nos aportan informacion sobre las características de nuestro cliente con el objetivo de establecer un estándar y limpiar los datos para quedarnos con lo que realmente nos interesa. "
   ]
  },
  {
   "cell_type": "code",
   "execution_count": 1,
   "metadata": {
    "scrolled": true
   },
   "outputs": [
    {
     "name": "stdout",
     "output_type": "stream",
     "text": [
      "Last updated: 2023-02-10T12:17:47.316411+00:00\n",
      "\n",
      "Python implementation: CPython\n",
      "Python version       : 3.8.5\n",
      "IPython version      : 7.19.0\n",
      "\n",
      "Compiler    : MSC v.1916 64 bit (AMD64)\n",
      "OS          : Windows\n",
      "Release     : 10\n",
      "Machine     : AMD64\n",
      "Processor   : Intel64 Family 6 Model 126 Stepping 5, GenuineIntel\n",
      "CPU cores   : 8\n",
      "Architecture: 64bit\n",
      "\n"
     ]
    }
   ],
   "source": [
    "%load_ext watermark\n",
    "%watermark"
   ]
  },
  {
   "cell_type": "code",
   "execution_count": 2,
   "metadata": {},
   "outputs": [],
   "source": [
    "import pandas as pd\n",
    "import numpy as np\n",
    "import os\n",
    "import re"
   ]
  },
  {
   "cell_type": "markdown",
   "metadata": {},
   "source": [
    "# PREPARACION PREVIA\n",
    "\n",
    "Primero necesitamos copiar todos nuestros archivos en una carpeta donde podramos manipularlos para así conservar los archivos originales"
   ]
  },
  {
   "cell_type": "code",
   "execution_count": 3,
   "metadata": {},
   "outputs": [],
   "source": [
    "from distutils.dir_util import copy_tree\n",
    "\n",
    "# Método que limpia la carpeta de datos volatiles ya que es \n",
    "# una carpeta activa en todos los programas que hemos generado.\n",
    "def limpiaCarpetaVolatil(rutaCopia):\n",
    "    print(\"Limpiando Carpeta Volatil...\")\n",
    "    for f in os.listdir(rutaCopia):\n",
    "        os.remove(os.path.join(rutaCopia, f))\n",
    "        \n",
    "#Metodo que copia recursivamente\n",
    "def copia(dir_origen,dir_destino):\n",
    "    print(\"Copiando...\")\n",
    "    copy_tree(dir_origen, dir_destino)\n",
    "    print(\"Copiado\")\n",
    "    print(os.listdir(dir_destino))\n",
    "  \n"
   ]
  },
  {
   "cell_type": "code",
   "execution_count": 4,
   "metadata": {
    "scrolled": true
   },
   "outputs": [
    {
     "name": "stdout",
     "output_type": "stream",
     "text": [
      "Limpiando Carpeta Volatil...\n",
      "Copiando...\n",
      "Copiado\n",
      "['turistas_isla.csv', 'turistas_motivos.csv', 'turistas_motivos_isla.csv', 'turistas_origen.csv', 'turistas_paquete.csv', 'turistas_paquete_isla.csv', 'turistas_sexo_edad.csv']\n"
     ]
    }
   ],
   "source": [
    "rutaBase= \"../PredictorGastoTuristico/DatosVirgenes/ISTAC/CaracteristicasCliente/\"\n",
    "rutaCopia= \"../PredictorGastoTuristico/DatosVolatiles/\"\n",
    "\n",
    "limpiaCarpetaVolatil(rutaCopia)\n",
    "copia(rutaBase,rutaCopia)"
   ]
  },
  {
   "cell_type": "markdown",
   "metadata": {},
   "source": [
    "## Primero cargamos los archivos para tratarlos y finalmente unirlos:"
   ]
  },
  {
   "cell_type": "code",
   "execution_count": 5,
   "metadata": {
    "scrolled": false
   },
   "outputs": [
    {
     "name": "stdout",
     "output_type": "stream",
     "text": [
      "0 turistas_isla.csv\n",
      "1 turistas_motivos.csv\n",
      "2 turistas_motivos_isla.csv\n",
      "3 turistas_origen.csv\n",
      "4 turistas_paquete.csv\n",
      "5 turistas_paquete_isla.csv\n",
      "6 turistas_sexo_edad.csv\n"
     ]
    }
   ],
   "source": [
    "ruta = rutaCopia\n",
    "list_csv_names = os.listdir(ruta)\n",
    "index = 0\n",
    "for archivo in list_csv_names:\n",
    "    print(str(index) + \" \" + archivo)\n",
    "    index = index + 1"
   ]
  },
  {
   "cell_type": "code",
   "execution_count": 6,
   "metadata": {},
   "outputs": [],
   "source": [
    "t_isla = pd.read_csv(ruta+list_csv_names[0],keep_default_na=False, na_values=[\"\"])\n",
    "t_motivos = pd.read_csv(ruta+list_csv_names[1],keep_default_na=False, na_values=[\"\"])\n",
    "t_motivos_isla = pd.read_csv(ruta+list_csv_names[2],keep_default_na=False, na_values=[\"\"])\n",
    "t_origen = pd.read_csv(ruta+list_csv_names[3],keep_default_na=False, na_values=[\"\"])\n",
    "t_paquete = pd.read_csv(ruta+list_csv_names[4],keep_default_na=False, na_values=[\"\"])\n",
    "t_paquete_isla = pd.read_csv(ruta+list_csv_names[5],keep_default_na=False, na_values=[\"\"])\n",
    "t_sexo_edad = pd.read_csv(ruta+list_csv_names[6],keep_default_na=False, na_values=[\"\"])"
   ]
  },
  {
   "cell_type": "code",
   "execution_count": 7,
   "metadata": {},
   "outputs": [],
   "source": [
    "list_all_csv = [t_isla,t_motivos,t_motivos_isla,t_origen,t_paquete,t_paquete_isla,t_sexo_edad]"
   ]
  },
  {
   "cell_type": "markdown",
   "metadata": {},
   "source": [
    "## Visualizamos el conjunto de todos los csv\n",
    "\n",
    "Vemos como existen columnas semejantes pero, la fecha por ejemplo no es homogenea"
   ]
  },
  {
   "cell_type": "code",
   "execution_count": 8,
   "metadata": {},
   "outputs": [
    {
     "name": "stdout",
     "output_type": "stream",
     "text": [
      "------------------turistas_isla.csv------------------\n",
      "  tipo_turista  periodo   pais       isla   valor\n",
      "0        Total  2021M11  TOTAL  Lanzarote  205010\n",
      "\n",
      "\n",
      "------------------turistas_motivos.csv------------------\n",
      "    pais         motivo  periodo    valor\n",
      "0  TOTAL  TOTAL MOTIVOS  2021M11  1145484\n",
      "\n",
      "\n",
      "------------------turistas_motivos_isla.csv------------------\n",
      "          motivo  periodo   pais       isla   valor\n",
      "0  TOTAL MOTIVOS  2021M11  TOTAL  Lanzarote  205010\n",
      "\n",
      "\n",
      "------------------turistas_origen.csv------------------\n",
      "   periodo   pais    valor\n",
      "0  2021M11  TOTAL  1145484\n",
      "\n",
      "\n",
      "------------------turistas_paquete.csv------------------\n",
      "    pais paquete  periodo    valor\n",
      "0  TOTAL   Total  2021M11  1145484\n",
      "\n",
      "\n",
      "------------------turistas_paquete_isla.csv------------------\n",
      "  paquete  periodo   pais       isla   valor\n",
      "0   Total  2021M11  TOTAL  Lanzarote  205010\n",
      "\n",
      "\n",
      "------------------turistas_sexo_edad.csv------------------\n",
      "    pais   sexo          edad  periodo    valor\n",
      "0  TOTAL  Total  TOTAL EDADES  2021M11  1145484\n",
      "\n",
      "\n"
     ]
    }
   ],
   "source": [
    "i = 0\n",
    "for archivo in list_all_csv:\n",
    "    print(\"------------------\" + list_csv_names[i] +\"------------------\")\n",
    "    print(archivo.head(1))\n",
    "    print(\"\\n\")\n",
    "    i = i +1"
   ]
  },
  {
   "cell_type": "code",
   "execution_count": 9,
   "metadata": {},
   "outputs": [
    {
     "name": "stdout",
     "output_type": "stream",
     "text": [
      "------------------turistas_isla.csv------------------\n",
      "tipo_turista\n",
      "['Total' 'Turistas principales' 'Turistas secundarios']\n",
      "\n",
      "\n",
      "periodo\n",
      "['2021M11' '2021M10' '2021M09' '2021M08' '2021M07' '2021M06' '2021M05'\n",
      " '2021M04' '2021M03' '2021M02' '2021M01' '2020M12' '2020M11' '2020M10'\n",
      " '2020M09' '2020M08' '2020M07' '2020M06' '2020M05' '2020M04' '2020M03'\n",
      " '2020M02' '2020M01' '2019M12' '2019M11' '2019M10' '2019M09' '2019M08'\n",
      " '2019M07' '2019M06' '2019M05' '2019M04' '2019M03' '2019M02' '2019M01'\n",
      " '2018M12' '2018M11' '2018M10' '2018M09' '2018M08' '2018M07' '2018M06'\n",
      " '2018M05' '2018M04' '2018M03' '2018M02' '2018M01' '2017M12' '2017M11'\n",
      " '2017M10' '2017M09' '2017M08' '2017M07' '2017M06' '2017M05' '2017M04'\n",
      " '2017M03' '2017M02' '2017M01' '2016M12' '2016M11' '2016M10' '2016M09'\n",
      " '2016M08' '2016M07' '2016M06' '2016M05' '2016M04' '2016M03' '2016M02'\n",
      " '2016M01' '2015M12' '2015M11' '2015M10' '2015M09' '2015M08' '2015M07'\n",
      " '2015M06' '2015M05' '2015M04' '2015M03' '2015M02' '2015M01' '2014M12'\n",
      " '2014M11' '2014M10' '2014M09' '2014M08' '2014M07' '2014M06' '2014M05'\n",
      " '2014M04' '2014M03' '2014M02' '2014M01' '2013M12' '2013M11' '2013M10'\n",
      " '2013M09' '2013M08' '2013M07' '2013M06' '2013M05' '2013M04' '2013M03'\n",
      " '2013M02' '2013M01' '2012M12' '2012M11' '2012M10' '2012M09' '2012M08'\n",
      " '2012M07' '2012M06' '2012M05' '2012M04' '2012M03' '2012M02' '2012M01'\n",
      " '2011M12' '2011M11' '2011M10' '2011M09' '2011M08' '2011M07' '2011M06'\n",
      " '2011M05' '2011M04' '2011M03' '2011M02' '2011M01' '2010M12' '2010M11'\n",
      " '2010M10' '2010M09' '2010M08' '2010M07' '2010M06' '2010M05' '2010M04'\n",
      " '2010M03' '2010M02' '2010M01']\n",
      "\n",
      "\n",
      "pais\n",
      "['TOTAL' 'RESIDENTES EN EL EXTRANJERO' 'Alemania' 'Bélgica' 'Francia'\n",
      " 'Holanda' 'Irlanda' 'Italia' 'Países Nórdicos' 'Reino Unido'\n",
      " 'Otros países' 'España']\n",
      "\n",
      "\n",
      "isla\n",
      "['Lanzarote' 'Fuerteventura' 'Gran Canaria' 'Tenerife' 'La Palma']\n",
      "\n",
      "\n",
      "valor\n",
      "['205010' '158663' '304600' ... '3482' '5509' '1875']\n",
      "\n",
      "\n",
      "\n",
      "\n",
      "------------------turistas_motivos.csv------------------\n",
      "pais\n",
      "['TOTAL' 'RESIDENTES EN EL EXTRANJERO' 'Alemania' 'Holanda' 'Irlanda'\n",
      " 'Países Nórdicos' 'Reino Unido' 'Suiza' 'Otros países' 'España']\n",
      "\n",
      "\n",
      "motivo\n",
      "['TOTAL MOTIVOS' 'Ocio o vacaciones' 'Trabajo o negocios' 'Personal'\n",
      " 'Otros motivos']\n",
      "\n",
      "\n",
      "periodo\n",
      "['2021M11' '2021M10' '2021M09' '2021M08' '2021M07' '2021M06' '2021M05'\n",
      " '2021M04' '2021M03' '2021M02' '2021M01' '2020M12' '2020M11' '2020M10'\n",
      " '2020M09' '2020M08' '2020M07' '2020M06' '2020M05' '2020M04' '2020M03'\n",
      " '2020M02' '2020M01' '2019M12' '2019M11' '2019M10' '2019M09' '2019M08'\n",
      " '2019M07' '2019M06' '2019M05' '2019M04' '2019M03' '2019M02' '2019M01'\n",
      " '2018M12' '2018M11' '2018M10' '2018M09' '2018M08' '2018M07' '2018M06'\n",
      " '2018M05' '2018M04' '2018M03' '2018M02' '2018M01' '2017M12' '2017M11'\n",
      " '2017M10' '2017M09' '2017M08' '2017M07' '2017M06' '2017M05' '2017M04'\n",
      " '2017M03' '2017M02' '2017M01' '2016M12' '2016M11' '2016M10' '2016M09'\n",
      " '2016M08' '2016M07' '2016M06' '2016M05' '2016M04' '2016M03' '2016M02'\n",
      " '2016M01' '2015M12' '2015M11' '2015M10' '2015M09' '2015M08' '2015M07'\n",
      " '2015M06' '2015M05' '2015M04' '2015M03' '2015M02' '2015M01' '2014M12'\n",
      " '2014M11' '2014M10' '2014M09' '2014M08' '2014M07' '2014M06' '2014M05'\n",
      " '2014M04' '2014M03' '2014M02' '2014M01' '2013M12' '2013M11' '2013M10'\n",
      " '2013M09' '2013M08' '2013M07' '2013M06' '2013M05' '2013M04' '2013M03'\n",
      " '2013M02' '2013M01' '2012M12' '2012M11' '2012M10' '2012M09' '2012M08'\n",
      " '2012M07' '2012M06' '2012M05' '2012M04' '2012M03' '2012M02' '2012M01'\n",
      " '2011M12' '2011M11' '2011M10' '2011M09' '2011M08' '2011M07' '2011M06'\n",
      " '2011M05' '2011M04' '2011M03' '2011M02' '2011M01' '2010M12' '2010M11'\n",
      " '2010M10' '2010M09' '2010M08' '2010M07' '2010M06' '2010M05' '2010M04'\n",
      " '2010M03' '2010M02' '2010M01']\n",
      "\n",
      "\n",
      "valor\n",
      "['1145484' '1140977' '797652' ... '1108' '2030' '1720']\n",
      "\n",
      "\n",
      "\n",
      "\n",
      "------------------turistas_motivos_isla.csv------------------\n",
      "motivo\n",
      "['TOTAL MOTIVOS' 'Ocio o vacaciones' 'Trabajo o negocios' 'Personal'\n",
      " 'Otros motivos']\n",
      "\n",
      "\n",
      "periodo\n",
      "['2021M11' '2021M10' '2021M09' '2021M08' '2021M07' '2021M06' '2021M05'\n",
      " '2021M04' '2021M03' '2021M02' '2021M01' '2020M12' '2020M11' '2020M10'\n",
      " '2020M09' '2020M08' '2020M07' '2020M06' '2020M05' '2020M04' '2020M03'\n",
      " '2020M02' '2020M01' '2019M12' '2019M11' '2019M10' '2019M09' '2019M08'\n",
      " '2019M07' '2019M06' '2019M05' '2019M04' '2019M03' '2019M02' '2019M01'\n",
      " '2018M12' '2018M11' '2018M10' '2018M09' '2018M08' '2018M07' '2018M06'\n",
      " '2018M05' '2018M04' '2018M03' '2018M02' '2018M01' '2017M12' '2017M11'\n",
      " '2017M10' '2017M09' '2017M08' '2017M07' '2017M06' '2017M05' '2017M04'\n",
      " '2017M03' '2017M02' '2017M01' '2016M12' '2016M11' '2016M10' '2016M09'\n",
      " '2016M08' '2016M07' '2016M06' '2016M05' '2016M04' '2016M03' '2016M02'\n",
      " '2016M01' '2015M12' '2015M11' '2015M10' '2015M09' '2015M08' '2015M07'\n",
      " '2015M06' '2015M05' '2015M04' '2015M03' '2015M02' '2015M01' '2014M12'\n",
      " '2014M11' '2014M10' '2014M09' '2014M08' '2014M07' '2014M06' '2014M05'\n",
      " '2014M04' '2014M03' '2014M02' '2014M01' '2013M12' '2013M11' '2013M10'\n",
      " '2013M09' '2013M08' '2013M07' '2013M06' '2013M05' '2013M04' '2013M03'\n",
      " '2013M02' '2013M01' '2012M12' '2012M11' '2012M10' '2012M09' '2012M08'\n",
      " '2012M07' '2012M06' '2012M05' '2012M04' '2012M03' '2012M02' '2012M01'\n",
      " '2011M12' '2011M11' '2011M10' '2011M09' '2011M08' '2011M07' '2011M06'\n",
      " '2011M05' '2011M04' '2011M03' '2011M02' '2011M01' '2010M12' '2010M11'\n",
      " '2010M10' '2010M09' '2010M08' '2010M07' '2010M06' '2010M05' '2010M04'\n",
      " '2010M03' '2010M02' '2010M01']\n",
      "\n",
      "\n",
      "pais\n",
      "['TOTAL' 'España' 'Extranjero']\n",
      "\n",
      "\n",
      "isla\n",
      "['Lanzarote' 'Fuerteventura' 'Gran Canaria' 'Tenerife' 'La Palma']\n",
      "\n",
      "\n",
      "valor\n",
      "['205010' '158663' '304600' ... '795' '5124' '1520']\n",
      "\n",
      "\n",
      "\n",
      "\n",
      "------------------turistas_origen.csv------------------\n",
      "periodo\n",
      "['2021M11' '2021M10' '2021M09' '2021M08' '2021M07' '2021M06' '2021M05'\n",
      " '2021M04' '2021M03' '2021M02' '2021M01' '2020M12' '2020M11' '2020M10'\n",
      " '2020M09' '2020M08' '2020M07' '2020M06' '2020M05' '2020M04' '2020M03'\n",
      " '2020M02' '2020M01' '2019M12' '2019M11' '2019M10' '2019M09' '2019M08'\n",
      " '2019M07' '2019M06' '2019M05' '2019M04' '2019M03' '2019M02' '2019M01'\n",
      " '2018M12' '2018M11' '2018M10' '2018M09' '2018M08' '2018M07' '2018M06'\n",
      " '2018M05' '2018M04' '2018M03' '2018M02' '2018M01' '2017M12' '2017M11'\n",
      " '2017M10' '2017M09' '2017M08' '2017M07' '2017M06' '2017M05' '2017M04'\n",
      " '2017M03' '2017M02' '2017M01' '2016M12' '2016M11' '2016M10' '2016M09'\n",
      " '2016M08' '2016M07' '2016M06' '2016M05' '2016M04' '2016M03' '2016M02'\n",
      " '2016M01' '2015M12' '2015M11' '2015M10' '2015M09' '2015M08' '2015M07'\n",
      " '2015M06' '2015M05' '2015M04' '2015M03' '2015M02' '2015M01' '2014M12'\n",
      " '2014M11' '2014M10' '2014M09' '2014M08' '2014M07' '2014M06' '2014M05'\n",
      " '2014M04' '2014M03' '2014M02' '2014M01' '2013M12' '2013M11' '2013M10'\n",
      " '2013M09' '2013M08' '2013M07' '2013M06' '2013M05' '2013M04' '2013M03'\n",
      " '2013M02' '2013M01' '2012M12' '2012M11' '2012M10' '2012M09' '2012M08'\n",
      " '2012M07' '2012M06' '2012M05' '2012M04' '2012M03' '2012M02' '2012M01'\n",
      " '2011M12' '2011M11' '2011M10' '2011M09' '2011M08' '2011M07' '2011M06'\n",
      " '2011M05' '2011M04' '2011M03' '2011M02' '2011M01' '2010M12' '2010M11'\n",
      " '2010M10' '2010M09' '2010M08' '2010M07' '2010M06' '2010M05' '2010M04'\n",
      " '2010M03' '2010M02' '2010M01']\n",
      "\n",
      "\n",
      "pais\n",
      "['TOTAL' 'RESIDENTES EN EL EXTRANJERO' 'Alemania' 'Bélgica' 'Dinamarca'\n",
      " 'Finlandia' 'Francia' 'Holanda' 'Irlanda' 'Italia' 'Noruega'\n",
      " 'Reino Unido' 'Suecia' 'Suiza' 'Otros países' 'España']\n",
      "\n",
      "\n",
      "valor\n",
      "['1145484' '1140977' '797652' ... '124959' '109583' '100688']\n",
      "\n",
      "\n",
      "\n",
      "\n",
      "------------------turistas_paquete.csv------------------\n",
      "pais\n",
      "['TOTAL' 'RESIDENTES EN EL EXTRANJERO' 'Alemania' 'Holanda' 'Irlanda'\n",
      " 'Países Nórdicos' 'Reino Unido' 'Suiza' 'Otros países' 'España']\n",
      "\n",
      "\n",
      "paquete\n",
      "['Total' 'Sí contrataron un paquete turístico'\n",
      " 'No contrataron un paquete turístico']\n",
      "\n",
      "\n",
      "periodo\n",
      "['2021M11' '2021M10' '2021M09' '2021M08' '2021M07' '2021M06' '2021M05'\n",
      " '2021M04' '2021M03' '2021M02' '2021M01' '2020M12' '2020M11' '2020M10'\n",
      " '2020M09' '2020M08' '2020M07' '2020M06' '2020M05' '2020M04' '2020M03'\n",
      " '2020M02' '2020M01' '2019M12' '2019M11' '2019M10' '2019M09' '2019M08'\n",
      " '2019M07' '2019M06' '2019M05' '2019M04' '2019M03' '2019M02' '2019M01'\n",
      " '2018M12' '2018M11' '2018M10' '2018M09' '2018M08' '2018M07' '2018M06'\n",
      " '2018M05' '2018M04' '2018M03' '2018M02' '2018M01' '2017M12' '2017M11'\n",
      " '2017M10' '2017M09' '2017M08' '2017M07' '2017M06' '2017M05' '2017M04'\n",
      " '2017M03' '2017M02' '2017M01' '2016M12' '2016M11' '2016M10' '2016M09'\n",
      " '2016M08' '2016M07' '2016M06' '2016M05' '2016M04' '2016M03' '2016M02'\n",
      " '2016M01' '2015M12' '2015M11' '2015M10' '2015M09' '2015M08' '2015M07'\n",
      " '2015M06' '2015M05' '2015M04' '2015M03' '2015M02' '2015M01' '2014M12'\n",
      " '2014M11' '2014M10' '2014M09' '2014M08' '2014M07' '2014M06' '2014M05'\n",
      " '2014M04' '2014M03' '2014M02' '2014M01' '2013M12' '2013M11' '2013M10'\n",
      " '2013M09' '2013M08' '2013M07' '2013M06' '2013M05' '2013M04' '2013M03'\n",
      " '2013M02' '2013M01' '2012M12' '2012M11' '2012M10' '2012M09' '2012M08'\n",
      " '2012M07' '2012M06' '2012M05' '2012M04' '2012M03' '2012M02' '2012M01'\n",
      " '2011M12' '2011M11' '2011M10' '2011M09' '2011M08' '2011M07' '2011M06'\n",
      " '2011M05' '2011M04' '2011M03' '2011M02' '2011M01' '2010M12' '2010M11'\n",
      " '2010M10' '2010M09' '2010M08' '2010M07' '2010M06' '2010M05' '2010M04'\n",
      " '2010M03' '2010M02' '2010M01']\n",
      "\n",
      "\n",
      "valor\n",
      "['1145484' '1140977' '797652' ... '72477' '66155' '62465']\n",
      "\n",
      "\n",
      "\n",
      "\n",
      "------------------turistas_paquete_isla.csv------------------\n",
      "paquete\n",
      "['Total' 'Sí contrataron un paquete turístico'\n",
      " 'No contrataron un paquete turístico']\n",
      "\n",
      "\n",
      "periodo\n",
      "['2021M11' '2021M10' '2021M09' '2021M08' '2021M07' '2021M06' '2021M05'\n",
      " '2021M04' '2021M03' '2021M02' '2021M01' '2020M12' '2020M11' '2020M10'\n",
      " '2020M09' '2020M08' '2020M07' '2020M06' '2020M05' '2020M04' '2020M03'\n",
      " '2020M02' '2020M01' '2019M12' '2019M11' '2019M10' '2019M09' '2019M08'\n",
      " '2019M07' '2019M06' '2019M05' '2019M04' '2019M03' '2019M02' '2019M01'\n",
      " '2018M12' '2018M11' '2018M10' '2018M09' '2018M08' '2018M07' '2018M06'\n",
      " '2018M05' '2018M04' '2018M03' '2018M02' '2018M01' '2017M12' '2017M11'\n",
      " '2017M10' '2017M09' '2017M08' '2017M07' '2017M06' '2017M05' '2017M04'\n",
      " '2017M03' '2017M02' '2017M01' '2016M12' '2016M11' '2016M10' '2016M09'\n",
      " '2016M08' '2016M07' '2016M06' '2016M05' '2016M04' '2016M03' '2016M02'\n",
      " '2016M01' '2015M12' '2015M11' '2015M10' '2015M09' '2015M08' '2015M07'\n",
      " '2015M06' '2015M05' '2015M04' '2015M03' '2015M02' '2015M01' '2014M12'\n",
      " '2014M11' '2014M10' '2014M09' '2014M08' '2014M07' '2014M06' '2014M05'\n",
      " '2014M04' '2014M03' '2014M02' '2014M01' '2013M12' '2013M11' '2013M10'\n",
      " '2013M09' '2013M08' '2013M07' '2013M06' '2013M05' '2013M04' '2013M03'\n",
      " '2013M02' '2013M01' '2012M12' '2012M11' '2012M10' '2012M09' '2012M08'\n",
      " '2012M07' '2012M06' '2012M05' '2012M04' '2012M03' '2012M02' '2012M01'\n",
      " '2011M12' '2011M11' '2011M10' '2011M09' '2011M08' '2011M07' '2011M06'\n",
      " '2011M05' '2011M04' '2011M03' '2011M02' '2011M01' '2010M12' '2010M11'\n",
      " '2010M10' '2010M09' '2010M08' '2010M07' '2010M06' '2010M05' '2010M04'\n",
      " '2010M03' '2010M02' '2010M01']\n",
      "\n",
      "\n",
      "pais\n",
      "['TOTAL' 'España' 'Extranjero']\n",
      "\n",
      "\n",
      "isla\n",
      "['Lanzarote' 'Fuerteventura' 'Gran Canaria' 'Tenerife' 'La Palma']\n",
      "\n",
      "\n",
      "valor\n",
      "[205010 158663 304600 ...  70415 121799   5673]\n",
      "\n",
      "\n",
      "\n",
      "\n",
      "------------------turistas_sexo_edad.csv------------------\n",
      "pais\n",
      "['TOTAL' 'RESIDENTES EN EL EXTRANJERO' 'Alemania' 'Holanda' 'Irlanda'\n",
      " 'Países Nórdicos' 'Reino Unido' 'Suiza' 'Otros países' 'España']\n",
      "\n",
      "\n",
      "sexo\n",
      "['Total' 'Hombres' 'Mujeres']\n",
      "\n",
      "\n",
      "edad\n",
      "['TOTAL EDADES' 'Menor de 15' 'De 15 a 24' 'De 25 a 44' 'De 45 a 64'\n",
      " 'Mayor de 64']\n",
      "\n",
      "\n",
      "periodo\n",
      "['2021M11' '2021M10' '2021M09' '2021M08' '2021M07' '2021M06' '2021M05'\n",
      " '2021M04' '2021M03' '2021M02' '2021M01' '2020M12' '2020M11' '2020M10'\n",
      " '2020M09' '2020M08' '2020M07' '2020M06' '2020M05' '2020M04' '2020M03'\n",
      " '2020M02' '2020M01' '2019M12' '2019M11' '2019M10' '2019M09' '2019M08'\n",
      " '2019M07' '2019M06' '2019M05' '2019M04' '2019M03' '2019M02' '2019M01'\n",
      " '2018M12' '2018M11' '2018M10' '2018M09' '2018M08' '2018M07' '2018M06'\n",
      " '2018M05' '2018M04' '2018M03' '2018M02' '2018M01' '2017M12' '2017M11'\n",
      " '2017M10' '2017M09' '2017M08' '2017M07' '2017M06' '2017M05' '2017M04'\n",
      " '2017M03' '2017M02' '2017M01' '2016M12' '2016M11' '2016M10' '2016M09'\n",
      " '2016M08' '2016M07' '2016M06' '2016M05' '2016M04' '2016M03' '2016M02'\n",
      " '2016M01' '2015M12' '2015M11' '2015M10' '2015M09' '2015M08' '2015M07'\n",
      " '2015M06' '2015M05' '2015M04' '2015M03' '2015M02' '2015M01' '2014M12'\n",
      " '2014M11' '2014M10' '2014M09' '2014M08' '2014M07' '2014M06' '2014M05'\n",
      " '2014M04' '2014M03' '2014M02' '2014M01' '2013M12' '2013M11' '2013M10'\n",
      " '2013M09' '2013M08' '2013M07' '2013M06' '2013M05' '2013M04' '2013M03'\n",
      " '2013M02' '2013M01' '2012M12' '2012M11' '2012M10' '2012M09' '2012M08'\n",
      " '2012M07' '2012M06' '2012M05' '2012M04' '2012M03' '2012M02' '2012M01'\n",
      " '2011M12' '2011M11' '2011M10' '2011M09' '2011M08' '2011M07' '2011M06'\n",
      " '2011M05' '2011M04' '2011M03' '2011M02' '2011M01' '2010M12' '2010M11'\n",
      " '2010M10' '2010M09' '2010M08' '2010M07' '2010M06' '2010M05' '2010M04'\n",
      " '2010M03' '2010M02' '2010M01']\n",
      "\n",
      "\n",
      "valor\n"
     ]
    },
    {
     "name": "stdout",
     "output_type": "stream",
     "text": [
      "['1145484' '1140977' '797652' ... '7586' '4643' '10135']\n",
      "\n",
      "\n",
      "\n",
      "\n"
     ]
    }
   ],
   "source": [
    "i = 0\n",
    "for archivo in list_all_csv:\n",
    "    print(\"------------------\" + list_csv_names[i] +\"------------------\")\n",
    "    for columna in archivo:\n",
    "        print(columna)\n",
    "        print(archivo[columna].unique())\n",
    "        print(\"\\n\")\n",
    "    print(\"\\n\")\n",
    "    i = i +1"
   ]
  },
  {
   "cell_type": "markdown",
   "metadata": {},
   "source": [
    "## 1. FECHA"
   ]
  },
  {
   "cell_type": "markdown",
   "metadata": {},
   "source": [
    "Vamos a estandarizar la fecha usando los valores trimestrales, pero en el formato estándar de cuartiles. Ya que vemos que tiene el formato \"2020 Primer Trimestre\""
   ]
  },
  {
   "cell_type": "markdown",
   "metadata": {},
   "source": [
    "### 1.1 Transformamos la fecha a un formato usable Year-month"
   ]
  },
  {
   "cell_type": "code",
   "execution_count": 10,
   "metadata": {},
   "outputs": [],
   "source": [
    "for archivo in list_all_csv:\n",
    "    archivo.rename(columns={'periodo':'fecha'}, inplace=True)"
   ]
  },
  {
   "cell_type": "markdown",
   "metadata": {},
   "source": [
    "Vimos como nuestros archivos tienen un formato de fecha de añoMmes, esto el metodo to_datetime de pandas no lo entiende asiqeu debemos cambiarlo por algo que si entienda.\n",
    "\n",
    "### Aqui qutamos las \"M\""
   ]
  },
  {
   "cell_type": "markdown",
   "metadata": {},
   "source": [
    "Al siguiente metodo se la pasa un dataframe, la columna y el patron que queremos encontrar y remplazar en toda la columna."
   ]
  },
  {
   "cell_type": "code",
   "execution_count": 11,
   "metadata": {},
   "outputs": [],
   "source": [
    "# A esta funcion se la pasa un dataframe, la columna y el elemento que queremos encontrar y remplazar en toda la columna\n",
    "def replace_value(df, df_column_name, patron_to_find, patron_to_replace):\n",
    "    try:\n",
    "        my_list = []\n",
    "        for item in df[df_column_name]: \n",
    "            #my_list.append(re.sub(r'(\\d+)M(\\d+)',r'\\1-\\2',item))\n",
    "            my_list.append(re.sub(patron_to_find, patron_to_replace,item))\n",
    "            \n",
    "        print(\"Se ha cambiado el patron ({}) por el patron ({}) en la columna {}\".format(\n",
    "                patron_to_find, patron_to_replace, str(df[df_column_name].name)\n",
    "            ))\n",
    "        df[df_column_name] = pd.DataFrame(my_list)\n",
    "        #print(df.head(5))\n",
    "    except:\n",
    "        print(\"No se ha encontrado el patron\")  "
   ]
  },
  {
   "cell_type": "markdown",
   "metadata": {},
   "source": [
    "Para ello primero cambiamos a tipo string la columna, y tratamos la fecha de todos los archivos"
   ]
  },
  {
   "cell_type": "code",
   "execution_count": 12,
   "metadata": {},
   "outputs": [
    {
     "name": "stdout",
     "output_type": "stream",
     "text": [
      "Se ha cambiado el patron ((\\d+)M(\\d+)) por el patron (\\1-\\2) en la columna fecha\n",
      "Se ha cambiado el patron ((\\d+)M(\\d+)) por el patron (\\1-\\2) en la columna fecha\n",
      "Se ha cambiado el patron ((\\d+)M(\\d+)) por el patron (\\1-\\2) en la columna fecha\n",
      "Se ha cambiado el patron ((\\d+)M(\\d+)) por el patron (\\1-\\2) en la columna fecha\n",
      "Se ha cambiado el patron ((\\d+)M(\\d+)) por el patron (\\1-\\2) en la columna fecha\n",
      "Se ha cambiado el patron ((\\d+)M(\\d+)) por el patron (\\1-\\2) en la columna fecha\n",
      "Se ha cambiado el patron ((\\d+)M(\\d+)) por el patron (\\1-\\2) en la columna fecha\n"
     ]
    }
   ],
   "source": [
    "for archivo in list_all_csv:\n",
    "    archivo.rename(columns={'periodo':'fecha'}, inplace=True)   #Renombramos las columnas\n",
    "    archivo['fecha'] = archivo['fecha'].astype(\"string\")        #Transformamos la columana a tipo String\n",
    "    replace_value(archivo, \"fecha\", r'(\\d+)M(\\d+)', r'\\1-\\2')   # llamamos a la funcion que reemplaza nuestro patron"
   ]
  },
  {
   "cell_type": "markdown",
   "metadata": {},
   "source": [
    "Veamos un ejemplo:"
   ]
  },
  {
   "cell_type": "code",
   "execution_count": 13,
   "metadata": {},
   "outputs": [
    {
     "data": {
      "text/html": [
       "<div>\n",
       "<style scoped>\n",
       "    .dataframe tbody tr th:only-of-type {\n",
       "        vertical-align: middle;\n",
       "    }\n",
       "\n",
       "    .dataframe tbody tr th {\n",
       "        vertical-align: top;\n",
       "    }\n",
       "\n",
       "    .dataframe thead th {\n",
       "        text-align: right;\n",
       "    }\n",
       "</style>\n",
       "<table border=\"1\" class=\"dataframe\">\n",
       "  <thead>\n",
       "    <tr style=\"text-align: right;\">\n",
       "      <th></th>\n",
       "      <th>tipo_turista</th>\n",
       "      <th>fecha</th>\n",
       "      <th>pais</th>\n",
       "      <th>isla</th>\n",
       "      <th>valor</th>\n",
       "    </tr>\n",
       "  </thead>\n",
       "  <tbody>\n",
       "    <tr>\n",
       "      <th>0</th>\n",
       "      <td>Total</td>\n",
       "      <td>2021-11</td>\n",
       "      <td>TOTAL</td>\n",
       "      <td>Lanzarote</td>\n",
       "      <td>205010</td>\n",
       "    </tr>\n",
       "    <tr>\n",
       "      <th>1</th>\n",
       "      <td>Total</td>\n",
       "      <td>2021-11</td>\n",
       "      <td>TOTAL</td>\n",
       "      <td>Fuerteventura</td>\n",
       "      <td>158663</td>\n",
       "    </tr>\n",
       "  </tbody>\n",
       "</table>\n",
       "</div>"
      ],
      "text/plain": [
       "  tipo_turista    fecha   pais           isla   valor\n",
       "0        Total  2021-11  TOTAL      Lanzarote  205010\n",
       "1        Total  2021-11  TOTAL  Fuerteventura  158663"
      ]
     },
     "execution_count": 13,
     "metadata": {},
     "output_type": "execute_result"
    }
   ],
   "source": [
    "list_all_csv[0].head(2)"
   ]
  },
  {
   "cell_type": "markdown",
   "metadata": {},
   "source": [
    "### 1.2 Transformamos a cuartiles"
   ]
  },
  {
   "cell_type": "markdown",
   "metadata": {},
   "source": [
    "Convertimos de datatime a a quarter"
   ]
  },
  {
   "cell_type": "code",
   "execution_count": 14,
   "metadata": {},
   "outputs": [],
   "source": [
    "for archivo in list_all_csv:\n",
    "    archivo.fecha.astype(\"string\")\n",
    "    archivo['fecha'] = pd.PeriodIndex(archivo.fecha, freq=\"Q\")"
   ]
  },
  {
   "cell_type": "markdown",
   "metadata": {},
   "source": [
    "Veamos un ejemplo:"
   ]
  },
  {
   "cell_type": "code",
   "execution_count": 15,
   "metadata": {
    "scrolled": true
   },
   "outputs": [
    {
     "data": {
      "text/html": [
       "<div>\n",
       "<style scoped>\n",
       "    .dataframe tbody tr th:only-of-type {\n",
       "        vertical-align: middle;\n",
       "    }\n",
       "\n",
       "    .dataframe tbody tr th {\n",
       "        vertical-align: top;\n",
       "    }\n",
       "\n",
       "    .dataframe thead th {\n",
       "        text-align: right;\n",
       "    }\n",
       "</style>\n",
       "<table border=\"1\" class=\"dataframe\">\n",
       "  <thead>\n",
       "    <tr style=\"text-align: right;\">\n",
       "      <th></th>\n",
       "      <th>tipo_turista</th>\n",
       "      <th>fecha</th>\n",
       "      <th>pais</th>\n",
       "      <th>isla</th>\n",
       "      <th>valor</th>\n",
       "    </tr>\n",
       "  </thead>\n",
       "  <tbody>\n",
       "    <tr>\n",
       "      <th>0</th>\n",
       "      <td>Total</td>\n",
       "      <td>2021Q4</td>\n",
       "      <td>TOTAL</td>\n",
       "      <td>Lanzarote</td>\n",
       "      <td>205010</td>\n",
       "    </tr>\n",
       "    <tr>\n",
       "      <th>1</th>\n",
       "      <td>Total</td>\n",
       "      <td>2021Q4</td>\n",
       "      <td>TOTAL</td>\n",
       "      <td>Fuerteventura</td>\n",
       "      <td>158663</td>\n",
       "    </tr>\n",
       "    <tr>\n",
       "      <th>2</th>\n",
       "      <td>Total</td>\n",
       "      <td>2021Q4</td>\n",
       "      <td>TOTAL</td>\n",
       "      <td>Gran Canaria</td>\n",
       "      <td>304600</td>\n",
       "    </tr>\n",
       "    <tr>\n",
       "      <th>3</th>\n",
       "      <td>Total</td>\n",
       "      <td>2021Q4</td>\n",
       "      <td>TOTAL</td>\n",
       "      <td>Tenerife</td>\n",
       "      <td>476682</td>\n",
       "    </tr>\n",
       "    <tr>\n",
       "      <th>4</th>\n",
       "      <td>Total</td>\n",
       "      <td>2021Q4</td>\n",
       "      <td>TOTAL</td>\n",
       "      <td>La Palma</td>\n",
       "      <td>21060</td>\n",
       "    </tr>\n",
       "    <tr>\n",
       "      <th>5</th>\n",
       "      <td>Total</td>\n",
       "      <td>2021Q4</td>\n",
       "      <td>TOTAL</td>\n",
       "      <td>Lanzarote</td>\n",
       "      <td>215646</td>\n",
       "    </tr>\n",
       "    <tr>\n",
       "      <th>6</th>\n",
       "      <td>Total</td>\n",
       "      <td>2021Q4</td>\n",
       "      <td>TOTAL</td>\n",
       "      <td>Fuerteventura</td>\n",
       "      <td>169817</td>\n",
       "    </tr>\n",
       "    <tr>\n",
       "      <th>7</th>\n",
       "      <td>Total</td>\n",
       "      <td>2021Q4</td>\n",
       "      <td>TOTAL</td>\n",
       "      <td>Gran Canaria</td>\n",
       "      <td>292968</td>\n",
       "    </tr>\n",
       "    <tr>\n",
       "      <th>8</th>\n",
       "      <td>Total</td>\n",
       "      <td>2021Q4</td>\n",
       "      <td>TOTAL</td>\n",
       "      <td>Tenerife</td>\n",
       "      <td>457826</td>\n",
       "    </tr>\n",
       "    <tr>\n",
       "      <th>9</th>\n",
       "      <td>Total</td>\n",
       "      <td>2021Q4</td>\n",
       "      <td>TOTAL</td>\n",
       "      <td>La Palma</td>\n",
       "      <td>15004</td>\n",
       "    </tr>\n",
       "  </tbody>\n",
       "</table>\n",
       "</div>"
      ],
      "text/plain": [
       "  tipo_turista   fecha   pais           isla   valor\n",
       "0        Total  2021Q4  TOTAL      Lanzarote  205010\n",
       "1        Total  2021Q4  TOTAL  Fuerteventura  158663\n",
       "2        Total  2021Q4  TOTAL   Gran Canaria  304600\n",
       "3        Total  2021Q4  TOTAL       Tenerife  476682\n",
       "4        Total  2021Q4  TOTAL       La Palma   21060\n",
       "5        Total  2021Q4  TOTAL      Lanzarote  215646\n",
       "6        Total  2021Q4  TOTAL  Fuerteventura  169817\n",
       "7        Total  2021Q4  TOTAL   Gran Canaria  292968\n",
       "8        Total  2021Q4  TOTAL       Tenerife  457826\n",
       "9        Total  2021Q4  TOTAL       La Palma   15004"
      ]
     },
     "execution_count": 15,
     "metadata": {},
     "output_type": "execute_result"
    }
   ],
   "source": [
    "list_all_csv[0].head(10)"
   ]
  },
  {
   "cell_type": "markdown",
   "metadata": {},
   "source": [
    "### 1.3 Eliminamos cuartiles de 2020 y 2021 al ser anomalos por el covi-19"
   ]
  },
  {
   "cell_type": "markdown",
   "metadata": {},
   "source": [
    "Vemos el rango que usaremos como filtro"
   ]
  },
  {
   "cell_type": "code",
   "execution_count": 16,
   "metadata": {},
   "outputs": [
    {
     "data": {
      "text/plain": [
       "PeriodIndex(['2010Q1', '2010Q2', '2010Q3', '2010Q4', '2011Q1', '2011Q2',\n",
       "             '2011Q3', '2011Q4', '2012Q1', '2012Q2', '2012Q3', '2012Q4',\n",
       "             '2013Q1', '2013Q2', '2013Q3', '2013Q4', '2014Q1', '2014Q2',\n",
       "             '2014Q3', '2014Q4', '2015Q1', '2015Q2', '2015Q3', '2015Q4',\n",
       "             '2016Q1', '2016Q2', '2016Q3', '2016Q4', '2017Q1', '2017Q2',\n",
       "             '2017Q3', '2017Q4', '2018Q1', '2018Q2', '2018Q3', '2018Q4',\n",
       "             '2019Q1', '2019Q2', '2019Q3', '2019Q4'],\n",
       "            dtype='period[Q-DEC]', freq='Q-DEC')"
      ]
     },
     "execution_count": 16,
     "metadata": {},
     "output_type": "execute_result"
    }
   ],
   "source": [
    "pd.period_range(start=pd.Period('2010Q1', freq='Q'),end=pd.Period('2019Q4', freq='Q'))"
   ]
  },
  {
   "cell_type": "code",
   "execution_count": 17,
   "metadata": {},
   "outputs": [
    {
     "name": "stdout",
     "output_type": "stream",
     "text": [
      "El archivo tenia (filas,columnas)= (25740, 5) y ahora tiene (filas,columnas)= (21600, 5) despues del filtrado\n",
      "El archivo tenia (filas,columnas)= (7150, 4) y ahora tiene (filas,columnas)= (6000, 4) despues del filtrado\n",
      "El archivo tenia (filas,columnas)= (10725, 5) y ahora tiene (filas,columnas)= (9000, 5) despues del filtrado\n",
      "El archivo tenia (filas,columnas)= (2288, 3) y ahora tiene (filas,columnas)= (1920, 3) despues del filtrado\n",
      "El archivo tenia (filas,columnas)= (4290, 4) y ahora tiene (filas,columnas)= (3600, 4) despues del filtrado\n",
      "El archivo tenia (filas,columnas)= (6435, 5) y ahora tiene (filas,columnas)= (5400, 5) despues del filtrado\n",
      "El archivo tenia (filas,columnas)= (25740, 5) y ahora tiene (filas,columnas)= (21600, 5) despues del filtrado\n"
     ]
    }
   ],
   "source": [
    "i = 0\n",
    "for archivo in list_all_csv:\n",
    "    \n",
    "    previousShape = archivo.shape\n",
    "    #Aqui cojo el año y filtro eliminadno 2020 y 2021\n",
    "    archivo = archivo[archivo.fecha.isin(pd.period_range(start = pd.Period('2010Q1', freq='Q'), \n",
    "                                                            end = pd.Period('2019Q4', freq='Q')))]\n",
    "    archivo.reset_index(drop=True, inplace=True)   #podemos resetear el index del DataFrame\n",
    "    actualShape = archivo.shape\n",
    "    print(\"El archivo tenia (filas,columnas)= {} y ahora tiene (filas,columnas)= {} despues del filtrado\".format(\n",
    "            previousShape,actualShape))\n",
    "    #Por alguna razon debemos guardar cambios porque de no hacerlo por alguna manera que\n",
    "    # desconozco no se machaca la informacion existente y no se actualiza el dataframe...\n",
    "    list_all_csv[i] = archivo\n",
    "    i = i + 1\n"
   ]
  },
  {
   "cell_type": "code",
   "execution_count": 18,
   "metadata": {},
   "outputs": [],
   "source": [
    "## codigo similar pero menos optimo\n",
    "## i = 0\n",
    "## for archivo in list_all_csv:\n",
    "## \n",
    "##     #Aqui cojo el año y filtro eliminadno 2020 y 2021\n",
    "## \n",
    "##     archivo[\"year\"] = pd.PeriodIndex(archivo['fecha'], freq=\"Q\").qyear    #cogemos el año y creamos una nueva fila por la que filtrar\n",
    "##     \n",
    "##     archivo = archivo[~archivo.year.isin([\"2020\",\"2021\"])]                #filtramos por fechas que no(~ es la negacion) son 2020 y 2021 \n",
    "##     \n",
    "##     archivo.drop('year', axis=1, inplace=True)     #eliminamos la fila year\n",
    "##     archivo.reset_index(drop=True, inplace=True)   #podemos resetear el index del DataFrame\n",
    "##     \n",
    "##     #Por alguna razon debemos guardar cambios porque de no hacerlo por alguna manera que\n",
    "##     # desconozco no se machaca la informacion existente y no se actualiza el dataframe...\n",
    "##     list_all_csv[i] = archivo\n",
    "##     i = i + 1\n",
    "\n"
   ]
  },
  {
   "cell_type": "code",
   "execution_count": 19,
   "metadata": {},
   "outputs": [
    {
     "data": {
      "text/html": [
       "<div>\n",
       "<style scoped>\n",
       "    .dataframe tbody tr th:only-of-type {\n",
       "        vertical-align: middle;\n",
       "    }\n",
       "\n",
       "    .dataframe tbody tr th {\n",
       "        vertical-align: top;\n",
       "    }\n",
       "\n",
       "    .dataframe thead th {\n",
       "        text-align: right;\n",
       "    }\n",
       "</style>\n",
       "<table border=\"1\" class=\"dataframe\">\n",
       "  <thead>\n",
       "    <tr style=\"text-align: right;\">\n",
       "      <th></th>\n",
       "      <th>tipo_turista</th>\n",
       "      <th>fecha</th>\n",
       "      <th>pais</th>\n",
       "      <th>isla</th>\n",
       "      <th>valor</th>\n",
       "    </tr>\n",
       "  </thead>\n",
       "  <tbody>\n",
       "    <tr>\n",
       "      <th>0</th>\n",
       "      <td>Total</td>\n",
       "      <td>2019Q4</td>\n",
       "      <td>TOTAL</td>\n",
       "      <td>Lanzarote</td>\n",
       "      <td>256733</td>\n",
       "    </tr>\n",
       "    <tr>\n",
       "      <th>1</th>\n",
       "      <td>Total</td>\n",
       "      <td>2019Q4</td>\n",
       "      <td>TOTAL</td>\n",
       "      <td>Fuerteventura</td>\n",
       "      <td>168717</td>\n",
       "    </tr>\n",
       "    <tr>\n",
       "      <th>2</th>\n",
       "      <td>Total</td>\n",
       "      <td>2019Q4</td>\n",
       "      <td>TOTAL</td>\n",
       "      <td>Gran Canaria</td>\n",
       "      <td>416723</td>\n",
       "    </tr>\n",
       "    <tr>\n",
       "      <th>3</th>\n",
       "      <td>Total</td>\n",
       "      <td>2019Q4</td>\n",
       "      <td>TOTAL</td>\n",
       "      <td>Tenerife</td>\n",
       "      <td>526258</td>\n",
       "    </tr>\n",
       "    <tr>\n",
       "      <th>4</th>\n",
       "      <td>Total</td>\n",
       "      <td>2019Q4</td>\n",
       "      <td>TOTAL</td>\n",
       "      <td>La Palma</td>\n",
       "      <td>35515</td>\n",
       "    </tr>\n",
       "  </tbody>\n",
       "</table>\n",
       "</div>"
      ],
      "text/plain": [
       "  tipo_turista   fecha   pais           isla   valor\n",
       "0        Total  2019Q4  TOTAL      Lanzarote  256733\n",
       "1        Total  2019Q4  TOTAL  Fuerteventura  168717\n",
       "2        Total  2019Q4  TOTAL   Gran Canaria  416723\n",
       "3        Total  2019Q4  TOTAL       Tenerife  526258\n",
       "4        Total  2019Q4  TOTAL       La Palma   35515"
      ]
     },
     "execution_count": 19,
     "metadata": {},
     "output_type": "execute_result"
    }
   ],
   "source": [
    "list_all_csv[0].head()"
   ]
  },
  {
   "cell_type": "markdown",
   "metadata": {},
   "source": [
    "# 2. Estandarización de Islas y Paises \n",
    "\n",
    "El estandar establecido es el que esta en el archivo principar que es el gasto_medio_islas.\n",
    "\n",
    "Este tiene la siguiente notación en las columnas:\n",
    "\n",
    "Isla: (**YA SE CUMPLE**)\n",
    "    \n",
    "    array(['Fuerteventura', 'Gran Canaria', 'La Palma', 'Lanzarote', 'Tenerife', 'CANARIAS'], dtype=object)\n",
    "       \n",
    "Pais: (**HAY QUE ESTANDARIZARLO**)\n",
    "\n",
    "    array(['Alemania', 'España', 'Holanda', 'Otros países', 'Países Nórdicos', 'Reino Unido', 'TOTAL'], dtype=object)"
   ]
  },
  {
   "cell_type": "markdown",
   "metadata": {},
   "source": [
    "### ESTANDARIZACION PAISES\n",
    "**Solo estancia_media tiene la columna pais**\n",
    "\n",
    "vamos a transformar `Dinamarca` `Finlandia` `Suecia` y `Noruega` en `Paises Nordicos` ya que es de donde unico podemos anillarlo con los paises disponibles en el gasto medio\n",
    "\n",
    "Y `Belgica` `Irlanda` `Suiza` `Italia` `Francia` lo añadiremos a `otros paises`"
   ]
  },
  {
   "cell_type": "code",
   "execution_count": 20,
   "metadata": {},
   "outputs": [
    {
     "name": "stdout",
     "output_type": "stream",
     "text": [
      "['TOTAL' 'RESIDENTES EN EL EXTRANJERO' 'Alemania' 'Bélgica' 'Francia'\n",
      " 'Holanda' 'Irlanda' 'Italia' 'Países Nórdicos' 'Reino Unido'\n",
      " 'Otros países' 'España']\n",
      "['TOTAL' 'RESIDENTES EN EL EXTRANJERO' 'Alemania' 'Holanda' 'Irlanda'\n",
      " 'Países Nórdicos' 'Reino Unido' 'Suiza' 'Otros países' 'España']\n",
      "['TOTAL' 'España' 'Extranjero']\n",
      "['TOTAL' 'RESIDENTES EN EL EXTRANJERO' 'Alemania' 'Bélgica' 'Dinamarca'\n",
      " 'Finlandia' 'Francia' 'Holanda' 'Irlanda' 'Italia' 'Noruega'\n",
      " 'Reino Unido' 'Suecia' 'Suiza' 'Otros países' 'España']\n",
      "['TOTAL' 'RESIDENTES EN EL EXTRANJERO' 'Alemania' 'Holanda' 'Irlanda'\n",
      " 'Países Nórdicos' 'Reino Unido' 'Suiza' 'Otros países' 'España']\n",
      "['TOTAL' 'España' 'Extranjero']\n",
      "['TOTAL' 'RESIDENTES EN EL EXTRANJERO' 'Alemania' 'Holanda' 'Irlanda'\n",
      " 'Países Nórdicos' 'Reino Unido' 'Suiza' 'Otros países' 'España']\n"
     ]
    }
   ],
   "source": [
    "for archivo in list_all_csv:\n",
    "    print(archivo.pais.unique())"
   ]
  },
  {
   "cell_type": "code",
   "execution_count": 21,
   "metadata": {
    "scrolled": true
   },
   "outputs": [
    {
     "name": "stdout",
     "output_type": "stream",
     "text": [
      "Se ha cambiado el patron (Dinamarca) por el patron (Países Nórdicos) en la columna pais\n",
      "Se ha cambiado el patron (Suecia) por el patron (Países Nórdicos) en la columna pais\n",
      "Se ha cambiado el patron (Finlandia) por el patron (Países Nórdicos) en la columna pais\n"
     ]
    },
    {
     "name": "stderr",
     "output_type": "stream",
     "text": [
      "<ipython-input-11-be3c6ce741f8>:12: SettingWithCopyWarning: \n",
      "A value is trying to be set on a copy of a slice from a DataFrame.\n",
      "Try using .loc[row_indexer,col_indexer] = value instead\n",
      "\n",
      "See the caveats in the documentation: https://pandas.pydata.org/pandas-docs/stable/user_guide/indexing.html#returning-a-view-versus-a-copy\n",
      "  df[df_column_name] = pd.DataFrame(my_list)\n"
     ]
    },
    {
     "name": "stdout",
     "output_type": "stream",
     "text": [
      "Se ha cambiado el patron (Noruega) por el patron (Países Nórdicos) en la columna pais\n",
      "Se ha cambiado el patron (Suiza) por el patron (Otros países) en la columna pais\n",
      "Se ha cambiado el patron (Francia) por el patron (Otros países) en la columna pais\n",
      "Se ha cambiado el patron (Bélgica) por el patron (Otros países) en la columna pais\n",
      "Se ha cambiado el patron (Irlanda) por el patron (Otros países) en la columna pais\n",
      "Se ha cambiado el patron (Italia) por el patron (Otros países) en la columna pais\n",
      "Se ha cambiado el patron (Dinamarca) por el patron (Países Nórdicos) en la columna pais\n",
      "Se ha cambiado el patron (Suecia) por el patron (Países Nórdicos) en la columna pais\n",
      "Se ha cambiado el patron (Finlandia) por el patron (Países Nórdicos) en la columna pais\n",
      "Se ha cambiado el patron (Noruega) por el patron (Países Nórdicos) en la columna pais\n",
      "Se ha cambiado el patron (Suiza) por el patron (Otros países) en la columna pais\n",
      "Se ha cambiado el patron (Francia) por el patron (Otros países) en la columna pais\n",
      "Se ha cambiado el patron (Bélgica) por el patron (Otros países) en la columna pais\n",
      "Se ha cambiado el patron (Irlanda) por el patron (Otros países) en la columna pais\n",
      "Se ha cambiado el patron (Italia) por el patron (Otros países) en la columna pais\n",
      "Se ha cambiado el patron (Dinamarca) por el patron (Países Nórdicos) en la columna pais\n",
      "Se ha cambiado el patron (Suecia) por el patron (Países Nórdicos) en la columna pais\n",
      "Se ha cambiado el patron (Finlandia) por el patron (Países Nórdicos) en la columna pais\n",
      "Se ha cambiado el patron (Noruega) por el patron (Países Nórdicos) en la columna pais\n",
      "Se ha cambiado el patron (Suiza) por el patron (Otros países) en la columna pais\n",
      "Se ha cambiado el patron (Francia) por el patron (Otros países) en la columna pais\n",
      "Se ha cambiado el patron (Bélgica) por el patron (Otros países) en la columna pais\n",
      "Se ha cambiado el patron (Irlanda) por el patron (Otros países) en la columna pais\n",
      "Se ha cambiado el patron (Italia) por el patron (Otros países) en la columna pais\n",
      "Se ha cambiado el patron (Dinamarca) por el patron (Países Nórdicos) en la columna pais\n",
      "Se ha cambiado el patron (Suecia) por el patron (Países Nórdicos) en la columna pais\n",
      "Se ha cambiado el patron (Finlandia) por el patron (Países Nórdicos) en la columna pais\n",
      "Se ha cambiado el patron (Noruega) por el patron (Países Nórdicos) en la columna pais\n",
      "Se ha cambiado el patron (Suiza) por el patron (Otros países) en la columna pais\n",
      "Se ha cambiado el patron (Francia) por el patron (Otros países) en la columna pais\n",
      "Se ha cambiado el patron (Bélgica) por el patron (Otros países) en la columna pais\n",
      "Se ha cambiado el patron (Irlanda) por el patron (Otros países) en la columna pais\n",
      "Se ha cambiado el patron (Italia) por el patron (Otros países) en la columna pais\n",
      "Se ha cambiado el patron (Dinamarca) por el patron (Países Nórdicos) en la columna pais\n",
      "Se ha cambiado el patron (Suecia) por el patron (Países Nórdicos) en la columna pais\n",
      "Se ha cambiado el patron (Finlandia) por el patron (Países Nórdicos) en la columna pais\n",
      "Se ha cambiado el patron (Noruega) por el patron (Países Nórdicos) en la columna pais\n",
      "Se ha cambiado el patron (Suiza) por el patron (Otros países) en la columna pais\n",
      "Se ha cambiado el patron (Francia) por el patron (Otros países) en la columna pais\n",
      "Se ha cambiado el patron (Bélgica) por el patron (Otros países) en la columna pais\n",
      "Se ha cambiado el patron (Irlanda) por el patron (Otros países) en la columna pais\n",
      "Se ha cambiado el patron (Italia) por el patron (Otros países) en la columna pais\n",
      "Se ha cambiado el patron (Dinamarca) por el patron (Países Nórdicos) en la columna pais\n",
      "Se ha cambiado el patron (Suecia) por el patron (Países Nórdicos) en la columna pais\n",
      "Se ha cambiado el patron (Finlandia) por el patron (Países Nórdicos) en la columna pais\n",
      "Se ha cambiado el patron (Noruega) por el patron (Países Nórdicos) en la columna pais\n",
      "Se ha cambiado el patron (Suiza) por el patron (Otros países) en la columna pais\n",
      "Se ha cambiado el patron (Francia) por el patron (Otros países) en la columna pais\n",
      "Se ha cambiado el patron (Bélgica) por el patron (Otros países) en la columna pais\n",
      "Se ha cambiado el patron (Irlanda) por el patron (Otros países) en la columna pais\n",
      "Se ha cambiado el patron (Italia) por el patron (Otros países) en la columna pais\n",
      "Se ha cambiado el patron (Dinamarca) por el patron (Países Nórdicos) en la columna pais\n",
      "Se ha cambiado el patron (Suecia) por el patron (Países Nórdicos) en la columna pais\n",
      "Se ha cambiado el patron (Finlandia) por el patron (Países Nórdicos) en la columna pais\n",
      "Se ha cambiado el patron (Noruega) por el patron (Países Nórdicos) en la columna pais\n",
      "Se ha cambiado el patron (Suiza) por el patron (Otros países) en la columna pais\n",
      "Se ha cambiado el patron (Francia) por el patron (Otros países) en la columna pais\n",
      "Se ha cambiado el patron (Bélgica) por el patron (Otros países) en la columna pais\n",
      "Se ha cambiado el patron (Irlanda) por el patron (Otros países) en la columna pais\n",
      "Se ha cambiado el patron (Italia) por el patron (Otros países) en la columna pais\n"
     ]
    }
   ],
   "source": [
    "i = 0\n",
    "for archivo in list_all_csv:\n",
    "    \n",
    "    #Primero hay que pasar a str\n",
    "    archivo.pais.astype(str)                       \n",
    "    \n",
    "    #reemplazamos Dinamarca y Suecia por Países Nórdicos\n",
    "    replace_value(archivo, \"pais\", r'Dinamarca', r'Países Nórdicos') \n",
    "    replace_value(archivo, \"pais\", r'Suecia', r'Países Nórdicos')\n",
    "    replace_value(archivo, \"pais\", r'Finlandia', r'Países Nórdicos')\n",
    "    replace_value(archivo, \"pais\", r'Noruega', r'Países Nórdicos')\n",
    "    \n",
    "    #reemplazamos \n",
    "    replace_value(archivo, \"pais\", r'Suiza', r'Otros países') \n",
    "    replace_value(archivo, \"pais\", r'Francia', r'Otros países') \n",
    "    replace_value(archivo, \"pais\", r'Bélgica', r'Otros países') \n",
    "    replace_value(archivo, \"pais\", r'Irlanda', r'Otros países') \n",
    "    replace_value(archivo, \"pais\", r'Italia', r'Otros países') \n"
   ]
  },
  {
   "cell_type": "code",
   "execution_count": 22,
   "metadata": {},
   "outputs": [
    {
     "name": "stdout",
     "output_type": "stream",
     "text": [
      "['TOTAL' 'RESIDENTES EN EL EXTRANJERO' 'Alemania' 'Otros países' 'Holanda'\n",
      " 'Países Nórdicos' 'Reino Unido' 'España']\n",
      "['TOTAL' 'RESIDENTES EN EL EXTRANJERO' 'Alemania' 'Holanda' 'Otros países'\n",
      " 'Países Nórdicos' 'Reino Unido' 'España']\n",
      "['TOTAL' 'España' 'Extranjero']\n",
      "['TOTAL' 'RESIDENTES EN EL EXTRANJERO' 'Alemania' 'Otros países'\n",
      " 'Países Nórdicos' 'Holanda' 'Reino Unido' 'España']\n",
      "['TOTAL' 'RESIDENTES EN EL EXTRANJERO' 'Alemania' 'Holanda' 'Otros países'\n",
      " 'Países Nórdicos' 'Reino Unido' 'España']\n",
      "['TOTAL' 'España' 'Extranjero']\n",
      "['TOTAL' 'RESIDENTES EN EL EXTRANJERO' 'Alemania' 'Holanda' 'Otros países'\n",
      " 'Países Nórdicos' 'Reino Unido' 'España']\n"
     ]
    }
   ],
   "source": [
    "#COMPROBAMOS LOS CAMBIOS\n",
    "for archivo in list_all_csv:\n",
    "    print(archivo.pais.unique())"
   ]
  },
  {
   "cell_type": "markdown",
   "metadata": {},
   "source": [
    "# 3. Astype \n",
    "\n",
    "### Columna `valor` tipo int y de paso establecemos las columnas `País, Islas, tipo_turista, motivo, paquete, sexo, edad` como Categóricas\n"
   ]
  },
  {
   "cell_type": "markdown",
   "metadata": {},
   "source": [
    "hemos detectado que en la columna valor hay elementos que no son numeros, y son \".\", \"..\" o \"...\", vamos a sustituir esto por \"0\""
   ]
  },
  {
   "cell_type": "code",
   "execution_count": 23,
   "metadata": {},
   "outputs": [
    {
     "name": "stdout",
     "output_type": "stream",
     "text": [
      "Se ha cambiado el patron (\\.+) por el patron (0) en la columna valor\n",
      "Se han modificado los dtypes del archivo: turistas_isla.csv a: \n",
      " tipo_turista         category\n",
      "fecha           period[Q-DEC]\n",
      "pais                 category\n",
      "isla                 category\n",
      "valor                   int64\n",
      "dtype: object\n",
      "Se ha cambiado el patron (\\.+) por el patron (0) en la columna valor\n",
      "Se han modificado los dtypes del archivo: turistas_motivos.csv a: \n",
      " pais           category\n",
      "motivo         category\n",
      "fecha     period[Q-DEC]\n",
      "valor             int64\n",
      "dtype: object\n",
      "Se ha cambiado el patron (\\.+) por el patron (0) en la columna valor\n",
      "Se han modificado los dtypes del archivo: turistas_motivos_isla.csv a: \n",
      " motivo         category\n",
      "fecha     period[Q-DEC]\n",
      "pais           category\n",
      "isla           category\n",
      "valor             int64\n",
      "dtype: object\n",
      "Se ha cambiado el patron (\\.+) por el patron (0) en la columna valor\n",
      "Se han modificado los dtypes del archivo: turistas_origen.csv a: \n",
      " fecha    period[Q-DEC]\n",
      "pais          category\n",
      "valor            int64\n",
      "dtype: object\n",
      "Se ha cambiado el patron (\\.+) por el patron (0) en la columna valor\n",
      "Se han modificado los dtypes del archivo: turistas_paquete.csv a: \n",
      " pais            category\n",
      "paquete         category\n",
      "fecha      period[Q-DEC]\n",
      "valor              int64\n",
      "dtype: object\n",
      "No se ha encontrado el patron\n",
      "Se han modificado los dtypes del archivo: turistas_paquete_isla.csv a: \n",
      " paquete         category\n",
      "fecha      period[Q-DEC]\n",
      "pais            category\n",
      "isla            category\n",
      "valor              int64\n",
      "dtype: object\n",
      "Se ha cambiado el patron (\\.+) por el patron (0) en la columna valor\n",
      "Se han modificado los dtypes del archivo: turistas_sexo_edad.csv a: \n",
      " pais          category\n",
      "sexo          category\n",
      "edad          category\n",
      "fecha    period[Q-DEC]\n",
      "valor            int64\n",
      "dtype: object\n"
     ]
    }
   ],
   "source": [
    "i = 0\n",
    "for archivo in list_all_csv:\n",
    "    \n",
    "#COLUMNAS COMUNES\n",
    "    \n",
    "    #PAIS\n",
    "    #archivo['pais'] = archivo['pais'].astype(\"category\") -> ERR: SettingWithCopyWarning in Pandas\n",
    "    archivo = archivo.astype({\"pais\":'category'}) \n",
    "    \n",
    "    # VALOR\n",
    "    \n",
    "    archivo.valor.astype(str)                       #Primero hay que pasar a str ya que hay valores como \".\", \"..\" etc\n",
    "    replace_value(archivo, \"valor\", r'\\.+', r'0')   #reemplazamos los puntos por 0 porque si no el metodo to_numeric da error\n",
    "    archivo = archivo.astype({\"valor\":'int64'}) \n",
    "    #archivo['valor'] = pd.to_numeric(archivo.valor.astype(str))  #pasamos la columna a numeros\n",
    "\n",
    "#COLUMNAS NO COMUNES\n",
    "\n",
    "    # ISLA\n",
    "    if 'isla' in archivo.columns:\n",
    "        archivo = archivo.astype({\"isla\":'category'})\n",
    "    # TIPO_TURISTA\n",
    "    if 'tipo_turista' in archivo.columns:\n",
    "        archivo = archivo.astype({\"tipo_turista\":'category'})\n",
    "    # MOTIVO\n",
    "    if 'motivo' in archivo.columns:\n",
    "        archivo = archivo.astype({\"motivo\":'category'})\n",
    "    # PAQUETE\n",
    "    if 'paquete' in archivo.columns:\n",
    "        archivo = archivo.astype({\"paquete\":'category'})\n",
    "    # EDAD\n",
    "    if 'edad' in archivo.columns:\n",
    "        archivo = archivo.astype({\"edad\":'category'})\n",
    "    # SEXO\n",
    "    if 'sexo' in archivo.columns:\n",
    "        archivo = archivo.astype({\"sexo\":'category'})\n",
    "    \n",
    "    print(\"Se han modificado los dtypes del archivo: {} a: \\n {}\".format(\n",
    "            list_csv_names[i], archivo.dtypes\n",
    "    ))\n",
    "     \n",
    "    #Por alguna razon debemos guardar cambios porque de no hacerlo por alguna manera que\n",
    "    # desconozco no se machaca la informacion existente y no se actualiza el dataframe...\n",
    "    list_all_csv[i] = archivo\n",
    "    i = i + 1"
   ]
  },
  {
   "cell_type": "code",
   "execution_count": 24,
   "metadata": {},
   "outputs": [
    {
     "name": "stdout",
     "output_type": "stream",
     "text": [
      "tipo_turista         category\n",
      "fecha           period[Q-DEC]\n",
      "pais                 category\n",
      "isla                 category\n",
      "valor                   int64\n",
      "dtype: object\n",
      "pais           category\n",
      "motivo         category\n",
      "fecha     period[Q-DEC]\n",
      "valor             int64\n",
      "dtype: object\n",
      "motivo         category\n",
      "fecha     period[Q-DEC]\n",
      "pais           category\n",
      "isla           category\n",
      "valor             int64\n",
      "dtype: object\n",
      "fecha    period[Q-DEC]\n",
      "pais          category\n",
      "valor            int64\n",
      "dtype: object\n",
      "pais            category\n",
      "paquete         category\n",
      "fecha      period[Q-DEC]\n",
      "valor              int64\n",
      "dtype: object\n",
      "paquete         category\n",
      "fecha      period[Q-DEC]\n",
      "pais            category\n",
      "isla            category\n",
      "valor              int64\n",
      "dtype: object\n",
      "pais          category\n",
      "sexo          category\n",
      "edad          category\n",
      "fecha    period[Q-DEC]\n",
      "valor            int64\n",
      "dtype: object\n"
     ]
    }
   ],
   "source": [
    "i = 0\n",
    "for archivo in list_all_csv:\n",
    "    print(archivo.dtypes)"
   ]
  },
  {
   "cell_type": "markdown",
   "metadata": {},
   "source": [
    "## 4. Unión de cuartiles"
   ]
  },
  {
   "cell_type": "markdown",
   "metadata": {},
   "source": [
    "### 4.1 Prueba"
   ]
  },
  {
   "cell_type": "markdown",
   "metadata": {},
   "source": [
    "Haremos una prueba con lo que queremos unir para ello cogeremos el primer archivo y miraremos los datos que queremos unir como ejemplo usaremos Alemania en 2019 el total de turistas por Gran Canaria"
   ]
  },
  {
   "cell_type": "code",
   "execution_count": 25,
   "metadata": {},
   "outputs": [
    {
     "name": "stdout",
     "output_type": "stream",
     "text": [
      "  tipo_turista   fecha   pais           isla   valor\n",
      "0        Total  2019Q4  TOTAL      Lanzarote  256733\n",
      "1        Total  2019Q4  TOTAL  Fuerteventura  168717\n",
      "2        Total  2019Q4  TOTAL   Gran Canaria  416723\n",
      "3        Total  2019Q4  TOTAL       Tenerife  526258\n",
      "4        Total  2019Q4  TOTAL       La Palma   35515\n",
      "5        Total  2019Q4  TOTAL      Lanzarote  231995\n",
      "6        Total  2019Q4  TOTAL  Fuerteventura  159352\n",
      "7        Total  2019Q4  TOTAL   Gran Canaria  405715\n",
      "8        Total  2019Q4  TOTAL       Tenerife  487576\n",
      "9        Total  2019Q4  TOTAL       La Palma   29614\n",
      "(21600, 5)\n",
      "tipo_turista         category\n",
      "fecha           period[Q-DEC]\n",
      "pais                 category\n",
      "isla                 category\n",
      "valor                   int64\n",
      "dtype: object\n"
     ]
    }
   ],
   "source": [
    "df = list_all_csv[0]\n",
    "print(df.head(10))\n",
    "print(df.shape)\n",
    "print(df.dtypes)"
   ]
  },
  {
   "cell_type": "markdown",
   "metadata": {},
   "source": [
    "Filtramos:"
   ]
  },
  {
   "cell_type": "code",
   "execution_count": 26,
   "metadata": {},
   "outputs": [
    {
     "data": {
      "text/html": [
       "<div>\n",
       "<style scoped>\n",
       "    .dataframe tbody tr th:only-of-type {\n",
       "        vertical-align: middle;\n",
       "    }\n",
       "\n",
       "    .dataframe tbody tr th {\n",
       "        vertical-align: top;\n",
       "    }\n",
       "\n",
       "    .dataframe thead th {\n",
       "        text-align: right;\n",
       "    }\n",
       "</style>\n",
       "<table border=\"1\" class=\"dataframe\">\n",
       "  <thead>\n",
       "    <tr style=\"text-align: right;\">\n",
       "      <th></th>\n",
       "      <th>tipo_turista</th>\n",
       "      <th>fecha</th>\n",
       "      <th>pais</th>\n",
       "      <th>isla</th>\n",
       "      <th>valor</th>\n",
       "    </tr>\n",
       "  </thead>\n",
       "  <tbody>\n",
       "    <tr>\n",
       "      <th>1202</th>\n",
       "      <td>Total</td>\n",
       "      <td>2019Q4</td>\n",
       "      <td>Alemania</td>\n",
       "      <td>Gran Canaria</td>\n",
       "      <td>101422</td>\n",
       "    </tr>\n",
       "    <tr>\n",
       "      <th>1207</th>\n",
       "      <td>Total</td>\n",
       "      <td>2019Q4</td>\n",
       "      <td>Alemania</td>\n",
       "      <td>Gran Canaria</td>\n",
       "      <td>94554</td>\n",
       "    </tr>\n",
       "    <tr>\n",
       "      <th>1212</th>\n",
       "      <td>Total</td>\n",
       "      <td>2019Q4</td>\n",
       "      <td>Alemania</td>\n",
       "      <td>Gran Canaria</td>\n",
       "      <td>62994</td>\n",
       "    </tr>\n",
       "  </tbody>\n",
       "</table>\n",
       "</div>"
      ],
      "text/plain": [
       "     tipo_turista   fecha      pais          isla   valor\n",
       "1202        Total  2019Q4  Alemania  Gran Canaria  101422\n",
       "1207        Total  2019Q4  Alemania  Gran Canaria   94554\n",
       "1212        Total  2019Q4  Alemania  Gran Canaria   62994"
      ]
     },
     "execution_count": 26,
     "metadata": {},
     "output_type": "execute_result"
    }
   ],
   "source": [
    "#df.loc[df['Grade'].isin(['A', 'B']),['Name','TotalMarks', 'Grade'] ]\n",
    "x = df[df.fecha.isin(pd.period_range('2019Q4', periods=1, freq='Q')) \n",
    "           & df.pais.isin([\"Alemania\"])\n",
    "           & df.isla.isin([\"Gran Canaria\"])\n",
    "           & df.tipo_turista.isin([\"Total\"])\n",
    "           ]\n",
    "#x = df[df.fecha.isin(pd.period_range('2019Q4', periods=1, freq='Q'))]\n",
    "#x = df[df.pais.isin([\"Alemania\"])]\n",
    "#x = df[df.isla.isin([\"Gran Canaria\"])]\n",
    "#pd.PeriodIndex(\"2019Q4\", freq=\"Q\")\n",
    "x.head(10)"
   ]
  },
  {
   "cell_type": "markdown",
   "metadata": {},
   "source": [
    "Aquí vemos los valores que si lo sumamos tenemos 258970 y veremos mas adelante como este numeor coincide, por lo que la union se hace correctamente"
   ]
  },
  {
   "cell_type": "markdown",
   "metadata": {},
   "source": [
    "Para unirlo haremos un groupby() por los nombres de todas las columnas que queremos considerar a la hora de ver dos filas como iguales. Las consideraremos todas, excepto valor. Una vez agrupadas, te quedas con la columna valor para aplicar sobre ella la función sum.\n",
    "\n",
    "El resultado sería una serie con las sumas de \"valor\", pero indexado jerárquicamente (multi-index) según los grupos formados. Hacemos un .reset_index() para \"deshacer\" el índice jerárquico, convirtiéndolo de nuevo en columnas como el que tenía el dataframe original."
   ]
  },
  {
   "cell_type": "code",
   "execution_count": 27,
   "metadata": {},
   "outputs": [],
   "source": [
    "res = df.groupby([\"tipo_turista\",\"fecha\",\"pais\",\"isla\"]).valor.apply(sum).reset_index()"
   ]
  },
  {
   "cell_type": "code",
   "execution_count": 28,
   "metadata": {},
   "outputs": [
    {
     "name": "stdout",
     "output_type": "stream",
     "text": [
      "  tipo_turista   fecha      pais           isla   valor\n",
      "0        Total  2010Q1  Alemania  Fuerteventura  143560\n",
      "1        Total  2010Q1  Alemania   Gran Canaria  213576\n",
      "2        Total  2010Q1  Alemania       La Palma   24677\n",
      "3        Total  2010Q1  Alemania      Lanzarote   78239\n",
      "4        Total  2010Q1  Alemania       Tenerife  166119\n",
      "5        Total  2010Q1    España  Fuerteventura   26503\n",
      "6        Total  2010Q1    España   Gran Canaria   91298\n",
      "7        Total  2010Q1    España       La Palma   11051\n",
      "8        Total  2010Q1    España      Lanzarote   70319\n",
      "9        Total  2010Q1    España       Tenerife  150615\n",
      "(4800, 5)\n"
     ]
    }
   ],
   "source": [
    "print(res.head(10))\n",
    "print(res.shape)"
   ]
  },
  {
   "cell_type": "code",
   "execution_count": 29,
   "metadata": {},
   "outputs": [
    {
     "data": {
      "text/plain": [
       "tipo_turista           object\n",
       "fecha           period[Q-DEC]\n",
       "pais                   object\n",
       "isla                   object\n",
       "valor                   int64\n",
       "dtype: object"
      ]
     },
     "execution_count": 29,
     "metadata": {},
     "output_type": "execute_result"
    }
   ],
   "source": [
    "res.dtypes"
   ]
  },
  {
   "cell_type": "code",
   "execution_count": 30,
   "metadata": {},
   "outputs": [
    {
     "data": {
      "text/html": [
       "<div>\n",
       "<style scoped>\n",
       "    .dataframe tbody tr th:only-of-type {\n",
       "        vertical-align: middle;\n",
       "    }\n",
       "\n",
       "    .dataframe tbody tr th {\n",
       "        vertical-align: top;\n",
       "    }\n",
       "\n",
       "    .dataframe thead th {\n",
       "        text-align: right;\n",
       "    }\n",
       "</style>\n",
       "<table border=\"1\" class=\"dataframe\">\n",
       "  <thead>\n",
       "    <tr style=\"text-align: right;\">\n",
       "      <th></th>\n",
       "      <th>tipo_turista</th>\n",
       "      <th>fecha</th>\n",
       "      <th>pais</th>\n",
       "      <th>isla</th>\n",
       "      <th>valor</th>\n",
       "    </tr>\n",
       "  </thead>\n",
       "  <tbody>\n",
       "    <tr>\n",
       "      <th>1561</th>\n",
       "      <td>Total</td>\n",
       "      <td>2019Q4</td>\n",
       "      <td>Alemania</td>\n",
       "      <td>Gran Canaria</td>\n",
       "      <td>258970</td>\n",
       "    </tr>\n",
       "  </tbody>\n",
       "</table>\n",
       "</div>"
      ],
      "text/plain": [
       "     tipo_turista   fecha      pais          isla   valor\n",
       "1561        Total  2019Q4  Alemania  Gran Canaria  258970"
      ]
     },
     "execution_count": 30,
     "metadata": {},
     "output_type": "execute_result"
    }
   ],
   "source": [
    "x = res[res.fecha.isin(pd.period_range('2019Q4', periods=1, freq='Q')) \n",
    "           & res.pais.isin([\"Alemania\"])\n",
    "           & res.isla.isin([\"Gran Canaria\"])\n",
    "           & res.tipo_turista.isin([\"Total\"])\n",
    "           ]\n",
    "x.head()"
   ]
  },
  {
   "cell_type": "markdown",
   "metadata": {},
   "source": [
    "### 4.2 Aquí creamos el metodo para unir los datos en todos los ficheros"
   ]
  },
  {
   "cell_type": "code",
   "execution_count": 31,
   "metadata": {},
   "outputs": [],
   "source": [
    "# A este método se le pasa como parámetro un dataframe y agrupa las filas cuyos valores por columnas \n",
    "# son iguales menos la columna \"valor\" para el que se sumaran los valores\n",
    "def juntar(df):\n",
    "    #Creamos un array con todas las columnas menos valor que es comun a todas y es por donde uniremos\n",
    "    lastshape = df.shape\n",
    "    arr =[]\n",
    "    for colum in df:\n",
    "        if colum != \"valor\": \n",
    "            arr.append(colum)\n",
    "    \n",
    "    \n",
    "    df = df.groupby(arr).valor.apply(sum).reset_index()\n",
    "    newshape = df.shape\n",
    "    \n",
    "    print(\"El archivo antes tenia las filas y columnas {} ahora depues de unir por los cuartiles tiene {}\".format(\n",
    "            lastshape, newshape\n",
    "    ))\n",
    "    print(df.head(2))\n",
    "    return df"
   ]
  },
  {
   "cell_type": "markdown",
   "metadata": {},
   "source": [
    "# EJECUTAMOS LA FUNCIÓN JUNTAR() Y GUARDAMOS LOS CAMBIOS"
   ]
  },
  {
   "cell_type": "code",
   "execution_count": 32,
   "metadata": {
    "scrolled": false
   },
   "outputs": [
    {
     "name": "stdout",
     "output_type": "stream",
     "text": [
      "El archivo antes tenia las filas y columnas (21600, 5) ahora depues de unir por los cuartiles tiene (4800, 5)\n",
      "  tipo_turista   fecha      pais           isla   valor\n",
      "0        Total  2010Q1  Alemania  Fuerteventura  143560\n",
      "1        Total  2010Q1  Alemania   Gran Canaria  213576\n",
      "El archivo antes tenia las filas y columnas (6000, 4) ahora depues de unir por los cuartiles tiene (1600, 4)\n",
      "       pais             motivo   fecha   valor\n",
      "0  Alemania  Ocio o vacaciones  2010Q1  604627\n",
      "1  Alemania  Ocio o vacaciones  2010Q2  460804\n",
      "El archivo antes tenia las filas y columnas (9000, 5) ahora depues de unir por los cuartiles tiene (3000, 5)\n",
      "              motivo   fecha    pais           isla  valor\n",
      "0  Ocio o vacaciones  2010Q1  España  Fuerteventura  22685\n",
      "1  Ocio o vacaciones  2010Q1  España   Gran Canaria  57676\n",
      "El archivo antes tenia las filas y columnas (1920, 3) ahora depues de unir por los cuartiles tiene (320, 3)\n",
      "    fecha      pais   valor\n",
      "0  2010Q1  Alemania  620920\n",
      "1  2010Q1    España  335230\n",
      "El archivo antes tenia las filas y columnas (3600, 4) ahora depues de unir por los cuartiles tiene (960, 4)\n",
      "       pais                              paquete   fecha   valor\n",
      "0  Alemania  No contrataron un paquete turístico  2010Q1  154831\n",
      "1  Alemania  No contrataron un paquete turístico  2010Q2  118358\n",
      "El archivo antes tenia las filas y columnas (5400, 5) ahora depues de unir por los cuartiles tiene (1800, 5)\n",
      "                               paquete   fecha    pais           isla  valor\n",
      "0  No contrataron un paquete turístico  2010Q1  España  Fuerteventura  19074\n",
      "1  No contrataron un paquete turístico  2010Q1  España   Gran Canaria  77396\n",
      "El archivo antes tenia las filas y columnas (21600, 5) ahora depues de unir por los cuartiles tiene (5760, 5)\n",
      "       pais     sexo        edad   fecha  valor\n",
      "0  Alemania  Hombres  De 15 a 24  2010Q1  16718\n",
      "1  Alemania  Hombres  De 15 a 24  2010Q2  17735\n"
     ]
    }
   ],
   "source": [
    "i=0\n",
    "for archivo in list_all_csv:\n",
    "    archivo = juntar(archivo)\n",
    "    #Guardamos\n",
    "    rutaDatosTratados = \"../PredictorGastoTuristico/DatosGuardados/\"\n",
    "    archivo.to_csv(rutaDatosTratados + list_csv_names[i] + \".csv\", index = False, encoding='utf-8')\n",
    "    i = i + 1"
   ]
  }
 ],
 "metadata": {
  "kernelspec": {
   "display_name": "Python 3",
   "language": "python",
   "name": "python3"
  },
  "language_info": {
   "codemirror_mode": {
    "name": "ipython",
    "version": 3
   },
   "file_extension": ".py",
   "mimetype": "text/x-python",
   "name": "python",
   "nbconvert_exporter": "python",
   "pygments_lexer": "ipython3",
   "version": "3.8.5"
  }
 },
 "nbformat": 4,
 "nbformat_minor": 4
}
