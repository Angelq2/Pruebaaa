{
 "cells": [
  {
   "cell_type": "markdown",
   "metadata": {},
   "source": [
    "# PREDICTOR - GASTO MEDIO - Sin añadir datos extra (solo gasto)\n",
    "# 00"
   ]
  },
  {
   "cell_type": "markdown",
   "metadata": {},
   "source": [
    "# Proposito:"
   ]
  },
  {
   "cell_type": "markdown",
   "metadata": {},
   "source": [
    "En este notebook nos dedicaremos a la creación del predictor para gasto medio"
   ]
  },
  {
   "cell_type": "code",
   "execution_count": 1,
   "metadata": {
    "scrolled": true
   },
   "outputs": [
    {
     "name": "stdout",
     "output_type": "stream",
     "text": [
      "Last updated: 2023-02-01T11:09:28.570434+00:00\n",
      "\n",
      "Python implementation: CPython\n",
      "Python version       : 3.8.5\n",
      "IPython version      : 7.19.0\n",
      "\n",
      "Compiler    : MSC v.1916 64 bit (AMD64)\n",
      "OS          : Windows\n",
      "Release     : 10\n",
      "Machine     : AMD64\n",
      "Processor   : Intel64 Family 6 Model 126 Stepping 5, GenuineIntel\n",
      "CPU cores   : 8\n",
      "Architecture: 64bit\n",
      "\n"
     ]
    }
   ],
   "source": [
    "%load_ext watermark\n",
    "%watermark"
   ]
  },
  {
   "cell_type": "code",
   "execution_count": 2,
   "metadata": {},
   "outputs": [],
   "source": [
    "import pandas as pd\n",
    "import numpy as np\n",
    "import os\n",
    "import re"
   ]
  },
  {
   "cell_type": "markdown",
   "metadata": {},
   "source": [
    "# PREPARACION PREVIA\n",
    "\n",
    "Primero necesitamos copiar todos nuestros archivos en una carpeta donde podramos manipularlos para así conservar los archivos originales"
   ]
  },
  {
   "cell_type": "code",
   "execution_count": 3,
   "metadata": {},
   "outputs": [],
   "source": [
    "from distutils.dir_util import copy_tree\n",
    "\n",
    "# Método que limpia la carpeta de datos volatiles ya que es \n",
    "# una carpeta activa en todos los programas que hemos generado.\n",
    "def limpiaCarpetaVolatil(rutaCopia):\n",
    "    print(\"Limpiando Carpeta Volatil...\")\n",
    "    for f in os.listdir(rutaCopia):\n",
    "        os.remove(os.path.join(rutaCopia, f))\n",
    "        \n",
    "#Metodo que copia recursivamente\n",
    "def copia(dir_origen,dir_destino):\n",
    "    print(\"Copiando...\")\n",
    "    copy_tree(dir_origen, dir_destino)\n",
    "    print(\"Copiado\")\n",
    "    print(os.listdir(dir_destino))\n",
    "  \n"
   ]
  },
  {
   "cell_type": "code",
   "execution_count": 4,
   "metadata": {
    "scrolled": true
   },
   "outputs": [
    {
     "name": "stdout",
     "output_type": "stream",
     "text": [
      "Limpiando Carpeta Volatil...\n",
      "Copiando...\n",
      "Copiado\n",
      "['filtrogc_paises_gasto.csv', 'filtroPAISES.csv', 'gasto_medio_islas.csv', 'turistas_isla.csv.csv', 'turistas_motivos.csv.csv', 'turistas_motivos_isla.csv.csv', 'turistas_origen.csv.csv', 'turistas_paquete.csv.csv', 'turistas_paquete_isla.csv.csv', 'turistas_sexo_edad.csv.csv']\n"
     ]
    }
   ],
   "source": [
    "rutaBase= \"../PredictorGastoTuristico/DatosGuardados\"\n",
    "rutaCopia= \"../PredictorGastoTuristico/DatosVolatiles/\"\n",
    "\n",
    "limpiaCarpetaVolatil(rutaCopia)\n",
    "copia(rutaBase,rutaCopia)"
   ]
  },
  {
   "cell_type": "markdown",
   "metadata": {},
   "source": [
    "## Primero cargamos los archivos para tratarlos y finalmente unirlos:"
   ]
  },
  {
   "cell_type": "code",
   "execution_count": 5,
   "metadata": {},
   "outputs": [],
   "source": [
    "gasto_medio = pd.read_csv(rutaCopia+'gasto_medio_islas.csv',keep_default_na=False, na_values=[\"\"])"
   ]
  },
  {
   "cell_type": "code",
   "execution_count": 6,
   "metadata": {},
   "outputs": [
    {
     "data": {
      "text/html": [
       "<div>\n",
       "<style scoped>\n",
       "    .dataframe tbody tr th:only-of-type {\n",
       "        vertical-align: middle;\n",
       "    }\n",
       "\n",
       "    .dataframe tbody tr th {\n",
       "        vertical-align: top;\n",
       "    }\n",
       "\n",
       "    .dataframe thead th {\n",
       "        text-align: right;\n",
       "    }\n",
       "</style>\n",
       "<table border=\"1\" class=\"dataframe\">\n",
       "  <thead>\n",
       "    <tr style=\"text-align: right;\">\n",
       "      <th></th>\n",
       "      <th>fecha</th>\n",
       "      <th>pais</th>\n",
       "      <th>isla</th>\n",
       "      <th>total gasto por turista</th>\n",
       "      <th>gasto por turista alojamiento</th>\n",
       "      <th>gasto por turista transporte nacional / internacional</th>\n",
       "      <th>gasto por turista  otros</th>\n",
       "    </tr>\n",
       "  </thead>\n",
       "  <tbody>\n",
       "    <tr>\n",
       "      <th>0</th>\n",
       "      <td>2019Q4</td>\n",
       "      <td>TOTAL</td>\n",
       "      <td>Gran Canaria</td>\n",
       "      <td>1254.62</td>\n",
       "      <td>510.15</td>\n",
       "      <td>413.23</td>\n",
       "      <td>331.24</td>\n",
       "    </tr>\n",
       "    <tr>\n",
       "      <th>1</th>\n",
       "      <td>2019Q3</td>\n",
       "      <td>TOTAL</td>\n",
       "      <td>Gran Canaria</td>\n",
       "      <td>1239.57</td>\n",
       "      <td>520.76</td>\n",
       "      <td>365.67</td>\n",
       "      <td>353.14</td>\n",
       "    </tr>\n",
       "    <tr>\n",
       "      <th>2</th>\n",
       "      <td>2019Q2</td>\n",
       "      <td>TOTAL</td>\n",
       "      <td>Gran Canaria</td>\n",
       "      <td>1124.73</td>\n",
       "      <td>474.48</td>\n",
       "      <td>340.77</td>\n",
       "      <td>309.48</td>\n",
       "    </tr>\n",
       "    <tr>\n",
       "      <th>3</th>\n",
       "      <td>2019Q1</td>\n",
       "      <td>TOTAL</td>\n",
       "      <td>Gran Canaria</td>\n",
       "      <td>1059.74</td>\n",
       "      <td>478.40</td>\n",
       "      <td>259.42</td>\n",
       "      <td>321.92</td>\n",
       "    </tr>\n",
       "    <tr>\n",
       "      <th>4</th>\n",
       "      <td>2018Q4</td>\n",
       "      <td>TOTAL</td>\n",
       "      <td>Gran Canaria</td>\n",
       "      <td>1205.52</td>\n",
       "      <td>528.63</td>\n",
       "      <td>341.18</td>\n",
       "      <td>335.71</td>\n",
       "    </tr>\n",
       "  </tbody>\n",
       "</table>\n",
       "</div>"
      ],
      "text/plain": [
       "    fecha   pais          isla  total gasto por turista  \\\n",
       "0  2019Q4  TOTAL  Gran Canaria                  1254.62   \n",
       "1  2019Q3  TOTAL  Gran Canaria                  1239.57   \n",
       "2  2019Q2  TOTAL  Gran Canaria                  1124.73   \n",
       "3  2019Q1  TOTAL  Gran Canaria                  1059.74   \n",
       "4  2018Q4  TOTAL  Gran Canaria                  1205.52   \n",
       "\n",
       "   gasto por turista alojamiento  \\\n",
       "0                         510.15   \n",
       "1                         520.76   \n",
       "2                         474.48   \n",
       "3                         478.40   \n",
       "4                         528.63   \n",
       "\n",
       "   gasto por turista transporte nacional / internacional  \\\n",
       "0                                             413.23       \n",
       "1                                             365.67       \n",
       "2                                             340.77       \n",
       "3                                             259.42       \n",
       "4                                             341.18       \n",
       "\n",
       "   gasto por turista  otros  \n",
       "0                    331.24  \n",
       "1                    353.14  \n",
       "2                    309.48  \n",
       "3                    321.92  \n",
       "4                    335.71  "
      ]
     },
     "execution_count": 6,
     "metadata": {},
     "output_type": "execute_result"
    }
   ],
   "source": [
    "gasto_medio.head()"
   ]
  },
  {
   "cell_type": "code",
   "execution_count": 7,
   "metadata": {},
   "outputs": [
    {
     "data": {
      "text/plain": [
       "(1960, 7)"
      ]
     },
     "execution_count": 7,
     "metadata": {},
     "output_type": "execute_result"
    }
   ],
   "source": [
    "gasto_medio.shape"
   ]
  },
  {
   "cell_type": "code",
   "execution_count": 8,
   "metadata": {},
   "outputs": [
    {
     "data": {
      "text/html": [
       "<div>\n",
       "<style scoped>\n",
       "    .dataframe tbody tr th:only-of-type {\n",
       "        vertical-align: middle;\n",
       "    }\n",
       "\n",
       "    .dataframe tbody tr th {\n",
       "        vertical-align: top;\n",
       "    }\n",
       "\n",
       "    .dataframe thead th {\n",
       "        text-align: right;\n",
       "    }\n",
       "</style>\n",
       "<table border=\"1\" class=\"dataframe\">\n",
       "  <thead>\n",
       "    <tr style=\"text-align: right;\">\n",
       "      <th></th>\n",
       "      <th>fecha</th>\n",
       "      <th>total gasto por turista</th>\n",
       "      <th>gasto por turista alojamiento</th>\n",
       "      <th>gasto por turista transporte nacional / internacional</th>\n",
       "      <th>gasto por turista  otros</th>\n",
       "      <th>isla_CANARIAS</th>\n",
       "      <th>isla_Fuerteventura</th>\n",
       "      <th>isla_Gran Canaria</th>\n",
       "      <th>isla_La Palma</th>\n",
       "      <th>isla_Lanzarote</th>\n",
       "      <th>isla_Tenerife</th>\n",
       "      <th>pais_Alemania</th>\n",
       "      <th>pais_España</th>\n",
       "      <th>pais_Holanda</th>\n",
       "      <th>pais_Otros países</th>\n",
       "      <th>pais_Países Nórdicos</th>\n",
       "      <th>pais_Reino Unido</th>\n",
       "      <th>pais_TOTAL</th>\n",
       "    </tr>\n",
       "  </thead>\n",
       "  <tbody>\n",
       "    <tr>\n",
       "      <th>0</th>\n",
       "      <td>2019Q4</td>\n",
       "      <td>1254.62</td>\n",
       "      <td>510.15</td>\n",
       "      <td>413.23</td>\n",
       "      <td>331.24</td>\n",
       "      <td>0</td>\n",
       "      <td>0</td>\n",
       "      <td>1</td>\n",
       "      <td>0</td>\n",
       "      <td>0</td>\n",
       "      <td>0</td>\n",
       "      <td>0</td>\n",
       "      <td>0</td>\n",
       "      <td>0</td>\n",
       "      <td>0</td>\n",
       "      <td>0</td>\n",
       "      <td>0</td>\n",
       "      <td>1</td>\n",
       "    </tr>\n",
       "    <tr>\n",
       "      <th>1</th>\n",
       "      <td>2019Q3</td>\n",
       "      <td>1239.57</td>\n",
       "      <td>520.76</td>\n",
       "      <td>365.67</td>\n",
       "      <td>353.14</td>\n",
       "      <td>0</td>\n",
       "      <td>0</td>\n",
       "      <td>1</td>\n",
       "      <td>0</td>\n",
       "      <td>0</td>\n",
       "      <td>0</td>\n",
       "      <td>0</td>\n",
       "      <td>0</td>\n",
       "      <td>0</td>\n",
       "      <td>0</td>\n",
       "      <td>0</td>\n",
       "      <td>0</td>\n",
       "      <td>1</td>\n",
       "    </tr>\n",
       "    <tr>\n",
       "      <th>2</th>\n",
       "      <td>2019Q2</td>\n",
       "      <td>1124.73</td>\n",
       "      <td>474.48</td>\n",
       "      <td>340.77</td>\n",
       "      <td>309.48</td>\n",
       "      <td>0</td>\n",
       "      <td>0</td>\n",
       "      <td>1</td>\n",
       "      <td>0</td>\n",
       "      <td>0</td>\n",
       "      <td>0</td>\n",
       "      <td>0</td>\n",
       "      <td>0</td>\n",
       "      <td>0</td>\n",
       "      <td>0</td>\n",
       "      <td>0</td>\n",
       "      <td>0</td>\n",
       "      <td>1</td>\n",
       "    </tr>\n",
       "    <tr>\n",
       "      <th>3</th>\n",
       "      <td>2019Q1</td>\n",
       "      <td>1059.74</td>\n",
       "      <td>478.40</td>\n",
       "      <td>259.42</td>\n",
       "      <td>321.92</td>\n",
       "      <td>0</td>\n",
       "      <td>0</td>\n",
       "      <td>1</td>\n",
       "      <td>0</td>\n",
       "      <td>0</td>\n",
       "      <td>0</td>\n",
       "      <td>0</td>\n",
       "      <td>0</td>\n",
       "      <td>0</td>\n",
       "      <td>0</td>\n",
       "      <td>0</td>\n",
       "      <td>0</td>\n",
       "      <td>1</td>\n",
       "    </tr>\n",
       "    <tr>\n",
       "      <th>4</th>\n",
       "      <td>2018Q4</td>\n",
       "      <td>1205.52</td>\n",
       "      <td>528.63</td>\n",
       "      <td>341.18</td>\n",
       "      <td>335.71</td>\n",
       "      <td>0</td>\n",
       "      <td>0</td>\n",
       "      <td>1</td>\n",
       "      <td>0</td>\n",
       "      <td>0</td>\n",
       "      <td>0</td>\n",
       "      <td>0</td>\n",
       "      <td>0</td>\n",
       "      <td>0</td>\n",
       "      <td>0</td>\n",
       "      <td>0</td>\n",
       "      <td>0</td>\n",
       "      <td>1</td>\n",
       "    </tr>\n",
       "  </tbody>\n",
       "</table>\n",
       "</div>"
      ],
      "text/plain": [
       "    fecha  total gasto por turista  gasto por turista alojamiento  \\\n",
       "0  2019Q4                  1254.62                         510.15   \n",
       "1  2019Q3                  1239.57                         520.76   \n",
       "2  2019Q2                  1124.73                         474.48   \n",
       "3  2019Q1                  1059.74                         478.40   \n",
       "4  2018Q4                  1205.52                         528.63   \n",
       "\n",
       "   gasto por turista transporte nacional / internacional  \\\n",
       "0                                             413.23       \n",
       "1                                             365.67       \n",
       "2                                             340.77       \n",
       "3                                             259.42       \n",
       "4                                             341.18       \n",
       "\n",
       "   gasto por turista  otros  isla_CANARIAS  isla_Fuerteventura  \\\n",
       "0                    331.24              0                   0   \n",
       "1                    353.14              0                   0   \n",
       "2                    309.48              0                   0   \n",
       "3                    321.92              0                   0   \n",
       "4                    335.71              0                   0   \n",
       "\n",
       "   isla_Gran Canaria  isla_La Palma  isla_Lanzarote  isla_Tenerife  \\\n",
       "0                  1              0               0              0   \n",
       "1                  1              0               0              0   \n",
       "2                  1              0               0              0   \n",
       "3                  1              0               0              0   \n",
       "4                  1              0               0              0   \n",
       "\n",
       "   pais_Alemania  pais_España  pais_Holanda  pais_Otros países  \\\n",
       "0              0            0             0                  0   \n",
       "1              0            0             0                  0   \n",
       "2              0            0             0                  0   \n",
       "3              0            0             0                  0   \n",
       "4              0            0             0                  0   \n",
       "\n",
       "   pais_Países Nórdicos  pais_Reino Unido  pais_TOTAL  \n",
       "0                     0                 0           1  \n",
       "1                     0                 0           1  \n",
       "2                     0                 0           1  \n",
       "3                     0                 0           1  \n",
       "4                     0                 0           1  "
      ]
     },
     "execution_count": 8,
     "metadata": {},
     "output_type": "execute_result"
    }
   ],
   "source": [
    "df = pd.get_dummies(gasto_medio, columns=['isla','pais'])\n",
    "df.head()"
   ]
  },
  {
   "cell_type": "code",
   "execution_count": 9,
   "metadata": {},
   "outputs": [
    {
     "data": {
      "text/plain": [
       "fecha                                                     object\n",
       "total gasto por turista                                  float64\n",
       "gasto por turista alojamiento                            float64\n",
       "gasto por turista transporte nacional / internacional    float64\n",
       "gasto por turista  otros                                 float64\n",
       "isla_CANARIAS                                              uint8\n",
       "isla_Fuerteventura                                         uint8\n",
       "isla_Gran Canaria                                          uint8\n",
       "isla_La Palma                                              uint8\n",
       "isla_Lanzarote                                             uint8\n",
       "isla_Tenerife                                              uint8\n",
       "pais_Alemania                                              uint8\n",
       "pais_España                                                uint8\n",
       "pais_Holanda                                               uint8\n",
       "pais_Otros países                                          uint8\n",
       "pais_Países Nórdicos                                       uint8\n",
       "pais_Reino Unido                                           uint8\n",
       "pais_TOTAL                                                 uint8\n",
       "dtype: object"
      ]
     },
     "execution_count": 9,
     "metadata": {},
     "output_type": "execute_result"
    }
   ],
   "source": [
    "df.dtypes"
   ]
  },
  {
   "cell_type": "code",
   "execution_count": 10,
   "metadata": {},
   "outputs": [
    {
     "data": {
      "text/html": [
       "<div>\n",
       "<style scoped>\n",
       "    .dataframe tbody tr th:only-of-type {\n",
       "        vertical-align: middle;\n",
       "    }\n",
       "\n",
       "    .dataframe tbody tr th {\n",
       "        vertical-align: top;\n",
       "    }\n",
       "\n",
       "    .dataframe thead th {\n",
       "        text-align: right;\n",
       "    }\n",
       "</style>\n",
       "<table border=\"1\" class=\"dataframe\">\n",
       "  <thead>\n",
       "    <tr style=\"text-align: right;\">\n",
       "      <th></th>\n",
       "      <th>fecha</th>\n",
       "      <th>total gasto por turista</th>\n",
       "      <th>gasto por turista alojamiento</th>\n",
       "      <th>gasto por turista transporte nacional / internacional</th>\n",
       "      <th>gasto por turista  otros</th>\n",
       "      <th>isla_CANARIAS</th>\n",
       "      <th>isla_Fuerteventura</th>\n",
       "      <th>isla_Gran Canaria</th>\n",
       "      <th>isla_La Palma</th>\n",
       "      <th>isla_Lanzarote</th>\n",
       "      <th>isla_Tenerife</th>\n",
       "      <th>pais_Alemania</th>\n",
       "      <th>pais_España</th>\n",
       "      <th>pais_Holanda</th>\n",
       "      <th>pais_Otros países</th>\n",
       "      <th>pais_Países Nórdicos</th>\n",
       "      <th>pais_Reino Unido</th>\n",
       "      <th>pais_TOTAL</th>\n",
       "    </tr>\n",
       "  </thead>\n",
       "  <tbody>\n",
       "    <tr>\n",
       "      <th>0</th>\n",
       "      <td>2019Q4</td>\n",
       "      <td>1254.62</td>\n",
       "      <td>510.15</td>\n",
       "      <td>413.23</td>\n",
       "      <td>331.24</td>\n",
       "      <td>0</td>\n",
       "      <td>0</td>\n",
       "      <td>1</td>\n",
       "      <td>0</td>\n",
       "      <td>0</td>\n",
       "      <td>0</td>\n",
       "      <td>0</td>\n",
       "      <td>0</td>\n",
       "      <td>0</td>\n",
       "      <td>0</td>\n",
       "      <td>0</td>\n",
       "      <td>0</td>\n",
       "      <td>1</td>\n",
       "    </tr>\n",
       "    <tr>\n",
       "      <th>1</th>\n",
       "      <td>2019Q3</td>\n",
       "      <td>1239.57</td>\n",
       "      <td>520.76</td>\n",
       "      <td>365.67</td>\n",
       "      <td>353.14</td>\n",
       "      <td>0</td>\n",
       "      <td>0</td>\n",
       "      <td>1</td>\n",
       "      <td>0</td>\n",
       "      <td>0</td>\n",
       "      <td>0</td>\n",
       "      <td>0</td>\n",
       "      <td>0</td>\n",
       "      <td>0</td>\n",
       "      <td>0</td>\n",
       "      <td>0</td>\n",
       "      <td>0</td>\n",
       "      <td>1</td>\n",
       "    </tr>\n",
       "    <tr>\n",
       "      <th>2</th>\n",
       "      <td>2019Q2</td>\n",
       "      <td>1124.73</td>\n",
       "      <td>474.48</td>\n",
       "      <td>340.77</td>\n",
       "      <td>309.48</td>\n",
       "      <td>0</td>\n",
       "      <td>0</td>\n",
       "      <td>1</td>\n",
       "      <td>0</td>\n",
       "      <td>0</td>\n",
       "      <td>0</td>\n",
       "      <td>0</td>\n",
       "      <td>0</td>\n",
       "      <td>0</td>\n",
       "      <td>0</td>\n",
       "      <td>0</td>\n",
       "      <td>0</td>\n",
       "      <td>1</td>\n",
       "    </tr>\n",
       "    <tr>\n",
       "      <th>3</th>\n",
       "      <td>2019Q1</td>\n",
       "      <td>1059.74</td>\n",
       "      <td>478.40</td>\n",
       "      <td>259.42</td>\n",
       "      <td>321.92</td>\n",
       "      <td>0</td>\n",
       "      <td>0</td>\n",
       "      <td>1</td>\n",
       "      <td>0</td>\n",
       "      <td>0</td>\n",
       "      <td>0</td>\n",
       "      <td>0</td>\n",
       "      <td>0</td>\n",
       "      <td>0</td>\n",
       "      <td>0</td>\n",
       "      <td>0</td>\n",
       "      <td>0</td>\n",
       "      <td>1</td>\n",
       "    </tr>\n",
       "    <tr>\n",
       "      <th>4</th>\n",
       "      <td>2018Q4</td>\n",
       "      <td>1205.52</td>\n",
       "      <td>528.63</td>\n",
       "      <td>341.18</td>\n",
       "      <td>335.71</td>\n",
       "      <td>0</td>\n",
       "      <td>0</td>\n",
       "      <td>1</td>\n",
       "      <td>0</td>\n",
       "      <td>0</td>\n",
       "      <td>0</td>\n",
       "      <td>0</td>\n",
       "      <td>0</td>\n",
       "      <td>0</td>\n",
       "      <td>0</td>\n",
       "      <td>0</td>\n",
       "      <td>0</td>\n",
       "      <td>1</td>\n",
       "    </tr>\n",
       "  </tbody>\n",
       "</table>\n",
       "</div>"
      ],
      "text/plain": [
       "    fecha  total gasto por turista  gasto por turista alojamiento  \\\n",
       "0  2019Q4                  1254.62                         510.15   \n",
       "1  2019Q3                  1239.57                         520.76   \n",
       "2  2019Q2                  1124.73                         474.48   \n",
       "3  2019Q1                  1059.74                         478.40   \n",
       "4  2018Q4                  1205.52                         528.63   \n",
       "\n",
       "   gasto por turista transporte nacional / internacional  \\\n",
       "0                                             413.23       \n",
       "1                                             365.67       \n",
       "2                                             340.77       \n",
       "3                                             259.42       \n",
       "4                                             341.18       \n",
       "\n",
       "   gasto por turista  otros  isla_CANARIAS  isla_Fuerteventura  \\\n",
       "0                    331.24              0                   0   \n",
       "1                    353.14              0                   0   \n",
       "2                    309.48              0                   0   \n",
       "3                    321.92              0                   0   \n",
       "4                    335.71              0                   0   \n",
       "\n",
       "   isla_Gran Canaria  isla_La Palma  isla_Lanzarote  isla_Tenerife  \\\n",
       "0                  1              0               0              0   \n",
       "1                  1              0               0              0   \n",
       "2                  1              0               0              0   \n",
       "3                  1              0               0              0   \n",
       "4                  1              0               0              0   \n",
       "\n",
       "   pais_Alemania  pais_España  pais_Holanda  pais_Otros países  \\\n",
       "0              0            0             0                  0   \n",
       "1              0            0             0                  0   \n",
       "2              0            0             0                  0   \n",
       "3              0            0             0                  0   \n",
       "4              0            0             0                  0   \n",
       "\n",
       "   pais_Países Nórdicos  pais_Reino Unido  pais_TOTAL  \n",
       "0                     0                 0           1  \n",
       "1                     0                 0           1  \n",
       "2                     0                 0           1  \n",
       "3                     0                 0           1  \n",
       "4                     0                 0           1  "
      ]
     },
     "execution_count": 10,
     "metadata": {},
     "output_type": "execute_result"
    }
   ],
   "source": [
    "gasto_medio = df\n",
    "gasto_medio.head()"
   ]
  },
  {
   "cell_type": "markdown",
   "metadata": {},
   "source": [
    "**Variables Dummy**\n",
    "\n",
    "Es necesario recordar que pada evitar la multicolineaidad debemos quitar una columna de las variables dummy que creamos, ya que si las ponemos todas creamos una dependencia circular."
   ]
  },
  {
   "cell_type": "markdown",
   "metadata": {},
   "source": [
    "### NOTA:\n",
    "**Para evitar el sigueiente error:**\n",
    "\n",
    "ValueError: Input contains NaN, infinity or a value too large for dtype('float64').\n",
    "\n",
    "**Debemos eliminar los valores nulos de las columnas del df**"
   ]
  },
  {
   "cell_type": "code",
   "execution_count": 11,
   "metadata": {},
   "outputs": [
    {
     "data": {
      "text/plain": [
       "fecha                                                     0\n",
       "total gasto por turista                                   5\n",
       "gasto por turista alojamiento                            10\n",
       "gasto por turista transporte nacional / internacional     6\n",
       "gasto por turista  otros                                  4\n",
       "isla_CANARIAS                                             0\n",
       "isla_Fuerteventura                                        0\n",
       "isla_Gran Canaria                                         0\n",
       "isla_La Palma                                             0\n",
       "isla_Lanzarote                                            0\n",
       "isla_Tenerife                                             0\n",
       "pais_Alemania                                             0\n",
       "pais_España                                               0\n",
       "pais_Holanda                                              0\n",
       "pais_Otros países                                         0\n",
       "pais_Países Nórdicos                                      0\n",
       "pais_Reino Unido                                          0\n",
       "pais_TOTAL                                                0\n",
       "dtype: int64"
      ]
     },
     "execution_count": 11,
     "metadata": {},
     "output_type": "execute_result"
    }
   ],
   "source": [
    "gasto_medio.isnull().sum()"
   ]
  },
  {
   "cell_type": "code",
   "execution_count": 12,
   "metadata": {},
   "outputs": [],
   "source": [
    "gasto_medio = gasto_medio.dropna()"
   ]
  },
  {
   "cell_type": "markdown",
   "metadata": {},
   "source": [
    "# PREDICTOR"
   ]
  },
  {
   "cell_type": "code",
   "execution_count": 3,
   "metadata": {},
   "outputs": [
    {
     "data": {
      "image/jpeg": "[encoded data removed]",
      "text/plain": [
       "<IPython.core.display.Image object>"
      ]
     },
     "execution_count": 3,
     "metadata": {},
     "output_type": "execute_result"
    }
   ],
   "source": [
    "from IPython.display import Image\n",
    "\n",
    "Image(\"../PredictorGastoTuristico/OtrosRecursos/Imagenes/img01.jpg\")"
   ]
  },
  {
   "cell_type": "code",
   "execution_count": 14,
   "metadata": {},
   "outputs": [],
   "source": [
    "from sklearn.linear_model import LinearRegression\n",
    "from sklearn import metrics"
   ]
  },
  {
   "cell_type": "code",
   "execution_count": 15,
   "metadata": {},
   "outputs": [],
   "source": [
    "def rmse(objetivo, estimaciones):\n",
    "    return np.sqrt(metrics.mean_squared_error(objetivo, estimaciones)\n",
    "                  )\n",
    "\n",
    "def adjusted_r2(objetivo, estimaciones, n, k):\n",
    "    r2 = metrics.r2_score(objetivo, estimaciones)\n",
    "    return 1 - (1-r2)*(n-1) / (n - k - 1)\n",
    "\n",
    "def evaluar_modelo(objetivo, estimaciones, n, k):\n",
    "    return {\n",
    "        \"rmse\": rmse(objetivo, estimaciones),\n",
    "        \"mae\": metrics.mean_absolute_error(objetivo, estimaciones),\n",
    "        \"adjusted_r2\": adjusted_r2(objetivo, estimaciones, n, k)\n",
    "           }"
   ]
  },
  {
   "cell_type": "code",
   "execution_count": 16,
   "metadata": {},
   "outputs": [
    {
     "data": {
      "text/plain": [
       "Index(['fecha', 'total gasto por turista', 'gasto por turista alojamiento',\n",
       "       'gasto por turista transporte nacional / internacional',\n",
       "       'gasto por turista  otros', 'isla_CANARIAS', 'isla_Fuerteventura',\n",
       "       'isla_Gran Canaria', 'isla_La Palma', 'isla_Lanzarote', 'isla_Tenerife',\n",
       "       'pais_Alemania', 'pais_España', 'pais_Holanda', 'pais_Otros países',\n",
       "       'pais_Países Nórdicos', 'pais_Reino Unido', 'pais_TOTAL'],\n",
       "      dtype='object')"
      ]
     },
     "execution_count": 16,
     "metadata": {},
     "output_type": "execute_result"
    }
   ],
   "source": [
    "gasto_medio.columns"
   ]
  },
  {
   "cell_type": "markdown",
   "metadata": {},
   "source": [
    "- **quite fechas** ya que la regresion solo acepta variables numéricas\n",
    "- **quite total gasto por turista** ya que me al final es la suma de todos los gastos asique facilira la predicción... al ser una variable dependiente de otras, aporta demasasida infromación ¿NO?\n",
    "- **quite isla_CANARIAS** para evitar la multicolinealidad de las **variables dummy**\n",
    "- **quite isla_Alemania** para evitar la multicolinealidad de las **variables dummy**\n"
   ]
  },
  {
   "cell_type": "code",
   "execution_count": 17,
   "metadata": {},
   "outputs": [],
   "source": [
    "nombres_variables_independientes = ['gasto por turista transporte nacional / internacional',\n",
    "       'gasto por turista  otros', 'isla_Fuerteventura',\n",
    "       'isla_Gran Canaria', 'isla_La Palma', 'isla_Lanzarote', 'isla_Tenerife',\n",
    "       'pais_España', 'pais_Holanda', 'pais_Otros países',\n",
    "       'pais_Países Nórdicos', 'pais_Reino Unido', 'pais_TOTAL']"
   ]
  },
  {
   "cell_type": "code",
   "execution_count": 18,
   "metadata": {},
   "outputs": [
    {
     "data": {
      "text/html": [
       "<div>\n",
       "<style scoped>\n",
       "    .dataframe tbody tr th:only-of-type {\n",
       "        vertical-align: middle;\n",
       "    }\n",
       "\n",
       "    .dataframe tbody tr th {\n",
       "        vertical-align: top;\n",
       "    }\n",
       "\n",
       "    .dataframe thead th {\n",
       "        text-align: right;\n",
       "    }\n",
       "</style>\n",
       "<table border=\"1\" class=\"dataframe\">\n",
       "  <thead>\n",
       "    <tr style=\"text-align: right;\">\n",
       "      <th></th>\n",
       "      <th>gasto por turista transporte nacional / internacional</th>\n",
       "      <th>gasto por turista  otros</th>\n",
       "      <th>isla_Fuerteventura</th>\n",
       "      <th>isla_Gran Canaria</th>\n",
       "      <th>isla_La Palma</th>\n",
       "      <th>isla_Lanzarote</th>\n",
       "      <th>isla_Tenerife</th>\n",
       "      <th>pais_España</th>\n",
       "      <th>pais_Holanda</th>\n",
       "      <th>pais_Otros países</th>\n",
       "      <th>pais_Países Nórdicos</th>\n",
       "      <th>pais_Reino Unido</th>\n",
       "      <th>pais_TOTAL</th>\n",
       "    </tr>\n",
       "  </thead>\n",
       "  <tbody>\n",
       "    <tr>\n",
       "      <th>0</th>\n",
       "      <td>413.23</td>\n",
       "      <td>331.24</td>\n",
       "      <td>0</td>\n",
       "      <td>1</td>\n",
       "      <td>0</td>\n",
       "      <td>0</td>\n",
       "      <td>0</td>\n",
       "      <td>0</td>\n",
       "      <td>0</td>\n",
       "      <td>0</td>\n",
       "      <td>0</td>\n",
       "      <td>0</td>\n",
       "      <td>1</td>\n",
       "    </tr>\n",
       "    <tr>\n",
       "      <th>1</th>\n",
       "      <td>365.67</td>\n",
       "      <td>353.14</td>\n",
       "      <td>0</td>\n",
       "      <td>1</td>\n",
       "      <td>0</td>\n",
       "      <td>0</td>\n",
       "      <td>0</td>\n",
       "      <td>0</td>\n",
       "      <td>0</td>\n",
       "      <td>0</td>\n",
       "      <td>0</td>\n",
       "      <td>0</td>\n",
       "      <td>1</td>\n",
       "    </tr>\n",
       "    <tr>\n",
       "      <th>2</th>\n",
       "      <td>340.77</td>\n",
       "      <td>309.48</td>\n",
       "      <td>0</td>\n",
       "      <td>1</td>\n",
       "      <td>0</td>\n",
       "      <td>0</td>\n",
       "      <td>0</td>\n",
       "      <td>0</td>\n",
       "      <td>0</td>\n",
       "      <td>0</td>\n",
       "      <td>0</td>\n",
       "      <td>0</td>\n",
       "      <td>1</td>\n",
       "    </tr>\n",
       "    <tr>\n",
       "      <th>3</th>\n",
       "      <td>259.42</td>\n",
       "      <td>321.92</td>\n",
       "      <td>0</td>\n",
       "      <td>1</td>\n",
       "      <td>0</td>\n",
       "      <td>0</td>\n",
       "      <td>0</td>\n",
       "      <td>0</td>\n",
       "      <td>0</td>\n",
       "      <td>0</td>\n",
       "      <td>0</td>\n",
       "      <td>0</td>\n",
       "      <td>1</td>\n",
       "    </tr>\n",
       "    <tr>\n",
       "      <th>4</th>\n",
       "      <td>341.18</td>\n",
       "      <td>335.71</td>\n",
       "      <td>0</td>\n",
       "      <td>1</td>\n",
       "      <td>0</td>\n",
       "      <td>0</td>\n",
       "      <td>0</td>\n",
       "      <td>0</td>\n",
       "      <td>0</td>\n",
       "      <td>0</td>\n",
       "      <td>0</td>\n",
       "      <td>0</td>\n",
       "      <td>1</td>\n",
       "    </tr>\n",
       "    <tr>\n",
       "      <th>...</th>\n",
       "      <td>...</td>\n",
       "      <td>...</td>\n",
       "      <td>...</td>\n",
       "      <td>...</td>\n",
       "      <td>...</td>\n",
       "      <td>...</td>\n",
       "      <td>...</td>\n",
       "      <td>...</td>\n",
       "      <td>...</td>\n",
       "      <td>...</td>\n",
       "      <td>...</td>\n",
       "      <td>...</td>\n",
       "      <td>...</td>\n",
       "    </tr>\n",
       "    <tr>\n",
       "      <th>1955</th>\n",
       "      <td>293.96</td>\n",
       "      <td>334.04</td>\n",
       "      <td>0</td>\n",
       "      <td>0</td>\n",
       "      <td>0</td>\n",
       "      <td>0</td>\n",
       "      <td>0</td>\n",
       "      <td>0</td>\n",
       "      <td>0</td>\n",
       "      <td>1</td>\n",
       "      <td>0</td>\n",
       "      <td>0</td>\n",
       "      <td>0</td>\n",
       "    </tr>\n",
       "    <tr>\n",
       "      <th>1956</th>\n",
       "      <td>270.96</td>\n",
       "      <td>319.17</td>\n",
       "      <td>0</td>\n",
       "      <td>0</td>\n",
       "      <td>0</td>\n",
       "      <td>0</td>\n",
       "      <td>0</td>\n",
       "      <td>0</td>\n",
       "      <td>0</td>\n",
       "      <td>1</td>\n",
       "      <td>0</td>\n",
       "      <td>0</td>\n",
       "      <td>0</td>\n",
       "    </tr>\n",
       "    <tr>\n",
       "      <th>1957</th>\n",
       "      <td>327.36</td>\n",
       "      <td>378.06</td>\n",
       "      <td>0</td>\n",
       "      <td>0</td>\n",
       "      <td>0</td>\n",
       "      <td>0</td>\n",
       "      <td>0</td>\n",
       "      <td>0</td>\n",
       "      <td>0</td>\n",
       "      <td>1</td>\n",
       "      <td>0</td>\n",
       "      <td>0</td>\n",
       "      <td>0</td>\n",
       "    </tr>\n",
       "    <tr>\n",
       "      <th>1958</th>\n",
       "      <td>279.12</td>\n",
       "      <td>315.00</td>\n",
       "      <td>0</td>\n",
       "      <td>0</td>\n",
       "      <td>0</td>\n",
       "      <td>0</td>\n",
       "      <td>0</td>\n",
       "      <td>0</td>\n",
       "      <td>0</td>\n",
       "      <td>1</td>\n",
       "      <td>0</td>\n",
       "      <td>0</td>\n",
       "      <td>0</td>\n",
       "    </tr>\n",
       "    <tr>\n",
       "      <th>1959</th>\n",
       "      <td>291.47</td>\n",
       "      <td>314.90</td>\n",
       "      <td>0</td>\n",
       "      <td>0</td>\n",
       "      <td>0</td>\n",
       "      <td>0</td>\n",
       "      <td>0</td>\n",
       "      <td>0</td>\n",
       "      <td>0</td>\n",
       "      <td>1</td>\n",
       "      <td>0</td>\n",
       "      <td>0</td>\n",
       "      <td>0</td>\n",
       "    </tr>\n",
       "  </tbody>\n",
       "</table>\n",
       "<p>1950 rows × 13 columns</p>\n",
       "</div>"
      ],
      "text/plain": [
       "      gasto por turista transporte nacional / internacional  \\\n",
       "0                                                413.23       \n",
       "1                                                365.67       \n",
       "2                                                340.77       \n",
       "3                                                259.42       \n",
       "4                                                341.18       \n",
       "...                                                 ...       \n",
       "1955                                             293.96       \n",
       "1956                                             270.96       \n",
       "1957                                             327.36       \n",
       "1958                                             279.12       \n",
       "1959                                             291.47       \n",
       "\n",
       "      gasto por turista  otros  isla_Fuerteventura  isla_Gran Canaria  \\\n",
       "0                       331.24                   0                  1   \n",
       "1                       353.14                   0                  1   \n",
       "2                       309.48                   0                  1   \n",
       "3                       321.92                   0                  1   \n",
       "4                       335.71                   0                  1   \n",
       "...                        ...                 ...                ...   \n",
       "1955                    334.04                   0                  0   \n",
       "1956                    319.17                   0                  0   \n",
       "1957                    378.06                   0                  0   \n",
       "1958                    315.00                   0                  0   \n",
       "1959                    314.90                   0                  0   \n",
       "\n",
       "      isla_La Palma  isla_Lanzarote  isla_Tenerife  pais_España  pais_Holanda  \\\n",
       "0                 0               0              0            0             0   \n",
       "1                 0               0              0            0             0   \n",
       "2                 0               0              0            0             0   \n",
       "3                 0               0              0            0             0   \n",
       "4                 0               0              0            0             0   \n",
       "...             ...             ...            ...          ...           ...   \n",
       "1955              0               0              0            0             0   \n",
       "1956              0               0              0            0             0   \n",
       "1957              0               0              0            0             0   \n",
       "1958              0               0              0            0             0   \n",
       "1959              0               0              0            0             0   \n",
       "\n",
       "      pais_Otros países  pais_Países Nórdicos  pais_Reino Unido  pais_TOTAL  \n",
       "0                     0                     0                 0           1  \n",
       "1                     0                     0                 0           1  \n",
       "2                     0                     0                 0           1  \n",
       "3                     0                     0                 0           1  \n",
       "4                     0                     0                 0           1  \n",
       "...                 ...                   ...               ...         ...  \n",
       "1955                  1                     0                 0           0  \n",
       "1956                  1                     0                 0           0  \n",
       "1957                  1                     0                 0           0  \n",
       "1958                  1                     0                 0           0  \n",
       "1959                  1                     0                 0           0  \n",
       "\n",
       "[1950 rows x 13 columns]"
      ]
     },
     "execution_count": 18,
     "metadata": {},
     "output_type": "execute_result"
    }
   ],
   "source": [
    "gasto_medio[nombres_variables_independientes]"
   ]
  },
  {
   "cell_type": "code",
   "execution_count": 19,
   "metadata": {},
   "outputs": [],
   "source": [
    "nombre_variables_objetivas = ['gasto por turista alojamiento','total gasto por turista'\n",
    "       'gasto por turista transporte nacional / internacional',\n",
    "       'gasto por turista  otros']"
   ]
  },
  {
   "cell_type": "markdown",
   "metadata": {},
   "source": [
    "# AQUÍ DIVIDIMOS EL DATASET EN TRAIN Y TEST"
   ]
  },
  {
   "cell_type": "code",
   "execution_count": 20,
   "metadata": {},
   "outputs": [],
   "source": [
    "from sklearn.model_selection import train_test_split"
   ]
  },
  {
   "cell_type": "code",
   "execution_count": 21,
   "metadata": {},
   "outputs": [],
   "source": [
    "train_test_split?"
   ]
  },
  {
   "cell_type": "code",
   "execution_count": 22,
   "metadata": {},
   "outputs": [
    {
     "data": {
      "text/plain": [
       "(1950, 13)"
      ]
     },
     "execution_count": 22,
     "metadata": {},
     "output_type": "execute_result"
    }
   ],
   "source": [
    "gasto_medio[nombres_variables_independientes].shape"
   ]
  },
  {
   "cell_type": "code",
   "execution_count": 23,
   "metadata": {},
   "outputs": [],
   "source": [
    "X_train, X_test, y_train, y_test = train_test_split(\n",
    "     gasto_medio[nombres_variables_independientes], gasto_medio[nombre_variables_objetivas[0]],\n",
    "     test_size=0.33, random_state=13\n",
    ")"
   ]
  },
  {
   "cell_type": "markdown",
   "metadata": {},
   "source": [
    "Vemos el \"random_state=13\" que es la semilla"
   ]
  },
  {
   "cell_type": "code",
   "execution_count": 24,
   "metadata": {},
   "outputs": [
    {
     "name": "stdout",
     "output_type": "stream",
     "text": [
      "(1306, 13) (1306,)\n"
     ]
    }
   ],
   "source": [
    "print(X_train.shape, y_train.shape)"
   ]
  },
  {
   "cell_type": "code",
   "execution_count": 25,
   "metadata": {
    "scrolled": true
   },
   "outputs": [
    {
     "name": "stdout",
     "output_type": "stream",
     "text": [
      "(644, 13) (644,)\n"
     ]
    }
   ],
   "source": [
    "print(X_test.shape, y_test.shape)"
   ]
  },
  {
   "cell_type": "code",
   "execution_count": 26,
   "metadata": {},
   "outputs": [],
   "source": [
    "#modelo_ols = LinearRegression()\n",
    "#modelo_ols.fit(X=X_train, y=y_train)"
   ]
  },
  {
   "cell_type": "code",
   "execution_count": 27,
   "metadata": {},
   "outputs": [],
   "source": [
    "#y_pred = modelo_ols.predict(X_test)"
   ]
  },
  {
   "cell_type": "code",
   "execution_count": 28,
   "metadata": {},
   "outputs": [],
   "source": [
    "#print(y_pred)"
   ]
  },
  {
   "cell_type": "code",
   "execution_count": 29,
   "metadata": {},
   "outputs": [],
   "source": [
    "#print(y_test)"
   ]
  },
  {
   "cell_type": "markdown",
   "metadata": {},
   "source": [
    "# AQUÍ AJUSTAMOS EL MODELO DE REGRESION LINEAL MÚLTIPLE\n",
    "\n",
    "Ademas, evaluamos el modelo de entrenamiento y test"
   ]
  },
  {
   "cell_type": "code",
   "execution_count": 30,
   "metadata": {},
   "outputs": [
    {
     "data": {
      "text/html": [
       "<div>\n",
       "<style scoped>\n",
       "    .dataframe tbody tr th:only-of-type {\n",
       "        vertical-align: middle;\n",
       "    }\n",
       "\n",
       "    .dataframe tbody tr th {\n",
       "        vertical-align: top;\n",
       "    }\n",
       "\n",
       "    .dataframe thead th {\n",
       "        text-align: right;\n",
       "    }\n",
       "</style>\n",
       "<table border=\"1\" class=\"dataframe\">\n",
       "  <thead>\n",
       "    <tr style=\"text-align: right;\">\n",
       "      <th></th>\n",
       "      <th>ols_train</th>\n",
       "      <th>ols_test</th>\n",
       "    </tr>\n",
       "  </thead>\n",
       "  <tbody>\n",
       "    <tr>\n",
       "      <th>rmse</th>\n",
       "      <td>53.693570</td>\n",
       "      <td>54.488614</td>\n",
       "    </tr>\n",
       "    <tr>\n",
       "      <th>mae</th>\n",
       "      <td>33.745649</td>\n",
       "      <td>35.328235</td>\n",
       "    </tr>\n",
       "    <tr>\n",
       "      <th>adjusted_r2</th>\n",
       "      <td>0.675862</td>\n",
       "      <td>0.643480</td>\n",
       "    </tr>\n",
       "  </tbody>\n",
       "</table>\n",
       "</div>"
      ],
      "text/plain": [
       "             ols_train   ols_test\n",
       "rmse         53.693570  54.488614\n",
       "mae          33.745649  35.328235\n",
       "adjusted_r2   0.675862   0.643480"
      ]
     },
     "execution_count": 30,
     "metadata": {},
     "output_type": "execute_result"
    }
   ],
   "source": [
    "RESULTADOS = {}\n",
    "\n",
    "modelo_ols = LinearRegression()\n",
    "modelo_ols.fit(X=X_train, y=y_train)\n",
    "modelo_ols_train_preds = modelo_ols.predict(X_train)\n",
    "modelo_ols_test_preds = modelo_ols.predict(X_test)\n",
    "\n",
    "\n",
    "RESULTADOS[\"ols_train\"] = evaluar_modelo(\n",
    "    y_train,\n",
    "    modelo_ols_train_preds,\n",
    "    X_train.shape[0],\n",
    "    len(modelo_ols.coef_)\n",
    ")\n",
    "\n",
    "RESULTADOS[\"ols_test\"] = evaluar_modelo(\n",
    "    y_test,\n",
    "    modelo_ols_test_preds,\n",
    "    X_test.shape[0],\n",
    "    len(modelo_ols.coef_)\n",
    ")\n",
    "\n",
    "pd.DataFrame(RESULTADOS)"
   ]
  },
  {
   "cell_type": "markdown",
   "metadata": {},
   "source": [
    "Para ver la magnitud del error en el que estamos cayendo al hacer una sola separación entre test y entrenamiento, vamos a probar un monton de semillas y ver cual es el rango del error que se puede obtener "
   ]
  },
  {
   "cell_type": "code",
   "execution_count": 31,
   "metadata": {},
   "outputs": [],
   "source": [
    "model=LinearRegression()\n",
    "results = []\n",
    "\n",
    "def test_seed(seed):\n",
    "    \n",
    "    X_train, X_test, y_train, y_test = train_test_split(\n",
    "     gasto_medio[nombres_variables_independientes], gasto_medio[nombre_variables_objetivas[0]],\n",
    "     test_size=0.33, random_state=seed\n",
    "    )\n",
    "    test_preds = model.fit(X_train, y_train).predict(X_test)\n",
    "    seed_rmse = rmse(y_test, test_preds)\n",
    "    results.append([seed_rmse, seed])"
   ]
  },
  {
   "cell_type": "code",
   "execution_count": 32,
   "metadata": {},
   "outputs": [],
   "source": [
    "for i in range(1000):\n",
    "    test_seed(i)"
   ]
  },
  {
   "cell_type": "code",
   "execution_count": 33,
   "metadata": {},
   "outputs": [
    {
     "data": {
      "text/plain": [
       "[[52.60930636971828, 0],\n",
       " [53.03561901151996, 1],\n",
       " [51.20269671058771, 2],\n",
       " [55.736712130676864, 3],\n",
       " [51.68294727059393, 4]]"
      ]
     },
     "execution_count": 33,
     "metadata": {},
     "output_type": "execute_result"
    }
   ],
   "source": [
    "results[:5]"
   ]
  },
  {
   "cell_type": "code",
   "execution_count": 34,
   "metadata": {},
   "outputs": [],
   "source": [
    "results_sorted = sorted(results, key=lambda x: x[0], reverse=False)"
   ]
  },
  {
   "cell_type": "code",
   "execution_count": 35,
   "metadata": {},
   "outputs": [
    {
     "data": {
      "text/plain": [
       "[45.2505808585555, 593]"
      ]
     },
     "execution_count": 35,
     "metadata": {},
     "output_type": "execute_result"
    }
   ],
   "source": [
    "# Visualizamos el error mas pequeño\n",
    "results_sorted[0]"
   ]
  },
  {
   "cell_type": "code",
   "execution_count": 36,
   "metadata": {},
   "outputs": [
    {
     "data": {
      "text/plain": [
       "[64.42185838229435, 139]"
      ]
     },
     "execution_count": 36,
     "metadata": {},
     "output_type": "execute_result"
    }
   ],
   "source": [
    "# Visualizamos el error mas grande\n",
    "results_sorted[-1]"
   ]
  },
  {
   "cell_type": "markdown",
   "metadata": {},
   "source": [
    "# Validación Cruzada (Cross Validation)"
   ]
  },
  {
   "cell_type": "markdown",
   "metadata": {},
   "source": [
    "Vemos que entre la semilla con menor error de test y la semilla con mayor error hay una diferencia, en este caso no es mucho, pero en otros casso podria ser bastante significativo.\n",
    "\n",
    "https://es.wikipedia.org/wiki/Validaci%C3%B3n_cruzada\n"
   ]
  },
  {
   "cell_type": "code",
   "execution_count": 4,
   "metadata": {},
   "outputs": [
    {
     "data": {
      "image/jpeg": "[encoded data removed]",
      "text/plain": [
       "<IPython.core.display.Image object>"
      ]
     },
     "execution_count": 4,
     "metadata": {},
     "output_type": "execute_result"
    }
   ],
   "source": [
    "Image(\"../PredictorGastoTuristico/OtrosRecursos/Imagenes/img_02.jpg\")"
   ]
  },
  {
   "cell_type": "markdown",
   "metadata": {},
   "source": [
    "Una forma de evitar el cometer este error es mediante la **Validación cruzada**\n",
    "\n",
    "![cross_val](https://cdn-images-1.medium.com/max/1600/1*J2B_bcbd1-s1kpWOu_FZrg.png)"
   ]
  },
  {
   "cell_type": "code",
   "execution_count": 37,
   "metadata": {},
   "outputs": [],
   "source": [
    "from sklearn.model_selection import cross_val_score"
   ]
  },
  {
   "cell_type": "code",
   "execution_count": 38,
   "metadata": {},
   "outputs": [],
   "source": [
    "cross_val_score?"
   ]
  },
  {
   "cell_type": "code",
   "execution_count": 39,
   "metadata": {},
   "outputs": [],
   "source": [
    "modelo_ols = LinearRegression()\n",
    "X = gasto_medio[nombres_variables_independientes]\n",
    "y = gasto_medio[nombre_variables_objetivas[0]]\n",
    "\n",
    "resultados_validación_cruzada = cross_val_score(\n",
    "    estimator=modelo_ols, \n",
    "    X=X,\n",
    "    y=y,\n",
    "    scoring=\"neg_mean_squared_error\", \n",
    "    cv=10\n",
    ")"
   ]
  },
  {
   "cell_type": "code",
   "execution_count": 40,
   "metadata": {},
   "outputs": [
    {
     "data": {
      "text/plain": [
       "array([-4157.08685481, -3378.07450185, -4774.55211849, -4501.93402052,\n",
       "       -6009.98288226, -4343.05151453, -1103.9229607 , -1881.29922597,\n",
       "       -1045.73810607, -1409.48270807])"
      ]
     },
     "execution_count": 40,
     "metadata": {},
     "output_type": "execute_result"
    }
   ],
   "source": [
    "resultados_validación_cruzada"
   ]
  },
  {
   "cell_type": "code",
   "execution_count": 41,
   "metadata": {},
   "outputs": [
    {
     "data": {
      "text/plain": [
       "-3260.5124893268335"
      ]
     },
     "execution_count": 41,
     "metadata": {},
     "output_type": "execute_result"
    }
   ],
   "source": [
    "resultados_validación_cruzada.mean()"
   ]
  },
  {
   "cell_type": "code",
   "execution_count": 42,
   "metadata": {},
   "outputs": [],
   "source": [
    "def rmse_cross_val(estimator, X, y):\n",
    "    y_pred = estimator.predict(X)\n",
    "    return np.sqrt(metrics.mean_squared_error(y, y_pred))"
   ]
  },
  {
   "cell_type": "code",
   "execution_count": 43,
   "metadata": {},
   "outputs": [],
   "source": [
    "resultados_cv = []\n",
    "for i in range(10,200):\n",
    "    cv_rmse = cross_val_score(\n",
    "        estimator=modelo_ols, \n",
    "        X=X,\n",
    "        y=y,\n",
    "        scoring=rmse_cross_val, \n",
    "        cv=i\n",
    "    ).mean()\n",
    "    resultados_cv.append(cv_rmse)"
   ]
  },
  {
   "cell_type": "code",
   "execution_count": 44,
   "metadata": {},
   "outputs": [],
   "source": [
    "%matplotlib inline\n",
    "import matplotlib.pyplot as plt"
   ]
  },
  {
   "cell_type": "code",
   "execution_count": 45,
   "metadata": {},
   "outputs": [
    {
     "data": {
      "text/plain": [
       "[<matplotlib.lines.Line2D at 0x23e1a5eb4c0>]"
      ]
     },
     "execution_count": 45,
     "metadata": {},
     "output_type": "execute_result"
    },
    {
     "data": {
      "image/png": "[encoded data removed]",
      "text/plain": [
       "<Figure size 432x288 with 1 Axes>"
      ]
     },
     "metadata": {
      "needs_background": "light"
     },
     "output_type": "display_data"
    }
   ],
   "source": [
    "plt.plot(resultados_cv)"
   ]
  },
  {
   "cell_type": "code",
   "execution_count": 46,
   "metadata": {},
   "outputs": [],
   "source": [
    "from sklearn.model_selection import cross_validate\n",
    "scoring = {\"mae\": \"neg_mean_absolute_error\", \"rmse\": rmse_cross_val}\n",
    "estimator = modelo_ols\n",
    "scores = cross_validate(estimator, gasto_medio[nombres_variables_independientes],\n",
    "                        gasto_medio[nombre_variables_objetivas[0]], scoring=scoring,\n",
    "                         cv=100, return_train_score=True)"
   ]
  },
  {
   "cell_type": "code",
   "execution_count": 47,
   "metadata": {},
   "outputs": [
    {
     "data": {
      "text/plain": [
       "fit_time       0.005361\n",
       "score_time     0.005399\n",
       "test_mae     -36.401225\n",
       "train_mae    -34.786419\n",
       "test_rmse     47.118942\n",
       "train_rmse    53.830936\n",
       "dtype: float64"
      ]
     },
     "execution_count": 47,
     "metadata": {},
     "output_type": "execute_result"
    }
   ],
   "source": [
    "pd.DataFrame(scores).mean()"
   ]
  },
  {
   "cell_type": "code",
   "execution_count": null,
   "metadata": {},
   "outputs": [],
   "source": []
  },
  {
   "cell_type": "code",
   "execution_count": null,
   "metadata": {},
   "outputs": [],
   "source": []
  },
  {
   "cell_type": "code",
   "execution_count": null,
   "metadata": {},
   "outputs": [],
   "source": []
  },
  {
   "cell_type": "code",
   "execution_count": 48,
   "metadata": {},
   "outputs": [
    {
     "name": "stdout",
     "output_type": "stream",
     "text": [
      "MSE train: 2984.214, test: 2739.811\n",
      "R^2 train: 0.678, test: 0.650\n"
     ]
    }
   ],
   "source": [
    "import pandas as pd\n",
    "from sklearn.model_selection import train_test_split\n",
    "from sklearn.preprocessing import StandardScaler\n",
    "from sklearn.linear_model import Ridge\n",
    "from sklearn.pipeline import make_pipeline\n",
    "from sklearn.metrics import mean_squared_error, r2_score\n",
    "from sklearn import datasets\n",
    "\n",
    "X = gasto_medio[nombres_variables_independientes]\n",
    "y = gasto_medio[nombre_variables_objetivas[0]]\n",
    "#\n",
    "# Create a training and test split\n",
    "#\n",
    "X_train, X_test, y_train, y_test = train_test_split(X, y, test_size=0.3, random_state=42)\n",
    "#\n",
    "# Fit a pipeline using Training dataset and related labels\n",
    "# Use Ridge algorithm for training the model\n",
    "#\n",
    "pipeline = make_pipeline(StandardScaler(), Ridge(alpha=1.0))\n",
    "pipeline.fit(X_train, y_train)\n",
    "#\n",
    "# Calculate the predicted value for training and test dataset\n",
    "#\n",
    "y_train_pred = pipeline.predict(X_train)\n",
    "y_test_pred = pipeline.predict(X_test)\n",
    "#\n",
    "# Mean Squared Error\n",
    "#\n",
    "print('MSE train: %.3f, test: %.3f' % (mean_squared_error(y_train, y_train_pred),\n",
    "                mean_squared_error(y_test, y_test_pred)))\n",
    "#\n",
    "# R-Squared\n",
    "#\n",
    "print('R^2 train: %.3f, test: %.3f' % (r2_score(y_train, y_train_pred), r2_score(y_test, y_test_pred)))"
   ]
  }
 ],
 "metadata": {
  "kernelspec": {
   "display_name": "Python 3",
   "language": "python",
   "name": "python3"
  },
  "language_info": {
   "codemirror_mode": {
    "name": "ipython",
    "version": 3
   },
   "file_extension": ".py",
   "mimetype": "text/x-python",
   "name": "python",
   "nbconvert_exporter": "python",
   "pygments_lexer": "ipython3",
   "version": "3.8.5"
  }
 },
 "nbformat": 4,
 "nbformat_minor": 4
}
