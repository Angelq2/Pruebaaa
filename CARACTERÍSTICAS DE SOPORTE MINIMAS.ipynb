{
 "cells": [
  {
   "cell_type": "markdown",
   "metadata": {},
   "source": [
    "# CARACTERÍSTICAS DE SOPORTE MINIMAS - TRATAMIENTO"
   ]
  },
  {
   "cell_type": "markdown",
   "metadata": {},
   "source": [
    "# Proposito:"
   ]
  },
  {
   "cell_type": "markdown",
   "metadata": {},
   "source": [
    "En este notebook nos dedicaremos al tratamiento de los diferentes archivos que nos aportan informacion sobre las **características de soporte MINIMAS** con el objetivo de establecer un estándar y limpiar los datos para quedarnos con lo que realmente nos interesa. "
   ]
  },
  {
   "cell_type": "markdown",
   "metadata": {},
   "source": [
    "# Contexto:\n",
    "\n",
    "### Las características de soporte incluyen:\n",
    "\n",
    "**1.    El ADR RevPar Ingresos, que es:**\n",
    "\n",
    "    •\tRevPAR es la abreviatura de ingresos por habitación disponible y es una de las métricas más comunes e importantes para tu hotel.Es una manera fácil de visualizar los ingresos que se generan por segmentos específicos del mercado en tu destino.\n",
    "    \n",
    "    •\tADR (average daily rate) es la abreviatura de tarifa media diaria y simplemente se refiere al precio de tus habitaciones con todo tu inventario vendido. Concretamente, se calcula mediante la cantidad de ingresos obtenidos y la cantidad de habitaciones alquiladas para darte una tarifa media.\n",
    "    \n",
    "    •\tComo se indicó anteriormente, la ADR es muy diferente a la RevPAR, ya que la ADR simplemente indica el precio de tus habitaciones, mientras que la RevPAR te dirá cuánto dinero obtienes de cada habitación, ya sea que se alquile o no.\n",
    "\n",
    "**2.\tPlazas de los diferentes establecimientos**\n",
    "\n",
    "**3.\tEstancia media**\n",
    "\n",
    "**4.\tTasa de ocupación**\n"
   ]
  },
  {
   "cell_type": "code",
   "execution_count": 1,
   "metadata": {
    "scrolled": true
   },
   "outputs": [
    {
     "name": "stdout",
     "output_type": "stream",
     "text": [
      "Last updated: 2023-02-10T12:18:21.631304+00:00\n",
      "\n",
      "Python implementation: CPython\n",
      "Python version       : 3.8.5\n",
      "IPython version      : 7.19.0\n",
      "\n",
      "Compiler    : MSC v.1916 64 bit (AMD64)\n",
      "OS          : Windows\n",
      "Release     : 10\n",
      "Machine     : AMD64\n",
      "Processor   : Intel64 Family 6 Model 126 Stepping 5, GenuineIntel\n",
      "CPU cores   : 8\n",
      "Architecture: 64bit\n",
      "\n"
     ]
    }
   ],
   "source": [
    "%load_ext watermark\n",
    "%watermark"
   ]
  },
  {
   "cell_type": "code",
   "execution_count": 2,
   "metadata": {},
   "outputs": [],
   "source": [
    "import pandas as pd\n",
    "import numpy as np\n",
    "import os\n",
    "import re"
   ]
  },
  {
   "cell_type": "markdown",
   "metadata": {},
   "source": [
    "# PREPARACION PREVIA\n",
    "\n",
    "Primero necesitamos copiar todos nuestros archivos en una carpeta donde podramos manipularlos para así conservar los archivos originales"
   ]
  },
  {
   "cell_type": "code",
   "execution_count": 3,
   "metadata": {},
   "outputs": [],
   "source": [
    "from distutils.dir_util import copy_tree\n",
    "\n",
    "# Método que limpia la carpeta de datos volatiles ya que es \n",
    "# una carpeta activa en todos los programas que hemos generado.\n",
    "def limpiaCarpetaVolatil(rutaCopia):\n",
    "    print(\"Limpiando Carpeta Volatil...\")\n",
    "    for f in os.listdir(rutaCopia):\n",
    "        os.remove(os.path.join(rutaCopia, f))\n",
    "        \n",
    "#Metodo que copia recursivamente\n",
    "def copia(dir_origen,dir_destino):\n",
    "    print(\"Copiando...\")\n",
    "    copy_tree(dir_origen, dir_destino)\n",
    "    print(\"Copiado\")\n",
    "    print(os.listdir(dir_destino))\n",
    "  \n"
   ]
  },
  {
   "cell_type": "code",
   "execution_count": 4,
   "metadata": {
    "scrolled": true
   },
   "outputs": [
    {
     "name": "stdout",
     "output_type": "stream",
     "text": [
      "Limpiando Carpeta Volatil...\n",
      "Copiando...\n",
      "Copiado\n",
      "['ADR_RevPAR_ingresos.csv', 'establecimientos_plazas.csv', 'estancia_media.csv', 'tasa_ocupacion.csv']\n"
     ]
    }
   ],
   "source": [
    "rutaBase= \"../PredictorGastoTuristico/DatosVirgenes/ISTAC/CaracteristicasSoporteMinimas/\"\n",
    "rutaCopia= \"../PredictorGastoTuristico/borrar/\"\n",
    "\n",
    "limpiaCarpetaVolatil(rutaCopia)\n",
    "copia(rutaBase,rutaCopia)"
   ]
  },
  {
   "cell_type": "markdown",
   "metadata": {},
   "source": [
    "## Primero cargamos los archivos para tratarlos y finalmente unirlos:"
   ]
  },
  {
   "cell_type": "code",
   "execution_count": 5,
   "metadata": {
    "scrolled": false
   },
   "outputs": [
    {
     "name": "stdout",
     "output_type": "stream",
     "text": [
      "0 ADR_RevPAR_ingresos.csv\n",
      "1 establecimientos_plazas.csv\n",
      "2 estancia_media.csv\n",
      "3 tasa_ocupacion.csv\n"
     ]
    }
   ],
   "source": [
    "ruta = rutaCopia\n",
    "list_csv_names = os.listdir(ruta)\n",
    "index = 0\n",
    "for archivo in list_csv_names:\n",
    "    print(str(index) + \" \" + archivo)\n",
    "    index = index + 1"
   ]
  },
  {
   "cell_type": "code",
   "execution_count": 6,
   "metadata": {},
   "outputs": [],
   "source": [
    "ADR_RevPAR_ingresos = pd.read_csv(ruta+list_csv_names[0],keep_default_na=False, na_values=[\"\"])\n",
    "establecimientos_plazas = pd.read_csv(ruta+list_csv_names[1],keep_default_na=False, na_values=[\"\"])\n",
    "estancia_media = pd.read_csv(ruta+list_csv_names[2],keep_default_na=False, na_values=[\"\"])\n",
    "tasa_ocupacion = pd.read_csv(ruta+list_csv_names[3],keep_default_na=False, na_values=[\"\"])"
   ]
  },
  {
   "cell_type": "code",
   "execution_count": 7,
   "metadata": {},
   "outputs": [],
   "source": [
    "list_all_csv = [ADR_RevPAR_ingresos,\n",
    "                establecimientos_plazas,\n",
    "                estancia_media,\n",
    "                tasa_ocupacion]"
   ]
  },
  {
   "cell_type": "markdown",
   "metadata": {},
   "source": [
    "## Visualizamos el conjunto de todos los csv\n",
    "\n",
    "Vemos como existen columnas semejantes pero, la fecha por ejemplo no es homogenea"
   ]
  },
  {
   "cell_type": "code",
   "execution_count": 8,
   "metadata": {},
   "outputs": [
    {
     "name": "stdout",
     "output_type": "stream",
     "text": [
      "------------------ADR_RevPAR_ingresos.csv------------------\n",
      "                                     indicador municipio periodo  valor\n",
      "0  Ingresos por habitación disponible (RevPAR)  CANARIAS    2021  51.41\n",
      "\n",
      "\n",
      "------------------establecimientos_plazas.csv------------------\n",
      "                   indicador municipio periodo valor\n",
      "0  Establecimientos abiertos  CANARIAS    2021   785\n",
      "\n",
      "\n",
      "------------------estancia_media.csv------------------\n",
      "    pais municipio periodo valor\n",
      "0  TOTAL  CANARIAS    2021  6.31\n",
      "\n",
      "\n",
      "------------------tasa_ocupacion.csv------------------\n",
      "                                         indicador municipio periodo  valor\n",
      "0  Tasa de ocupación por habitaciones-apartamentos  CANARIAS    2021  53.11\n",
      "\n",
      "\n"
     ]
    }
   ],
   "source": [
    "i = 0\n",
    "for archivo in list_all_csv:\n",
    "    print(\"------------------\" + list_csv_names[i] +\"------------------\")\n",
    "    print(archivo.head(1))\n",
    "    print(\"\\n\")\n",
    "    i = i +1"
   ]
  },
  {
   "cell_type": "code",
   "execution_count": 9,
   "metadata": {},
   "outputs": [
    {
     "name": "stdout",
     "output_type": "stream",
     "text": [
      "------------------ADR_RevPAR_ingresos.csv------------------\n",
      "indicador\n",
      "['Ingresos por habitación disponible (RevPAR)' 'Ingresos totales'\n",
      " 'Tarifa media por habitación mensual (ADR)']\n",
      "\n",
      "\n",
      "municipio\n",
      "['CANARIAS' 'LANZAROTE' 'Arrecife' 'Teguise' 'Tías' 'Yaiza'\n",
      " 'FUERTEVENTURA' 'Antigua' 'La Oliva' 'Pájara' 'Puerto del Rosario'\n",
      " 'GRAN CANARIA' 'Mogán' 'Las Palmas de Gran Canaria'\n",
      " 'San Bartolomé de Tirajana' 'Resto de municipios de Gran Canaria'\n",
      " 'TENERIFE' 'Adeje' 'Arona' 'Granadilla de Abona' 'Puerto de la Cruz'\n",
      " 'Santa Cruz de Tenerife' 'Santiago del Teide'\n",
      " 'Resto de municipios de Tenerife' 'LA GOMERA'\n",
      " 'San Sebastián de La Gomera' 'Valle Gran Rey'\n",
      " 'Resto de municipios de La Gomera' 'LA PALMA' 'Breña Baja'\n",
      " 'Fuencaliente de La Palma' 'Los Llanos de Aridane' 'El Paso'\n",
      " 'Santa Cruz de La Palma' 'Resto de municipios de La Palma' 'EL HIERRO'\n",
      " 'Frontera' 'Valverde' 'El Pinar de El Hierro']\n",
      "\n",
      "\n",
      "periodo\n",
      "['2021' '2021M12' '2021M11' '2021M10' '2021M09' '2021M08' '2021M07'\n",
      " '2021M06' '2021M05' '2021M04' '2021M03' '2021M02' '2021M01' '2020'\n",
      " '2020M12' '2020M11' '2020M10' '2020M09' '2020M08' '2020M07' '2020M06'\n",
      " '2020M05' '2020M04' '2020M03' '2020M02' '2020M01' '2019' '2019M12'\n",
      " '2019M11' '2019M10' '2019M09' '2019M08' '2019M07' '2019M06' '2019M05'\n",
      " '2019M04' '2019M03' '2019M02' '2019M01' '2018' '2018M12' '2018M11'\n",
      " '2018M10' '2018M09' '2018M08' '2018M07' '2018M06' '2018M05' '2018M04'\n",
      " '2018M03' '2018M02' '2018M01' '2017' '2017M12' '2017M11' '2017M10'\n",
      " '2017M09' '2017M08' '2017M07' '2017M06' '2017M05' '2017M04' '2017M03'\n",
      " '2017M02' '2017M01' '2016' '2016M12' '2016M11' '2016M10' '2016M09'\n",
      " '2016M08' '2016M07' '2016M06' '2016M05' '2016M04' '2016M03' '2016M02'\n",
      " '2016M01' '2015' '2015M12' '2015M11' '2015M10' '2015M09' '2015M08'\n",
      " '2015M07' '2015M06' '2015M05' '2015M04' '2015M03' '2015M02' '2015M01'\n",
      " '2014' '2014M12' '2014M11' '2014M10' '2014M09' '2014M08' '2014M07'\n",
      " '2014M06' '2014M05' '2014M04' '2014M03' '2014M02' '2014M01' '2013'\n",
      " '2013M12' '2013M11' '2013M10' '2013M09' '2013M08' '2013M07' '2013M06'\n",
      " '2013M05' '2013M04' '2013M03' '2013M02' '2013M01' '2012' '2012M12'\n",
      " '2012M11' '2012M10' '2012M09' '2012M08' '2012M07' '2012M06' '2012M05'\n",
      " '2012M04' '2012M03' '2012M02' '2012M01' '2011' '2011M12' '2011M11'\n",
      " '2011M10' '2011M09' '2011M08' '2011M07' '2011M06' '2011M05' '2011M04'\n",
      " '2011M03' '2011M02' '2011M01' '2010' '2010M12' '2010M11' '2010M10'\n",
      " '2010M09' '2010M08' '2010M07' '2010M06' '2010M05' '2010M04' '2010M03'\n",
      " '2010M02' '2010M01' '2009' '2009M12' '2009M11' '2009M10' '2009M09'\n",
      " '2009M08' '2009M07' '2009M06' '2009M05' '2009M04' '2009M03' '2009M02'\n",
      " '2009M01']\n",
      "\n",
      "\n",
      "valor\n",
      "['51.41' '71.85' '82.09' ... '49.98' '55.84' '48.51']\n",
      "\n",
      "\n",
      "\n",
      "\n",
      "------------------establecimientos_plazas.csv------------------\n",
      "indicador\n",
      "['Establecimientos abiertos' 'Plazas ofertadas'\n",
      " 'Habitaciones-apartamentos disponibles']\n",
      "\n",
      "\n",
      "municipio\n",
      "['CANARIAS' 'LANZAROTE' 'Arrecife' 'Teguise' 'Tías' 'Yaiza'\n",
      " 'Resto de municipios de Lanzarote' 'FUERTEVENTURA' 'Antigua' 'La Oliva'\n",
      " 'Pájara' 'Puerto del Rosario' 'Resto de municipios de Fuerteventura'\n",
      " 'GRAN CANARIA' 'Mogán' 'Las Palmas de Gran Canaria'\n",
      " 'San Bartolomé de Tirajana' 'Resto de municipios de Gran Canaria'\n",
      " 'TENERIFE' 'Adeje' 'Arona' 'Granadilla de Abona' 'Puerto de la Cruz'\n",
      " 'Santa Cruz de Tenerife' 'Santiago del Teide'\n",
      " 'Resto de municipios de Tenerife' 'LA GOMERA'\n",
      " 'San Sebastián de La Gomera' 'Valle Gran Rey'\n",
      " 'Resto de municipios de La Gomera' 'LA PALMA' 'Breña Baja'\n",
      " 'Fuencaliente de La Palma' 'Los Llanos de Aridane' 'El Paso'\n",
      " 'Santa Cruz de La Palma' 'Resto de municipios de La Palma' 'EL HIERRO'\n",
      " 'Frontera' 'Valverde' 'El Pinar de El Hierro']\n",
      "\n",
      "\n",
      "periodo\n",
      "['2021' '2021M12' '2021M11' '2021M10' '2021M09' '2021M08' '2021M07'\n",
      " '2021M06' '2021M05' '2021M04' '2021M03' '2021M02' '2021M01' '2020'\n",
      " '2020M12' '2020M11' '2020M10' '2020M09' '2020M08' '2020M07' '2020M06'\n",
      " '2020M05' '2020M04' '2020M03' '2020M02' '2020M01' '2019' '2019M12'\n",
      " '2019M11' '2019M10' '2019M09' '2019M08' '2019M07' '2019M06' '2019M05'\n",
      " '2019M04' '2019M03' '2019M02' '2019M01' '2018' '2018M12' '2018M11'\n",
      " '2018M10' '2018M09' '2018M08' '2018M07' '2018M06' '2018M05' '2018M04'\n",
      " '2018M03' '2018M02' '2018M01' '2017' '2017M12' '2017M11' '2017M10'\n",
      " '2017M09' '2017M08' '2017M07' '2017M06' '2017M05' '2017M04' '2017M03'\n",
      " '2017M02' '2017M01' '2016' '2016M12' '2016M11' '2016M10' '2016M09'\n",
      " '2016M08' '2016M07' '2016M06' '2016M05' '2016M04' '2016M03' '2016M02'\n",
      " '2016M01' '2015' '2015M12' '2015M11' '2015M10' '2015M09' '2015M08'\n",
      " '2015M07' '2015M06' '2015M05' '2015M04' '2015M03' '2015M02' '2015M01'\n",
      " '2014' '2014M12' '2014M11' '2014M10' '2014M09' '2014M08' '2014M07'\n",
      " '2014M06' '2014M05' '2014M04' '2014M03' '2014M02' '2014M01' '2013'\n",
      " '2013M12' '2013M11' '2013M10' '2013M09' '2013M08' '2013M07' '2013M06'\n",
      " '2013M05' '2013M04' '2013M03' '2013M02' '2013M01' '2012' '2012M12'\n",
      " '2012M11' '2012M10' '2012M09' '2012M08' '2012M07' '2012M06' '2012M05'\n",
      " '2012M04' '2012M03' '2012M02' '2012M01' '2011' '2011M12' '2011M11'\n",
      " '2011M10' '2011M09' '2011M08' '2011M07' '2011M06' '2011M05' '2011M04'\n",
      " '2011M03' '2011M02' '2011M01' '2010' '2010M12' '2010M11' '2010M10'\n",
      " '2010M09' '2010M08' '2010M07' '2010M06' '2010M05' '2010M04' '2010M03'\n",
      " '2010M02' '2010M01' '2009' '2009M12' '2009M11' '2009M10' '2009M09'\n",
      " '2009M08' '2009M07' '2009M06' '2009M05' '2009M04' '2009M03' '2009M02'\n",
      " '2009M01']\n",
      "\n",
      "\n",
      "valor\n",
      "['785' '1033' '1027' ... '319' '93' '100']\n",
      "\n",
      "\n",
      "\n",
      "\n",
      "------------------estancia_media.csv------------------\n",
      "pais\n",
      "['TOTAL' 'RESIDENTES EN EL EXTRANJERO' 'Alemania' 'Bélgica' 'Dinamarca'\n",
      " 'Reino Unido' 'Holanda' 'Suecia' 'Otros países' 'España' 'Canarias'\n",
      " 'Residentes en España excepto Canarias']\n",
      "\n",
      "\n",
      "municipio\n",
      "['CANARIAS' 'LANZAROTE' 'Arrecife' 'Teguise' 'Tías' 'Yaiza'\n",
      " 'FUERTEVENTURA' 'Antigua' 'La Oliva' 'Pájara' 'Puerto del Rosario'\n",
      " 'GRAN CANARIA' 'Mogán' 'Las Palmas de Gran Canaria'\n",
      " 'San Bartolomé de Tirajana' 'Resto de municipios de Gran Canaria'\n",
      " 'TENERIFE' 'Adeje' 'Arona' 'Granadilla de Abona' 'Puerto de la Cruz'\n",
      " 'Santa Cruz de Tenerife' 'Santiago del Teide'\n",
      " 'Resto de municipios de Tenerife' 'LA GOMERA'\n",
      " 'San Sebastián de La Gomera' 'Valle Gran Rey'\n",
      " 'Resto de municipios de La Gomera' 'LA PALMA' 'Breña Baja'\n",
      " 'Fuencaliente de La Palma' 'Los Llanos de Aridane' 'El Paso'\n",
      " 'Santa Cruz de La Palma' 'Resto de municipios de La Palma' 'EL HIERRO'\n",
      " 'Frontera' 'Valverde' 'El Pinar de El Hierro']\n",
      "\n",
      "\n",
      "periodo\n",
      "['2021' '2021M12' '2021M11' '2021M10' '2021M09' '2021M08' '2021M07'\n",
      " '2021M06' '2021M05' '2021M04' '2021M03' '2021M02' '2021M01' '2020'\n",
      " '2020M12' '2020M11' '2020M10' '2020M09' '2020M08' '2020M07' '2020M06'\n",
      " '2020M05' '2020M04' '2020M03' '2020M02' '2020M01' '2019' '2019M12'\n",
      " '2019M11' '2019M10' '2019M09' '2019M08' '2019M07' '2019M06' '2019M05'\n",
      " '2019M04' '2019M03' '2019M02' '2019M01' '2018' '2018M12' '2018M11'\n",
      " '2018M10' '2018M09' '2018M08' '2018M07' '2018M06' '2018M05' '2018M04'\n",
      " '2018M03' '2018M02' '2018M01' '2017' '2017M12' '2017M11' '2017M10'\n",
      " '2017M09' '2017M08' '2017M07' '2017M06' '2017M05' '2017M04' '2017M03'\n",
      " '2017M02' '2017M01' '2016' '2016M12' '2016M11' '2016M10' '2016M09'\n",
      " '2016M08' '2016M07' '2016M06' '2016M05' '2016M04' '2016M03' '2016M02'\n",
      " '2016M01' '2015' '2015M12' '2015M11' '2015M10' '2015M09' '2015M08'\n",
      " '2015M07' '2015M06' '2015M05' '2015M04' '2015M03' '2015M02' '2015M01'\n",
      " '2014' '2014M12' '2014M11' '2014M10' '2014M09' '2014M08' '2014M07'\n",
      " '2014M06' '2014M05' '2014M04' '2014M03' '2014M02' '2014M01' '2013'\n",
      " '2013M12' '2013M11' '2013M10' '2013M09' '2013M08' '2013M07' '2013M06'\n",
      " '2013M05' '2013M04' '2013M03' '2013M02' '2013M01' '2012' '2012M12'\n",
      " '2012M11' '2012M10' '2012M09' '2012M08' '2012M07' '2012M06' '2012M05'\n",
      " '2012M04' '2012M03' '2012M02' '2012M01' '2011' '2011M12' '2011M11'\n",
      " '2011M10' '2011M09' '2011M08' '2011M07' '2011M06' '2011M05' '2011M04'\n",
      " '2011M03' '2011M02' '2011M01' '2010' '2010M12' '2010M11' '2010M10'\n",
      " '2010M09' '2010M08' '2010M07' '2010M06' '2010M05' '2010M04' '2010M03'\n",
      " '2010M02' '2010M01' '2009' '2009M12' '2009M11' '2009M10' '2009M09'\n",
      " '2009M08' '2009M07' '2009M06' '2009M05' '2009M04' '2009M03' '2009M02'\n",
      " '2009M01']\n",
      "\n",
      "\n",
      "valor\n",
      "['6.31' '7.00' '7.22' ... '14.22' '29.50' '22.86']\n",
      "\n",
      "\n",
      "\n",
      "\n",
      "------------------tasa_ocupacion.csv------------------\n",
      "indicador\n",
      "['Tasa de ocupación por habitaciones-apartamentos'\n",
      " 'Tasa de ocupación por plazas']\n",
      "\n",
      "\n",
      "municipio\n",
      "['CANARIAS' 'LANZAROTE' 'Arrecife' 'Teguise' 'Tías' 'Yaiza'\n",
      " 'FUERTEVENTURA' 'Antigua' 'La Oliva' 'Pájara' 'Puerto del Rosario'\n",
      " 'GRAN CANARIA' 'Mogán' 'Las Palmas de Gran Canaria'\n",
      " 'San Bartolomé de Tirajana' 'Resto de municipios de Gran Canaria'\n",
      " 'TENERIFE' 'Adeje' 'Arona' 'Granadilla de Abona' 'Puerto de la Cruz'\n",
      " 'Santa Cruz de Tenerife' 'Santiago del Teide'\n",
      " 'Resto de municipios de Tenerife' 'LA GOMERA'\n",
      " 'San Sebastián de La Gomera' 'Valle Gran Rey'\n",
      " 'Resto de municipios de La Gomera' 'LA PALMA' 'Breña Baja'\n",
      " 'Fuencaliente de La Palma' 'Los Llanos de Aridane' 'El Paso'\n",
      " 'Santa Cruz de La Palma' 'Resto de municipios de La Palma' 'EL HIERRO'\n",
      " 'Frontera' 'Valverde' 'El Pinar de El Hierro']\n",
      "\n",
      "\n",
      "periodo\n",
      "['2021' '2021M12' '2021M11' '2021M10' '2021M09' '2021M08' '2021M07'\n",
      " '2021M06' '2021M05' '2021M04' '2021M03' '2021M02' '2021M01' '2020'\n",
      " '2020M12' '2020M11' '2020M10' '2020M09' '2020M08' '2020M07' '2020M06'\n",
      " '2020M05' '2020M04' '2020M03' '2020M02' '2020M01' '2019' '2019M12'\n",
      " '2019M11' '2019M10' '2019M09' '2019M08' '2019M07' '2019M06' '2019M05'\n",
      " '2019M04' '2019M03' '2019M02' '2019M01' '2018' '2018M12' '2018M11'\n",
      " '2018M10' '2018M09' '2018M08' '2018M07' '2018M06' '2018M05' '2018M04'\n",
      " '2018M03' '2018M02' '2018M01' '2017' '2017M12' '2017M11' '2017M10'\n",
      " '2017M09' '2017M08' '2017M07' '2017M06' '2017M05' '2017M04' '2017M03'\n",
      " '2017M02' '2017M01' '2016' '2016M12' '2016M11' '2016M10' '2016M09'\n",
      " '2016M08' '2016M07' '2016M06' '2016M05' '2016M04' '2016M03' '2016M02'\n",
      " '2016M01' '2015' '2015M12' '2015M11' '2015M10' '2015M09' '2015M08'\n",
      " '2015M07' '2015M06' '2015M05' '2015M04' '2015M03' '2015M02' '2015M01'\n",
      " '2014' '2014M12' '2014M11' '2014M10' '2014M09' '2014M08' '2014M07'\n",
      " '2014M06' '2014M05' '2014M04' '2014M03' '2014M02' '2014M01' '2013'\n",
      " '2013M12' '2013M11' '2013M10' '2013M09' '2013M08' '2013M07' '2013M06'\n",
      " '2013M05' '2013M04' '2013M03' '2013M02' '2013M01' '2012' '2012M12'\n",
      " '2012M11' '2012M10' '2012M09' '2012M08' '2012M07' '2012M06' '2012M05'\n",
      " '2012M04' '2012M03' '2012M02' '2012M01' '2011' '2011M12' '2011M11'\n",
      " '2011M10' '2011M09' '2011M08' '2011M07' '2011M06' '2011M05' '2011M04'\n",
      " '2011M03' '2011M02' '2011M01' '2010' '2010M12' '2010M11' '2010M10'\n",
      " '2010M09' '2010M08' '2010M07' '2010M06' '2010M05' '2010M04' '2010M03'\n",
      " '2010M02' '2010M01' '2009' '2009M12' '2009M11' '2009M10' '2009M09'\n",
      " '2009M08' '2009M07' '2009M06' '2009M05' '2009M04' '2009M03' '2009M02'\n",
      " '2009M01']\n",
      "\n",
      "\n",
      "valor\n",
      "['53.11' '66.10' '79.15' ... '5.45' '8.50' '4.14']\n",
      "\n",
      "\n",
      "\n",
      "\n"
     ]
    }
   ],
   "source": [
    "i = 0\n",
    "for archivo in list_all_csv:\n",
    "    print(\"------------------\" + list_csv_names[i] +\"------------------\")\n",
    "    for columna in archivo:\n",
    "        print(columna)\n",
    "        print(archivo[columna].unique())\n",
    "        print(\"\\n\")\n",
    "    print(\"\\n\")\n",
    "    i = i +1"
   ]
  },
  {
   "cell_type": "markdown",
   "metadata": {},
   "source": [
    "## Renombramos columnas para estandarizar"
   ]
  },
  {
   "cell_type": "code",
   "execution_count": 10,
   "metadata": {},
   "outputs": [],
   "source": [
    "for archivo in list_all_csv:\n",
    "    archivo.rename(columns={'periodo':'fecha'}, inplace=True)\n",
    "    archivo.rename(columns={'municipio':'isla'}, inplace=True)"
   ]
  },
  {
   "cell_type": "markdown",
   "metadata": {},
   "source": [
    "## 1. FECHA"
   ]
  },
  {
   "cell_type": "markdown",
   "metadata": {},
   "source": [
    "Vamos a estandarizar la fecha usando los valores trimestrales, pero en el formato estándar de cuartiles. Ya que vemos que tiene el formato \"2020 Primer Trimestre\""
   ]
  },
  {
   "cell_type": "markdown",
   "metadata": {},
   "source": [
    "### 1.1 Transformamos la fecha a un formato usable Year-month"
   ]
  },
  {
   "cell_type": "markdown",
   "metadata": {},
   "source": [
    "Vimos como nuestros archivos tienen un formato de fecha de añoMmes, esto el metodo to_datetime de pandas no lo entiende asiqeu debemos cambiarlo por algo que si entienda.\n",
    "\n",
    "### Aqui qutamos las \"M\""
   ]
  },
  {
   "cell_type": "markdown",
   "metadata": {},
   "source": [
    "Al siguiente metodo se la pasa un dataframe, la columna y el patron que queremos encontrar y remplazar en toda la columna."
   ]
  },
  {
   "cell_type": "code",
   "execution_count": 11,
   "metadata": {},
   "outputs": [],
   "source": [
    "# A esta funcion se la pasa un dataframe, la columna y el elemento que queremos encontrar y remplazar en toda la columna\n",
    "def replace_value(df, df_column_name, patron_to_find, patron_to_replace):\n",
    "    try:\n",
    "        my_list = []\n",
    "        for item in df[df_column_name]: \n",
    "            #my_list.append(re.sub(r'(\\d+)M(\\d+)',r'\\1-\\2',item))\n",
    "            my_list.append(re.sub(patron_to_find, patron_to_replace,item))\n",
    "            \n",
    "        print(\"Se ha cambiado el patron ({}) por el patron ({}) en la columna {}\".format(\n",
    "                patron_to_find, patron_to_replace, str(df[df_column_name].name)\n",
    "            ))\n",
    "        df[df_column_name] = pd.DataFrame(my_list)\n",
    "        #print(df.head(5))\n",
    "    except:\n",
    "        print(\"No se ha encontrado el patron\")  "
   ]
  },
  {
   "cell_type": "markdown",
   "metadata": {},
   "source": [
    "Para ello primero cambiamos a tipo string la columna, y tratamos la fecha de todos los archivos"
   ]
  },
  {
   "cell_type": "code",
   "execution_count": 12,
   "metadata": {},
   "outputs": [
    {
     "name": "stdout",
     "output_type": "stream",
     "text": [
      "Se ha cambiado el patron ((\\d+)M(\\d+)) por el patron (\\1-\\2) en la columna fecha\n",
      "Se ha cambiado el patron ((\\d+)M(\\d+)) por el patron (\\1-\\2) en la columna fecha\n",
      "Se ha cambiado el patron ((\\d+)M(\\d+)) por el patron (\\1-\\2) en la columna fecha\n",
      "Se ha cambiado el patron ((\\d+)M(\\d+)) por el patron (\\1-\\2) en la columna fecha\n"
     ]
    }
   ],
   "source": [
    "for archivo in list_all_csv:\n",
    "    archivo.rename(columns={'periodo':'fecha'}, inplace=True)   #Renombramos las columnas\n",
    "    archivo['fecha'] = archivo['fecha'].astype(\"string\")        #Transformamos la columana a tipo String\n",
    "    # llamamos a la funcion que reemplaza nuestro patron\n",
    "    replace_value(archivo, \"fecha\", r'(\\d+)M(\\d+)', r'\\1-\\2')   # reemplaza añoMmes por año-mes"
   ]
  },
  {
   "cell_type": "markdown",
   "metadata": {},
   "source": [
    "Veamos un ejemplo:"
   ]
  },
  {
   "cell_type": "code",
   "execution_count": 13,
   "metadata": {
    "scrolled": false
   },
   "outputs": [
    {
     "data": {
      "text/html": [
       "<div>\n",
       "<style scoped>\n",
       "    .dataframe tbody tr th:only-of-type {\n",
       "        vertical-align: middle;\n",
       "    }\n",
       "\n",
       "    .dataframe tbody tr th {\n",
       "        vertical-align: top;\n",
       "    }\n",
       "\n",
       "    .dataframe thead th {\n",
       "        text-align: right;\n",
       "    }\n",
       "</style>\n",
       "<table border=\"1\" class=\"dataframe\">\n",
       "  <thead>\n",
       "    <tr style=\"text-align: right;\">\n",
       "      <th></th>\n",
       "      <th>indicador</th>\n",
       "      <th>isla</th>\n",
       "      <th>fecha</th>\n",
       "      <th>valor</th>\n",
       "    </tr>\n",
       "  </thead>\n",
       "  <tbody>\n",
       "    <tr>\n",
       "      <th>0</th>\n",
       "      <td>Ingresos por habitación disponible (RevPAR)</td>\n",
       "      <td>CANARIAS</td>\n",
       "      <td>2021</td>\n",
       "      <td>51.41</td>\n",
       "    </tr>\n",
       "    <tr>\n",
       "      <th>1</th>\n",
       "      <td>Ingresos por habitación disponible (RevPAR)</td>\n",
       "      <td>CANARIAS</td>\n",
       "      <td>2021-12</td>\n",
       "      <td>71.85</td>\n",
       "    </tr>\n",
       "  </tbody>\n",
       "</table>\n",
       "</div>"
      ],
      "text/plain": [
       "                                     indicador      isla    fecha  valor\n",
       "0  Ingresos por habitación disponible (RevPAR)  CANARIAS     2021  51.41\n",
       "1  Ingresos por habitación disponible (RevPAR)  CANARIAS  2021-12  71.85"
      ]
     },
     "execution_count": 13,
     "metadata": {},
     "output_type": "execute_result"
    }
   ],
   "source": [
    "list_all_csv[0].head(2)"
   ]
  },
  {
   "cell_type": "markdown",
   "metadata": {},
   "source": [
    "### 1.2 Eliminamos fechas anuales"
   ]
  },
  {
   "cell_type": "markdown",
   "metadata": {},
   "source": [
    "Eliminamos las fechas anuales ya que nos vamos a centrar en las fechas por trimestres. Para ello, primero convertimos la columna fecha de object a string."
   ]
  },
  {
   "cell_type": "code",
   "execution_count": 14,
   "metadata": {},
   "outputs": [
    {
     "data": {
      "text/plain": [
       "0           2021\n",
       "1        2021-12\n",
       "2        2021-11\n",
       "3        2021-10\n",
       "4        2021-09\n",
       "          ...   \n",
       "19768    2009-05\n",
       "19769    2009-04\n",
       "19770    2009-03\n",
       "19771    2009-02\n",
       "19772    2009-01\n",
       "Name: fecha, Length: 19773, dtype: string"
      ]
     },
     "execution_count": 14,
     "metadata": {},
     "output_type": "execute_result"
    }
   ],
   "source": [
    "list_all_csv[0].fecha.astype(\"string\")"
   ]
  },
  {
   "cell_type": "markdown",
   "metadata": {},
   "source": [
    "Ahora buscamos las fechas anuales y las eliminamos:"
   ]
  },
  {
   "cell_type": "code",
   "execution_count": 15,
   "metadata": {},
   "outputs": [],
   "source": [
    "#CODIGO INEFICIENTE QUE USAMOS EN OTRO JUPYTER NOTEBOOK PERO CON MUCHOS DATOS TARDA LA VIDA\n",
    "# Y CLARO ME DI CUENTA QUE HACER ESTE CODIGO ES LO MISMO QUE USAR EL ISIN DE PYTHON... :)\n",
    "\n",
    "##dates=[\"2010\",\"2011\",\"2012\",\"2013\",\"2014\",\"2015\",\"2016\",\"2017\",\"2018\",\"2019\",\"2020\",\"2021\",\"2022\"]\n",
    "##for archivo in list_all_csv:\n",
    "##    count = 0\n",
    "##    for row in archivo.fecha:\n",
    "##        for year in dates:\n",
    "##            if row == year:\n",
    "##                archivo.drop(archivo[archivo['fecha'] == year].index,  axis=0, inplace=True)\n",
    "##                count = count + 1\n",
    "##                break\n",
    "##    print(\"Se han eliminado {} filas que contenian datos anuales\".format(count))"
   ]
  },
  {
   "cell_type": "markdown",
   "metadata": {},
   "source": [
    "#### SOLUCION A LO ANTERIOR...\n",
    "#### ¿COMO?\n",
    "**Filtrando con ~isin** que elimina filas que estan en la lista"
   ]
  },
  {
   "cell_type": "code",
   "execution_count": 16,
   "metadata": {},
   "outputs": [
    {
     "name": "stdout",
     "output_type": "stream",
     "text": [
      "El archivo tenia: (19773, 4) y ahora tiene (18369, 4)\n",
      "El archivo tenia: (20787, 4) y ahora tiene (19311, 4)\n",
      "El archivo tenia: (79092, 4) y ahora tiene (73476, 4)\n",
      "El archivo tenia: (13182, 4) y ahora tiene (12246, 4)\n"
     ]
    }
   ],
   "source": [
    "dates=[\"2010\",\"2011\",\"2012\",\"2013\",\"2014\",\"2015\",\"2016\",\"2017\",\"2018\",\"2019\",\"2020\",\"2021\",\"2022\"]\n",
    "i = 0\n",
    "for archivo in list_all_csv:\n",
    "    last_shape = archivo.shape\n",
    "    archivo = archivo[~archivo.fecha.isin(dates)] \n",
    "    archivo.reset_index(drop=True, inplace=True)\n",
    "    actual_shape = archivo.shape\n",
    "    \n",
    "    #Actualizamos la lista:\n",
    "    list_all_csv[i] = archivo\n",
    "    i = i + 1\n",
    "    print(\"El archivo tenia: {} y ahora tiene {}\".format(last_shape,actual_shape))"
   ]
  },
  {
   "cell_type": "code",
   "execution_count": 17,
   "metadata": {
    "scrolled": true
   },
   "outputs": [
    {
     "data": {
      "text/html": [
       "<div>\n",
       "<style scoped>\n",
       "    .dataframe tbody tr th:only-of-type {\n",
       "        vertical-align: middle;\n",
       "    }\n",
       "\n",
       "    .dataframe tbody tr th {\n",
       "        vertical-align: top;\n",
       "    }\n",
       "\n",
       "    .dataframe thead th {\n",
       "        text-align: right;\n",
       "    }\n",
       "</style>\n",
       "<table border=\"1\" class=\"dataframe\">\n",
       "  <thead>\n",
       "    <tr style=\"text-align: right;\">\n",
       "      <th></th>\n",
       "      <th>indicador</th>\n",
       "      <th>isla</th>\n",
       "      <th>fecha</th>\n",
       "      <th>valor</th>\n",
       "    </tr>\n",
       "  </thead>\n",
       "  <tbody>\n",
       "    <tr>\n",
       "      <th>0</th>\n",
       "      <td>Ingresos por habitación disponible (RevPAR)</td>\n",
       "      <td>CANARIAS</td>\n",
       "      <td>2021-12</td>\n",
       "      <td>71.85</td>\n",
       "    </tr>\n",
       "    <tr>\n",
       "      <th>1</th>\n",
       "      <td>Ingresos por habitación disponible (RevPAR)</td>\n",
       "      <td>CANARIAS</td>\n",
       "      <td>2021-11</td>\n",
       "      <td>82.09</td>\n",
       "    </tr>\n",
       "  </tbody>\n",
       "</table>\n",
       "</div>"
      ],
      "text/plain": [
       "                                     indicador      isla    fecha  valor\n",
       "0  Ingresos por habitación disponible (RevPAR)  CANARIAS  2021-12  71.85\n",
       "1  Ingresos por habitación disponible (RevPAR)  CANARIAS  2021-11  82.09"
      ]
     },
     "execution_count": 17,
     "metadata": {},
     "output_type": "execute_result"
    }
   ],
   "source": [
    "list_all_csv[0].head(2)"
   ]
  },
  {
   "cell_type": "markdown",
   "metadata": {},
   "source": [
    "### 1.3 Transformamos a cuartiles"
   ]
  },
  {
   "cell_type": "markdown",
   "metadata": {},
   "source": [
    "Convertimos de datatime a a quarter"
   ]
  },
  {
   "cell_type": "code",
   "execution_count": 18,
   "metadata": {},
   "outputs": [
    {
     "name": "stderr",
     "output_type": "stream",
     "text": [
      "<ipython-input-18-cf12e9a7d27b>:3: SettingWithCopyWarning: \n",
      "A value is trying to be set on a copy of a slice from a DataFrame.\n",
      "Try using .loc[row_indexer,col_indexer] = value instead\n",
      "\n",
      "See the caveats in the documentation: https://pandas.pydata.org/pandas-docs/stable/user_guide/indexing.html#returning-a-view-versus-a-copy\n",
      "  archivo['fecha'] = pd.PeriodIndex(archivo.fecha, freq=\"Q\")\n"
     ]
    }
   ],
   "source": [
    "for archivo in list_all_csv:\n",
    "    archivo.fecha.astype(\"string\")\n",
    "    archivo['fecha'] = pd.PeriodIndex(archivo.fecha, freq=\"Q\")"
   ]
  },
  {
   "cell_type": "markdown",
   "metadata": {},
   "source": [
    "Veamos un ejemplo:"
   ]
  },
  {
   "cell_type": "code",
   "execution_count": 19,
   "metadata": {
    "scrolled": true
   },
   "outputs": [
    {
     "data": {
      "text/html": [
       "<div>\n",
       "<style scoped>\n",
       "    .dataframe tbody tr th:only-of-type {\n",
       "        vertical-align: middle;\n",
       "    }\n",
       "\n",
       "    .dataframe tbody tr th {\n",
       "        vertical-align: top;\n",
       "    }\n",
       "\n",
       "    .dataframe thead th {\n",
       "        text-align: right;\n",
       "    }\n",
       "</style>\n",
       "<table border=\"1\" class=\"dataframe\">\n",
       "  <thead>\n",
       "    <tr style=\"text-align: right;\">\n",
       "      <th></th>\n",
       "      <th>indicador</th>\n",
       "      <th>isla</th>\n",
       "      <th>fecha</th>\n",
       "      <th>valor</th>\n",
       "    </tr>\n",
       "  </thead>\n",
       "  <tbody>\n",
       "    <tr>\n",
       "      <th>0</th>\n",
       "      <td>Ingresos por habitación disponible (RevPAR)</td>\n",
       "      <td>CANARIAS</td>\n",
       "      <td>2021Q4</td>\n",
       "      <td>71.85</td>\n",
       "    </tr>\n",
       "    <tr>\n",
       "      <th>1</th>\n",
       "      <td>Ingresos por habitación disponible (RevPAR)</td>\n",
       "      <td>CANARIAS</td>\n",
       "      <td>2021Q4</td>\n",
       "      <td>82.09</td>\n",
       "    </tr>\n",
       "    <tr>\n",
       "      <th>2</th>\n",
       "      <td>Ingresos por habitación disponible (RevPAR)</td>\n",
       "      <td>CANARIAS</td>\n",
       "      <td>2021Q4</td>\n",
       "      <td>73.84</td>\n",
       "    </tr>\n",
       "    <tr>\n",
       "      <th>3</th>\n",
       "      <td>Ingresos por habitación disponible (RevPAR)</td>\n",
       "      <td>CANARIAS</td>\n",
       "      <td>2021Q3</td>\n",
       "      <td>58.40</td>\n",
       "    </tr>\n",
       "    <tr>\n",
       "      <th>4</th>\n",
       "      <td>Ingresos por habitación disponible (RevPAR)</td>\n",
       "      <td>CANARIAS</td>\n",
       "      <td>2021Q3</td>\n",
       "      <td>62.73</td>\n",
       "    </tr>\n",
       "    <tr>\n",
       "      <th>5</th>\n",
       "      <td>Ingresos por habitación disponible (RevPAR)</td>\n",
       "      <td>CANARIAS</td>\n",
       "      <td>2021Q3</td>\n",
       "      <td>42.48</td>\n",
       "    </tr>\n",
       "    <tr>\n",
       "      <th>6</th>\n",
       "      <td>Ingresos por habitación disponible (RevPAR)</td>\n",
       "      <td>CANARIAS</td>\n",
       "      <td>2021Q2</td>\n",
       "      <td>29.24</td>\n",
       "    </tr>\n",
       "    <tr>\n",
       "      <th>7</th>\n",
       "      <td>Ingresos por habitación disponible (RevPAR)</td>\n",
       "      <td>CANARIAS</td>\n",
       "      <td>2021Q2</td>\n",
       "      <td>25.02</td>\n",
       "    </tr>\n",
       "    <tr>\n",
       "      <th>8</th>\n",
       "      <td>Ingresos por habitación disponible (RevPAR)</td>\n",
       "      <td>CANARIAS</td>\n",
       "      <td>2021Q2</td>\n",
       "      <td>24.96</td>\n",
       "    </tr>\n",
       "    <tr>\n",
       "      <th>9</th>\n",
       "      <td>Ingresos por habitación disponible (RevPAR)</td>\n",
       "      <td>CANARIAS</td>\n",
       "      <td>2021Q1</td>\n",
       "      <td>23.26</td>\n",
       "    </tr>\n",
       "  </tbody>\n",
       "</table>\n",
       "</div>"
      ],
      "text/plain": [
       "                                     indicador      isla   fecha  valor\n",
       "0  Ingresos por habitación disponible (RevPAR)  CANARIAS  2021Q4  71.85\n",
       "1  Ingresos por habitación disponible (RevPAR)  CANARIAS  2021Q4  82.09\n",
       "2  Ingresos por habitación disponible (RevPAR)  CANARIAS  2021Q4  73.84\n",
       "3  Ingresos por habitación disponible (RevPAR)  CANARIAS  2021Q3  58.40\n",
       "4  Ingresos por habitación disponible (RevPAR)  CANARIAS  2021Q3  62.73\n",
       "5  Ingresos por habitación disponible (RevPAR)  CANARIAS  2021Q3  42.48\n",
       "6  Ingresos por habitación disponible (RevPAR)  CANARIAS  2021Q2  29.24\n",
       "7  Ingresos por habitación disponible (RevPAR)  CANARIAS  2021Q2  25.02\n",
       "8  Ingresos por habitación disponible (RevPAR)  CANARIAS  2021Q2  24.96\n",
       "9  Ingresos por habitación disponible (RevPAR)  CANARIAS  2021Q1  23.26"
      ]
     },
     "execution_count": 19,
     "metadata": {},
     "output_type": "execute_result"
    }
   ],
   "source": [
    "list_all_csv[0].head(10)"
   ]
  },
  {
   "cell_type": "markdown",
   "metadata": {},
   "source": [
    "### 1.4 Eliminamos cuartiles de 2020 y 2021 al ser anomalos por el covi-19"
   ]
  },
  {
   "cell_type": "markdown",
   "metadata": {},
   "source": [
    "Vemos el rango que usaremos como filtro"
   ]
  },
  {
   "cell_type": "code",
   "execution_count": 20,
   "metadata": {},
   "outputs": [
    {
     "data": {
      "text/plain": [
       "PeriodIndex(['2010Q1', '2010Q2', '2010Q3', '2010Q4', '2011Q1', '2011Q2',\n",
       "             '2011Q3', '2011Q4', '2012Q1', '2012Q2', '2012Q3', '2012Q4',\n",
       "             '2013Q1', '2013Q2', '2013Q3', '2013Q4', '2014Q1', '2014Q2',\n",
       "             '2014Q3', '2014Q4', '2015Q1', '2015Q2', '2015Q3', '2015Q4',\n",
       "             '2016Q1', '2016Q2', '2016Q3', '2016Q4', '2017Q1', '2017Q2',\n",
       "             '2017Q3', '2017Q4', '2018Q1', '2018Q2', '2018Q3', '2018Q4',\n",
       "             '2019Q1', '2019Q2', '2019Q3', '2019Q4'],\n",
       "            dtype='period[Q-DEC]', freq='Q-DEC')"
      ]
     },
     "execution_count": 20,
     "metadata": {},
     "output_type": "execute_result"
    }
   ],
   "source": [
    "pd.period_range(start=pd.Period('2010Q1', freq='Q'),end=pd.Period('2019Q4', freq='Q'))"
   ]
  },
  {
   "cell_type": "code",
   "execution_count": 21,
   "metadata": {},
   "outputs": [
    {
     "name": "stdout",
     "output_type": "stream",
     "text": [
      "El archivo tenia (filas,columnas)= (18369, 4) y ahora tiene (filas,columnas)= (14040, 4) despues del filtrado\n",
      "El archivo tenia (filas,columnas)= (19311, 4) y ahora tiene (filas,columnas)= (14760, 4) despues del filtrado\n",
      "El archivo tenia (filas,columnas)= (73476, 4) y ahora tiene (filas,columnas)= (56160, 4) despues del filtrado\n",
      "El archivo tenia (filas,columnas)= (12246, 4) y ahora tiene (filas,columnas)= (9360, 4) despues del filtrado\n"
     ]
    }
   ],
   "source": [
    "i = 0\n",
    "for archivo in list_all_csv:\n",
    "    \n",
    "    previousShape = archivo.shape\n",
    "    #Aqui cojo el año y filtro eliminadno 2020 y 2021\n",
    "    archivo = archivo[archivo.fecha.isin(pd.period_range(start = pd.Period('2010Q1', freq='Q'), \n",
    "                                                            end = pd.Period('2019Q4', freq='Q')))]\n",
    "    archivo.reset_index(drop=True, inplace=True)   #podemos resetear el index del DataFrame\n",
    "    actualShape = archivo.shape\n",
    "    print(\"El archivo tenia (filas,columnas)= {} y ahora tiene (filas,columnas)= {} despues del filtrado\".format(\n",
    "            previousShape,actualShape))\n",
    "    #Por alguna razon debemos guardar cambios porque de no hacerlo por alguna manera que\n",
    "    # desconozco no se machaca la informacion existente y no se actualiza el dataframe...\n",
    "    list_all_csv[i] = archivo\n",
    "    i = i + 1\n"
   ]
  },
  {
   "cell_type": "code",
   "execution_count": 22,
   "metadata": {},
   "outputs": [],
   "source": [
    "## codigo similar pero menos optimo\n",
    "## i = 0\n",
    "## for archivo in list_all_csv:\n",
    "## \n",
    "##     #Aqui cojo el año y filtro eliminadno 2020 y 2021\n",
    "## \n",
    "##     archivo[\"year\"] = pd.PeriodIndex(archivo['fecha'], freq=\"Q\").qyear    #cogemos el año y creamos una nueva fila por la que filtrar\n",
    "##     \n",
    "##     archivo = archivo[~archivo.year.isin([\"2020\",\"2021\"])]                #filtramos por fechas que no(~ es la negacion) son 2020 y 2021 \n",
    "##     \n",
    "##     archivo.drop('year', axis=1, inplace=True)     #eliminamos la fila year\n",
    "##     archivo.reset_index(drop=True, inplace=True)   #podemos resetear el index del DataFrame\n",
    "##     \n",
    "##     #Por alguna razon debemos guardar cambios porque de no hacerlo por alguna manera que\n",
    "##     # desconozco no se machaca la informacion existente y no se actualiza el dataframe...\n",
    "##     list_all_csv[i] = archivo\n",
    "##     i = i + 1\n",
    "\n"
   ]
  },
  {
   "cell_type": "code",
   "execution_count": 23,
   "metadata": {},
   "outputs": [
    {
     "data": {
      "text/html": [
       "<div>\n",
       "<style scoped>\n",
       "    .dataframe tbody tr th:only-of-type {\n",
       "        vertical-align: middle;\n",
       "    }\n",
       "\n",
       "    .dataframe tbody tr th {\n",
       "        vertical-align: top;\n",
       "    }\n",
       "\n",
       "    .dataframe thead th {\n",
       "        text-align: right;\n",
       "    }\n",
       "</style>\n",
       "<table border=\"1\" class=\"dataframe\">\n",
       "  <thead>\n",
       "    <tr style=\"text-align: right;\">\n",
       "      <th></th>\n",
       "      <th>indicador</th>\n",
       "      <th>isla</th>\n",
       "      <th>fecha</th>\n",
       "      <th>valor</th>\n",
       "    </tr>\n",
       "  </thead>\n",
       "  <tbody>\n",
       "    <tr>\n",
       "      <th>0</th>\n",
       "      <td>Ingresos por habitación disponible (RevPAR)</td>\n",
       "      <td>CANARIAS</td>\n",
       "      <td>2019Q4</td>\n",
       "      <td>71.34</td>\n",
       "    </tr>\n",
       "    <tr>\n",
       "      <th>1</th>\n",
       "      <td>Ingresos por habitación disponible (RevPAR)</td>\n",
       "      <td>CANARIAS</td>\n",
       "      <td>2019Q4</td>\n",
       "      <td>70.95</td>\n",
       "    </tr>\n",
       "    <tr>\n",
       "      <th>2</th>\n",
       "      <td>Ingresos por habitación disponible (RevPAR)</td>\n",
       "      <td>CANARIAS</td>\n",
       "      <td>2019Q4</td>\n",
       "      <td>64.21</td>\n",
       "    </tr>\n",
       "    <tr>\n",
       "      <th>3</th>\n",
       "      <td>Ingresos por habitación disponible (RevPAR)</td>\n",
       "      <td>CANARIAS</td>\n",
       "      <td>2019Q3</td>\n",
       "      <td>62.43</td>\n",
       "    </tr>\n",
       "    <tr>\n",
       "      <th>4</th>\n",
       "      <td>Ingresos por habitación disponible (RevPAR)</td>\n",
       "      <td>CANARIAS</td>\n",
       "      <td>2019Q3</td>\n",
       "      <td>69.69</td>\n",
       "    </tr>\n",
       "  </tbody>\n",
       "</table>\n",
       "</div>"
      ],
      "text/plain": [
       "                                     indicador      isla   fecha  valor\n",
       "0  Ingresos por habitación disponible (RevPAR)  CANARIAS  2019Q4  71.34\n",
       "1  Ingresos por habitación disponible (RevPAR)  CANARIAS  2019Q4  70.95\n",
       "2  Ingresos por habitación disponible (RevPAR)  CANARIAS  2019Q4  64.21\n",
       "3  Ingresos por habitación disponible (RevPAR)  CANARIAS  2019Q3  62.43\n",
       "4  Ingresos por habitación disponible (RevPAR)  CANARIAS  2019Q3  69.69"
      ]
     },
     "execution_count": 23,
     "metadata": {},
     "output_type": "execute_result"
    }
   ],
   "source": [
    "list_all_csv[0].head()"
   ]
  },
  {
   "cell_type": "code",
   "execution_count": 24,
   "metadata": {},
   "outputs": [
    {
     "data": {
      "text/html": [
       "<div>\n",
       "<style scoped>\n",
       "    .dataframe tbody tr th:only-of-type {\n",
       "        vertical-align: middle;\n",
       "    }\n",
       "\n",
       "    .dataframe tbody tr th {\n",
       "        vertical-align: top;\n",
       "    }\n",
       "\n",
       "    .dataframe thead th {\n",
       "        text-align: right;\n",
       "    }\n",
       "</style>\n",
       "<table border=\"1\" class=\"dataframe\">\n",
       "  <thead>\n",
       "    <tr style=\"text-align: right;\">\n",
       "      <th></th>\n",
       "      <th>indicador</th>\n",
       "      <th>isla</th>\n",
       "      <th>fecha</th>\n",
       "      <th>valor</th>\n",
       "    </tr>\n",
       "  </thead>\n",
       "  <tbody>\n",
       "    <tr>\n",
       "      <th>0</th>\n",
       "      <td>Establecimientos abiertos</td>\n",
       "      <td>CANARIAS</td>\n",
       "      <td>2019Q4</td>\n",
       "      <td>1798</td>\n",
       "    </tr>\n",
       "    <tr>\n",
       "      <th>1</th>\n",
       "      <td>Establecimientos abiertos</td>\n",
       "      <td>CANARIAS</td>\n",
       "      <td>2019Q4</td>\n",
       "      <td>1790</td>\n",
       "    </tr>\n",
       "    <tr>\n",
       "      <th>2</th>\n",
       "      <td>Establecimientos abiertos</td>\n",
       "      <td>CANARIAS</td>\n",
       "      <td>2019Q4</td>\n",
       "      <td>1781</td>\n",
       "    </tr>\n",
       "    <tr>\n",
       "      <th>3</th>\n",
       "      <td>Establecimientos abiertos</td>\n",
       "      <td>CANARIAS</td>\n",
       "      <td>2019Q3</td>\n",
       "      <td>1766</td>\n",
       "    </tr>\n",
       "    <tr>\n",
       "      <th>4</th>\n",
       "      <td>Establecimientos abiertos</td>\n",
       "      <td>CANARIAS</td>\n",
       "      <td>2019Q3</td>\n",
       "      <td>1758</td>\n",
       "    </tr>\n",
       "  </tbody>\n",
       "</table>\n",
       "</div>"
      ],
      "text/plain": [
       "                   indicador      isla   fecha valor\n",
       "0  Establecimientos abiertos  CANARIAS  2019Q4  1798\n",
       "1  Establecimientos abiertos  CANARIAS  2019Q4  1790\n",
       "2  Establecimientos abiertos  CANARIAS  2019Q4  1781\n",
       "3  Establecimientos abiertos  CANARIAS  2019Q3  1766\n",
       "4  Establecimientos abiertos  CANARIAS  2019Q3  1758"
      ]
     },
     "execution_count": 24,
     "metadata": {},
     "output_type": "execute_result"
    }
   ],
   "source": [
    "list_all_csv[1].head()"
   ]
  },
  {
   "cell_type": "markdown",
   "metadata": {},
   "source": [
    "# 2. Estandarización de Islas y Paises \n",
    "\n",
    "El estandar establecido es el que esta en el archivo principar que es el gasto_medio_islas.\n",
    "\n",
    "Este tiene la siguiente notación en las columnas:\n",
    "\n",
    "Isla:\n",
    "    \n",
    "    array(['Fuerteventura', 'Gran Canaria', 'La Palma', 'Lanzarote', 'Tenerife', 'CANARIAS'], dtype=object)\n",
    "       \n",
    "Pais:\n",
    "\n",
    "    array(['Alemania', 'España', 'Holanda', 'Otros países', 'Países Nórdicos', 'Reino Unido', 'TOTAL'], dtype=object)"
   ]
  },
  {
   "cell_type": "markdown",
   "metadata": {},
   "source": [
    "### ESTANDARIZACION PAISES\n",
    "**Solo estancia_media tiene la columna pais**\n",
    "\n",
    "vamos a transformar `dinamarca` y `suecia` en `Paises Nordicos` ya que es de donde unico podemos anillarlo con los paises disponibles en el gasto medio\n",
    "\n",
    "Y `Belgica` lo añadiremos a `otros paises`"
   ]
  },
  {
   "cell_type": "code",
   "execution_count": 25,
   "metadata": {},
   "outputs": [
    {
     "data": {
      "text/plain": [
       "array(['TOTAL', 'RESIDENTES EN EL EXTRANJERO', 'Alemania', 'Bélgica',\n",
       "       'Dinamarca', 'Reino Unido', 'Holanda', 'Suecia', 'Otros países',\n",
       "       'España', 'Canarias', 'Residentes en España excepto Canarias'],\n",
       "      dtype=object)"
      ]
     },
     "execution_count": 25,
     "metadata": {},
     "output_type": "execute_result"
    }
   ],
   "source": [
    "estancia_media.pais.unique()"
   ]
  },
  {
   "cell_type": "code",
   "execution_count": 26,
   "metadata": {
    "scrolled": true
   },
   "outputs": [
    {
     "name": "stdout",
     "output_type": "stream",
     "text": [
      "Se ha cambiado el patron (Dinamarca) por el patron (Países Nórdicos) en la columna pais\n",
      "Se ha cambiado el patron (Suecia) por el patron (Países Nórdicos) en la columna pais\n",
      "Se ha cambiado el patron (Bélgica) por el patron (Otros países) en la columna pais\n"
     ]
    },
    {
     "data": {
      "text/plain": [
       "array(['TOTAL', 'RESIDENTES EN EL EXTRANJERO', 'Alemania', 'Otros países',\n",
       "       'Países Nórdicos', 'Reino Unido', 'Holanda', 'España', 'Canarias',\n",
       "       'Residentes en España excepto Canarias'], dtype=object)"
      ]
     },
     "execution_count": 26,
     "metadata": {},
     "output_type": "execute_result"
    }
   ],
   "source": [
    "#Primero hay que pasar a str\n",
    "estancia_media = list_all_csv[2] # esto tengo qeu hacerlo porqeu si no el tratamiento de fecha aterior no lo tiene encuenta\n",
    "estancia_media.pais.astype(str)                       \n",
    "  \n",
    "#reemplazamos Dinamarca y Suecia por Países Nórdicos\n",
    "replace_value(estancia_media, \"pais\", r'Dinamarca', r'Países Nórdicos') \n",
    "replace_value(estancia_media, \"pais\", r'Suecia', r'Países Nórdicos')\n",
    "  \n",
    "#reemplazamos Bélgica por Otros países\n",
    "replace_value(estancia_media, \"pais\", r'Bélgica', r'Otros países') \n",
    "\n",
    "#cOMPROBAMOS LOS CAMBIOS\n",
    "estancia_media.pais.unique()\n",
    "\n"
   ]
  },
  {
   "cell_type": "markdown",
   "metadata": {},
   "source": [
    "## IMPORTANTE: HAY QUE ACTUALIZAR EL ARCHIVO DE LA LISTA PORQUE SI NO ESTE CAMBIO NO SE LLEVA ACABO, COSA QUE ME DI CUENTA EN LA UNION POSTERIOR, DONDE VEIA QUE LOS DATOS NO ESTABAN COMO REALMENTE YO QUERÍA\n",
    "\n",
    "esto realmente es un error de mala programación que tengo que tener en cuenta\n"
   ]
  },
  {
   "cell_type": "code",
   "execution_count": 27,
   "metadata": {},
   "outputs": [
    {
     "name": "stdout",
     "output_type": "stream",
     "text": [
      "['ADR_RevPAR_ingresos.csv', 'establecimientos_plazas.csv', 'estancia_media.csv', 'tasa_ocupacion.csv']\n"
     ]
    }
   ],
   "source": [
    "print(list_csv_names)"
   ]
  },
  {
   "cell_type": "code",
   "execution_count": 28,
   "metadata": {},
   "outputs": [],
   "source": [
    "list_all_csv[2] = estancia_media"
   ]
  },
  {
   "cell_type": "markdown",
   "metadata": {},
   "source": [
    "### ESTANDARIZACION ISLAS\n",
    "**Todos los archivos tienen la columna isla**\n",
    "\n",
    "vamos a transformar el nombre de las islas que estan en mayusculas al formato de gasto medio islas:\n",
    "\n",
    "array(['Fuerteventura', 'Gran Canaria', 'La Palma', 'Lanzarote', 'Tenerife', 'CANARIAS'], dtype=object)\n"
   ]
  },
  {
   "cell_type": "code",
   "execution_count": 29,
   "metadata": {},
   "outputs": [
    {
     "name": "stdout",
     "output_type": "stream",
     "text": [
      "['CANARIAS' 'LANZAROTE' 'Arrecife' 'Teguise' 'Tías' 'Yaiza'\n",
      " 'FUERTEVENTURA' 'Antigua' 'La Oliva' 'Pájara' 'Puerto del Rosario'\n",
      " 'GRAN CANARIA' 'Mogán' 'Las Palmas de Gran Canaria'\n",
      " 'San Bartolomé de Tirajana' 'Resto de municipios de Gran Canaria'\n",
      " 'TENERIFE' 'Adeje' 'Arona' 'Granadilla de Abona' 'Puerto de la Cruz'\n",
      " 'Santa Cruz de Tenerife' 'Santiago del Teide'\n",
      " 'Resto de municipios de Tenerife' 'LA GOMERA'\n",
      " 'San Sebastián de La Gomera' 'Valle Gran Rey'\n",
      " 'Resto de municipios de La Gomera' 'LA PALMA' 'Breña Baja'\n",
      " 'Fuencaliente de La Palma' 'Los Llanos de Aridane' 'El Paso'\n",
      " 'Santa Cruz de La Palma' 'Resto de municipios de La Palma' 'EL HIERRO'\n",
      " 'Frontera' 'Valverde' 'El Pinar de El Hierro']\n",
      "['CANARIAS' 'LANZAROTE' 'Arrecife' 'Teguise' 'Tías' 'Yaiza'\n",
      " 'Resto de municipios de Lanzarote' 'FUERTEVENTURA' 'Antigua' 'La Oliva'\n",
      " 'Pájara' 'Puerto del Rosario' 'Resto de municipios de Fuerteventura'\n",
      " 'GRAN CANARIA' 'Mogán' 'Las Palmas de Gran Canaria'\n",
      " 'San Bartolomé de Tirajana' 'Resto de municipios de Gran Canaria'\n",
      " 'TENERIFE' 'Adeje' 'Arona' 'Granadilla de Abona' 'Puerto de la Cruz'\n",
      " 'Santa Cruz de Tenerife' 'Santiago del Teide'\n",
      " 'Resto de municipios de Tenerife' 'LA GOMERA'\n",
      " 'San Sebastián de La Gomera' 'Valle Gran Rey'\n",
      " 'Resto de municipios de La Gomera' 'LA PALMA' 'Breña Baja'\n",
      " 'Fuencaliente de La Palma' 'Los Llanos de Aridane' 'El Paso'\n",
      " 'Santa Cruz de La Palma' 'Resto de municipios de La Palma' 'EL HIERRO'\n",
      " 'Frontera' 'Valverde' 'El Pinar de El Hierro']\n",
      "['CANARIAS' 'LANZAROTE' 'Arrecife' 'Teguise' 'Tías' 'Yaiza'\n",
      " 'FUERTEVENTURA' 'Antigua' 'La Oliva' 'Pájara' 'Puerto del Rosario'\n",
      " 'GRAN CANARIA' 'Mogán' 'Las Palmas de Gran Canaria'\n",
      " 'San Bartolomé de Tirajana' 'Resto de municipios de Gran Canaria'\n",
      " 'TENERIFE' 'Adeje' 'Arona' 'Granadilla de Abona' 'Puerto de la Cruz'\n",
      " 'Santa Cruz de Tenerife' 'Santiago del Teide'\n",
      " 'Resto de municipios de Tenerife' 'LA GOMERA'\n",
      " 'San Sebastián de La Gomera' 'Valle Gran Rey'\n",
      " 'Resto de municipios de La Gomera' 'LA PALMA' 'Breña Baja'\n",
      " 'Fuencaliente de La Palma' 'Los Llanos de Aridane' 'El Paso'\n",
      " 'Santa Cruz de La Palma' 'Resto de municipios de La Palma' 'EL HIERRO'\n",
      " 'Frontera' 'Valverde' 'El Pinar de El Hierro']\n",
      "['CANARIAS' 'LANZAROTE' 'Arrecife' 'Teguise' 'Tías' 'Yaiza'\n",
      " 'FUERTEVENTURA' 'Antigua' 'La Oliva' 'Pájara' 'Puerto del Rosario'\n",
      " 'GRAN CANARIA' 'Mogán' 'Las Palmas de Gran Canaria'\n",
      " 'San Bartolomé de Tirajana' 'Resto de municipios de Gran Canaria'\n",
      " 'TENERIFE' 'Adeje' 'Arona' 'Granadilla de Abona' 'Puerto de la Cruz'\n",
      " 'Santa Cruz de Tenerife' 'Santiago del Teide'\n",
      " 'Resto de municipios de Tenerife' 'LA GOMERA'\n",
      " 'San Sebastián de La Gomera' 'Valle Gran Rey'\n",
      " 'Resto de municipios de La Gomera' 'LA PALMA' 'Breña Baja'\n",
      " 'Fuencaliente de La Palma' 'Los Llanos de Aridane' 'El Paso'\n",
      " 'Santa Cruz de La Palma' 'Resto de municipios de La Palma' 'EL HIERRO'\n",
      " 'Frontera' 'Valverde' 'El Pinar de El Hierro']\n"
     ]
    }
   ],
   "source": [
    "for archivo in list_all_csv:\n",
    "    print(archivo.isla.unique())"
   ]
  },
  {
   "cell_type": "code",
   "execution_count": 30,
   "metadata": {
    "scrolled": true
   },
   "outputs": [
    {
     "name": "stdout",
     "output_type": "stream",
     "text": [
      "Se ha cambiado el patron (LANZAROTE) por el patron (Lanzarote) en la columna isla\n",
      "Se ha cambiado el patron (GRAN CANARIA) por el patron (Gran Canaria) en la columna isla\n",
      "Se ha cambiado el patron (TENERIFE) por el patron (Tenerife) en la columna isla\n",
      "Se ha cambiado el patron (LA PALMA) por el patron (La Palma) en la columna isla\n",
      "Se ha cambiado el patron (FUERTEVENTURA) por el patron (Fuerteventura) en la columna isla\n",
      "Se ha cambiado el patron (LANZAROTE) por el patron (Lanzarote) en la columna isla\n",
      "Se ha cambiado el patron (GRAN CANARIA) por el patron (Gran Canaria) en la columna isla\n",
      "Se ha cambiado el patron (TENERIFE) por el patron (Tenerife) en la columna isla\n",
      "Se ha cambiado el patron (LA PALMA) por el patron (La Palma) en la columna isla\n",
      "Se ha cambiado el patron (FUERTEVENTURA) por el patron (Fuerteventura) en la columna isla\n",
      "Se ha cambiado el patron (LANZAROTE) por el patron (Lanzarote) en la columna isla\n",
      "Se ha cambiado el patron (GRAN CANARIA) por el patron (Gran Canaria) en la columna isla\n",
      "Se ha cambiado el patron (TENERIFE) por el patron (Tenerife) en la columna isla\n",
      "Se ha cambiado el patron (LA PALMA) por el patron (La Palma) en la columna isla\n",
      "Se ha cambiado el patron (FUERTEVENTURA) por el patron (Fuerteventura) en la columna isla\n",
      "Se ha cambiado el patron (LANZAROTE) por el patron (Lanzarote) en la columna isla\n",
      "Se ha cambiado el patron (GRAN CANARIA) por el patron (Gran Canaria) en la columna isla\n",
      "Se ha cambiado el patron (TENERIFE) por el patron (Tenerife) en la columna isla\n",
      "Se ha cambiado el patron (LA PALMA) por el patron (La Palma) en la columna isla\n",
      "Se ha cambiado el patron (FUERTEVENTURA) por el patron (Fuerteventura) en la columna isla\n",
      "['CANARIAS' 'Lanzarote' 'Arrecife' 'Teguise' 'Tías' 'Yaiza'\n",
      " 'Fuerteventura' 'Antigua' 'La Oliva' 'Pájara' 'Puerto del Rosario'\n",
      " 'Gran Canaria' 'Mogán' 'Las Palmas de Gran Canaria'\n",
      " 'San Bartolomé de Tirajana' 'Resto de municipios de Gran Canaria'\n",
      " 'Tenerife' 'Adeje' 'Arona' 'Granadilla de Abona' 'Puerto de la Cruz'\n",
      " 'Santa Cruz de Tenerife' 'Santiago del Teide'\n",
      " 'Resto de municipios de Tenerife' 'LA GOMERA'\n",
      " 'San Sebastián de La Gomera' 'Valle Gran Rey'\n",
      " 'Resto de municipios de La Gomera' 'La Palma' 'Breña Baja'\n",
      " 'Fuencaliente de La Palma' 'Los Llanos de Aridane' 'El Paso'\n",
      " 'Santa Cruz de La Palma' 'Resto de municipios de La Palma' 'EL HIERRO'\n",
      " 'Frontera' 'Valverde' 'El Pinar de El Hierro']\n",
      "['CANARIAS' 'Lanzarote' 'Arrecife' 'Teguise' 'Tías' 'Yaiza'\n",
      " 'Resto de municipios de Lanzarote' 'Fuerteventura' 'Antigua' 'La Oliva'\n",
      " 'Pájara' 'Puerto del Rosario' 'Resto de municipios de Fuerteventura'\n",
      " 'Gran Canaria' 'Mogán' 'Las Palmas de Gran Canaria'\n",
      " 'San Bartolomé de Tirajana' 'Resto de municipios de Gran Canaria'\n",
      " 'Tenerife' 'Adeje' 'Arona' 'Granadilla de Abona' 'Puerto de la Cruz'\n",
      " 'Santa Cruz de Tenerife' 'Santiago del Teide'\n",
      " 'Resto de municipios de Tenerife' 'LA GOMERA'\n",
      " 'San Sebastián de La Gomera' 'Valle Gran Rey'\n",
      " 'Resto de municipios de La Gomera' 'La Palma' 'Breña Baja'\n",
      " 'Fuencaliente de La Palma' 'Los Llanos de Aridane' 'El Paso'\n",
      " 'Santa Cruz de La Palma' 'Resto de municipios de La Palma' 'EL HIERRO'\n",
      " 'Frontera' 'Valverde' 'El Pinar de El Hierro']\n",
      "['CANARIAS' 'Lanzarote' 'Arrecife' 'Teguise' 'Tías' 'Yaiza'\n",
      " 'Fuerteventura' 'Antigua' 'La Oliva' 'Pájara' 'Puerto del Rosario'\n",
      " 'Gran Canaria' 'Mogán' 'Las Palmas de Gran Canaria'\n",
      " 'San Bartolomé de Tirajana' 'Resto de municipios de Gran Canaria'\n",
      " 'Tenerife' 'Adeje' 'Arona' 'Granadilla de Abona' 'Puerto de la Cruz'\n",
      " 'Santa Cruz de Tenerife' 'Santiago del Teide'\n",
      " 'Resto de municipios de Tenerife' 'LA GOMERA'\n",
      " 'San Sebastián de La Gomera' 'Valle Gran Rey'\n",
      " 'Resto de municipios de La Gomera' 'La Palma' 'Breña Baja'\n",
      " 'Fuencaliente de La Palma' 'Los Llanos de Aridane' 'El Paso'\n",
      " 'Santa Cruz de La Palma' 'Resto de municipios de La Palma' 'EL HIERRO'\n",
      " 'Frontera' 'Valverde' 'El Pinar de El Hierro']\n",
      "['CANARIAS' 'Lanzarote' 'Arrecife' 'Teguise' 'Tías' 'Yaiza'\n",
      " 'Fuerteventura' 'Antigua' 'La Oliva' 'Pájara' 'Puerto del Rosario'\n",
      " 'Gran Canaria' 'Mogán' 'Las Palmas de Gran Canaria'\n",
      " 'San Bartolomé de Tirajana' 'Resto de municipios de Gran Canaria'\n",
      " 'Tenerife' 'Adeje' 'Arona' 'Granadilla de Abona' 'Puerto de la Cruz'\n",
      " 'Santa Cruz de Tenerife' 'Santiago del Teide'\n",
      " 'Resto de municipios de Tenerife' 'LA GOMERA'\n",
      " 'San Sebastián de La Gomera' 'Valle Gran Rey'\n",
      " 'Resto de municipios de La Gomera' 'La Palma' 'Breña Baja'\n",
      " 'Fuencaliente de La Palma' 'Los Llanos de Aridane' 'El Paso'\n",
      " 'Santa Cruz de La Palma' 'Resto de municipios de La Palma' 'EL HIERRO'\n",
      " 'Frontera' 'Valverde' 'El Pinar de El Hierro']\n"
     ]
    }
   ],
   "source": [
    "i = 0\n",
    "for archivo in list_all_csv:\n",
    "    \n",
    "    #Primero hay que pasar a str\n",
    "    archivo.isla.astype(str)                       \n",
    "\n",
    "    #reemplazamos \n",
    "    replace_value(archivo, \"isla\", r'LANZAROTE', r'Lanzarote')\n",
    "    replace_value(archivo, \"isla\", r'GRAN CANARIA', r'Gran Canaria') \n",
    "    replace_value(archivo, \"isla\", r'TENERIFE', r'Tenerife')\n",
    "    replace_value(archivo, \"isla\", r'LA PALMA', r'La Palma') \n",
    "    replace_value(archivo, \"isla\", r'FUERTEVENTURA', r'Fuerteventura')\n",
    "    \n",
    "#COMPROBAMOS LOS CAMBIOS\n",
    "for archivo in list_all_csv:\n",
    "    print(archivo.isla.unique())\n"
   ]
  },
  {
   "cell_type": "markdown",
   "metadata": {},
   "source": [
    "# 3. Astype \n",
    "\n",
    "### Columna `valor` tipo int o float segun el caso"
   ]
  },
  {
   "cell_type": "code",
   "execution_count": 31,
   "metadata": {},
   "outputs": [],
   "source": [
    "list_all_csv[0]['valor'] = pd.to_numeric(list_all_csv[0].valor.astype(str))"
   ]
  },
  {
   "cell_type": "code",
   "execution_count": 32,
   "metadata": {},
   "outputs": [],
   "source": [
    "list_all_csv[1]['valor'] = pd.to_numeric(list_all_csv[1].valor.astype(str))"
   ]
  },
  {
   "cell_type": "code",
   "execution_count": 33,
   "metadata": {},
   "outputs": [],
   "source": [
    "list_all_csv[3]['valor'] = pd.to_numeric(list_all_csv[3].valor.astype(str))"
   ]
  },
  {
   "cell_type": "markdown",
   "metadata": {},
   "source": [
    "Solo el sigueinte da problemas asique: -> **Lo resolvemos en el paso 2**"
   ]
  },
  {
   "cell_type": "code",
   "execution_count": 34,
   "metadata": {},
   "outputs": [],
   "source": [
    "#No funciona por que: ValueError: Unable to parse string \".\" at position 10674\n",
    "\n",
    "#list_all_csv[2]['valor'] = pd.to_numeric(list_all_csv[2].valor.astype(str))"
   ]
  },
  {
   "cell_type": "markdown",
   "metadata": {},
   "source": [
    "    - hemos detectado que en la columna valor hay elementos que no son numeros, y son \".\", \"..\" o \"...\", vamos a sustituir esto por \"0\"\n",
    "\n",
    "    - PARA EVITAR COLISIONES EN EL REMPLAZO DE . A 0 PRIMERO HAY QUE REMPLAZAR LOS VALORES CON . A , \n",
    "    - EJEMPLO: 79.77 ->79,99"
   ]
  },
  {
   "cell_type": "code",
   "execution_count": 35,
   "metadata": {},
   "outputs": [
    {
     "name": "stdout",
     "output_type": "stream",
     "text": [
      "Se ha cambiado el patron ((\\d+).(\\d+)) por el patron (\\1,\\2) en la columna valor\n",
      "Se ha cambiado el patron (\\.+) por el patron (0) en la columna valor\n",
      "Se ha cambiado el patron ((\\d+),(\\d+)) por el patron (\\1.\\2) en la columna valor\n"
     ]
    }
   ],
   "source": [
    "archivo = list_all_csv[2]\n",
    "replace_value(archivo, \"valor\", r'(\\d+).(\\d+)', r'\\1,\\2')   #reemplazamos los . por , #EJEMPLO: 79.77 ->79,99\n",
    "    \n",
    "    \n",
    "archivo.valor.astype(str)                       #Primero hay que pasar a str ya que hay valores como \".\", \"..\" etc\n",
    "replace_value(archivo, \"valor\", r'\\.+', r'0')   #reemplazamos los puntos por 0 porque si no el metodo to_numeric da error\n",
    "    \n",
    "#volvemos a pasar las , a . porque si no da error -> ValueError: Unable to parse string \"71,34\" at position 0\n",
    "replace_value(archivo, \"valor\", r'(\\d+),(\\d+)', r'\\1.\\2')   \n",
    "    \n",
    "#finalmeente pasamos a int\n",
    "#archivo = archivo.astype({\"valor\":'float'}) \n",
    "archivo['valor'] = pd.to_numeric(archivo.valor.astype(str))  #pasamos la columna a numeros\n",
    "\n",
    "list_all_csv[2] = archivo"
   ]
  },
  {
   "cell_type": "code",
   "execution_count": 36,
   "metadata": {},
   "outputs": [
    {
     "data": {
      "text/html": [
       "<div>\n",
       "<style scoped>\n",
       "    .dataframe tbody tr th:only-of-type {\n",
       "        vertical-align: middle;\n",
       "    }\n",
       "\n",
       "    .dataframe tbody tr th {\n",
       "        vertical-align: top;\n",
       "    }\n",
       "\n",
       "    .dataframe thead th {\n",
       "        text-align: right;\n",
       "    }\n",
       "</style>\n",
       "<table border=\"1\" class=\"dataframe\">\n",
       "  <thead>\n",
       "    <tr style=\"text-align: right;\">\n",
       "      <th></th>\n",
       "      <th>indicador</th>\n",
       "      <th>isla</th>\n",
       "      <th>fecha</th>\n",
       "      <th>valor</th>\n",
       "    </tr>\n",
       "  </thead>\n",
       "  <tbody>\n",
       "    <tr>\n",
       "      <th>0</th>\n",
       "      <td>Establecimientos abiertos</td>\n",
       "      <td>CANARIAS</td>\n",
       "      <td>2019Q4</td>\n",
       "      <td>1798</td>\n",
       "    </tr>\n",
       "    <tr>\n",
       "      <th>1</th>\n",
       "      <td>Establecimientos abiertos</td>\n",
       "      <td>CANARIAS</td>\n",
       "      <td>2019Q4</td>\n",
       "      <td>1790</td>\n",
       "    </tr>\n",
       "    <tr>\n",
       "      <th>2</th>\n",
       "      <td>Establecimientos abiertos</td>\n",
       "      <td>CANARIAS</td>\n",
       "      <td>2019Q4</td>\n",
       "      <td>1781</td>\n",
       "    </tr>\n",
       "    <tr>\n",
       "      <th>3</th>\n",
       "      <td>Establecimientos abiertos</td>\n",
       "      <td>CANARIAS</td>\n",
       "      <td>2019Q3</td>\n",
       "      <td>1766</td>\n",
       "    </tr>\n",
       "    <tr>\n",
       "      <th>4</th>\n",
       "      <td>Establecimientos abiertos</td>\n",
       "      <td>CANARIAS</td>\n",
       "      <td>2019Q3</td>\n",
       "      <td>1758</td>\n",
       "    </tr>\n",
       "  </tbody>\n",
       "</table>\n",
       "</div>"
      ],
      "text/plain": [
       "                   indicador      isla   fecha  valor\n",
       "0  Establecimientos abiertos  CANARIAS  2019Q4   1798\n",
       "1  Establecimientos abiertos  CANARIAS  2019Q4   1790\n",
       "2  Establecimientos abiertos  CANARIAS  2019Q4   1781\n",
       "3  Establecimientos abiertos  CANARIAS  2019Q3   1766\n",
       "4  Establecimientos abiertos  CANARIAS  2019Q3   1758"
      ]
     },
     "execution_count": 36,
     "metadata": {},
     "output_type": "execute_result"
    }
   ],
   "source": [
    "list_all_csv[1].head()"
   ]
  },
  {
   "cell_type": "code",
   "execution_count": 37,
   "metadata": {},
   "outputs": [
    {
     "name": "stdout",
     "output_type": "stream",
     "text": [
      "indicador           object\n",
      "isla                object\n",
      "fecha        period[Q-DEC]\n",
      "valor              float64\n",
      "dtype: object\n",
      "indicador           object\n",
      "isla                object\n",
      "fecha        period[Q-DEC]\n",
      "valor                int64\n",
      "dtype: object\n",
      "pais            object\n",
      "isla            object\n",
      "fecha    period[Q-DEC]\n",
      "valor          float64\n",
      "dtype: object\n",
      "indicador           object\n",
      "isla                object\n",
      "fecha        period[Q-DEC]\n",
      "valor              float64\n",
      "dtype: object\n"
     ]
    }
   ],
   "source": [
    "i = 0\n",
    "for archivo in list_all_csv:\n",
    "    print(archivo.dtypes)"
   ]
  },
  {
   "cell_type": "code",
   "execution_count": 38,
   "metadata": {},
   "outputs": [
    {
     "data": {
      "text/html": [
       "<div>\n",
       "<style scoped>\n",
       "    .dataframe tbody tr th:only-of-type {\n",
       "        vertical-align: middle;\n",
       "    }\n",
       "\n",
       "    .dataframe tbody tr th {\n",
       "        vertical-align: top;\n",
       "    }\n",
       "\n",
       "    .dataframe thead th {\n",
       "        text-align: right;\n",
       "    }\n",
       "</style>\n",
       "<table border=\"1\" class=\"dataframe\">\n",
       "  <thead>\n",
       "    <tr style=\"text-align: right;\">\n",
       "      <th></th>\n",
       "      <th>indicador</th>\n",
       "      <th>isla</th>\n",
       "      <th>fecha</th>\n",
       "      <th>valor</th>\n",
       "    </tr>\n",
       "  </thead>\n",
       "  <tbody>\n",
       "    <tr>\n",
       "      <th>0</th>\n",
       "      <td>Ingresos por habitación disponible (RevPAR)</td>\n",
       "      <td>CANARIAS</td>\n",
       "      <td>2019Q4</td>\n",
       "      <td>71.34</td>\n",
       "    </tr>\n",
       "    <tr>\n",
       "      <th>1</th>\n",
       "      <td>Ingresos por habitación disponible (RevPAR)</td>\n",
       "      <td>CANARIAS</td>\n",
       "      <td>2019Q4</td>\n",
       "      <td>70.95</td>\n",
       "    </tr>\n",
       "    <tr>\n",
       "      <th>2</th>\n",
       "      <td>Ingresos por habitación disponible (RevPAR)</td>\n",
       "      <td>CANARIAS</td>\n",
       "      <td>2019Q4</td>\n",
       "      <td>64.21</td>\n",
       "    </tr>\n",
       "    <tr>\n",
       "      <th>3</th>\n",
       "      <td>Ingresos por habitación disponible (RevPAR)</td>\n",
       "      <td>CANARIAS</td>\n",
       "      <td>2019Q3</td>\n",
       "      <td>62.43</td>\n",
       "    </tr>\n",
       "    <tr>\n",
       "      <th>4</th>\n",
       "      <td>Ingresos por habitación disponible (RevPAR)</td>\n",
       "      <td>CANARIAS</td>\n",
       "      <td>2019Q3</td>\n",
       "      <td>69.69</td>\n",
       "    </tr>\n",
       "  </tbody>\n",
       "</table>\n",
       "</div>"
      ],
      "text/plain": [
       "                                     indicador      isla   fecha  valor\n",
       "0  Ingresos por habitación disponible (RevPAR)  CANARIAS  2019Q4  71.34\n",
       "1  Ingresos por habitación disponible (RevPAR)  CANARIAS  2019Q4  70.95\n",
       "2  Ingresos por habitación disponible (RevPAR)  CANARIAS  2019Q4  64.21\n",
       "3  Ingresos por habitación disponible (RevPAR)  CANARIAS  2019Q3  62.43\n",
       "4  Ingresos por habitación disponible (RevPAR)  CANARIAS  2019Q3  69.69"
      ]
     },
     "execution_count": 38,
     "metadata": {},
     "output_type": "execute_result"
    }
   ],
   "source": [
    "list_all_csv[0].head()"
   ]
  },
  {
   "cell_type": "markdown",
   "metadata": {},
   "source": [
    "# 4. Unión de cuartiles\n",
    "\n",
    "### Importante:\n",
    "Como el valor depende del indicador, debemos entender los tipos de indicadores que hay. \n",
    "\n",
    "**Leer:**\n",
    "Porque si el indicador hace referencia a los ingresos por habitación disponible entonces al unir los cuartiles tenemos que hacer una suma en cambio si hace referencia a una media de tarifa tendríamos que hacer la media de los valores\n",
    "\n",
    "Tenemos 4 grupos por lo que los trataremos por grupos:\n",
    "\n",
    "**1.    El ADR RevPar Ingresos** -> TIENE QUE HACERSE LA MEDIA Y LA SUMA LA COLUMNA INGRESOS TOTALES\n",
    "\n",
    "    ------------------ADR_RevPAR_ingresos.csv------------------\n",
    "    indicador\n",
    "    ['Ingresos por habitación disponible (RevPAR)' 'Ingresos totales' 'Tarifa media por habitación mensual (ADR)']\n",
    "\n",
    "\n",
    "**2.\tPlazas de los diferentes establecimientos** -> TIENE QUE HACERSE LA SUMA\n",
    "\n",
    "    ------------------establecimientos_plazas.csv------------------\n",
    "    indicador\n",
    "    ['Establecimientos abiertos' 'Plazas ofertadas' 'Habitaciones-apartamentos disponibles']\n",
    "\n",
    "\n",
    "**3.\tEstancia media** -> TIENE QUE HACERSE LA MEDIA de valor ya que no tienen indicador\n",
    "\n",
    "**4.\tTasa de ocupación** -> TIENE QUE HACERSE LA MEDIA\n",
    "\n",
    "    ------------------tasa_ocupacion.csv------------------\n",
    "    indicador\n",
    "    ['Tasa de ocupación por habitaciones-apartamentos' 'Tasa de ocupación por plazas']\n"
   ]
  },
  {
   "cell_type": "markdown",
   "metadata": {},
   "source": [
    "### LA SUMA SE HACE SOLO DE ALGUNAS COLUMNAS DE:\n",
    "    \n",
    "**1.    El ADR RevPar Ingresos** \n",
    "\n",
    "    ------------------ADR_RevPAR_ingresos.csv------------------\n",
    "    indicador    ['Ingresos totales']\n",
    "\n",
    "**2.\tPlazas de los diferentes establecimientos** -> TIENE QUE HACERSE LA SUMA\n",
    "\n",
    "    ------------------establecimientos_plazas.csv------------------\n",
    "    indicador\n",
    "    ['Establecimientos abiertos' 'Plazas ofertadas' 'Habitaciones-apartamentos disponibles']\n",
    "    "
   ]
  },
  {
   "cell_type": "markdown",
   "metadata": {},
   "source": [
    "Vamos a dividir el conjunto de ADR_RevPar_ingresos en dos archivos, uno con los datos donde haremos media y otro con los datos donde hacemos la suma.\n"
   ]
  },
  {
   "cell_type": "markdown",
   "metadata": {},
   "source": [
    "**Este archivo solo contiene los datos de Ingresos totales:**"
   ]
  },
  {
   "cell_type": "code",
   "execution_count": 39,
   "metadata": {},
   "outputs": [
    {
     "data": {
      "text/html": [
       "<div>\n",
       "<style scoped>\n",
       "    .dataframe tbody tr th:only-of-type {\n",
       "        vertical-align: middle;\n",
       "    }\n",
       "\n",
       "    .dataframe tbody tr th {\n",
       "        vertical-align: top;\n",
       "    }\n",
       "\n",
       "    .dataframe thead th {\n",
       "        text-align: right;\n",
       "    }\n",
       "</style>\n",
       "<table border=\"1\" class=\"dataframe\">\n",
       "  <thead>\n",
       "    <tr style=\"text-align: right;\">\n",
       "      <th></th>\n",
       "      <th>indicador</th>\n",
       "      <th>isla</th>\n",
       "      <th>fecha</th>\n",
       "      <th>valor</th>\n",
       "    </tr>\n",
       "  </thead>\n",
       "  <tbody>\n",
       "    <tr>\n",
       "      <th>4680</th>\n",
       "      <td>Ingresos totales</td>\n",
       "      <td>CANARIAS</td>\n",
       "      <td>2019Q4</td>\n",
       "      <td>3.803417e+08</td>\n",
       "    </tr>\n",
       "    <tr>\n",
       "      <th>4681</th>\n",
       "      <td>Ingresos totales</td>\n",
       "      <td>CANARIAS</td>\n",
       "      <td>2019Q4</td>\n",
       "      <td>3.650049e+08</td>\n",
       "    </tr>\n",
       "    <tr>\n",
       "      <th>4682</th>\n",
       "      <td>Ingresos totales</td>\n",
       "      <td>CANARIAS</td>\n",
       "      <td>2019Q4</td>\n",
       "      <td>3.405577e+08</td>\n",
       "    </tr>\n",
       "    <tr>\n",
       "      <th>4683</th>\n",
       "      <td>Ingresos totales</td>\n",
       "      <td>CANARIAS</td>\n",
       "      <td>2019Q3</td>\n",
       "      <td>3.183426e+08</td>\n",
       "    </tr>\n",
       "    <tr>\n",
       "      <th>4684</th>\n",
       "      <td>Ingresos totales</td>\n",
       "      <td>CANARIAS</td>\n",
       "      <td>2019Q3</td>\n",
       "      <td>3.667102e+08</td>\n",
       "    </tr>\n",
       "  </tbody>\n",
       "</table>\n",
       "</div>"
      ],
      "text/plain": [
       "             indicador      isla   fecha         valor\n",
       "4680  Ingresos totales  CANARIAS  2019Q4  3.803417e+08\n",
       "4681  Ingresos totales  CANARIAS  2019Q4  3.650049e+08\n",
       "4682  Ingresos totales  CANARIAS  2019Q4  3.405577e+08\n",
       "4683  Ingresos totales  CANARIAS  2019Q3  3.183426e+08\n",
       "4684  Ingresos totales  CANARIAS  2019Q3  3.667102e+08"
      ]
     },
     "execution_count": 39,
     "metadata": {},
     "output_type": "execute_result"
    }
   ],
   "source": [
    "ADR_RevPAR_ingresos_div1 = list_all_csv[0][list_all_csv[0].indicador.isin(['Ingresos totales'])] \n",
    "ADR_RevPAR_ingresos_div1.head()"
   ]
  },
  {
   "cell_type": "markdown",
   "metadata": {},
   "source": [
    "**Este archivo solo contiene los datos de lo que NO es Ingresos totales:**"
   ]
  },
  {
   "cell_type": "code",
   "execution_count": 40,
   "metadata": {},
   "outputs": [
    {
     "data": {
      "text/html": [
       "<div>\n",
       "<style scoped>\n",
       "    .dataframe tbody tr th:only-of-type {\n",
       "        vertical-align: middle;\n",
       "    }\n",
       "\n",
       "    .dataframe tbody tr th {\n",
       "        vertical-align: top;\n",
       "    }\n",
       "\n",
       "    .dataframe thead th {\n",
       "        text-align: right;\n",
       "    }\n",
       "</style>\n",
       "<table border=\"1\" class=\"dataframe\">\n",
       "  <thead>\n",
       "    <tr style=\"text-align: right;\">\n",
       "      <th></th>\n",
       "      <th>indicador</th>\n",
       "      <th>isla</th>\n",
       "      <th>fecha</th>\n",
       "      <th>valor</th>\n",
       "    </tr>\n",
       "  </thead>\n",
       "  <tbody>\n",
       "    <tr>\n",
       "      <th>0</th>\n",
       "      <td>Ingresos por habitación disponible (RevPAR)</td>\n",
       "      <td>CANARIAS</td>\n",
       "      <td>2019Q4</td>\n",
       "      <td>71.34</td>\n",
       "    </tr>\n",
       "    <tr>\n",
       "      <th>1</th>\n",
       "      <td>Ingresos por habitación disponible (RevPAR)</td>\n",
       "      <td>CANARIAS</td>\n",
       "      <td>2019Q4</td>\n",
       "      <td>70.95</td>\n",
       "    </tr>\n",
       "    <tr>\n",
       "      <th>2</th>\n",
       "      <td>Ingresos por habitación disponible (RevPAR)</td>\n",
       "      <td>CANARIAS</td>\n",
       "      <td>2019Q4</td>\n",
       "      <td>64.21</td>\n",
       "    </tr>\n",
       "    <tr>\n",
       "      <th>3</th>\n",
       "      <td>Ingresos por habitación disponible (RevPAR)</td>\n",
       "      <td>CANARIAS</td>\n",
       "      <td>2019Q3</td>\n",
       "      <td>62.43</td>\n",
       "    </tr>\n",
       "    <tr>\n",
       "      <th>4</th>\n",
       "      <td>Ingresos por habitación disponible (RevPAR)</td>\n",
       "      <td>CANARIAS</td>\n",
       "      <td>2019Q3</td>\n",
       "      <td>69.69</td>\n",
       "    </tr>\n",
       "  </tbody>\n",
       "</table>\n",
       "</div>"
      ],
      "text/plain": [
       "                                     indicador      isla   fecha  valor\n",
       "0  Ingresos por habitación disponible (RevPAR)  CANARIAS  2019Q4  71.34\n",
       "1  Ingresos por habitación disponible (RevPAR)  CANARIAS  2019Q4  70.95\n",
       "2  Ingresos por habitación disponible (RevPAR)  CANARIAS  2019Q4  64.21\n",
       "3  Ingresos por habitación disponible (RevPAR)  CANARIAS  2019Q3  62.43\n",
       "4  Ingresos por habitación disponible (RevPAR)  CANARIAS  2019Q3  69.69"
      ]
     },
     "execution_count": 40,
     "metadata": {},
     "output_type": "execute_result"
    }
   ],
   "source": [
    "ADR_RevPAR_ingresos_div2 = list_all_csv[0][~list_all_csv[0].indicador.isin(['Ingresos totales'])] \n",
    "ADR_RevPAR_ingresos_div2.head()"
   ]
  },
  {
   "cell_type": "markdown",
   "metadata": {},
   "source": [
    "## 4.1 PRUEBAS DEL FUNCIONAMIENTO DE LO QUE VAMOS HACER\n",
    "### 4.1.1 Prueba Suma"
   ]
  },
  {
   "cell_type": "markdown",
   "metadata": {},
   "source": [
    "Haremos una prueba con lo que queremos unir para ello cogeremos el primer archivo y miraremos los datos que queremos unir como ejemplo usaremos Alemania en 2019 el total de turistas por Gran Canaria"
   ]
  },
  {
   "cell_type": "code",
   "execution_count": 41,
   "metadata": {},
   "outputs": [
    {
     "name": "stdout",
     "output_type": "stream",
     "text": [
      "             indicador      isla   fecha         valor\n",
      "4680  Ingresos totales  CANARIAS  2019Q4  3.803417e+08\n",
      "4681  Ingresos totales  CANARIAS  2019Q4  3.650049e+08\n",
      "4682  Ingresos totales  CANARIAS  2019Q4  3.405577e+08\n",
      "4683  Ingresos totales  CANARIAS  2019Q3  3.183426e+08\n",
      "4684  Ingresos totales  CANARIAS  2019Q3  3.667102e+08\n",
      "4685  Ingresos totales  CANARIAS  2019Q3  3.223139e+08\n",
      "4686  Ingresos totales  CANARIAS  2019Q2  2.623013e+08\n",
      "4687  Ingresos totales  CANARIAS  2019Q2  2.501854e+08\n",
      "4688  Ingresos totales  CANARIAS  2019Q2  3.027226e+08\n",
      "4689  Ingresos totales  CANARIAS  2019Q1  3.792254e+08\n",
      "(4680, 4)\n",
      "indicador           object\n",
      "isla                object\n",
      "fecha        period[Q-DEC]\n",
      "valor              float64\n",
      "dtype: object\n"
     ]
    }
   ],
   "source": [
    "df = ADR_RevPAR_ingresos_div1\n",
    "print(df.head(10))\n",
    "print(df.shape)\n",
    "print(df.dtypes)"
   ]
  },
  {
   "cell_type": "markdown",
   "metadata": {},
   "source": [
    "Filtramos:"
   ]
  },
  {
   "cell_type": "code",
   "execution_count": 42,
   "metadata": {},
   "outputs": [
    {
     "data": {
      "text/html": [
       "<div>\n",
       "<style scoped>\n",
       "    .dataframe tbody tr th:only-of-type {\n",
       "        vertical-align: middle;\n",
       "    }\n",
       "\n",
       "    .dataframe tbody tr th {\n",
       "        vertical-align: top;\n",
       "    }\n",
       "\n",
       "    .dataframe thead th {\n",
       "        text-align: right;\n",
       "    }\n",
       "</style>\n",
       "<table border=\"1\" class=\"dataframe\">\n",
       "  <thead>\n",
       "    <tr style=\"text-align: right;\">\n",
       "      <th></th>\n",
       "      <th>indicador</th>\n",
       "      <th>isla</th>\n",
       "      <th>fecha</th>\n",
       "      <th>valor</th>\n",
       "    </tr>\n",
       "  </thead>\n",
       "  <tbody>\n",
       "    <tr>\n",
       "      <th>6000</th>\n",
       "      <td>Ingresos totales</td>\n",
       "      <td>Gran Canaria</td>\n",
       "      <td>2019Q4</td>\n",
       "      <td>1.252246e+08</td>\n",
       "    </tr>\n",
       "    <tr>\n",
       "      <th>6001</th>\n",
       "      <td>Ingresos totales</td>\n",
       "      <td>Gran Canaria</td>\n",
       "      <td>2019Q4</td>\n",
       "      <td>1.204578e+08</td>\n",
       "    </tr>\n",
       "    <tr>\n",
       "      <th>6002</th>\n",
       "      <td>Ingresos totales</td>\n",
       "      <td>Gran Canaria</td>\n",
       "      <td>2019Q4</td>\n",
       "      <td>1.019628e+08</td>\n",
       "    </tr>\n",
       "  </tbody>\n",
       "</table>\n",
       "</div>"
      ],
      "text/plain": [
       "             indicador          isla   fecha         valor\n",
       "6000  Ingresos totales  Gran Canaria  2019Q4  1.252246e+08\n",
       "6001  Ingresos totales  Gran Canaria  2019Q4  1.204578e+08\n",
       "6002  Ingresos totales  Gran Canaria  2019Q4  1.019628e+08"
      ]
     },
     "execution_count": 42,
     "metadata": {},
     "output_type": "execute_result"
    }
   ],
   "source": [
    "#df.loc[df['Grade'].isin(['A', 'B']),['Name','TotalMarks', 'Grade'] ]\n",
    "x = df[df.fecha.isin(pd.period_range('2019Q4', periods=1, freq='Q')) \n",
    "           & df.isla.isin([\"Gran Canaria\"])\n",
    "           ]\n",
    "#x = df[df.fecha.isin(pd.period_range('2019Q4', periods=1, freq='Q'))]\n",
    "#x = df[df.pais.isin([\"Alemania\"])]\n",
    "#x = df[df.isla.isin([\"Gran Canaria\"])]\n",
    "#pd.PeriodIndex(\"2019Q4\", freq=\"Q\")\n",
    "x.head(10)"
   ]
  },
  {
   "cell_type": "markdown",
   "metadata": {},
   "source": [
    "Aquí vemos los valores que si lo sumamos tenemos **3.476452e+08** y veremos mas adelante como este numeor coincide, por lo que la union se hace correctamente"
   ]
  },
  {
   "cell_type": "markdown",
   "metadata": {},
   "source": [
    "Para unirlo haremos un groupby() por los nombres de todas las columnas que queremos considerar a la hora de ver dos filas como iguales. Las consideraremos todas, excepto valor. Una vez agrupadas, te quedas con la columna valor para aplicar sobre ella la función sum.\n",
    "\n",
    "El resultado sería una serie con las sumas de \"valor\", pero indexado jerárquicamente (multi-index) según los grupos formados. Hacemos un .reset_index() para \"deshacer\" el índice jerárquico, convirtiéndolo de nuevo en columnas como el que tenía el dataframe original."
   ]
  },
  {
   "cell_type": "code",
   "execution_count": 43,
   "metadata": {},
   "outputs": [],
   "source": [
    "res = df.groupby([\"indicador\",\"fecha\",\"isla\"]).valor.apply(sum).reset_index()"
   ]
  },
  {
   "cell_type": "code",
   "execution_count": 44,
   "metadata": {},
   "outputs": [
    {
     "name": "stdout",
     "output_type": "stream",
     "text": [
      "          indicador   fecha                   isla         valor\n",
      "0  Ingresos totales  2010Q1                  Adeje  9.468070e+07\n",
      "1  Ingresos totales  2010Q1                Antigua  1.247322e+07\n",
      "2  Ingresos totales  2010Q1                  Arona  6.628020e+07\n",
      "3  Ingresos totales  2010Q1               Arrecife  8.044662e+05\n",
      "4  Ingresos totales  2010Q1             Breña Baja  2.670446e+06\n",
      "5  Ingresos totales  2010Q1               CANARIAS  6.471403e+08\n",
      "6  Ingresos totales  2010Q1              EL HIERRO  3.820270e+05\n",
      "7  Ingresos totales  2010Q1                El Paso  2.935991e+05\n",
      "8  Ingresos totales  2010Q1  El Pinar de El Hierro  2.586161e+04\n",
      "9  Ingresos totales  2010Q1               Frontera  1.190497e+05\n",
      "(1560, 4)\n"
     ]
    }
   ],
   "source": [
    "print(res.head(10))\n",
    "print(res.shape)"
   ]
  },
  {
   "cell_type": "code",
   "execution_count": 45,
   "metadata": {},
   "outputs": [
    {
     "data": {
      "text/plain": [
       "indicador           object\n",
       "fecha        period[Q-DEC]\n",
       "isla                object\n",
       "valor              float64\n",
       "dtype: object"
      ]
     },
     "execution_count": 45,
     "metadata": {},
     "output_type": "execute_result"
    }
   ],
   "source": [
    "res.dtypes"
   ]
  },
  {
   "cell_type": "code",
   "execution_count": 46,
   "metadata": {
    "scrolled": false
   },
   "outputs": [
    {
     "data": {
      "text/html": [
       "<div>\n",
       "<style scoped>\n",
       "    .dataframe tbody tr th:only-of-type {\n",
       "        vertical-align: middle;\n",
       "    }\n",
       "\n",
       "    .dataframe tbody tr th {\n",
       "        vertical-align: top;\n",
       "    }\n",
       "\n",
       "    .dataframe thead th {\n",
       "        text-align: right;\n",
       "    }\n",
       "</style>\n",
       "<table border=\"1\" class=\"dataframe\">\n",
       "  <thead>\n",
       "    <tr style=\"text-align: right;\">\n",
       "      <th></th>\n",
       "      <th>indicador</th>\n",
       "      <th>fecha</th>\n",
       "      <th>isla</th>\n",
       "      <th>valor</th>\n",
       "    </tr>\n",
       "  </thead>\n",
       "  <tbody>\n",
       "    <tr>\n",
       "      <th>1533</th>\n",
       "      <td>Ingresos totales</td>\n",
       "      <td>2019Q4</td>\n",
       "      <td>Gran Canaria</td>\n",
       "      <td>3.476452e+08</td>\n",
       "    </tr>\n",
       "  </tbody>\n",
       "</table>\n",
       "</div>"
      ],
      "text/plain": [
       "             indicador   fecha          isla         valor\n",
       "1533  Ingresos totales  2019Q4  Gran Canaria  3.476452e+08"
      ]
     },
     "execution_count": 46,
     "metadata": {},
     "output_type": "execute_result"
    }
   ],
   "source": [
    "x = res[res.fecha.isin(pd.period_range('2019Q4', periods=1, freq='Q')) \n",
    "           & res.isla.isin([\"Gran Canaria\"])\n",
    "           ]\n",
    "x.head()"
   ]
  },
  {
   "cell_type": "markdown",
   "metadata": {},
   "source": [
    "### 4.1.2 Prueba Media"
   ]
  },
  {
   "cell_type": "markdown",
   "metadata": {},
   "source": [
    "Haremos una prueba con lo que queremos unir para ello cogeremos el primer archivo y miraremos los datos que queremos unir como ejemplo usaremos Alemania en 2019 el total de turistas por Gran Canaria"
   ]
  },
  {
   "cell_type": "code",
   "execution_count": 47,
   "metadata": {},
   "outputs": [
    {
     "name": "stdout",
     "output_type": "stream",
     "text": [
      "                                     indicador      isla   fecha  valor\n",
      "0  Ingresos por habitación disponible (RevPAR)  CANARIAS  2019Q4  71.34\n",
      "1  Ingresos por habitación disponible (RevPAR)  CANARIAS  2019Q4  70.95\n",
      "2  Ingresos por habitación disponible (RevPAR)  CANARIAS  2019Q4  64.21\n",
      "3  Ingresos por habitación disponible (RevPAR)  CANARIAS  2019Q3  62.43\n",
      "4  Ingresos por habitación disponible (RevPAR)  CANARIAS  2019Q3  69.69\n",
      "5  Ingresos por habitación disponible (RevPAR)  CANARIAS  2019Q3  61.74\n",
      "6  Ingresos por habitación disponible (RevPAR)  CANARIAS  2019Q2  52.17\n",
      "7  Ingresos por habitación disponible (RevPAR)  CANARIAS  2019Q2  48.44\n",
      "8  Ingresos por habitación disponible (RevPAR)  CANARIAS  2019Q2  58.74\n",
      "9  Ingresos por habitación disponible (RevPAR)  CANARIAS  2019Q1  70.78\n",
      "(9360, 4)\n",
      "indicador           object\n",
      "isla                object\n",
      "fecha        period[Q-DEC]\n",
      "valor              float64\n",
      "dtype: object\n"
     ]
    }
   ],
   "source": [
    "df = ADR_RevPAR_ingresos_div2\n",
    "print(df.head(10))\n",
    "print(df.shape)\n",
    "print(df.dtypes)"
   ]
  },
  {
   "cell_type": "markdown",
   "metadata": {},
   "source": [
    "Filtramos:"
   ]
  },
  {
   "cell_type": "code",
   "execution_count": 48,
   "metadata": {},
   "outputs": [
    {
     "data": {
      "text/html": [
       "<div>\n",
       "<style scoped>\n",
       "    .dataframe tbody tr th:only-of-type {\n",
       "        vertical-align: middle;\n",
       "    }\n",
       "\n",
       "    .dataframe tbody tr th {\n",
       "        vertical-align: top;\n",
       "    }\n",
       "\n",
       "    .dataframe thead th {\n",
       "        text-align: right;\n",
       "    }\n",
       "</style>\n",
       "<table border=\"1\" class=\"dataframe\">\n",
       "  <thead>\n",
       "    <tr style=\"text-align: right;\">\n",
       "      <th></th>\n",
       "      <th>indicador</th>\n",
       "      <th>isla</th>\n",
       "      <th>fecha</th>\n",
       "      <th>valor</th>\n",
       "    </tr>\n",
       "  </thead>\n",
       "  <tbody>\n",
       "    <tr>\n",
       "      <th>1320</th>\n",
       "      <td>Ingresos por habitación disponible (RevPAR)</td>\n",
       "      <td>Gran Canaria</td>\n",
       "      <td>2019Q4</td>\n",
       "      <td>75.92</td>\n",
       "    </tr>\n",
       "    <tr>\n",
       "      <th>1321</th>\n",
       "      <td>Ingresos por habitación disponible (RevPAR)</td>\n",
       "      <td>Gran Canaria</td>\n",
       "      <td>2019Q4</td>\n",
       "      <td>76.73</td>\n",
       "    </tr>\n",
       "    <tr>\n",
       "      <th>1322</th>\n",
       "      <td>Ingresos por habitación disponible (RevPAR)</td>\n",
       "      <td>Gran Canaria</td>\n",
       "      <td>2019Q4</td>\n",
       "      <td>63.47</td>\n",
       "    </tr>\n",
       "    <tr>\n",
       "      <th>10680</th>\n",
       "      <td>Tarifa media por habitación mensual (ADR)</td>\n",
       "      <td>Gran Canaria</td>\n",
       "      <td>2019Q4</td>\n",
       "      <td>96.96</td>\n",
       "    </tr>\n",
       "    <tr>\n",
       "      <th>10681</th>\n",
       "      <td>Tarifa media por habitación mensual (ADR)</td>\n",
       "      <td>Gran Canaria</td>\n",
       "      <td>2019Q4</td>\n",
       "      <td>93.12</td>\n",
       "    </tr>\n",
       "    <tr>\n",
       "      <th>10682</th>\n",
       "      <td>Tarifa media por habitación mensual (ADR)</td>\n",
       "      <td>Gran Canaria</td>\n",
       "      <td>2019Q4</td>\n",
       "      <td>87.70</td>\n",
       "    </tr>\n",
       "  </tbody>\n",
       "</table>\n",
       "</div>"
      ],
      "text/plain": [
       "                                         indicador          isla   fecha  \\\n",
       "1320   Ingresos por habitación disponible (RevPAR)  Gran Canaria  2019Q4   \n",
       "1321   Ingresos por habitación disponible (RevPAR)  Gran Canaria  2019Q4   \n",
       "1322   Ingresos por habitación disponible (RevPAR)  Gran Canaria  2019Q4   \n",
       "10680    Tarifa media por habitación mensual (ADR)  Gran Canaria  2019Q4   \n",
       "10681    Tarifa media por habitación mensual (ADR)  Gran Canaria  2019Q4   \n",
       "10682    Tarifa media por habitación mensual (ADR)  Gran Canaria  2019Q4   \n",
       "\n",
       "       valor  \n",
       "1320   75.92  \n",
       "1321   76.73  \n",
       "1322   63.47  \n",
       "10680  96.96  \n",
       "10681  93.12  \n",
       "10682  87.70  "
      ]
     },
     "execution_count": 48,
     "metadata": {},
     "output_type": "execute_result"
    }
   ],
   "source": [
    "#df.loc[df['Grade'].isin(['A', 'B']),['Name','TotalMarks', 'Grade'] ]\n",
    "x = df[df.fecha.isin(pd.period_range('2019Q4', periods=1, freq='Q')) \n",
    "           & df.isla.isin([\"Gran Canaria\"])\n",
    "           ]\n",
    "#x = df[df.fecha.isin(pd.period_range('2019Q4', periods=1, freq='Q'))]\n",
    "#x = df[df.pais.isin([\"Alemania\"])]\n",
    "#x = df[df.isla.isin([\"Gran Canaria\"])]\n",
    "#pd.PeriodIndex(\"2019Q4\", freq=\"Q\")\n",
    "x.head(10)"
   ]
  },
  {
   "cell_type": "markdown",
   "metadata": {},
   "source": [
    "Aquí vemos los valores que si hacemos la media tenemos:\n",
    "\n",
    "    **Ingresos por habitación disponible \t72.04**\n",
    "    **3093\tTarifa media por habitación mensual (ADR) 92.59**\n",
    "\n",
    "Veremos mas adelante como este numeor coincide, por lo que la union se hace correctamente"
   ]
  },
  {
   "cell_type": "markdown",
   "metadata": {},
   "source": [
    "Para unirlo haremos un groupby() por los nombres de todas las columnas que queremos considerar a la hora de ver dos filas como iguales. Las consideraremos todas, excepto valor. Una vez agrupadas, te quedas con la columna valor para aplicar sobre ella la función sum.\n",
    "\n",
    "El resultado sería una serie con las sumas de \"valor\", pero indexado jerárquicamente (multi-index) según los grupos formados. Hacemos un .reset_index() para \"deshacer\" el índice jerárquico, convirtiéndolo de nuevo en columnas como el que tenía el dataframe original."
   ]
  },
  {
   "cell_type": "code",
   "execution_count": 49,
   "metadata": {},
   "outputs": [],
   "source": [
    "res = df.groupby([\"indicador\",\"fecha\",\"isla\"]).valor.mean().reset_index()"
   ]
  },
  {
   "cell_type": "code",
   "execution_count": 50,
   "metadata": {},
   "outputs": [
    {
     "name": "stdout",
     "output_type": "stream",
     "text": [
      "                                     indicador   fecha                   isla  \\\n",
      "0  Ingresos por habitación disponible (RevPAR)  2010Q1                  Adeje   \n",
      "1  Ingresos por habitación disponible (RevPAR)  2010Q1                Antigua   \n",
      "2  Ingresos por habitación disponible (RevPAR)  2010Q1                  Arona   \n",
      "3  Ingresos por habitación disponible (RevPAR)  2010Q1               Arrecife   \n",
      "4  Ingresos por habitación disponible (RevPAR)  2010Q1             Breña Baja   \n",
      "5  Ingresos por habitación disponible (RevPAR)  2010Q1               CANARIAS   \n",
      "6  Ingresos por habitación disponible (RevPAR)  2010Q1              EL HIERRO   \n",
      "7  Ingresos por habitación disponible (RevPAR)  2010Q1                El Paso   \n",
      "8  Ingresos por habitación disponible (RevPAR)  2010Q1  El Pinar de El Hierro   \n",
      "9  Ingresos por habitación disponible (RevPAR)  2010Q1               Frontera   \n",
      "\n",
      "       valor  \n",
      "0  50.136667  \n",
      "1  29.920000  \n",
      "2  45.950000  \n",
      "3  17.120000  \n",
      "4  20.843333  \n",
      "5  40.720000  \n",
      "6  12.930000  \n",
      "7  25.013333  \n",
      "8   4.493333  \n",
      "9   8.190000  \n",
      "(3120, 4)\n"
     ]
    }
   ],
   "source": [
    "print(res.head(10))\n",
    "print(res.shape)"
   ]
  },
  {
   "cell_type": "code",
   "execution_count": 51,
   "metadata": {
    "scrolled": true
   },
   "outputs": [
    {
     "data": {
      "text/html": [
       "<div>\n",
       "<style scoped>\n",
       "    .dataframe tbody tr th:only-of-type {\n",
       "        vertical-align: middle;\n",
       "    }\n",
       "\n",
       "    .dataframe tbody tr th {\n",
       "        vertical-align: top;\n",
       "    }\n",
       "\n",
       "    .dataframe thead th {\n",
       "        text-align: right;\n",
       "    }\n",
       "</style>\n",
       "<table border=\"1\" class=\"dataframe\">\n",
       "  <thead>\n",
       "    <tr style=\"text-align: right;\">\n",
       "      <th></th>\n",
       "      <th>indicador</th>\n",
       "      <th>fecha</th>\n",
       "      <th>isla</th>\n",
       "      <th>valor</th>\n",
       "    </tr>\n",
       "  </thead>\n",
       "  <tbody>\n",
       "    <tr>\n",
       "      <th>1533</th>\n",
       "      <td>Ingresos por habitación disponible (RevPAR)</td>\n",
       "      <td>2019Q4</td>\n",
       "      <td>Gran Canaria</td>\n",
       "      <td>72.040000</td>\n",
       "    </tr>\n",
       "    <tr>\n",
       "      <th>3093</th>\n",
       "      <td>Tarifa media por habitación mensual (ADR)</td>\n",
       "      <td>2019Q4</td>\n",
       "      <td>Gran Canaria</td>\n",
       "      <td>92.593333</td>\n",
       "    </tr>\n",
       "  </tbody>\n",
       "</table>\n",
       "</div>"
      ],
      "text/plain": [
       "                                        indicador   fecha          isla  \\\n",
       "1533  Ingresos por habitación disponible (RevPAR)  2019Q4  Gran Canaria   \n",
       "3093    Tarifa media por habitación mensual (ADR)  2019Q4  Gran Canaria   \n",
       "\n",
       "          valor  \n",
       "1533  72.040000  \n",
       "3093  92.593333  "
      ]
     },
     "execution_count": 51,
     "metadata": {},
     "output_type": "execute_result"
    }
   ],
   "source": [
    "x = res[res.fecha.isin(pd.period_range('2019Q4', periods=1, freq='Q')) \n",
    "           & res.isla.isin([\"Gran Canaria\"])\n",
    "           ]\n",
    "x.head()"
   ]
  },
  {
   "cell_type": "markdown",
   "metadata": {},
   "source": [
    "## 4.2 Aquí creamos el metodo para unir los datos por quartiles en todos los ficheros\n",
    "\n",
    "tipo_union puedo tomar dos valores:\n",
    "\n",
    "    0 indica que es una unión de suma de valores\n",
    "    1 indica que es una unión de media de valores"
   ]
  },
  {
   "cell_type": "code",
   "execution_count": 52,
   "metadata": {},
   "outputs": [],
   "source": [
    "# A este método se le pasa como parámetro un dataframe y agrupa las filas cuyos valores por columnas \n",
    "# son iguales menos la columna \"valor\" para el que se sumaran los valores o se hace la media en función del tipo de union\n",
    "\n",
    "#tipo_union puedo tomar dos valores:\n",
    "# 0 indica que es una unión de suma de valores\n",
    "# 1 indica que es una unión de media de valores\n",
    "\n",
    "def juntar(df,tipo_union):\n",
    "    #Creamos un array con todas las columnas menos valor que es comun a todas y es por donde uniremos\n",
    "    lastshape = df.shape\n",
    "    arr =[]\n",
    "    for colum in df:\n",
    "        if colum != \"valor\": \n",
    "            arr.append(colum)\n",
    "    \n",
    "    if tipo_union == 0:\n",
    "        df = df.groupby(arr).valor.apply(sum).reset_index()\n",
    "    elif tipo_union == 1:\n",
    "        df = df.groupby(arr).valor.mean().reset_index()\n",
    "    else:\n",
    "        print(\"tipo de union solo toma el valor de 0 para sumar, o 1 para la media\")\n",
    "        \n",
    "    newshape = df.shape\n",
    "    \n",
    "    print(\"El archivo antes tenia las filas y columnas {} ahora depues de unir por los cuartiles tiene {}\".format(\n",
    "            lastshape, newshape\n",
    "    ))\n",
    "    print(df.head(2))\n",
    "    return df"
   ]
  },
  {
   "cell_type": "markdown",
   "metadata": {},
   "source": [
    "# EJECUTAMOS LA FUNCIÓN JUNTAR() Y GUARDAMOS LOS CAMBIOS"
   ]
  },
  {
   "cell_type": "code",
   "execution_count": 53,
   "metadata": {},
   "outputs": [
    {
     "name": "stdout",
     "output_type": "stream",
     "text": [
      "El archivo antes tenia las filas y columnas (9360, 4) ahora depues de unir por los cuartiles tiene (3120, 4)\n",
      "                                     indicador   isla   fecha      valor\n",
      "0  Ingresos por habitación disponible (RevPAR)  Adeje  2010Q1  50.136667\n",
      "1  Ingresos por habitación disponible (RevPAR)  Adeje  2010Q2  36.790000\n",
      "El archivo antes tenia las filas y columnas (56160, 4) ahora depues de unir por los cuartiles tiene (15600, 4)\n",
      "       pais   isla   fecha     valor\n",
      "0  Alemania  Adeje  2010Q1  9.970000\n",
      "1  Alemania  Adeje  2010Q2  9.296667\n",
      "El archivo antes tenia las filas y columnas (9360, 4) ahora depues de unir por los cuartiles tiene (3120, 4)\n",
      "                                         indicador   isla   fecha      valor\n",
      "0  Tasa de ocupación por habitaciones-apartamentos  Adeje  2010Q1  74.816667\n",
      "1  Tasa de ocupación por habitaciones-apartamentos  Adeje  2010Q2  62.096667\n",
      "El archivo antes tenia las filas y columnas (4680, 4) ahora depues de unir por los cuartiles tiene (1560, 4)\n",
      "          indicador   isla   fecha        valor\n",
      "0  Ingresos totales  Adeje  2010Q1  94680697.18\n",
      "1  Ingresos totales  Adeje  2010Q2  69942418.29\n",
      "El archivo antes tenia las filas y columnas (14760, 4) ahora depues de unir por los cuartiles tiene (4920, 4)\n",
      "                   indicador   isla   fecha  valor\n",
      "0  Establecimientos abiertos  Adeje  2010Q1    330\n",
      "1  Establecimientos abiertos  Adeje  2010Q2    329\n"
     ]
    }
   ],
   "source": [
    "# ARCHIVOS PARA HACER LA MEDIA:\n",
    "aux1 = [ADR_RevPAR_ingresos_div2,list_all_csv[2],list_all_csv[3]]\n",
    "auxnames1 = ['ADR_RevPAR_ingresos_div2.csv', 'estancia_media.csv', 'tasa_ocupacion.csv']\n",
    "i=0\n",
    "for archivo in aux1:\n",
    "    archivo = juntar(archivo,1)\n",
    "    #Guardamos\n",
    "    rutaDatosTratados = \"../PredictorGastoTuristico/DatosGuardados/\"\n",
    "    archivo.to_csv(rutaDatosTratados + auxnames1[i] + \".csv\", index = False, encoding='utf-8')\n",
    "    i = i + 1\n",
    "\n",
    "#ARCHIVOS PARA HACER LA SUMA:\n",
    "aux2 = [ADR_RevPAR_ingresos_div1,list_all_csv[1]]\n",
    "auxnames2 = ['ADR_RevPAR_ingresos_div1.csv', 'establecimientos_plazas.csv']\n",
    "\n",
    "i=0\n",
    "for archivo in aux2:\n",
    "    archivo = juntar(archivo,0)\n",
    "    #Guardamos\n",
    "    rutaDatosTratados = \"../PredictorGastoTuristico/DatosGuardados/\"\n",
    "    archivo.to_csv(rutaDatosTratados + auxnames2[i] + \".csv\", index = False, encoding='utf-8')\n",
    "    i = i + 1"
   ]
  }
 ],
 "metadata": {
  "kernelspec": {
   "display_name": "Python 3",
   "language": "python",
   "name": "python3"
  },
  "language_info": {
   "codemirror_mode": {
    "name": "ipython",
    "version": 3
   },
   "file_extension": ".py",
   "mimetype": "text/x-python",
   "name": "python",
   "nbconvert_exporter": "python",
   "pygments_lexer": "ipython3",
   "version": "3.8.5"
  }
 },
 "nbformat": 4,
 "nbformat_minor": 4
}
