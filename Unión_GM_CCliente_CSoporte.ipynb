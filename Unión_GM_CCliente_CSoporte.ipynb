{
 "cells": [
  {
   "cell_type": "markdown",
   "metadata": {},
   "source": [
    "# GASTO MEDIO - CARACTERÍSTICAS CLIENTE \n",
    "# - CARACTERÍSTICAS SOPORTE\n",
    "\n",
    "# JOIN"
   ]
  },
  {
   "cell_type": "markdown",
   "metadata": {},
   "source": [
    "# Proposito:"
   ]
  },
  {
   "cell_type": "markdown",
   "metadata": {},
   "source": [
    "En este notebook nos dedicaremos a la unión del gasto medio con características de nuestro cliente. \n",
    "\n",
    "cargamos los ficheros y miramos los tipos de variables, creamos variables categoricas y hago una union simple de los datos con los ficheros que tienen fecha paies e isla. fin con eso creo que puedo hacer un predictor. ya luego veremos si se añaden características de soporte o que...\n"
   ]
  },
  {
   "cell_type": "code",
   "execution_count": 1,
   "metadata": {
    "scrolled": true
   },
   "outputs": [
    {
     "name": "stdout",
     "output_type": "stream",
     "text": [
      "Last updated: 2023-02-14T11:12:38.730489+00:00\n",
      "\n",
      "Python implementation: CPython\n",
      "Python version       : 3.8.5\n",
      "IPython version      : 7.19.0\n",
      "\n",
      "Compiler    : MSC v.1916 64 bit (AMD64)\n",
      "OS          : Windows\n",
      "Release     : 10\n",
      "Machine     : AMD64\n",
      "Processor   : Intel64 Family 6 Model 126 Stepping 5, GenuineIntel\n",
      "CPU cores   : 8\n",
      "Architecture: 64bit\n",
      "\n"
     ]
    }
   ],
   "source": [
    "%load_ext watermark\n",
    "%watermark"
   ]
  },
  {
   "cell_type": "code",
   "execution_count": 2,
   "metadata": {},
   "outputs": [],
   "source": [
    "import pandas as pd\n",
    "import numpy as np\n",
    "import os\n",
    "import re"
   ]
  },
  {
   "cell_type": "markdown",
   "metadata": {},
   "source": [
    "# PREPARACION PREVIA\n",
    "\n",
    "Primero necesitamos copiar todos nuestros archivos en una carpeta donde podramos manipularlos para así conservar los archivos originales"
   ]
  },
  {
   "cell_type": "code",
   "execution_count": 3,
   "metadata": {},
   "outputs": [],
   "source": [
    "from distutils.dir_util import copy_tree\n",
    "\n",
    "# Método que limpia la carpeta de datos volatiles ya que es \n",
    "# una carpeta activa en todos los programas que hemos generado.\n",
    "def limpiaCarpetaVolatil(rutaCopia):\n",
    "    print(\"Limpiando Carpeta Volatil...\")\n",
    "    for f in os.listdir(rutaCopia):\n",
    "        os.remove(os.path.join(rutaCopia, f))\n",
    "        \n",
    "#Metodo que copia recursivamente\n",
    "def copia(dir_origen,dir_destino):\n",
    "    print(\"Copiando...\")\n",
    "    copy_tree(dir_origen, dir_destino)\n",
    "    print(\"Copiado\")\n",
    "    print(os.listdir(dir_destino))\n",
    "  \n"
   ]
  },
  {
   "cell_type": "code",
   "execution_count": 4,
   "metadata": {
    "scrolled": false
   },
   "outputs": [
    {
     "name": "stdout",
     "output_type": "stream",
     "text": [
      "Limpiando Carpeta Volatil...\n",
      "Copiando...\n",
      "Copiado\n",
      "['ADR_RevPAR_ingresos_div1.csv.csv', 'ADR_RevPAR_ingresos_div2.csv.csv', 'establecimientos_plazas.csv.csv', 'estancia_media.csv.csv', 'GMI_join_cc.csv', 'tasa_ocupacion.csv.csv']\n"
     ]
    }
   ],
   "source": [
    "rutaBase= \"../PredictorGastoTuristico/DatosGuardadosVirgenes/GM_JOIN_Carct_Soporte/\"\n",
    "rutaCopia= \"../PredictorGastoTuristico/DatosVolatiles/\"\n",
    "\n",
    "limpiaCarpetaVolatil(rutaCopia)\n",
    "copia(rutaBase,rutaCopia)"
   ]
  },
  {
   "cell_type": "markdown",
   "metadata": {},
   "source": [
    "## Primero cargamos los archivos para tratarlos y finalmente unirlos:"
   ]
  },
  {
   "cell_type": "code",
   "execution_count": 5,
   "metadata": {
    "scrolled": false
   },
   "outputs": [
    {
     "name": "stdout",
     "output_type": "stream",
     "text": [
      "0 ADR_RevPAR_ingresos_div1.csv.csv\n",
      "1 ADR_RevPAR_ingresos_div2.csv.csv\n",
      "2 establecimientos_plazas.csv.csv\n",
      "3 estancia_media.csv.csv\n",
      "4 GMI_join_cc.csv\n",
      "5 tasa_ocupacion.csv.csv\n"
     ]
    }
   ],
   "source": [
    "ruta = rutaCopia\n",
    "list_csv_names = os.listdir(ruta)\n",
    "index = 0\n",
    "for archivo in list_csv_names:\n",
    "    print(str(index) + \" \" + archivo)\n",
    "    index = index + 1"
   ]
  },
  {
   "cell_type": "code",
   "execution_count": 6,
   "metadata": {},
   "outputs": [],
   "source": [
    "ADR_RevPAR_ingresos_div1 = pd.read_csv(ruta+list_csv_names[0],keep_default_na=False, na_values=[\"\"])\n",
    "ADR_RevPAR_ingresos_div2 = pd.read_csv(ruta+list_csv_names[1],keep_default_na=False, na_values=[\"\"])\n",
    "establecimientos_plazas = pd.read_csv(ruta+list_csv_names[2],keep_default_na=False, na_values=[\"\"])\n",
    "estancia_media = pd.read_csv(ruta+list_csv_names[3],keep_default_na=False, na_values=[\"\"])\n",
    "GMI_join_cc = pd.read_csv(ruta+list_csv_names[4],keep_default_na=False, na_values=[\"\"])\n",
    "tasa_ocupacion = pd.read_csv(ruta+list_csv_names[5],keep_default_na=False, na_values=[\"\"])"
   ]
  },
  {
   "cell_type": "markdown",
   "metadata": {},
   "source": [
    "**GMI_join_cc** -> GASTO MEDIO ISLAS UNIDO CON CARACTERISTICAS CLIENTE "
   ]
  },
  {
   "cell_type": "code",
   "execution_count": 7,
   "metadata": {},
   "outputs": [],
   "source": [
    "list_all_csv = [ADR_RevPAR_ingresos_div1,ADR_RevPAR_ingresos_div2,establecimientos_plazas,\n",
    "                estancia_media,GMI_join_cc,tasa_ocupacion]"
   ]
  },
  {
   "cell_type": "markdown",
   "metadata": {},
   "source": [
    "# Empezamos trabajando con el archivo gasto_medio_islas como pivote"
   ]
  },
  {
   "cell_type": "code",
   "execution_count": 8,
   "metadata": {},
   "outputs": [
    {
     "data": {
      "text/html": [
       "<div>\n",
       "<style scoped>\n",
       "    .dataframe tbody tr th:only-of-type {\n",
       "        vertical-align: middle;\n",
       "    }\n",
       "\n",
       "    .dataframe tbody tr th {\n",
       "        vertical-align: top;\n",
       "    }\n",
       "\n",
       "    .dataframe thead th {\n",
       "        text-align: right;\n",
       "    }\n",
       "</style>\n",
       "<table border=\"1\" class=\"dataframe\">\n",
       "  <thead>\n",
       "    <tr style=\"text-align: right;\">\n",
       "      <th></th>\n",
       "      <th>fecha</th>\n",
       "      <th>pais</th>\n",
       "      <th>isla</th>\n",
       "      <th>Total Turistas</th>\n",
       "      <th>Total Turistas Principales</th>\n",
       "      <th>Total Turistas Secundarios</th>\n",
       "      <th>total gasto por turista</th>\n",
       "      <th>gasto por turista alojamiento</th>\n",
       "      <th>gasto por turista transporte nacional / internacional</th>\n",
       "      <th>gasto por turista  otros</th>\n",
       "      <th>...</th>\n",
       "      <th>Turistas Hombres TOTAL EDADES</th>\n",
       "      <th>Turistas Mujeres TOTAL EDADES</th>\n",
       "      <th>Total Turistas por motivo: Ocio o vacaciones</th>\n",
       "      <th>Total Turistas por motivo: Otros motivos</th>\n",
       "      <th>Total Turistas por motivo: Personal</th>\n",
       "      <th>Total Turistas por motivo: TOTAL MOTIVOS</th>\n",
       "      <th>Total Turistas por motivo: Trabajo o negocios</th>\n",
       "      <th>Total Turistas: No contrataron un paquete turístico</th>\n",
       "      <th>Total Turistas: Sí contrataron un paquete turístico</th>\n",
       "      <th>Total Turistas: Total</th>\n",
       "    </tr>\n",
       "  </thead>\n",
       "  <tbody>\n",
       "    <tr>\n",
       "      <th>0</th>\n",
       "      <td>2010Q1</td>\n",
       "      <td>Alemania</td>\n",
       "      <td>Fuerteventura</td>\n",
       "      <td>143560.0</td>\n",
       "      <td>139893.0</td>\n",
       "      <td>3668.0</td>\n",
       "      <td>1040.55</td>\n",
       "      <td>473.62</td>\n",
       "      <td>334.83</td>\n",
       "      <td>232.11</td>\n",
       "      <td>...</td>\n",
       "      <td>NaN</td>\n",
       "      <td>NaN</td>\n",
       "      <td>NaN</td>\n",
       "      <td>NaN</td>\n",
       "      <td>NaN</td>\n",
       "      <td>NaN</td>\n",
       "      <td>NaN</td>\n",
       "      <td>NaN</td>\n",
       "      <td>NaN</td>\n",
       "      <td>NaN</td>\n",
       "    </tr>\n",
       "    <tr>\n",
       "      <th>1</th>\n",
       "      <td>2010Q1</td>\n",
       "      <td>Alemania</td>\n",
       "      <td>Gran Canaria</td>\n",
       "      <td>213576.0</td>\n",
       "      <td>210319.0</td>\n",
       "      <td>3258.0</td>\n",
       "      <td>1195.45</td>\n",
       "      <td>498.81</td>\n",
       "      <td>350.78</td>\n",
       "      <td>345.86</td>\n",
       "      <td>...</td>\n",
       "      <td>NaN</td>\n",
       "      <td>NaN</td>\n",
       "      <td>NaN</td>\n",
       "      <td>NaN</td>\n",
       "      <td>NaN</td>\n",
       "      <td>NaN</td>\n",
       "      <td>NaN</td>\n",
       "      <td>NaN</td>\n",
       "      <td>NaN</td>\n",
       "      <td>NaN</td>\n",
       "    </tr>\n",
       "    <tr>\n",
       "      <th>2</th>\n",
       "      <td>2010Q1</td>\n",
       "      <td>Alemania</td>\n",
       "      <td>La Palma</td>\n",
       "      <td>24677.0</td>\n",
       "      <td>21531.0</td>\n",
       "      <td>3146.0</td>\n",
       "      <td>1052.89</td>\n",
       "      <td>380.01</td>\n",
       "      <td>290.08</td>\n",
       "      <td>382.81</td>\n",
       "      <td>...</td>\n",
       "      <td>NaN</td>\n",
       "      <td>NaN</td>\n",
       "      <td>NaN</td>\n",
       "      <td>NaN</td>\n",
       "      <td>NaN</td>\n",
       "      <td>NaN</td>\n",
       "      <td>NaN</td>\n",
       "      <td>NaN</td>\n",
       "      <td>NaN</td>\n",
       "      <td>NaN</td>\n",
       "    </tr>\n",
       "    <tr>\n",
       "      <th>3</th>\n",
       "      <td>2010Q1</td>\n",
       "      <td>Alemania</td>\n",
       "      <td>Lanzarote</td>\n",
       "      <td>78239.0</td>\n",
       "      <td>72847.0</td>\n",
       "      <td>5392.0</td>\n",
       "      <td>1012.47</td>\n",
       "      <td>406.05</td>\n",
       "      <td>293.55</td>\n",
       "      <td>312.86</td>\n",
       "      <td>...</td>\n",
       "      <td>NaN</td>\n",
       "      <td>NaN</td>\n",
       "      <td>NaN</td>\n",
       "      <td>NaN</td>\n",
       "      <td>NaN</td>\n",
       "      <td>NaN</td>\n",
       "      <td>NaN</td>\n",
       "      <td>NaN</td>\n",
       "      <td>NaN</td>\n",
       "      <td>NaN</td>\n",
       "    </tr>\n",
       "    <tr>\n",
       "      <th>4</th>\n",
       "      <td>2010Q1</td>\n",
       "      <td>Alemania</td>\n",
       "      <td>Tenerife</td>\n",
       "      <td>166119.0</td>\n",
       "      <td>165266.0</td>\n",
       "      <td>854.0</td>\n",
       "      <td>1242.21</td>\n",
       "      <td>476.28</td>\n",
       "      <td>362.34</td>\n",
       "      <td>403.60</td>\n",
       "      <td>...</td>\n",
       "      <td>NaN</td>\n",
       "      <td>NaN</td>\n",
       "      <td>NaN</td>\n",
       "      <td>NaN</td>\n",
       "      <td>NaN</td>\n",
       "      <td>NaN</td>\n",
       "      <td>NaN</td>\n",
       "      <td>NaN</td>\n",
       "      <td>NaN</td>\n",
       "      <td>NaN</td>\n",
       "    </tr>\n",
       "  </tbody>\n",
       "</table>\n",
       "<p>5 rows × 30 columns</p>\n",
       "</div>"
      ],
      "text/plain": [
       "    fecha      pais           isla  Total Turistas  \\\n",
       "0  2010Q1  Alemania  Fuerteventura        143560.0   \n",
       "1  2010Q1  Alemania   Gran Canaria        213576.0   \n",
       "2  2010Q1  Alemania       La Palma         24677.0   \n",
       "3  2010Q1  Alemania      Lanzarote         78239.0   \n",
       "4  2010Q1  Alemania       Tenerife        166119.0   \n",
       "\n",
       "   Total Turistas Principales  Total Turistas Secundarios  \\\n",
       "0                    139893.0                      3668.0   \n",
       "1                    210319.0                      3258.0   \n",
       "2                     21531.0                      3146.0   \n",
       "3                     72847.0                      5392.0   \n",
       "4                    165266.0                       854.0   \n",
       "\n",
       "   total gasto por turista  gasto por turista alojamiento  \\\n",
       "0                  1040.55                         473.62   \n",
       "1                  1195.45                         498.81   \n",
       "2                  1052.89                         380.01   \n",
       "3                  1012.47                         406.05   \n",
       "4                  1242.21                         476.28   \n",
       "\n",
       "   gasto por turista transporte nacional / internacional  \\\n",
       "0                                             334.83       \n",
       "1                                             350.78       \n",
       "2                                             290.08       \n",
       "3                                             293.55       \n",
       "4                                             362.34       \n",
       "\n",
       "   gasto por turista  otros  ...  Turistas Hombres TOTAL EDADES  \\\n",
       "0                    232.11  ...                            NaN   \n",
       "1                    345.86  ...                            NaN   \n",
       "2                    382.81  ...                            NaN   \n",
       "3                    312.86  ...                            NaN   \n",
       "4                    403.60  ...                            NaN   \n",
       "\n",
       "   Turistas Mujeres TOTAL EDADES  \\\n",
       "0                            NaN   \n",
       "1                            NaN   \n",
       "2                            NaN   \n",
       "3                            NaN   \n",
       "4                            NaN   \n",
       "\n",
       "   Total Turistas por motivo: Ocio o vacaciones  \\\n",
       "0                                           NaN   \n",
       "1                                           NaN   \n",
       "2                                           NaN   \n",
       "3                                           NaN   \n",
       "4                                           NaN   \n",
       "\n",
       "   Total Turistas por motivo: Otros motivos  \\\n",
       "0                                       NaN   \n",
       "1                                       NaN   \n",
       "2                                       NaN   \n",
       "3                                       NaN   \n",
       "4                                       NaN   \n",
       "\n",
       "   Total Turistas por motivo: Personal  \\\n",
       "0                                  NaN   \n",
       "1                                  NaN   \n",
       "2                                  NaN   \n",
       "3                                  NaN   \n",
       "4                                  NaN   \n",
       "\n",
       "   Total Turistas por motivo: TOTAL MOTIVOS  \\\n",
       "0                                       NaN   \n",
       "1                                       NaN   \n",
       "2                                       NaN   \n",
       "3                                       NaN   \n",
       "4                                       NaN   \n",
       "\n",
       "   Total Turistas por motivo: Trabajo o negocios  \\\n",
       "0                                            NaN   \n",
       "1                                            NaN   \n",
       "2                                            NaN   \n",
       "3                                            NaN   \n",
       "4                                            NaN   \n",
       "\n",
       "   Total Turistas: No contrataron un paquete turístico  \\\n",
       "0                                                NaN     \n",
       "1                                                NaN     \n",
       "2                                                NaN     \n",
       "3                                                NaN     \n",
       "4                                                NaN     \n",
       "\n",
       "   Total Turistas: Sí contrataron un paquete turístico  Total Turistas: Total  \n",
       "0                                                NaN                      NaN  \n",
       "1                                                NaN                      NaN  \n",
       "2                                                NaN                      NaN  \n",
       "3                                                NaN                      NaN  \n",
       "4                                                NaN                      NaN  \n",
       "\n",
       "[5 rows x 30 columns]"
      ]
     },
     "execution_count": 8,
     "metadata": {},
     "output_type": "execute_result"
    }
   ],
   "source": [
    "GMI_join_cc.head(5)"
   ]
  },
  {
   "cell_type": "code",
   "execution_count": 9,
   "metadata": {},
   "outputs": [
    {
     "name": "stdout",
     "output_type": "stream",
     "text": [
      "ADR_RevPAR_ingresos_div1.csv.csv\n",
      "\n",
      " indicador     object\n",
      "isla          object\n",
      "fecha         object\n",
      "valor        float64\n",
      "dtype: object \n",
      "\n",
      "ADR_RevPAR_ingresos_div2.csv.csv\n",
      "\n",
      " indicador     object\n",
      "isla          object\n",
      "fecha         object\n",
      "valor        float64\n",
      "dtype: object \n",
      "\n",
      "establecimientos_plazas.csv.csv\n",
      "\n",
      " indicador    object\n",
      "isla         object\n",
      "fecha        object\n",
      "valor         int64\n",
      "dtype: object \n",
      "\n",
      "estancia_media.csv.csv\n",
      "\n",
      " pais      object\n",
      "isla      object\n",
      "fecha     object\n",
      "valor    float64\n",
      "dtype: object \n",
      "\n",
      "GMI_join_cc.csv\n",
      "\n",
      " fecha                                                     object\n",
      "pais                                                      object\n",
      "isla                                                      object\n",
      "Total Turistas                                           float64\n",
      "Total Turistas Principales                               float64\n",
      "Total Turistas Secundarios                               float64\n",
      "total gasto por turista                                  float64\n",
      "gasto por turista alojamiento                            float64\n",
      "gasto por turista transporte nacional / internacional    float64\n",
      "gasto por turista  otros                                 float64\n",
      "Turistas Hombres De 15 a 24                              float64\n",
      "Turistas Mujeres De 15 a 24                              float64\n",
      "Turistas Hombres De 25 a 44                              float64\n",
      "Turistas Mujeres De 25 a 44                              float64\n",
      "Turistas Hombres De 45 a 64                              float64\n",
      "Turistas Mujeres De 45 a 64                              float64\n",
      "Turistas Hombres Mayor de 64                             float64\n",
      "Turistas Mujeres Mayor de 64                             float64\n",
      "Turistas Hombres Menor de 15                             float64\n",
      "Turistas Mujeres Menor de 15                             float64\n",
      "Turistas Hombres TOTAL EDADES                            float64\n",
      "Turistas Mujeres TOTAL EDADES                            float64\n",
      "Total Turistas por motivo: Ocio o vacaciones             float64\n",
      "Total Turistas por motivo: Otros motivos                 float64\n",
      "Total Turistas por motivo: Personal                      float64\n",
      "Total Turistas por motivo: TOTAL MOTIVOS                 float64\n",
      "Total Turistas por motivo: Trabajo o negocios            float64\n",
      "Total Turistas: No contrataron un paquete turístico      float64\n",
      "Total Turistas: Sí contrataron un paquete turístico      float64\n",
      "Total Turistas: Total                                    float64\n",
      "dtype: object \n",
      "\n",
      "tasa_ocupacion.csv.csv\n",
      "\n",
      " indicador     object\n",
      "isla          object\n",
      "fecha         object\n",
      "valor        float64\n",
      "dtype: object \n",
      "\n"
     ]
    }
   ],
   "source": [
    "i = 0\n",
    "for archivo in list_all_csv:\n",
    "    print(list_csv_names[i])\n",
    "    print(\"\\n {} \\n\".format(archivo.dtypes))\n",
    "    i = i + 1"
   ]
  },
  {
   "cell_type": "markdown",
   "metadata": {},
   "source": [
    "Tal y como vemos los datos no mantienen los tipos establecidos en su tratamiento, asique volveremos a tratarlos nuevamente..."
   ]
  },
  {
   "cell_type": "markdown",
   "metadata": {},
   "source": [
    "# 1. Astype \n",
    "\n",
    "### Columna `valor` tipo int  (CHECK)\n",
    "\n",
    "## Trataremos las siguientes:\n",
    "\n",
    "### Columnas `Fecha, País, Islas, indicador` como Categóricas\n"
   ]
  },
  {
   "cell_type": "markdown",
   "metadata": {},
   "source": [
    "hemos detectado que en la columna valor hay elementos que no son numeros, y son \".\", \"..\" o \"...\", vamos a sustituir esto por \"0\""
   ]
  },
  {
   "cell_type": "code",
   "execution_count": 10,
   "metadata": {
    "scrolled": true
   },
   "outputs": [
    {
     "name": "stdout",
     "output_type": "stream",
     "text": [
      "Se han modificado los dtypes del archivo: ADR_RevPAR_ingresos_div1.csv.csv a: \n",
      " indicador         category\n",
      "isla              category\n",
      "fecha        period[Q-DEC]\n",
      "valor              float64\n",
      "dtype: object\n",
      "Se han modificado los dtypes del archivo: ADR_RevPAR_ingresos_div2.csv.csv a: \n",
      " indicador         category\n",
      "isla              category\n",
      "fecha        period[Q-DEC]\n",
      "valor              float64\n",
      "dtype: object\n",
      "Se han modificado los dtypes del archivo: establecimientos_plazas.csv.csv a: \n",
      " indicador         category\n",
      "isla              category\n",
      "fecha        period[Q-DEC]\n",
      "valor                int64\n",
      "dtype: object\n",
      "Se han modificado los dtypes del archivo: estancia_media.csv.csv a: \n",
      " pais          category\n",
      "isla          category\n",
      "fecha    period[Q-DEC]\n",
      "valor          float64\n",
      "dtype: object\n",
      "Se han modificado los dtypes del archivo: GMI_join_cc.csv a: \n",
      " fecha                                                    period[Q-DEC]\n",
      "pais                                                          category\n",
      "isla                                                          category\n",
      "Total Turistas                                                 float64\n",
      "Total Turistas Principales                                     float64\n",
      "Total Turistas Secundarios                                     float64\n",
      "total gasto por turista                                        float64\n",
      "gasto por turista alojamiento                                  float64\n",
      "gasto por turista transporte nacional / internacional          float64\n",
      "gasto por turista  otros                                       float64\n",
      "Turistas Hombres De 15 a 24                                    float64\n",
      "Turistas Mujeres De 15 a 24                                    float64\n",
      "Turistas Hombres De 25 a 44                                    float64\n",
      "Turistas Mujeres De 25 a 44                                    float64\n",
      "Turistas Hombres De 45 a 64                                    float64\n",
      "Turistas Mujeres De 45 a 64                                    float64\n",
      "Turistas Hombres Mayor de 64                                   float64\n",
      "Turistas Mujeres Mayor de 64                                   float64\n",
      "Turistas Hombres Menor de 15                                   float64\n",
      "Turistas Mujeres Menor de 15                                   float64\n",
      "Turistas Hombres TOTAL EDADES                                  float64\n",
      "Turistas Mujeres TOTAL EDADES                                  float64\n",
      "Total Turistas por motivo: Ocio o vacaciones                   float64\n",
      "Total Turistas por motivo: Otros motivos                       float64\n",
      "Total Turistas por motivo: Personal                            float64\n",
      "Total Turistas por motivo: TOTAL MOTIVOS                       float64\n",
      "Total Turistas por motivo: Trabajo o negocios                  float64\n",
      "Total Turistas: No contrataron un paquete turístico            float64\n",
      "Total Turistas: Sí contrataron un paquete turístico            float64\n",
      "Total Turistas: Total                                          float64\n",
      "dtype: object\n",
      "Se han modificado los dtypes del archivo: tasa_ocupacion.csv.csv a: \n",
      " indicador         category\n",
      "isla              category\n",
      "fecha        period[Q-DEC]\n",
      "valor              float64\n",
      "dtype: object\n"
     ]
    }
   ],
   "source": [
    "i = 0\n",
    "for archivo in list_all_csv:\n",
    "    \n",
    "#COLUMNAS COMUNES\n",
    "    \n",
    "    #FECHA\n",
    "    archivo = archivo.astype({\"fecha\":'period[Q-DEC]'}) \n",
    "    # ISLA\n",
    "    archivo = archivo.astype({\"isla\":'category'})\n",
    "    \n",
    "#COLUMNAS NO COMUNES\n",
    "\n",
    "    # PAIS\n",
    "    if 'pais' in archivo.columns:\n",
    "        archivo = archivo.astype({\"pais\":'category'})\n",
    "    # INDICADOR\n",
    "    if 'indicador' in archivo.columns:\n",
    "        archivo = archivo.astype({\"indicador\":'category'})\n",
    "    \n",
    "    print(\"Se han modificado los dtypes del archivo: {} a: \\n {}\".format(\n",
    "            list_csv_names[i], archivo.dtypes\n",
    "    ))\n",
    "     \n",
    "    #Por alguna razon debemos guardar cambios porque de no hacerlo por alguna manera que\n",
    "    # desconozco no se machaca la informacion existente y no se actualiza el dataframe...\n",
    "    list_all_csv[i] = archivo\n",
    "    i = i + 1"
   ]
  },
  {
   "cell_type": "markdown",
   "metadata": {},
   "source": [
    "# **AÑADIENDO CARACTERTISTICAS DE SOPORTE **\n",
    "\n",
    "## Al pivote `GMI_join_cc` le iremos añadiendo mas datos.\n",
    "\n",
    "        2. ADR_RevPAR_ingresos_div1 y ADR_RevPAR_ingresos_div2\n",
    "        3. establecimientos_plazas\n",
    "        4. estancia_media\n",
    "        5. tasa_ocupacion"
   ]
  },
  {
   "cell_type": "markdown",
   "metadata": {},
   "source": [
    "# 2. Añadimos `ADR_RevPAR_ingresos_div1` y `ADR_RevPAR_ingresos_div2`:\n",
    "\n",
    "- ADR_RevPAR_ingresos_div1 nos indica `Ingresos totales`\n",
    "- ADR_RevPAR_ingresos_div2 nos indica `Ingresos por habitación disponible (RevPAR)` y `Tarifa media por habitación mensual (ADR)`\n",
    "\n",
    "### En ambos casos `transformaremos las filas en columnas` para asi unirlo al gasto."
   ]
  },
  {
   "cell_type": "markdown",
   "metadata": {},
   "source": [
    "# 2.1 Tratamos ADR_RevPAR_ingresos_div1"
   ]
  },
  {
   "cell_type": "code",
   "execution_count": 11,
   "metadata": {
    "scrolled": false
   },
   "outputs": [
    {
     "data": {
      "text/html": [
       "<div>\n",
       "<style scoped>\n",
       "    .dataframe tbody tr th:only-of-type {\n",
       "        vertical-align: middle;\n",
       "    }\n",
       "\n",
       "    .dataframe tbody tr th {\n",
       "        vertical-align: top;\n",
       "    }\n",
       "\n",
       "    .dataframe thead th {\n",
       "        text-align: right;\n",
       "    }\n",
       "</style>\n",
       "<table border=\"1\" class=\"dataframe\">\n",
       "  <thead>\n",
       "    <tr style=\"text-align: right;\">\n",
       "      <th></th>\n",
       "      <th>indicador</th>\n",
       "      <th>isla</th>\n",
       "      <th>fecha</th>\n",
       "      <th>valor</th>\n",
       "    </tr>\n",
       "  </thead>\n",
       "  <tbody>\n",
       "    <tr>\n",
       "      <th>0</th>\n",
       "      <td>Ingresos totales</td>\n",
       "      <td>Adeje</td>\n",
       "      <td>2010Q1</td>\n",
       "      <td>9.468070e+07</td>\n",
       "    </tr>\n",
       "    <tr>\n",
       "      <th>1</th>\n",
       "      <td>Ingresos totales</td>\n",
       "      <td>Adeje</td>\n",
       "      <td>2010Q2</td>\n",
       "      <td>6.994242e+07</td>\n",
       "    </tr>\n",
       "    <tr>\n",
       "      <th>2</th>\n",
       "      <td>Ingresos totales</td>\n",
       "      <td>Adeje</td>\n",
       "      <td>2010Q3</td>\n",
       "      <td>8.967742e+07</td>\n",
       "    </tr>\n",
       "    <tr>\n",
       "      <th>3</th>\n",
       "      <td>Ingresos totales</td>\n",
       "      <td>Adeje</td>\n",
       "      <td>2010Q4</td>\n",
       "      <td>1.040901e+08</td>\n",
       "    </tr>\n",
       "    <tr>\n",
       "      <th>4</th>\n",
       "      <td>Ingresos totales</td>\n",
       "      <td>Adeje</td>\n",
       "      <td>2011Q1</td>\n",
       "      <td>1.196745e+08</td>\n",
       "    </tr>\n",
       "  </tbody>\n",
       "</table>\n",
       "</div>"
      ],
      "text/plain": [
       "          indicador   isla   fecha         valor\n",
       "0  Ingresos totales  Adeje  2010Q1  9.468070e+07\n",
       "1  Ingresos totales  Adeje  2010Q2  6.994242e+07\n",
       "2  Ingresos totales  Adeje  2010Q3  8.967742e+07\n",
       "3  Ingresos totales  Adeje  2010Q4  1.040901e+08\n",
       "4  Ingresos totales  Adeje  2011Q1  1.196745e+08"
      ]
     },
     "execution_count": 11,
     "metadata": {},
     "output_type": "execute_result"
    }
   ],
   "source": [
    "ADR_RevPAR_ingresos_div1.head()"
   ]
  },
  {
   "cell_type": "code",
   "execution_count": 12,
   "metadata": {},
   "outputs": [
    {
     "data": {
      "text/plain": [
       "array(['Ingresos totales'], dtype=object)"
      ]
     },
     "execution_count": 12,
     "metadata": {},
     "output_type": "execute_result"
    }
   ],
   "source": [
    "ADR_RevPAR_ingresos_div1.indicador.unique()"
   ]
  },
  {
   "cell_type": "markdown",
   "metadata": {},
   "source": [
    "La columna indicador tiene 1 unico valor asique renombramos columna valor"
   ]
  },
  {
   "cell_type": "code",
   "execution_count": 13,
   "metadata": {
    "scrolled": true
   },
   "outputs": [
    {
     "data": {
      "text/html": [
       "<div>\n",
       "<style scoped>\n",
       "    .dataframe tbody tr th:only-of-type {\n",
       "        vertical-align: middle;\n",
       "    }\n",
       "\n",
       "    .dataframe tbody tr th {\n",
       "        vertical-align: top;\n",
       "    }\n",
       "\n",
       "    .dataframe thead th {\n",
       "        text-align: right;\n",
       "    }\n",
       "</style>\n",
       "<table border=\"1\" class=\"dataframe\">\n",
       "  <thead>\n",
       "    <tr style=\"text-align: right;\">\n",
       "      <th></th>\n",
       "      <th>isla</th>\n",
       "      <th>fecha</th>\n",
       "      <th>Ingresos totales</th>\n",
       "    </tr>\n",
       "  </thead>\n",
       "  <tbody>\n",
       "    <tr>\n",
       "      <th>0</th>\n",
       "      <td>Adeje</td>\n",
       "      <td>2010Q1</td>\n",
       "      <td>9.468070e+07</td>\n",
       "    </tr>\n",
       "    <tr>\n",
       "      <th>1</th>\n",
       "      <td>Adeje</td>\n",
       "      <td>2010Q2</td>\n",
       "      <td>6.994242e+07</td>\n",
       "    </tr>\n",
       "    <tr>\n",
       "      <th>2</th>\n",
       "      <td>Adeje</td>\n",
       "      <td>2010Q3</td>\n",
       "      <td>8.967742e+07</td>\n",
       "    </tr>\n",
       "    <tr>\n",
       "      <th>3</th>\n",
       "      <td>Adeje</td>\n",
       "      <td>2010Q4</td>\n",
       "      <td>1.040901e+08</td>\n",
       "    </tr>\n",
       "    <tr>\n",
       "      <th>4</th>\n",
       "      <td>Adeje</td>\n",
       "      <td>2011Q1</td>\n",
       "      <td>1.196745e+08</td>\n",
       "    </tr>\n",
       "  </tbody>\n",
       "</table>\n",
       "</div>"
      ],
      "text/plain": [
       "    isla   fecha  Ingresos totales\n",
       "0  Adeje  2010Q1      9.468070e+07\n",
       "1  Adeje  2010Q2      6.994242e+07\n",
       "2  Adeje  2010Q3      8.967742e+07\n",
       "3  Adeje  2010Q4      1.040901e+08\n",
       "4  Adeje  2011Q1      1.196745e+08"
      ]
     },
     "execution_count": 13,
     "metadata": {},
     "output_type": "execute_result"
    }
   ],
   "source": [
    "ADR_RevPAR_ingresos_div1.rename(columns={'valor':'Ingresos totales'}, inplace=True) # Renombramos la columna valor\n",
    "ADR_RevPAR_ingresos_div1.drop('indicador', axis=1, inplace=True)                    # Eliminamos la columna indicador\n",
    "ADR_RevPAR_ingresos_div1.reset_index(drop=True, inplace=True)                       # Reiniciamos el indice\n",
    "\n",
    "#visualizamos cambios\n",
    "ADR_RevPAR_ingresos_div1.head()"
   ]
  },
  {
   "cell_type": "markdown",
   "metadata": {},
   "source": [
    "# 2.2 Tratamos ADR_RevPAR_ingresos_div2"
   ]
  },
  {
   "cell_type": "code",
   "execution_count": 14,
   "metadata": {
    "scrolled": false
   },
   "outputs": [
    {
     "data": {
      "text/html": [
       "<div>\n",
       "<style scoped>\n",
       "    .dataframe tbody tr th:only-of-type {\n",
       "        vertical-align: middle;\n",
       "    }\n",
       "\n",
       "    .dataframe tbody tr th {\n",
       "        vertical-align: top;\n",
       "    }\n",
       "\n",
       "    .dataframe thead th {\n",
       "        text-align: right;\n",
       "    }\n",
       "</style>\n",
       "<table border=\"1\" class=\"dataframe\">\n",
       "  <thead>\n",
       "    <tr style=\"text-align: right;\">\n",
       "      <th></th>\n",
       "      <th>indicador</th>\n",
       "      <th>isla</th>\n",
       "      <th>fecha</th>\n",
       "      <th>valor</th>\n",
       "    </tr>\n",
       "  </thead>\n",
       "  <tbody>\n",
       "    <tr>\n",
       "      <th>0</th>\n",
       "      <td>Ingresos por habitación disponible (RevPAR)</td>\n",
       "      <td>Adeje</td>\n",
       "      <td>2010Q1</td>\n",
       "      <td>50.136667</td>\n",
       "    </tr>\n",
       "    <tr>\n",
       "      <th>1</th>\n",
       "      <td>Ingresos por habitación disponible (RevPAR)</td>\n",
       "      <td>Adeje</td>\n",
       "      <td>2010Q2</td>\n",
       "      <td>36.790000</td>\n",
       "    </tr>\n",
       "    <tr>\n",
       "      <th>2</th>\n",
       "      <td>Ingresos por habitación disponible (RevPAR)</td>\n",
       "      <td>Adeje</td>\n",
       "      <td>2010Q3</td>\n",
       "      <td>47.610000</td>\n",
       "    </tr>\n",
       "    <tr>\n",
       "      <th>3</th>\n",
       "      <td>Ingresos por habitación disponible (RevPAR)</td>\n",
       "      <td>Adeje</td>\n",
       "      <td>2010Q4</td>\n",
       "      <td>53.690000</td>\n",
       "    </tr>\n",
       "    <tr>\n",
       "      <th>4</th>\n",
       "      <td>Ingresos por habitación disponible (RevPAR)</td>\n",
       "      <td>Adeje</td>\n",
       "      <td>2011Q1</td>\n",
       "      <td>62.810000</td>\n",
       "    </tr>\n",
       "  </tbody>\n",
       "</table>\n",
       "</div>"
      ],
      "text/plain": [
       "                                     indicador   isla   fecha      valor\n",
       "0  Ingresos por habitación disponible (RevPAR)  Adeje  2010Q1  50.136667\n",
       "1  Ingresos por habitación disponible (RevPAR)  Adeje  2010Q2  36.790000\n",
       "2  Ingresos por habitación disponible (RevPAR)  Adeje  2010Q3  47.610000\n",
       "3  Ingresos por habitación disponible (RevPAR)  Adeje  2010Q4  53.690000\n",
       "4  Ingresos por habitación disponible (RevPAR)  Adeje  2011Q1  62.810000"
      ]
     },
     "execution_count": 14,
     "metadata": {},
     "output_type": "execute_result"
    }
   ],
   "source": [
    "ADR_RevPAR_ingresos_div2.head()"
   ]
  },
  {
   "cell_type": "code",
   "execution_count": 15,
   "metadata": {},
   "outputs": [
    {
     "data": {
      "text/plain": [
       "array(['Ingresos por habitación disponible (RevPAR)',\n",
       "       'Tarifa media por habitación mensual (ADR)'], dtype=object)"
      ]
     },
     "execution_count": 15,
     "metadata": {},
     "output_type": "execute_result"
    }
   ],
   "source": [
    "ADR_RevPAR_ingresos_div2.indicador.unique()"
   ]
  },
  {
   "cell_type": "markdown",
   "metadata": {},
   "source": [
    "La columna indicador tiene 2 valores, los cogeremos y crearemos columnas de su valor"
   ]
  },
  {
   "cell_type": "code",
   "execution_count": 16,
   "metadata": {
    "scrolled": true
   },
   "outputs": [
    {
     "name": "stdout",
     "output_type": "stream",
     "text": [
      "Antes:(3120, 4)\n",
      "Filtrando por RevPAR: (1560, 3)\n",
      "Filtrando por ADR: (1560, 3)\n"
     ]
    },
    {
     "name": "stderr",
     "output_type": "stream",
     "text": [
      "C:\\Users\\angel\\anaconda3\\lib\\site-packages\\pandas\\core\\frame.py:4296: SettingWithCopyWarning: \n",
      "A value is trying to be set on a copy of a slice from a DataFrame\n",
      "\n",
      "See the caveats in the documentation: https://pandas.pydata.org/pandas-docs/stable/user_guide/indexing.html#returning-a-view-versus-a-copy\n",
      "  return super().rename(\n",
      "C:\\Users\\angel\\anaconda3\\lib\\site-packages\\pandas\\core\\frame.py:4163: SettingWithCopyWarning: \n",
      "A value is trying to be set on a copy of a slice from a DataFrame\n",
      "\n",
      "See the caveats in the documentation: https://pandas.pydata.org/pandas-docs/stable/user_guide/indexing.html#returning-a-view-versus-a-copy\n",
      "  return super().drop(\n"
     ]
    }
   ],
   "source": [
    "#COLUMNA RevPAR\n",
    "\n",
    "# Filtramos por RevPAR\n",
    "dft = ADR_RevPAR_ingresos_div2[ADR_RevPAR_ingresos_div2.indicador.isin([\"Ingresos por habitación disponible (RevPAR)\"])]              \n",
    "dft.rename(columns={'valor':'RevPAR'}, inplace=True)   # Renombramos la columna valor\n",
    "dft.drop('indicador', axis=1, inplace=True)                 # Eliminamos la columna tipo_turista\n",
    "dft.reset_index(drop=True, inplace=True)                       # Reiniciamos el indice\n",
    "\n",
    "#COLUMNA ADR\n",
    "\n",
    "# Filtramos por ADR\n",
    "dft2 = ADR_RevPAR_ingresos_div2[ADR_RevPAR_ingresos_div2.indicador.isin([\"Tarifa media por habitación mensual (ADR)\"])]\n",
    "dft2.rename(columns={'valor':'ADR'}, inplace=True)\n",
    "dft2.drop('indicador', axis=1, inplace=True)    \n",
    "dft2.reset_index(drop=True, inplace=True)\n",
    "\n",
    "#Aqui vemos como la division se ha hecho correctamente\n",
    "print(\"Antes:{}\".format(ADR_RevPAR_ingresos_div2.shape))\n",
    "print(\"Filtrando por RevPAR: {}\".format(dft.shape))\n",
    "print(\"Filtrando por ADR: {}\".format(dft2.shape))\n"
   ]
  },
  {
   "cell_type": "markdown",
   "metadata": {},
   "source": [
    "### Aquí unimos los datos:\n",
    "\n",
    "Hacemos uso de merge ya que con esa función hacemos uniones, en los parámetros indicamos los df a unir, luego ponemos las columnas que harán como clave para la unión y finalemnte indicamos left y right index a True que implica que (utilizamos el índice del DataFrame derch e izq como clave de unión)\n",
    "\n",
    "Doc: https://stackoverflow.com/questions/51814612/understanding-the-left-index-and-right-index-arguments-in-pandas-merge"
   ]
  },
  {
   "cell_type": "code",
   "execution_count": 17,
   "metadata": {},
   "outputs": [
    {
     "data": {
      "text/html": [
       "<div>\n",
       "<style scoped>\n",
       "    .dataframe tbody tr th:only-of-type {\n",
       "        vertical-align: middle;\n",
       "    }\n",
       "\n",
       "    .dataframe tbody tr th {\n",
       "        vertical-align: top;\n",
       "    }\n",
       "\n",
       "    .dataframe thead th {\n",
       "        text-align: right;\n",
       "    }\n",
       "</style>\n",
       "<table border=\"1\" class=\"dataframe\">\n",
       "  <thead>\n",
       "    <tr style=\"text-align: right;\">\n",
       "      <th></th>\n",
       "      <th>isla</th>\n",
       "      <th>fecha</th>\n",
       "      <th>RevPAR</th>\n",
       "      <th>ADR</th>\n",
       "    </tr>\n",
       "  </thead>\n",
       "  <tbody>\n",
       "    <tr>\n",
       "      <th>0</th>\n",
       "      <td>Adeje</td>\n",
       "      <td>2010Q1</td>\n",
       "      <td>50.136667</td>\n",
       "      <td>67.160000</td>\n",
       "    </tr>\n",
       "    <tr>\n",
       "      <th>1</th>\n",
       "      <td>Adeje</td>\n",
       "      <td>2010Q2</td>\n",
       "      <td>36.790000</td>\n",
       "      <td>59.066667</td>\n",
       "    </tr>\n",
       "  </tbody>\n",
       "</table>\n",
       "</div>"
      ],
      "text/plain": [
       "    isla   fecha     RevPAR        ADR\n",
       "0  Adeje  2010Q1  50.136667  67.160000\n",
       "1  Adeje  2010Q2  36.790000  59.066667"
      ]
     },
     "execution_count": 17,
     "metadata": {},
     "output_type": "execute_result"
    }
   ],
   "source": [
    "df = pd.merge(left=dft,right=dft2, on=['isla','fecha'], left_index=True, right_index=True)\n",
    "ADR_RevPAR_ingresos_div2 = df\n",
    "ADR_RevPAR_ingresos_div2.head(2)"
   ]
  },
  {
   "cell_type": "code",
   "execution_count": 18,
   "metadata": {
    "scrolled": true
   },
   "outputs": [
    {
     "data": {
      "text/plain": [
       "(1560, 4)"
      ]
     },
     "execution_count": 18,
     "metadata": {},
     "output_type": "execute_result"
    }
   ],
   "source": [
    "ADR_RevPAR_ingresos_div2.shape"
   ]
  },
  {
   "cell_type": "markdown",
   "metadata": {},
   "source": [
    "### Unificamos ADR_RevPAR_ingresos_div1 y ADR_RevPAR_ingresos_div2"
   ]
  },
  {
   "cell_type": "code",
   "execution_count": 19,
   "metadata": {},
   "outputs": [
    {
     "data": {
      "text/html": [
       "<div>\n",
       "<style scoped>\n",
       "    .dataframe tbody tr th:only-of-type {\n",
       "        vertical-align: middle;\n",
       "    }\n",
       "\n",
       "    .dataframe tbody tr th {\n",
       "        vertical-align: top;\n",
       "    }\n",
       "\n",
       "    .dataframe thead th {\n",
       "        text-align: right;\n",
       "    }\n",
       "</style>\n",
       "<table border=\"1\" class=\"dataframe\">\n",
       "  <thead>\n",
       "    <tr style=\"text-align: right;\">\n",
       "      <th></th>\n",
       "      <th>isla</th>\n",
       "      <th>fecha</th>\n",
       "      <th>Ingresos totales</th>\n",
       "      <th>RevPAR</th>\n",
       "      <th>ADR</th>\n",
       "    </tr>\n",
       "  </thead>\n",
       "  <tbody>\n",
       "    <tr>\n",
       "      <th>0</th>\n",
       "      <td>Adeje</td>\n",
       "      <td>2010Q1</td>\n",
       "      <td>94680697.18</td>\n",
       "      <td>50.136667</td>\n",
       "      <td>67.160000</td>\n",
       "    </tr>\n",
       "    <tr>\n",
       "      <th>1</th>\n",
       "      <td>Adeje</td>\n",
       "      <td>2010Q2</td>\n",
       "      <td>69942418.29</td>\n",
       "      <td>36.790000</td>\n",
       "      <td>59.066667</td>\n",
       "    </tr>\n",
       "  </tbody>\n",
       "</table>\n",
       "</div>"
      ],
      "text/plain": [
       "    isla   fecha  Ingresos totales     RevPAR        ADR\n",
       "0  Adeje  2010Q1       94680697.18  50.136667  67.160000\n",
       "1  Adeje  2010Q2       69942418.29  36.790000  59.066667"
      ]
     },
     "execution_count": 19,
     "metadata": {},
     "output_type": "execute_result"
    }
   ],
   "source": [
    "ADR_RevPAR_ingresos = pd.merge(left=ADR_RevPAR_ingresos_div1,\n",
    "                               right=ADR_RevPAR_ingresos_div2, \n",
    "                               on=['isla','fecha'], \n",
    "                               left_index=True, right_index=True)\n",
    "ADR_RevPAR_ingresos.head(2)"
   ]
  },
  {
   "cell_type": "markdown",
   "metadata": {},
   "source": [
    "# 3 Establecimientos plazas"
   ]
  },
  {
   "cell_type": "code",
   "execution_count": 20,
   "metadata": {
    "scrolled": false
   },
   "outputs": [
    {
     "data": {
      "text/html": [
       "<div>\n",
       "<style scoped>\n",
       "    .dataframe tbody tr th:only-of-type {\n",
       "        vertical-align: middle;\n",
       "    }\n",
       "\n",
       "    .dataframe tbody tr th {\n",
       "        vertical-align: top;\n",
       "    }\n",
       "\n",
       "    .dataframe thead th {\n",
       "        text-align: right;\n",
       "    }\n",
       "</style>\n",
       "<table border=\"1\" class=\"dataframe\">\n",
       "  <thead>\n",
       "    <tr style=\"text-align: right;\">\n",
       "      <th></th>\n",
       "      <th>indicador</th>\n",
       "      <th>isla</th>\n",
       "      <th>fecha</th>\n",
       "      <th>valor</th>\n",
       "    </tr>\n",
       "  </thead>\n",
       "  <tbody>\n",
       "    <tr>\n",
       "      <th>0</th>\n",
       "      <td>Establecimientos abiertos</td>\n",
       "      <td>Adeje</td>\n",
       "      <td>2010Q1</td>\n",
       "      <td>330</td>\n",
       "    </tr>\n",
       "    <tr>\n",
       "      <th>1</th>\n",
       "      <td>Establecimientos abiertos</td>\n",
       "      <td>Adeje</td>\n",
       "      <td>2010Q2</td>\n",
       "      <td>329</td>\n",
       "    </tr>\n",
       "    <tr>\n",
       "      <th>2</th>\n",
       "      <td>Establecimientos abiertos</td>\n",
       "      <td>Adeje</td>\n",
       "      <td>2010Q3</td>\n",
       "      <td>326</td>\n",
       "    </tr>\n",
       "    <tr>\n",
       "      <th>3</th>\n",
       "      <td>Establecimientos abiertos</td>\n",
       "      <td>Adeje</td>\n",
       "      <td>2010Q4</td>\n",
       "      <td>330</td>\n",
       "    </tr>\n",
       "    <tr>\n",
       "      <th>4</th>\n",
       "      <td>Establecimientos abiertos</td>\n",
       "      <td>Adeje</td>\n",
       "      <td>2011Q1</td>\n",
       "      <td>333</td>\n",
       "    </tr>\n",
       "  </tbody>\n",
       "</table>\n",
       "</div>"
      ],
      "text/plain": [
       "                   indicador   isla   fecha  valor\n",
       "0  Establecimientos abiertos  Adeje  2010Q1    330\n",
       "1  Establecimientos abiertos  Adeje  2010Q2    329\n",
       "2  Establecimientos abiertos  Adeje  2010Q3    326\n",
       "3  Establecimientos abiertos  Adeje  2010Q4    330\n",
       "4  Establecimientos abiertos  Adeje  2011Q1    333"
      ]
     },
     "execution_count": 20,
     "metadata": {},
     "output_type": "execute_result"
    }
   ],
   "source": [
    "establecimientos_plazas.head()"
   ]
  },
  {
   "cell_type": "code",
   "execution_count": 21,
   "metadata": {},
   "outputs": [
    {
     "data": {
      "text/plain": [
       "array(['Establecimientos abiertos',\n",
       "       'Habitaciones-apartamentos disponibles', 'Plazas ofertadas'],\n",
       "      dtype=object)"
      ]
     },
     "execution_count": 21,
     "metadata": {},
     "output_type": "execute_result"
    }
   ],
   "source": [
    "establecimientos_plazas.indicador.unique()"
   ]
  },
  {
   "cell_type": "markdown",
   "metadata": {},
   "source": [
    "La columna indicador tiene 3 valores, los cogeremos y crearemos columnas de su valor"
   ]
  },
  {
   "cell_type": "code",
   "execution_count": 22,
   "metadata": {
    "scrolled": true
   },
   "outputs": [
    {
     "name": "stdout",
     "output_type": "stream",
     "text": [
      "Antes:(4920, 4)\n",
      "Filtrando por Establecimientos abiertos: (1640, 3)\n",
      "Filtrando por Habitaciones-apartamentos disponibles: (1640, 3)\n",
      "Filtrando por Plazas ofertadas: (1640, 3)\n"
     ]
    },
    {
     "name": "stderr",
     "output_type": "stream",
     "text": [
      "C:\\Users\\angel\\anaconda3\\lib\\site-packages\\pandas\\core\\frame.py:4296: SettingWithCopyWarning: \n",
      "A value is trying to be set on a copy of a slice from a DataFrame\n",
      "\n",
      "See the caveats in the documentation: https://pandas.pydata.org/pandas-docs/stable/user_guide/indexing.html#returning-a-view-versus-a-copy\n",
      "  return super().rename(\n",
      "C:\\Users\\angel\\anaconda3\\lib\\site-packages\\pandas\\core\\frame.py:4163: SettingWithCopyWarning: \n",
      "A value is trying to be set on a copy of a slice from a DataFrame\n",
      "\n",
      "See the caveats in the documentation: https://pandas.pydata.org/pandas-docs/stable/user_guide/indexing.html#returning-a-view-versus-a-copy\n",
      "  return super().drop(\n"
     ]
    }
   ],
   "source": [
    "#COLUMNA Establecimientos abiertos\n",
    "\n",
    "dft = establecimientos_plazas[establecimientos_plazas.indicador.isin([\"Establecimientos abiertos\"])]              \n",
    "dft.rename(columns={'valor':'Establecimientos abiertos'}, inplace=True)   # Renombramos la columna valor\n",
    "dft.drop('indicador', axis=1, inplace=True)                 # Eliminamos la columna tipo_turista\n",
    "dft.reset_index(drop=True, inplace=True)                       # Reiniciamos el indice\n",
    "\n",
    "#COLUMNA Habitaciones-apartamentos disponibles\n",
    "\n",
    "dft2 = establecimientos_plazas[establecimientos_plazas.indicador.isin([\"Habitaciones-apartamentos disponibles\"])]\n",
    "dft2.rename(columns={'valor':'Hab-aprt disponibles'}, inplace=True)\n",
    "dft2.drop('indicador', axis=1, inplace=True)    \n",
    "dft2.reset_index(drop=True, inplace=True)\n",
    "\n",
    "#COLUMNA Plazas ofertadas\n",
    "\n",
    "dft3 = establecimientos_plazas[establecimientos_plazas.indicador.isin([\"Plazas ofertadas\"])]\n",
    "dft3.rename(columns={'valor':'Plazas ofertadas'}, inplace=True)\n",
    "dft3.drop('indicador', axis=1, inplace=True)    \n",
    "dft3.reset_index(drop=True, inplace=True)\n",
    "\n",
    "#Aqui vemos como la division se ha hecho correctamente\n",
    "print(\"Antes:{}\".format(establecimientos_plazas.shape))\n",
    "print(\"Filtrando por Establecimientos abiertos: {}\".format(dft.shape))\n",
    "print(\"Filtrando por Habitaciones-apartamentos disponibles: {}\".format(dft2.shape))\n",
    "print(\"Filtrando por Plazas ofertadas: {}\".format(dft3.shape))\n"
   ]
  },
  {
   "cell_type": "markdown",
   "metadata": {},
   "source": [
    "### Aquí unimos los datos:\n",
    "\n",
    "Hacemos uso de merge ya que con esa función hacemos uniones, en los parámetros indicamos los df a unir, luego ponemos las columnas que harán como clave para la unión y finalemnte indicamos left y right index a True que implica que (utilizamos el índice del DataFrame derch e izq como clave de unión)\n",
    "\n",
    "Doc: https://stackoverflow.com/questions/51814612/understanding-the-left-index-and-right-index-arguments-in-pandas-merge"
   ]
  },
  {
   "cell_type": "code",
   "execution_count": 23,
   "metadata": {},
   "outputs": [
    {
     "data": {
      "text/html": [
       "<div>\n",
       "<style scoped>\n",
       "    .dataframe tbody tr th:only-of-type {\n",
       "        vertical-align: middle;\n",
       "    }\n",
       "\n",
       "    .dataframe tbody tr th {\n",
       "        vertical-align: top;\n",
       "    }\n",
       "\n",
       "    .dataframe thead th {\n",
       "        text-align: right;\n",
       "    }\n",
       "</style>\n",
       "<table border=\"1\" class=\"dataframe\">\n",
       "  <thead>\n",
       "    <tr style=\"text-align: right;\">\n",
       "      <th></th>\n",
       "      <th>isla</th>\n",
       "      <th>fecha</th>\n",
       "      <th>Establecimientos abiertos</th>\n",
       "      <th>Hab-aprt disponibles</th>\n",
       "      <th>Plazas ofertadas</th>\n",
       "    </tr>\n",
       "  </thead>\n",
       "  <tbody>\n",
       "    <tr>\n",
       "      <th>0</th>\n",
       "      <td>Adeje</td>\n",
       "      <td>2010Q1</td>\n",
       "      <td>330</td>\n",
       "      <td>63006</td>\n",
       "      <td>151899</td>\n",
       "    </tr>\n",
       "    <tr>\n",
       "      <th>1</th>\n",
       "      <td>Adeje</td>\n",
       "      <td>2010Q2</td>\n",
       "      <td>329</td>\n",
       "      <td>62729</td>\n",
       "      <td>150839</td>\n",
       "    </tr>\n",
       "  </tbody>\n",
       "</table>\n",
       "</div>"
      ],
      "text/plain": [
       "    isla   fecha  Establecimientos abiertos  Hab-aprt disponibles  \\\n",
       "0  Adeje  2010Q1                        330                 63006   \n",
       "1  Adeje  2010Q2                        329                 62729   \n",
       "\n",
       "   Plazas ofertadas  \n",
       "0            151899  \n",
       "1            150839  "
      ]
     },
     "execution_count": 23,
     "metadata": {},
     "output_type": "execute_result"
    }
   ],
   "source": [
    "df = pd.merge(left=dft,right=dft2, on=['isla','fecha'], left_index=True, right_index=True)\n",
    "df2 = pd.merge(left=df,right=dft3, on=['isla','fecha'], left_index=True, right_index=True)\n",
    "establecimientos_plazas = df2\n",
    "establecimientos_plazas.head(2)"
   ]
  },
  {
   "cell_type": "code",
   "execution_count": 24,
   "metadata": {
    "scrolled": true
   },
   "outputs": [
    {
     "data": {
      "text/plain": [
       "(1640, 5)"
      ]
     },
     "execution_count": 24,
     "metadata": {},
     "output_type": "execute_result"
    }
   ],
   "source": [
    "establecimientos_plazas.shape"
   ]
  },
  {
   "cell_type": "markdown",
   "metadata": {},
   "source": [
    "# 4 Estancia media"
   ]
  },
  {
   "cell_type": "code",
   "execution_count": 25,
   "metadata": {
    "scrolled": false
   },
   "outputs": [
    {
     "data": {
      "text/html": [
       "<div>\n",
       "<style scoped>\n",
       "    .dataframe tbody tr th:only-of-type {\n",
       "        vertical-align: middle;\n",
       "    }\n",
       "\n",
       "    .dataframe tbody tr th {\n",
       "        vertical-align: top;\n",
       "    }\n",
       "\n",
       "    .dataframe thead th {\n",
       "        text-align: right;\n",
       "    }\n",
       "</style>\n",
       "<table border=\"1\" class=\"dataframe\">\n",
       "  <thead>\n",
       "    <tr style=\"text-align: right;\">\n",
       "      <th></th>\n",
       "      <th>pais</th>\n",
       "      <th>isla</th>\n",
       "      <th>fecha</th>\n",
       "      <th>valor</th>\n",
       "    </tr>\n",
       "  </thead>\n",
       "  <tbody>\n",
       "    <tr>\n",
       "      <th>0</th>\n",
       "      <td>Alemania</td>\n",
       "      <td>Adeje</td>\n",
       "      <td>2010Q1</td>\n",
       "      <td>9.970000</td>\n",
       "    </tr>\n",
       "    <tr>\n",
       "      <th>1</th>\n",
       "      <td>Alemania</td>\n",
       "      <td>Adeje</td>\n",
       "      <td>2010Q2</td>\n",
       "      <td>9.296667</td>\n",
       "    </tr>\n",
       "    <tr>\n",
       "      <th>2</th>\n",
       "      <td>Alemania</td>\n",
       "      <td>Adeje</td>\n",
       "      <td>2010Q3</td>\n",
       "      <td>10.263333</td>\n",
       "    </tr>\n",
       "    <tr>\n",
       "      <th>3</th>\n",
       "      <td>Alemania</td>\n",
       "      <td>Adeje</td>\n",
       "      <td>2010Q4</td>\n",
       "      <td>9.476667</td>\n",
       "    </tr>\n",
       "    <tr>\n",
       "      <th>4</th>\n",
       "      <td>Alemania</td>\n",
       "      <td>Adeje</td>\n",
       "      <td>2011Q1</td>\n",
       "      <td>10.516667</td>\n",
       "    </tr>\n",
       "  </tbody>\n",
       "</table>\n",
       "</div>"
      ],
      "text/plain": [
       "       pais   isla   fecha      valor\n",
       "0  Alemania  Adeje  2010Q1   9.970000\n",
       "1  Alemania  Adeje  2010Q2   9.296667\n",
       "2  Alemania  Adeje  2010Q3  10.263333\n",
       "3  Alemania  Adeje  2010Q4   9.476667\n",
       "4  Alemania  Adeje  2011Q1  10.516667"
      ]
     },
     "execution_count": 25,
     "metadata": {},
     "output_type": "execute_result"
    }
   ],
   "source": [
    "estancia_media.head()"
   ]
  },
  {
   "cell_type": "markdown",
   "metadata": {},
   "source": [
    "Solo hay que renombrar la columna"
   ]
  },
  {
   "cell_type": "code",
   "execution_count": 26,
   "metadata": {
    "scrolled": true
   },
   "outputs": [
    {
     "data": {
      "text/html": [
       "<div>\n",
       "<style scoped>\n",
       "    .dataframe tbody tr th:only-of-type {\n",
       "        vertical-align: middle;\n",
       "    }\n",
       "\n",
       "    .dataframe tbody tr th {\n",
       "        vertical-align: top;\n",
       "    }\n",
       "\n",
       "    .dataframe thead th {\n",
       "        text-align: right;\n",
       "    }\n",
       "</style>\n",
       "<table border=\"1\" class=\"dataframe\">\n",
       "  <thead>\n",
       "    <tr style=\"text-align: right;\">\n",
       "      <th></th>\n",
       "      <th>pais</th>\n",
       "      <th>isla</th>\n",
       "      <th>fecha</th>\n",
       "      <th>Estancia media</th>\n",
       "    </tr>\n",
       "  </thead>\n",
       "  <tbody>\n",
       "    <tr>\n",
       "      <th>0</th>\n",
       "      <td>Alemania</td>\n",
       "      <td>Adeje</td>\n",
       "      <td>2010Q1</td>\n",
       "      <td>9.970000</td>\n",
       "    </tr>\n",
       "    <tr>\n",
       "      <th>1</th>\n",
       "      <td>Alemania</td>\n",
       "      <td>Adeje</td>\n",
       "      <td>2010Q2</td>\n",
       "      <td>9.296667</td>\n",
       "    </tr>\n",
       "    <tr>\n",
       "      <th>2</th>\n",
       "      <td>Alemania</td>\n",
       "      <td>Adeje</td>\n",
       "      <td>2010Q3</td>\n",
       "      <td>10.263333</td>\n",
       "    </tr>\n",
       "    <tr>\n",
       "      <th>3</th>\n",
       "      <td>Alemania</td>\n",
       "      <td>Adeje</td>\n",
       "      <td>2010Q4</td>\n",
       "      <td>9.476667</td>\n",
       "    </tr>\n",
       "    <tr>\n",
       "      <th>4</th>\n",
       "      <td>Alemania</td>\n",
       "      <td>Adeje</td>\n",
       "      <td>2011Q1</td>\n",
       "      <td>10.516667</td>\n",
       "    </tr>\n",
       "  </tbody>\n",
       "</table>\n",
       "</div>"
      ],
      "text/plain": [
       "       pais   isla   fecha  Estancia media\n",
       "0  Alemania  Adeje  2010Q1        9.970000\n",
       "1  Alemania  Adeje  2010Q2        9.296667\n",
       "2  Alemania  Adeje  2010Q3       10.263333\n",
       "3  Alemania  Adeje  2010Q4        9.476667\n",
       "4  Alemania  Adeje  2011Q1       10.516667"
      ]
     },
     "execution_count": 26,
     "metadata": {},
     "output_type": "execute_result"
    }
   ],
   "source": [
    "estancia_media.rename(columns={'valor':'Estancia media'}, inplace=True)   # Renombramos la columna valor\n",
    "\n",
    "#visualizamos cambios\n",
    "estancia_media.head()"
   ]
  },
  {
   "cell_type": "markdown",
   "metadata": {},
   "source": [
    "# 5 Tasa de ocupación"
   ]
  },
  {
   "cell_type": "code",
   "execution_count": 27,
   "metadata": {
    "scrolled": false
   },
   "outputs": [
    {
     "data": {
      "text/html": [
       "<div>\n",
       "<style scoped>\n",
       "    .dataframe tbody tr th:only-of-type {\n",
       "        vertical-align: middle;\n",
       "    }\n",
       "\n",
       "    .dataframe tbody tr th {\n",
       "        vertical-align: top;\n",
       "    }\n",
       "\n",
       "    .dataframe thead th {\n",
       "        text-align: right;\n",
       "    }\n",
       "</style>\n",
       "<table border=\"1\" class=\"dataframe\">\n",
       "  <thead>\n",
       "    <tr style=\"text-align: right;\">\n",
       "      <th></th>\n",
       "      <th>indicador</th>\n",
       "      <th>isla</th>\n",
       "      <th>fecha</th>\n",
       "      <th>valor</th>\n",
       "    </tr>\n",
       "  </thead>\n",
       "  <tbody>\n",
       "    <tr>\n",
       "      <th>0</th>\n",
       "      <td>Tasa de ocupación por habitaciones-apartamentos</td>\n",
       "      <td>Adeje</td>\n",
       "      <td>2010Q1</td>\n",
       "      <td>74.816667</td>\n",
       "    </tr>\n",
       "    <tr>\n",
       "      <th>1</th>\n",
       "      <td>Tasa de ocupación por habitaciones-apartamentos</td>\n",
       "      <td>Adeje</td>\n",
       "      <td>2010Q2</td>\n",
       "      <td>62.096667</td>\n",
       "    </tr>\n",
       "    <tr>\n",
       "      <th>2</th>\n",
       "      <td>Tasa de ocupación por habitaciones-apartamentos</td>\n",
       "      <td>Adeje</td>\n",
       "      <td>2010Q3</td>\n",
       "      <td>73.340000</td>\n",
       "    </tr>\n",
       "    <tr>\n",
       "      <th>3</th>\n",
       "      <td>Tasa de ocupación por habitaciones-apartamentos</td>\n",
       "      <td>Adeje</td>\n",
       "      <td>2010Q4</td>\n",
       "      <td>74.846667</td>\n",
       "    </tr>\n",
       "    <tr>\n",
       "      <th>4</th>\n",
       "      <td>Tasa de ocupación por habitaciones-apartamentos</td>\n",
       "      <td>Adeje</td>\n",
       "      <td>2011Q1</td>\n",
       "      <td>86.040000</td>\n",
       "    </tr>\n",
       "  </tbody>\n",
       "</table>\n",
       "</div>"
      ],
      "text/plain": [
       "                                         indicador   isla   fecha      valor\n",
       "0  Tasa de ocupación por habitaciones-apartamentos  Adeje  2010Q1  74.816667\n",
       "1  Tasa de ocupación por habitaciones-apartamentos  Adeje  2010Q2  62.096667\n",
       "2  Tasa de ocupación por habitaciones-apartamentos  Adeje  2010Q3  73.340000\n",
       "3  Tasa de ocupación por habitaciones-apartamentos  Adeje  2010Q4  74.846667\n",
       "4  Tasa de ocupación por habitaciones-apartamentos  Adeje  2011Q1  86.040000"
      ]
     },
     "execution_count": 27,
     "metadata": {},
     "output_type": "execute_result"
    }
   ],
   "source": [
    "tasa_ocupacion.head()"
   ]
  },
  {
   "cell_type": "code",
   "execution_count": 28,
   "metadata": {},
   "outputs": [
    {
     "data": {
      "text/plain": [
       "array(['Tasa de ocupación por habitaciones-apartamentos',\n",
       "       'Tasa de ocupación por plazas'], dtype=object)"
      ]
     },
     "execution_count": 28,
     "metadata": {},
     "output_type": "execute_result"
    }
   ],
   "source": [
    "tasa_ocupacion.indicador.unique()"
   ]
  },
  {
   "cell_type": "markdown",
   "metadata": {},
   "source": [
    "La columna indicador tiene 3 valores, los cogeremos y crearemos columnas de su valor"
   ]
  },
  {
   "cell_type": "code",
   "execution_count": 29,
   "metadata": {
    "scrolled": true
   },
   "outputs": [
    {
     "name": "stdout",
     "output_type": "stream",
     "text": [
      "Antes:(3120, 4)\n",
      "Filtrando por Establecimientos abiertos: (1560, 3)\n",
      "Filtrando por Habitaciones-apartamentos disponibles: (1560, 3)\n"
     ]
    },
    {
     "name": "stderr",
     "output_type": "stream",
     "text": [
      "C:\\Users\\angel\\anaconda3\\lib\\site-packages\\pandas\\core\\frame.py:4296: SettingWithCopyWarning: \n",
      "A value is trying to be set on a copy of a slice from a DataFrame\n",
      "\n",
      "See the caveats in the documentation: https://pandas.pydata.org/pandas-docs/stable/user_guide/indexing.html#returning-a-view-versus-a-copy\n",
      "  return super().rename(\n",
      "C:\\Users\\angel\\anaconda3\\lib\\site-packages\\pandas\\core\\frame.py:4163: SettingWithCopyWarning: \n",
      "A value is trying to be set on a copy of a slice from a DataFrame\n",
      "\n",
      "See the caveats in the documentation: https://pandas.pydata.org/pandas-docs/stable/user_guide/indexing.html#returning-a-view-versus-a-copy\n",
      "  return super().drop(\n"
     ]
    }
   ],
   "source": [
    "#COLUMNA Establecimientos abiertos\n",
    "\n",
    "dft = tasa_ocupacion[tasa_ocupacion.indicador.isin([\"Tasa de ocupación por habitaciones-apartamentos\"])]              \n",
    "dft.rename(columns={'valor':'Tasa ocupación por Hab-aprt'}, inplace=True)   # Renombramos la columna valor\n",
    "dft.drop('indicador', axis=1, inplace=True)                 # Eliminamos la columna tipo_turista\n",
    "dft.reset_index(drop=True, inplace=True)                       # Reiniciamos el indice\n",
    "\n",
    "#COLUMNA Habitaciones-apartamentos disponibles\n",
    "\n",
    "dft2 = tasa_ocupacion[tasa_ocupacion.indicador.isin([\"Tasa de ocupación por plazas\"])]\n",
    "dft2.rename(columns={'valor':'Tasa ocupación por plazas'}, inplace=True)\n",
    "dft2.drop('indicador', axis=1, inplace=True)    \n",
    "dft2.reset_index(drop=True, inplace=True)\n",
    "\n",
    "#Aqui vemos como la division se ha hecho correctamente\n",
    "print(\"Antes:{}\".format(tasa_ocupacion.shape))\n",
    "print(\"Filtrando por Establecimientos abiertos: {}\".format(dft.shape))\n",
    "print(\"Filtrando por Habitaciones-apartamentos disponibles: {}\".format(dft2.shape))"
   ]
  },
  {
   "cell_type": "markdown",
   "metadata": {},
   "source": [
    "### Aquí unimos los datos:\n",
    "\n",
    "Hacemos uso de merge ya que con esa función hacemos uniones, en los parámetros indicamos los df a unir, luego ponemos las columnas que harán como clave para la unión y finalemnte indicamos left y right index a True que implica que (utilizamos el índice del DataFrame derch e izq como clave de unión)\n",
    "\n",
    "Doc: https://stackoverflow.com/questions/51814612/understanding-the-left-index-and-right-index-arguments-in-pandas-merge"
   ]
  },
  {
   "cell_type": "code",
   "execution_count": 30,
   "metadata": {},
   "outputs": [
    {
     "data": {
      "text/html": [
       "<div>\n",
       "<style scoped>\n",
       "    .dataframe tbody tr th:only-of-type {\n",
       "        vertical-align: middle;\n",
       "    }\n",
       "\n",
       "    .dataframe tbody tr th {\n",
       "        vertical-align: top;\n",
       "    }\n",
       "\n",
       "    .dataframe thead th {\n",
       "        text-align: right;\n",
       "    }\n",
       "</style>\n",
       "<table border=\"1\" class=\"dataframe\">\n",
       "  <thead>\n",
       "    <tr style=\"text-align: right;\">\n",
       "      <th></th>\n",
       "      <th>isla</th>\n",
       "      <th>fecha</th>\n",
       "      <th>Tasa ocupación por Hab-aprt</th>\n",
       "      <th>Tasa ocupación por plazas</th>\n",
       "    </tr>\n",
       "  </thead>\n",
       "  <tbody>\n",
       "    <tr>\n",
       "      <th>0</th>\n",
       "      <td>Adeje</td>\n",
       "      <td>2010Q1</td>\n",
       "      <td>74.816667</td>\n",
       "      <td>64.840000</td>\n",
       "    </tr>\n",
       "    <tr>\n",
       "      <th>1</th>\n",
       "      <td>Adeje</td>\n",
       "      <td>2010Q2</td>\n",
       "      <td>62.096667</td>\n",
       "      <td>57.446667</td>\n",
       "    </tr>\n",
       "  </tbody>\n",
       "</table>\n",
       "</div>"
      ],
      "text/plain": [
       "    isla   fecha  Tasa ocupación por Hab-aprt  Tasa ocupación por plazas\n",
       "0  Adeje  2010Q1                    74.816667                  64.840000\n",
       "1  Adeje  2010Q2                    62.096667                  57.446667"
      ]
     },
     "execution_count": 30,
     "metadata": {},
     "output_type": "execute_result"
    }
   ],
   "source": [
    "df = pd.merge(left=dft,right=dft2, on=['isla','fecha'], left_index=True, right_index=True)\n",
    "tasa_ocupacion = df\n",
    "tasa_ocupacion.head(2)"
   ]
  },
  {
   "cell_type": "code",
   "execution_count": 31,
   "metadata": {
    "scrolled": true
   },
   "outputs": [
    {
     "data": {
      "text/plain": [
       "(1560, 4)"
      ]
     },
     "execution_count": 31,
     "metadata": {},
     "output_type": "execute_result"
    }
   ],
   "source": [
    "tasa_ocupacion.shape"
   ]
  },
  {
   "cell_type": "markdown",
   "metadata": {},
   "source": [
    "# - NOTA IMPORTANTE:\n",
    "\n",
    "Debemos tener en cuenta que el estudio sera referente unica y exclusivamente a los datos de los `paises` e `islas` que tiene **GMI_join_cc**"
   ]
  },
  {
   "cell_type": "code",
   "execution_count": 32,
   "metadata": {},
   "outputs": [
    {
     "data": {
      "text/plain": [
       "array(['Alemania', 'España', 'Holanda', 'Otros países', 'Países Nórdicos',\n",
       "       'Reino Unido', 'TOTAL'], dtype=object)"
      ]
     },
     "execution_count": 32,
     "metadata": {},
     "output_type": "execute_result"
    }
   ],
   "source": [
    "GMI_join_cc.pais.unique()"
   ]
  },
  {
   "cell_type": "code",
   "execution_count": 33,
   "metadata": {},
   "outputs": [
    {
     "data": {
      "text/plain": [
       "array(['Fuerteventura', 'Gran Canaria', 'La Palma', 'Lanzarote',\n",
       "       'Tenerife', 'CANARIAS'], dtype=object)"
      ]
     },
     "execution_count": 33,
     "metadata": {},
     "output_type": "execute_result"
    }
   ],
   "source": [
    "GMI_join_cc.isla.unique()"
   ]
  },
  {
   "cell_type": "markdown",
   "metadata": {},
   "source": [
    "Tal y como veremos a continuanción los archivos que vamos a unir tienen mas información que perderemos."
   ]
  },
  {
   "cell_type": "code",
   "execution_count": 34,
   "metadata": {
    "scrolled": true
   },
   "outputs": [
    {
     "data": {
      "text/plain": [
       "array(['Alemania', 'Canarias', 'España', 'Holanda', 'Otros países',\n",
       "       'Países Nórdicos', 'RESIDENTES EN EL EXTRANJERO', 'Reino Unido',\n",
       "       'Residentes en España excepto Canarias', 'TOTAL'], dtype=object)"
      ]
     },
     "execution_count": 34,
     "metadata": {},
     "output_type": "execute_result"
    }
   ],
   "source": [
    "estancia_media.pais.unique()"
   ]
  },
  {
   "cell_type": "code",
   "execution_count": 35,
   "metadata": {
    "scrolled": true
   },
   "outputs": [
    {
     "data": {
      "text/plain": [
       "array(['Adeje', 'Antigua', 'Arona', 'Arrecife', 'Breña Baja', 'CANARIAS',\n",
       "       'EL HIERRO', 'El Paso', 'El Pinar de El Hierro', 'Frontera',\n",
       "       'Fuencaliente de La Palma', 'Fuerteventura', 'Gran Canaria',\n",
       "       'Granadilla de Abona', 'LA GOMERA', 'La Oliva', 'La Palma',\n",
       "       'Lanzarote', 'Las Palmas de Gran Canaria', 'Los Llanos de Aridane',\n",
       "       'Mogán', 'Puerto de la Cruz', 'Puerto del Rosario', 'Pájara',\n",
       "       'Resto de municipios de Gran Canaria',\n",
       "       'Resto de municipios de La Gomera',\n",
       "       'Resto de municipios de La Palma',\n",
       "       'Resto de municipios de Tenerife', 'San Bartolomé de Tirajana',\n",
       "       'San Sebastián de La Gomera', 'Santa Cruz de La Palma',\n",
       "       'Santa Cruz de Tenerife', 'Santiago del Teide', 'Teguise',\n",
       "       'Tenerife', 'Tías', 'Valle Gran Rey', 'Valverde', 'Yaiza'],\n",
       "      dtype=object)"
      ]
     },
     "execution_count": 35,
     "metadata": {},
     "output_type": "execute_result"
    }
   ],
   "source": [
    "estancia_media.isla.unique()"
   ]
  },
  {
   "cell_type": "markdown",
   "metadata": {},
   "source": [
    "# 6. UNION DE DATOS CON `GMI_join_cc`\n",
    "\n",
    "\n",
    "## Al pivote `GMI_join_cc` le iremos añadiendo mas datos.\n",
    "\n",
    "- 6.1 ADR_RevPAR_ingresos_div1 y ADR_RevPAR_ingresos_div2 -> `ADR_RevPAR_ingresos`\n",
    "\n",
    "- 6.2 `establecimientos_plazas`\n",
    "\n",
    "- 6.3 `estancia_media`\n",
    "\n",
    "- 6.4 `tasa_ocupacion`"
   ]
  },
  {
   "cell_type": "markdown",
   "metadata": {},
   "source": [
    "## 6.1 Unión `ADR_RevPAR_ingresos` con`GMI_join_cc`"
   ]
  },
  {
   "cell_type": "code",
   "execution_count": 36,
   "metadata": {
    "scrolled": false
   },
   "outputs": [
    {
     "data": {
      "text/plain": [
       "(3000, 33)"
      ]
     },
     "execution_count": 36,
     "metadata": {},
     "output_type": "execute_result"
    }
   ],
   "source": [
    "merged = pd.merge(ADR_RevPAR_ingresos,GMI_join_cc,on=['fecha','isla'],how=\"outer\")\n",
    "merged.shape"
   ]
  },
  {
   "cell_type": "code",
   "execution_count": 37,
   "metadata": {},
   "outputs": [
    {
     "data": {
      "text/plain": [
       "isla                                                        0\n",
       "fecha                                                       0\n",
       "Ingresos totales                                            0\n",
       "RevPAR                                                      0\n",
       "ADR                                                         0\n",
       "pais                                                     1320\n",
       "Total Turistas                                           1320\n",
       "Total Turistas Principales                               1600\n",
       "Total Turistas Secundarios                               1600\n",
       "total gasto por turista                                  1325\n",
       "gasto por turista alojamiento                            1330\n",
       "gasto por turista transporte nacional / internacional    1326\n",
       "gasto por turista  otros                                 1324\n",
       "Turistas Hombres De 15 a 24                              2720\n",
       "Turistas Mujeres De 15 a 24                              2720\n",
       "Turistas Hombres De 25 a 44                              2720\n",
       "Turistas Mujeres De 25 a 44                              2720\n",
       "Turistas Hombres De 45 a 64                              2720\n",
       "Turistas Mujeres De 45 a 64                              2720\n",
       "Turistas Hombres Mayor de 64                             2720\n",
       "Turistas Mujeres Mayor de 64                             2720\n",
       "Turistas Hombres Menor de 15                             2720\n",
       "Turistas Mujeres Menor de 15                             2720\n",
       "Turistas Hombres TOTAL EDADES                            2720\n",
       "Turistas Mujeres TOTAL EDADES                            2720\n",
       "Total Turistas por motivo: Ocio o vacaciones             2320\n",
       "Total Turistas por motivo: Otros motivos                 2320\n",
       "Total Turistas por motivo: Personal                      2320\n",
       "Total Turistas por motivo: TOTAL MOTIVOS                 2320\n",
       "Total Turistas por motivo: Trabajo o negocios            2320\n",
       "Total Turistas: No contrataron un paquete turístico      2320\n",
       "Total Turistas: Sí contrataron un paquete turístico      2320\n",
       "Total Turistas: Total                                    2320\n",
       "dtype: int64"
      ]
     },
     "execution_count": 37,
     "metadata": {},
     "output_type": "execute_result"
    }
   ],
   "source": [
    "merged.isnull().sum()"
   ]
  },
  {
   "cell_type": "code",
   "execution_count": 38,
   "metadata": {
    "scrolled": true
   },
   "outputs": [
    {
     "data": {
      "text/html": [
       "<div>\n",
       "<style scoped>\n",
       "    .dataframe tbody tr th:only-of-type {\n",
       "        vertical-align: middle;\n",
       "    }\n",
       "\n",
       "    .dataframe tbody tr th {\n",
       "        vertical-align: top;\n",
       "    }\n",
       "\n",
       "    .dataframe thead th {\n",
       "        text-align: right;\n",
       "    }\n",
       "</style>\n",
       "<table border=\"1\" class=\"dataframe\">\n",
       "  <thead>\n",
       "    <tr style=\"text-align: right;\">\n",
       "      <th></th>\n",
       "      <th>isla</th>\n",
       "      <th>fecha</th>\n",
       "      <th>Ingresos totales</th>\n",
       "      <th>RevPAR</th>\n",
       "      <th>ADR</th>\n",
       "      <th>pais</th>\n",
       "      <th>Total Turistas</th>\n",
       "      <th>Total Turistas Principales</th>\n",
       "      <th>Total Turistas Secundarios</th>\n",
       "      <th>total gasto por turista</th>\n",
       "      <th>...</th>\n",
       "      <th>Turistas Hombres TOTAL EDADES</th>\n",
       "      <th>Turistas Mujeres TOTAL EDADES</th>\n",
       "      <th>Total Turistas por motivo: Ocio o vacaciones</th>\n",
       "      <th>Total Turistas por motivo: Otros motivos</th>\n",
       "      <th>Total Turistas por motivo: Personal</th>\n",
       "      <th>Total Turistas por motivo: TOTAL MOTIVOS</th>\n",
       "      <th>Total Turistas por motivo: Trabajo o negocios</th>\n",
       "      <th>Total Turistas: No contrataron un paquete turístico</th>\n",
       "      <th>Total Turistas: Sí contrataron un paquete turístico</th>\n",
       "      <th>Total Turistas: Total</th>\n",
       "    </tr>\n",
       "  </thead>\n",
       "  <tbody>\n",
       "    <tr>\n",
       "      <th>2997</th>\n",
       "      <td>Yaiza</td>\n",
       "      <td>2019Q2</td>\n",
       "      <td>53458349.41</td>\n",
       "      <td>67.583333</td>\n",
       "      <td>86.08</td>\n",
       "      <td>NaN</td>\n",
       "      <td>NaN</td>\n",
       "      <td>NaN</td>\n",
       "      <td>NaN</td>\n",
       "      <td>NaN</td>\n",
       "      <td>...</td>\n",
       "      <td>NaN</td>\n",
       "      <td>NaN</td>\n",
       "      <td>NaN</td>\n",
       "      <td>NaN</td>\n",
       "      <td>NaN</td>\n",
       "      <td>NaN</td>\n",
       "      <td>NaN</td>\n",
       "      <td>NaN</td>\n",
       "      <td>NaN</td>\n",
       "      <td>NaN</td>\n",
       "    </tr>\n",
       "    <tr>\n",
       "      <th>2998</th>\n",
       "      <td>Yaiza</td>\n",
       "      <td>2019Q3</td>\n",
       "      <td>71925126.97</td>\n",
       "      <td>89.690000</td>\n",
       "      <td>108.40</td>\n",
       "      <td>NaN</td>\n",
       "      <td>NaN</td>\n",
       "      <td>NaN</td>\n",
       "      <td>NaN</td>\n",
       "      <td>NaN</td>\n",
       "      <td>...</td>\n",
       "      <td>NaN</td>\n",
       "      <td>NaN</td>\n",
       "      <td>NaN</td>\n",
       "      <td>NaN</td>\n",
       "      <td>NaN</td>\n",
       "      <td>NaN</td>\n",
       "      <td>NaN</td>\n",
       "      <td>NaN</td>\n",
       "      <td>NaN</td>\n",
       "      <td>NaN</td>\n",
       "    </tr>\n",
       "    <tr>\n",
       "      <th>2999</th>\n",
       "      <td>Yaiza</td>\n",
       "      <td>2019Q4</td>\n",
       "      <td>63146104.61</td>\n",
       "      <td>80.873333</td>\n",
       "      <td>101.52</td>\n",
       "      <td>NaN</td>\n",
       "      <td>NaN</td>\n",
       "      <td>NaN</td>\n",
       "      <td>NaN</td>\n",
       "      <td>NaN</td>\n",
       "      <td>...</td>\n",
       "      <td>NaN</td>\n",
       "      <td>NaN</td>\n",
       "      <td>NaN</td>\n",
       "      <td>NaN</td>\n",
       "      <td>NaN</td>\n",
       "      <td>NaN</td>\n",
       "      <td>NaN</td>\n",
       "      <td>NaN</td>\n",
       "      <td>NaN</td>\n",
       "      <td>NaN</td>\n",
       "    </tr>\n",
       "  </tbody>\n",
       "</table>\n",
       "<p>3 rows × 33 columns</p>\n",
       "</div>"
      ],
      "text/plain": [
       "       isla   fecha  Ingresos totales     RevPAR     ADR pais  Total Turistas  \\\n",
       "2997  Yaiza  2019Q2       53458349.41  67.583333   86.08  NaN             NaN   \n",
       "2998  Yaiza  2019Q3       71925126.97  89.690000  108.40  NaN             NaN   \n",
       "2999  Yaiza  2019Q4       63146104.61  80.873333  101.52  NaN             NaN   \n",
       "\n",
       "      Total Turistas Principales  Total Turistas Secundarios  \\\n",
       "2997                         NaN                         NaN   \n",
       "2998                         NaN                         NaN   \n",
       "2999                         NaN                         NaN   \n",
       "\n",
       "      total gasto por turista  ...  Turistas Hombres TOTAL EDADES  \\\n",
       "2997                      NaN  ...                            NaN   \n",
       "2998                      NaN  ...                            NaN   \n",
       "2999                      NaN  ...                            NaN   \n",
       "\n",
       "      Turistas Mujeres TOTAL EDADES  \\\n",
       "2997                            NaN   \n",
       "2998                            NaN   \n",
       "2999                            NaN   \n",
       "\n",
       "      Total Turistas por motivo: Ocio o vacaciones  \\\n",
       "2997                                           NaN   \n",
       "2998                                           NaN   \n",
       "2999                                           NaN   \n",
       "\n",
       "      Total Turistas por motivo: Otros motivos  \\\n",
       "2997                                       NaN   \n",
       "2998                                       NaN   \n",
       "2999                                       NaN   \n",
       "\n",
       "      Total Turistas por motivo: Personal  \\\n",
       "2997                                  NaN   \n",
       "2998                                  NaN   \n",
       "2999                                  NaN   \n",
       "\n",
       "      Total Turistas por motivo: TOTAL MOTIVOS  \\\n",
       "2997                                       NaN   \n",
       "2998                                       NaN   \n",
       "2999                                       NaN   \n",
       "\n",
       "      Total Turistas por motivo: Trabajo o negocios  \\\n",
       "2997                                            NaN   \n",
       "2998                                            NaN   \n",
       "2999                                            NaN   \n",
       "\n",
       "      Total Turistas: No contrataron un paquete turístico  \\\n",
       "2997                                                NaN     \n",
       "2998                                                NaN     \n",
       "2999                                                NaN     \n",
       "\n",
       "      Total Turistas: Sí contrataron un paquete turístico  \\\n",
       "2997                                                NaN     \n",
       "2998                                                NaN     \n",
       "2999                                                NaN     \n",
       "\n",
       "      Total Turistas: Total  \n",
       "2997                    NaN  \n",
       "2998                    NaN  \n",
       "2999                    NaN  \n",
       "\n",
       "[3 rows x 33 columns]"
      ]
     },
     "execution_count": 38,
     "metadata": {},
     "output_type": "execute_result"
    }
   ],
   "source": [
    "merged.tail(3)"
   ]
  },
  {
   "cell_type": "markdown",
   "metadata": {},
   "source": [
    "## 6.2 Unión de lo anterior con `establecimientos_plazas`"
   ]
  },
  {
   "cell_type": "code",
   "execution_count": 39,
   "metadata": {},
   "outputs": [
    {
     "data": {
      "text/plain": [
       "(3080, 36)"
      ]
     },
     "execution_count": 39,
     "metadata": {},
     "output_type": "execute_result"
    }
   ],
   "source": [
    "merged = pd.merge(merged,establecimientos_plazas,on=['fecha','isla'],how=\"outer\")\n",
    "merged.shape"
   ]
  },
  {
   "cell_type": "code",
   "execution_count": 40,
   "metadata": {
    "scrolled": false
   },
   "outputs": [
    {
     "data": {
      "text/html": [
       "<div>\n",
       "<style scoped>\n",
       "    .dataframe tbody tr th:only-of-type {\n",
       "        vertical-align: middle;\n",
       "    }\n",
       "\n",
       "    .dataframe tbody tr th {\n",
       "        vertical-align: top;\n",
       "    }\n",
       "\n",
       "    .dataframe thead th {\n",
       "        text-align: right;\n",
       "    }\n",
       "</style>\n",
       "<table border=\"1\" class=\"dataframe\">\n",
       "  <thead>\n",
       "    <tr style=\"text-align: right;\">\n",
       "      <th></th>\n",
       "      <th>isla</th>\n",
       "      <th>fecha</th>\n",
       "      <th>Ingresos totales</th>\n",
       "      <th>RevPAR</th>\n",
       "      <th>ADR</th>\n",
       "      <th>pais</th>\n",
       "      <th>Total Turistas</th>\n",
       "      <th>Total Turistas Principales</th>\n",
       "      <th>Total Turistas Secundarios</th>\n",
       "      <th>total gasto por turista</th>\n",
       "      <th>...</th>\n",
       "      <th>Total Turistas por motivo: Otros motivos</th>\n",
       "      <th>Total Turistas por motivo: Personal</th>\n",
       "      <th>Total Turistas por motivo: TOTAL MOTIVOS</th>\n",
       "      <th>Total Turistas por motivo: Trabajo o negocios</th>\n",
       "      <th>Total Turistas: No contrataron un paquete turístico</th>\n",
       "      <th>Total Turistas: Sí contrataron un paquete turístico</th>\n",
       "      <th>Total Turistas: Total</th>\n",
       "      <th>Establecimientos abiertos</th>\n",
       "      <th>Hab-aprt disponibles</th>\n",
       "      <th>Plazas ofertadas</th>\n",
       "    </tr>\n",
       "  </thead>\n",
       "  <tbody>\n",
       "    <tr>\n",
       "      <th>3079</th>\n",
       "      <td>Resto de municipios de Lanzarote</td>\n",
       "      <td>2019Q4</td>\n",
       "      <td>NaN</td>\n",
       "      <td>NaN</td>\n",
       "      <td>NaN</td>\n",
       "      <td>NaN</td>\n",
       "      <td>NaN</td>\n",
       "      <td>NaN</td>\n",
       "      <td>NaN</td>\n",
       "      <td>NaN</td>\n",
       "      <td>...</td>\n",
       "      <td>NaN</td>\n",
       "      <td>NaN</td>\n",
       "      <td>NaN</td>\n",
       "      <td>NaN</td>\n",
       "      <td>NaN</td>\n",
       "      <td>NaN</td>\n",
       "      <td>NaN</td>\n",
       "      <td>21</td>\n",
       "      <td>1707</td>\n",
       "      <td>6522</td>\n",
       "    </tr>\n",
       "  </tbody>\n",
       "</table>\n",
       "<p>1 rows × 36 columns</p>\n",
       "</div>"
      ],
      "text/plain": [
       "                                  isla   fecha  Ingresos totales  RevPAR  ADR  \\\n",
       "3079  Resto de municipios de Lanzarote  2019Q4               NaN     NaN  NaN   \n",
       "\n",
       "     pais  Total Turistas  Total Turistas Principales  \\\n",
       "3079  NaN             NaN                         NaN   \n",
       "\n",
       "      Total Turistas Secundarios  total gasto por turista  ...  \\\n",
       "3079                         NaN                      NaN  ...   \n",
       "\n",
       "      Total Turistas por motivo: Otros motivos  \\\n",
       "3079                                       NaN   \n",
       "\n",
       "      Total Turistas por motivo: Personal  \\\n",
       "3079                                  NaN   \n",
       "\n",
       "      Total Turistas por motivo: TOTAL MOTIVOS  \\\n",
       "3079                                       NaN   \n",
       "\n",
       "      Total Turistas por motivo: Trabajo o negocios  \\\n",
       "3079                                            NaN   \n",
       "\n",
       "      Total Turistas: No contrataron un paquete turístico  \\\n",
       "3079                                                NaN     \n",
       "\n",
       "      Total Turistas: Sí contrataron un paquete turístico  \\\n",
       "3079                                                NaN     \n",
       "\n",
       "      Total Turistas: Total  Establecimientos abiertos  Hab-aprt disponibles  \\\n",
       "3079                    NaN                         21                  1707   \n",
       "\n",
       "      Plazas ofertadas  \n",
       "3079              6522  \n",
       "\n",
       "[1 rows x 36 columns]"
      ]
     },
     "execution_count": 40,
     "metadata": {},
     "output_type": "execute_result"
    }
   ],
   "source": [
    "merged.tail(1)"
   ]
  },
  {
   "cell_type": "markdown",
   "metadata": {},
   "source": [
    "## 6.3 Unión de lo anterior con `estancia_media`"
   ]
  },
  {
   "cell_type": "code",
   "execution_count": 41,
   "metadata": {},
   "outputs": [
    {
     "data": {
      "text/plain": [
       "(17000, 37)"
      ]
     },
     "execution_count": 41,
     "metadata": {},
     "output_type": "execute_result"
    }
   ],
   "source": [
    "merged = pd.merge(merged,estancia_media,on=['fecha','pais','isla'],how=\"outer\")\n",
    "merged.shape"
   ]
  },
  {
   "cell_type": "code",
   "execution_count": 42,
   "metadata": {
    "scrolled": true
   },
   "outputs": [
    {
     "data": {
      "text/html": [
       "<div>\n",
       "<style scoped>\n",
       "    .dataframe tbody tr th:only-of-type {\n",
       "        vertical-align: middle;\n",
       "    }\n",
       "\n",
       "    .dataframe tbody tr th {\n",
       "        vertical-align: top;\n",
       "    }\n",
       "\n",
       "    .dataframe thead th {\n",
       "        text-align: right;\n",
       "    }\n",
       "</style>\n",
       "<table border=\"1\" class=\"dataframe\">\n",
       "  <thead>\n",
       "    <tr style=\"text-align: right;\">\n",
       "      <th></th>\n",
       "      <th>isla</th>\n",
       "      <th>fecha</th>\n",
       "      <th>Ingresos totales</th>\n",
       "      <th>RevPAR</th>\n",
       "      <th>ADR</th>\n",
       "      <th>pais</th>\n",
       "      <th>Total Turistas</th>\n",
       "      <th>Total Turistas Principales</th>\n",
       "      <th>Total Turistas Secundarios</th>\n",
       "      <th>total gasto por turista</th>\n",
       "      <th>...</th>\n",
       "      <th>Total Turistas por motivo: Personal</th>\n",
       "      <th>Total Turistas por motivo: TOTAL MOTIVOS</th>\n",
       "      <th>Total Turistas por motivo: Trabajo o negocios</th>\n",
       "      <th>Total Turistas: No contrataron un paquete turístico</th>\n",
       "      <th>Total Turistas: Sí contrataron un paquete turístico</th>\n",
       "      <th>Total Turistas: Total</th>\n",
       "      <th>Establecimientos abiertos</th>\n",
       "      <th>Hab-aprt disponibles</th>\n",
       "      <th>Plazas ofertadas</th>\n",
       "      <th>Estancia media</th>\n",
       "    </tr>\n",
       "  </thead>\n",
       "  <tbody>\n",
       "    <tr>\n",
       "      <th>16999</th>\n",
       "      <td>Yaiza</td>\n",
       "      <td>2019Q4</td>\n",
       "      <td>NaN</td>\n",
       "      <td>NaN</td>\n",
       "      <td>NaN</td>\n",
       "      <td>TOTAL</td>\n",
       "      <td>NaN</td>\n",
       "      <td>NaN</td>\n",
       "      <td>NaN</td>\n",
       "      <td>NaN</td>\n",
       "      <td>...</td>\n",
       "      <td>NaN</td>\n",
       "      <td>NaN</td>\n",
       "      <td>NaN</td>\n",
       "      <td>NaN</td>\n",
       "      <td>NaN</td>\n",
       "      <td>NaN</td>\n",
       "      <td>NaN</td>\n",
       "      <td>NaN</td>\n",
       "      <td>NaN</td>\n",
       "      <td>7.46</td>\n",
       "    </tr>\n",
       "  </tbody>\n",
       "</table>\n",
       "<p>1 rows × 37 columns</p>\n",
       "</div>"
      ],
      "text/plain": [
       "        isla   fecha  Ingresos totales  RevPAR  ADR   pais  Total Turistas  \\\n",
       "16999  Yaiza  2019Q4               NaN     NaN  NaN  TOTAL             NaN   \n",
       "\n",
       "       Total Turistas Principales  Total Turistas Secundarios  \\\n",
       "16999                         NaN                         NaN   \n",
       "\n",
       "       total gasto por turista  ...  Total Turistas por motivo: Personal  \\\n",
       "16999                      NaN  ...                                  NaN   \n",
       "\n",
       "       Total Turistas por motivo: TOTAL MOTIVOS  \\\n",
       "16999                                       NaN   \n",
       "\n",
       "       Total Turistas por motivo: Trabajo o negocios  \\\n",
       "16999                                            NaN   \n",
       "\n",
       "       Total Turistas: No contrataron un paquete turístico  \\\n",
       "16999                                                NaN     \n",
       "\n",
       "       Total Turistas: Sí contrataron un paquete turístico  \\\n",
       "16999                                                NaN     \n",
       "\n",
       "       Total Turistas: Total  Establecimientos abiertos  Hab-aprt disponibles  \\\n",
       "16999                    NaN                        NaN                   NaN   \n",
       "\n",
       "       Plazas ofertadas  Estancia media  \n",
       "16999               NaN            7.46  \n",
       "\n",
       "[1 rows x 37 columns]"
      ]
     },
     "execution_count": 42,
     "metadata": {},
     "output_type": "execute_result"
    }
   ],
   "source": [
    "merged.tail(1)"
   ]
  },
  {
   "cell_type": "markdown",
   "metadata": {},
   "source": [
    "## 6.4 Unión de lo anterior con `tasa_ocupacion`"
   ]
  },
  {
   "cell_type": "code",
   "execution_count": 43,
   "metadata": {},
   "outputs": [
    {
     "data": {
      "text/plain": [
       "(17000, 39)"
      ]
     },
     "execution_count": 43,
     "metadata": {},
     "output_type": "execute_result"
    }
   ],
   "source": [
    "merged = pd.merge(merged,tasa_ocupacion,on=['fecha','isla'],how=\"outer\")\n",
    "merged.shape"
   ]
  },
  {
   "cell_type": "code",
   "execution_count": 44,
   "metadata": {
    "scrolled": false
   },
   "outputs": [
    {
     "data": {
      "text/html": [
       "<div>\n",
       "<style scoped>\n",
       "    .dataframe tbody tr th:only-of-type {\n",
       "        vertical-align: middle;\n",
       "    }\n",
       "\n",
       "    .dataframe tbody tr th {\n",
       "        vertical-align: top;\n",
       "    }\n",
       "\n",
       "    .dataframe thead th {\n",
       "        text-align: right;\n",
       "    }\n",
       "</style>\n",
       "<table border=\"1\" class=\"dataframe\">\n",
       "  <thead>\n",
       "    <tr style=\"text-align: right;\">\n",
       "      <th></th>\n",
       "      <th>isla</th>\n",
       "      <th>fecha</th>\n",
       "      <th>Ingresos totales</th>\n",
       "      <th>RevPAR</th>\n",
       "      <th>ADR</th>\n",
       "      <th>pais</th>\n",
       "      <th>Total Turistas</th>\n",
       "      <th>Total Turistas Principales</th>\n",
       "      <th>Total Turistas Secundarios</th>\n",
       "      <th>total gasto por turista</th>\n",
       "      <th>...</th>\n",
       "      <th>Total Turistas por motivo: Trabajo o negocios</th>\n",
       "      <th>Total Turistas: No contrataron un paquete turístico</th>\n",
       "      <th>Total Turistas: Sí contrataron un paquete turístico</th>\n",
       "      <th>Total Turistas: Total</th>\n",
       "      <th>Establecimientos abiertos</th>\n",
       "      <th>Hab-aprt disponibles</th>\n",
       "      <th>Plazas ofertadas</th>\n",
       "      <th>Estancia media</th>\n",
       "      <th>Tasa ocupación por Hab-aprt</th>\n",
       "      <th>Tasa ocupación por plazas</th>\n",
       "    </tr>\n",
       "  </thead>\n",
       "  <tbody>\n",
       "    <tr>\n",
       "      <th>16999</th>\n",
       "      <td>Resto de municipios de Lanzarote</td>\n",
       "      <td>2019Q4</td>\n",
       "      <td>NaN</td>\n",
       "      <td>NaN</td>\n",
       "      <td>NaN</td>\n",
       "      <td>NaN</td>\n",
       "      <td>NaN</td>\n",
       "      <td>NaN</td>\n",
       "      <td>NaN</td>\n",
       "      <td>NaN</td>\n",
       "      <td>...</td>\n",
       "      <td>NaN</td>\n",
       "      <td>NaN</td>\n",
       "      <td>NaN</td>\n",
       "      <td>NaN</td>\n",
       "      <td>21.0</td>\n",
       "      <td>1707.0</td>\n",
       "      <td>6522.0</td>\n",
       "      <td>NaN</td>\n",
       "      <td>NaN</td>\n",
       "      <td>NaN</td>\n",
       "    </tr>\n",
       "  </tbody>\n",
       "</table>\n",
       "<p>1 rows × 39 columns</p>\n",
       "</div>"
      ],
      "text/plain": [
       "                                   isla   fecha  Ingresos totales  RevPAR  \\\n",
       "16999  Resto de municipios de Lanzarote  2019Q4               NaN     NaN   \n",
       "\n",
       "       ADR pais  Total Turistas  Total Turistas Principales  \\\n",
       "16999  NaN  NaN             NaN                         NaN   \n",
       "\n",
       "       Total Turistas Secundarios  total gasto por turista  ...  \\\n",
       "16999                         NaN                      NaN  ...   \n",
       "\n",
       "       Total Turistas por motivo: Trabajo o negocios  \\\n",
       "16999                                            NaN   \n",
       "\n",
       "       Total Turistas: No contrataron un paquete turístico  \\\n",
       "16999                                                NaN     \n",
       "\n",
       "       Total Turistas: Sí contrataron un paquete turístico  \\\n",
       "16999                                                NaN     \n",
       "\n",
       "       Total Turistas: Total  Establecimientos abiertos  Hab-aprt disponibles  \\\n",
       "16999                    NaN                       21.0                1707.0   \n",
       "\n",
       "       Plazas ofertadas  Estancia media  Tasa ocupación por Hab-aprt  \\\n",
       "16999            6522.0             NaN                          NaN   \n",
       "\n",
       "       Tasa ocupación por plazas  \n",
       "16999                        NaN  \n",
       "\n",
       "[1 rows x 39 columns]"
      ]
     },
     "execution_count": 44,
     "metadata": {},
     "output_type": "execute_result"
    }
   ],
   "source": [
    "merged.tail(1)"
   ]
  },
  {
   "cell_type": "markdown",
   "metadata": {},
   "source": [
    "# 7. OBTENCIÓN DE FICHEROS FINALES"
   ]
  },
  {
   "cell_type": "markdown",
   "metadata": {},
   "source": [
    "## 7.1 FICHERO FINAL CON TODO:\n",
    "\n",
    "Este fichero contiene las filtraciones mínimas necesarias para tener un fichero útil con todos los datos de características de cliente y características de soporte que hemos trabajado así como con el único filtrado de los países e islas que están en el archivo principal de gasto medio"
   ]
  },
  {
   "cell_type": "markdown",
   "metadata": {},
   "source": [
    "### OPERACIONES DE FILTRADO NECESARIAS...\n",
    "Hemos visto que existen muchos elementos que son nulos debido a que hay algunos archivos que hemos unido que hacen referencia solo a `España, Total y extranjeros`,  asi como la columna isla que tenia ademas municipios; esto implica que  Es por ello por lo que hemos decidido hacer una serie de filtrado para quedarnos con los datos que son más útiles, y que solo estan en nuestro archivo principal que es la del gasto:_medio_islas.\n",
    "\n",
    "Para ello filtramos primero por países quedándonos solo con los países de los que se hacen referencia a gasto_medio_islas ya que éstos son los únicos países que nos interesan ya que nuestro objetivo principal es el de predecir el gasto y finalmente también filtramos por la columna isla esta columna hace referencia a diferentes islas `LNZ,FTV,TNF… CANARIAS` nos quedamos con las filas referentes a datos de CANARIAS Ya que son las únicas filas que convergen en todos los datos que hemos ido uniendo.\n",
    "\n",
    "### FILTRAMOS SOLO POR LOS `PAISES` E `ISLAS` QUE HAY EN GMI_join_cc"
   ]
  },
  {
   "cell_type": "code",
   "execution_count": 45,
   "metadata": {},
   "outputs": [
    {
     "data": {
      "text/plain": [
       "array(['Alemania', 'España', 'Holanda', 'Otros países', 'Países Nórdicos',\n",
       "       'Reino Unido', 'TOTAL'], dtype=object)"
      ]
     },
     "execution_count": 45,
     "metadata": {},
     "output_type": "execute_result"
    }
   ],
   "source": [
    "GMI_join_cc.pais.unique()"
   ]
  },
  {
   "cell_type": "code",
   "execution_count": 46,
   "metadata": {},
   "outputs": [
    {
     "data": {
      "text/plain": [
       "array(['Fuerteventura', 'Gran Canaria', 'La Palma', 'Lanzarote',\n",
       "       'Tenerife', 'CANARIAS'], dtype=object)"
      ]
     },
     "execution_count": 46,
     "metadata": {},
     "output_type": "execute_result"
    }
   ],
   "source": [
    "GMI_join_cc.isla.unique()"
   ]
  },
  {
   "cell_type": "code",
   "execution_count": 47,
   "metadata": {},
   "outputs": [
    {
     "data": {
      "text/plain": [
       "(1680, 39)"
      ]
     },
     "execution_count": 47,
     "metadata": {},
     "output_type": "execute_result"
    }
   ],
   "source": [
    "GMI_join_cc_cs_filtroPI = merged[merged.pais.isin(['TOTAL', 'Alemania', 'España', \n",
    "                                                   'Holanda', 'Países Nórdicos',\n",
    "                                                   'Reino Unido', 'Otros países'])\n",
    "                                 \n",
    "                                & merged.isla.isin(['Fuerteventura', 'Gran Canaria', \n",
    "                                                    'La Palma', 'Lanzarote',\n",
    "                                                    'Tenerife', 'CANARIAS'])\n",
    "                                ]\n",
    "\n",
    "GMI_join_cc_cs_filtroPI.reset_index(drop=True, inplace=True)\n",
    "GMI_join_cc_cs_filtroPI.shape"
   ]
  },
  {
   "cell_type": "code",
   "execution_count": 48,
   "metadata": {},
   "outputs": [
    {
     "data": {
      "text/html": [
       "<div>\n",
       "<style scoped>\n",
       "    .dataframe tbody tr th:only-of-type {\n",
       "        vertical-align: middle;\n",
       "    }\n",
       "\n",
       "    .dataframe tbody tr th {\n",
       "        vertical-align: top;\n",
       "    }\n",
       "\n",
       "    .dataframe thead th {\n",
       "        text-align: right;\n",
       "    }\n",
       "</style>\n",
       "<table border=\"1\" class=\"dataframe\">\n",
       "  <thead>\n",
       "    <tr style=\"text-align: right;\">\n",
       "      <th></th>\n",
       "      <th>isla</th>\n",
       "      <th>fecha</th>\n",
       "      <th>Ingresos totales</th>\n",
       "      <th>RevPAR</th>\n",
       "      <th>ADR</th>\n",
       "      <th>pais</th>\n",
       "      <th>Total Turistas</th>\n",
       "      <th>Total Turistas Principales</th>\n",
       "      <th>Total Turistas Secundarios</th>\n",
       "      <th>total gasto por turista</th>\n",
       "      <th>...</th>\n",
       "      <th>Total Turistas por motivo: Trabajo o negocios</th>\n",
       "      <th>Total Turistas: No contrataron un paquete turístico</th>\n",
       "      <th>Total Turistas: Sí contrataron un paquete turístico</th>\n",
       "      <th>Total Turistas: Total</th>\n",
       "      <th>Establecimientos abiertos</th>\n",
       "      <th>Hab-aprt disponibles</th>\n",
       "      <th>Plazas ofertadas</th>\n",
       "      <th>Estancia media</th>\n",
       "      <th>Tasa ocupación por Hab-aprt</th>\n",
       "      <th>Tasa ocupación por plazas</th>\n",
       "    </tr>\n",
       "  </thead>\n",
       "  <tbody>\n",
       "    <tr>\n",
       "      <th>0</th>\n",
       "      <td>CANARIAS</td>\n",
       "      <td>2010Q1</td>\n",
       "      <td>647140262.7</td>\n",
       "      <td>40.72</td>\n",
       "      <td>58.483333</td>\n",
       "      <td>Alemania</td>\n",
       "      <td>620920.0</td>\n",
       "      <td>NaN</td>\n",
       "      <td>NaN</td>\n",
       "      <td>1147.19</td>\n",
       "      <td>...</td>\n",
       "      <td>4134.0</td>\n",
       "      <td>154831.0</td>\n",
       "      <td>466089.0</td>\n",
       "      <td>620920.0</td>\n",
       "      <td>5524.0</td>\n",
       "      <td>528460.0</td>\n",
       "      <td>1304800.0</td>\n",
       "      <td>11.340000</td>\n",
       "      <td>69.603333</td>\n",
       "      <td>58.31</td>\n",
       "    </tr>\n",
       "    <tr>\n",
       "      <th>1</th>\n",
       "      <td>CANARIAS</td>\n",
       "      <td>2010Q1</td>\n",
       "      <td>647140262.7</td>\n",
       "      <td>40.72</td>\n",
       "      <td>58.483333</td>\n",
       "      <td>España</td>\n",
       "      <td>335230.0</td>\n",
       "      <td>NaN</td>\n",
       "      <td>NaN</td>\n",
       "      <td>666.96</td>\n",
       "      <td>...</td>\n",
       "      <td>53619.0</td>\n",
       "      <td>201097.0</td>\n",
       "      <td>134132.0</td>\n",
       "      <td>335230.0</td>\n",
       "      <td>5524.0</td>\n",
       "      <td>528460.0</td>\n",
       "      <td>1304800.0</td>\n",
       "      <td>4.683333</td>\n",
       "      <td>69.603333</td>\n",
       "      <td>58.31</td>\n",
       "    </tr>\n",
       "    <tr>\n",
       "      <th>2</th>\n",
       "      <td>CANARIAS</td>\n",
       "      <td>2010Q1</td>\n",
       "      <td>647140262.7</td>\n",
       "      <td>40.72</td>\n",
       "      <td>58.483333</td>\n",
       "      <td>Holanda</td>\n",
       "      <td>94439.0</td>\n",
       "      <td>NaN</td>\n",
       "      <td>NaN</td>\n",
       "      <td>1107.77</td>\n",
       "      <td>...</td>\n",
       "      <td>961.0</td>\n",
       "      <td>21215.0</td>\n",
       "      <td>73224.0</td>\n",
       "      <td>94439.0</td>\n",
       "      <td>5524.0</td>\n",
       "      <td>528460.0</td>\n",
       "      <td>1304800.0</td>\n",
       "      <td>10.133333</td>\n",
       "      <td>69.603333</td>\n",
       "      <td>58.31</td>\n",
       "    </tr>\n",
       "    <tr>\n",
       "      <th>3</th>\n",
       "      <td>CANARIAS</td>\n",
       "      <td>2010Q1</td>\n",
       "      <td>647140262.7</td>\n",
       "      <td>40.72</td>\n",
       "      <td>58.483333</td>\n",
       "      <td>Otros países</td>\n",
       "      <td>439882.0</td>\n",
       "      <td>NaN</td>\n",
       "      <td>NaN</td>\n",
       "      <td>1023.57</td>\n",
       "      <td>...</td>\n",
       "      <td>11445.0</td>\n",
       "      <td>185037.0</td>\n",
       "      <td>254843.0</td>\n",
       "      <td>439881.0</td>\n",
       "      <td>5524.0</td>\n",
       "      <td>528460.0</td>\n",
       "      <td>1304800.0</td>\n",
       "      <td>9.021667</td>\n",
       "      <td>69.603333</td>\n",
       "      <td>58.31</td>\n",
       "    </tr>\n",
       "    <tr>\n",
       "      <th>4</th>\n",
       "      <td>CANARIAS</td>\n",
       "      <td>2010Q1</td>\n",
       "      <td>647140262.7</td>\n",
       "      <td>40.72</td>\n",
       "      <td>58.483333</td>\n",
       "      <td>Países Nórdicos</td>\n",
       "      <td>537221.0</td>\n",
       "      <td>NaN</td>\n",
       "      <td>NaN</td>\n",
       "      <td>1193.58</td>\n",
       "      <td>...</td>\n",
       "      <td>3339.0</td>\n",
       "      <td>81875.0</td>\n",
       "      <td>455346.0</td>\n",
       "      <td>537220.0</td>\n",
       "      <td>5524.0</td>\n",
       "      <td>528460.0</td>\n",
       "      <td>1304800.0</td>\n",
       "      <td>8.546667</td>\n",
       "      <td>69.603333</td>\n",
       "      <td>58.31</td>\n",
       "    </tr>\n",
       "  </tbody>\n",
       "</table>\n",
       "<p>5 rows × 39 columns</p>\n",
       "</div>"
      ],
      "text/plain": [
       "       isla   fecha  Ingresos totales  RevPAR        ADR             pais  \\\n",
       "0  CANARIAS  2010Q1       647140262.7   40.72  58.483333         Alemania   \n",
       "1  CANARIAS  2010Q1       647140262.7   40.72  58.483333           España   \n",
       "2  CANARIAS  2010Q1       647140262.7   40.72  58.483333          Holanda   \n",
       "3  CANARIAS  2010Q1       647140262.7   40.72  58.483333     Otros países   \n",
       "4  CANARIAS  2010Q1       647140262.7   40.72  58.483333  Países Nórdicos   \n",
       "\n",
       "   Total Turistas  Total Turistas Principales  Total Turistas Secundarios  \\\n",
       "0        620920.0                         NaN                         NaN   \n",
       "1        335230.0                         NaN                         NaN   \n",
       "2         94439.0                         NaN                         NaN   \n",
       "3        439882.0                         NaN                         NaN   \n",
       "4        537221.0                         NaN                         NaN   \n",
       "\n",
       "   total gasto por turista  ...  \\\n",
       "0                  1147.19  ...   \n",
       "1                   666.96  ...   \n",
       "2                  1107.77  ...   \n",
       "3                  1023.57  ...   \n",
       "4                  1193.58  ...   \n",
       "\n",
       "   Total Turistas por motivo: Trabajo o negocios  \\\n",
       "0                                         4134.0   \n",
       "1                                        53619.0   \n",
       "2                                          961.0   \n",
       "3                                        11445.0   \n",
       "4                                         3339.0   \n",
       "\n",
       "   Total Turistas: No contrataron un paquete turístico  \\\n",
       "0                                           154831.0     \n",
       "1                                           201097.0     \n",
       "2                                            21215.0     \n",
       "3                                           185037.0     \n",
       "4                                            81875.0     \n",
       "\n",
       "   Total Turistas: Sí contrataron un paquete turístico  Total Turistas: Total  \\\n",
       "0                                           466089.0                 620920.0   \n",
       "1                                           134132.0                 335230.0   \n",
       "2                                            73224.0                  94439.0   \n",
       "3                                           254843.0                 439881.0   \n",
       "4                                           455346.0                 537220.0   \n",
       "\n",
       "   Establecimientos abiertos  Hab-aprt disponibles  Plazas ofertadas  \\\n",
       "0                     5524.0              528460.0         1304800.0   \n",
       "1                     5524.0              528460.0         1304800.0   \n",
       "2                     5524.0              528460.0         1304800.0   \n",
       "3                     5524.0              528460.0         1304800.0   \n",
       "4                     5524.0              528460.0         1304800.0   \n",
       "\n",
       "   Estancia media  Tasa ocupación por Hab-aprt  Tasa ocupación por plazas  \n",
       "0       11.340000                    69.603333                      58.31  \n",
       "1        4.683333                    69.603333                      58.31  \n",
       "2       10.133333                    69.603333                      58.31  \n",
       "3        9.021667                    69.603333                      58.31  \n",
       "4        8.546667                    69.603333                      58.31  \n",
       "\n",
       "[5 rows x 39 columns]"
      ]
     },
     "execution_count": 48,
     "metadata": {},
     "output_type": "execute_result"
    }
   ],
   "source": [
    "GMI_join_cc_cs_filtroPI.head()"
   ]
  },
  {
   "cell_type": "code",
   "execution_count": 49,
   "metadata": {},
   "outputs": [
    {
     "data": {
      "text/plain": [
       "isla                                                        0\n",
       "fecha                                                       0\n",
       "Ingresos totales                                            0\n",
       "RevPAR                                                      0\n",
       "ADR                                                         0\n",
       "pais                                                        0\n",
       "Total Turistas                                              0\n",
       "Total Turistas Principales                                280\n",
       "Total Turistas Secundarios                                280\n",
       "total gasto por turista                                     5\n",
       "gasto por turista alojamiento                              10\n",
       "gasto por turista transporte nacional / internacional       6\n",
       "gasto por turista  otros                                    4\n",
       "Turistas Hombres De 15 a 24                              1400\n",
       "Turistas Mujeres De 15 a 24                              1400\n",
       "Turistas Hombres De 25 a 44                              1400\n",
       "Turistas Mujeres De 25 a 44                              1400\n",
       "Turistas Hombres De 45 a 64                              1400\n",
       "Turistas Mujeres De 45 a 64                              1400\n",
       "Turistas Hombres Mayor de 64                             1400\n",
       "Turistas Mujeres Mayor de 64                             1400\n",
       "Turistas Hombres Menor de 15                             1400\n",
       "Turistas Mujeres Menor de 15                             1400\n",
       "Turistas Hombres TOTAL EDADES                            1400\n",
       "Turistas Mujeres TOTAL EDADES                            1400\n",
       "Total Turistas por motivo: Ocio o vacaciones             1000\n",
       "Total Turistas por motivo: Otros motivos                 1000\n",
       "Total Turistas por motivo: Personal                      1000\n",
       "Total Turistas por motivo: TOTAL MOTIVOS                 1000\n",
       "Total Turistas por motivo: Trabajo o negocios            1000\n",
       "Total Turistas: No contrataron un paquete turístico      1000\n",
       "Total Turistas: Sí contrataron un paquete turístico      1000\n",
       "Total Turistas: Total                                    1000\n",
       "Establecimientos abiertos                                   0\n",
       "Hab-aprt disponibles                                        0\n",
       "Plazas ofertadas                                            0\n",
       "Estancia media                                              0\n",
       "Tasa ocupación por Hab-aprt                                 0\n",
       "Tasa ocupación por plazas                                   0\n",
       "dtype: int64"
      ]
     },
     "execution_count": 49,
     "metadata": {},
     "output_type": "execute_result"
    }
   ],
   "source": [
    "GMI_join_cc_cs_filtroPI.isnull().sum()"
   ]
  },
  {
   "cell_type": "markdown",
   "metadata": {},
   "source": [
    "## GUARDAMOS..."
   ]
  },
  {
   "cell_type": "code",
   "execution_count": 50,
   "metadata": {},
   "outputs": [],
   "source": [
    "rutaDatosTratados = \"../PredictorGastoTuristico/DatosGuardados/\"\n",
    "GMI_join_cc_cs_filtroPI.to_csv(rutaDatosTratados+\"GMI_join_cc_cs_filtroPI.csv\", index = False, encoding='utf-8')"
   ]
  },
  {
   "cell_type": "markdown",
   "metadata": {},
   "source": [
    "### NOTA:\n",
    "\n",
    "HAY MUCHOS NULOS PORQUE HAY ARCHIVOS CUYOS DATOS TRATAN UNA DIMENSION ESPECIFICA, COMO ES EL CASO DE LA EDAD Y EL SEXO QUE SOLO HABLAN DE TURISTAS LLEGADOS A CANARIAS Y NO POR CADA ISLAS.\n",
    "\n",
    "**¿QUE HAREMOS?** -> APLICAR MAS FILTROS Y DIVIDIREMOS EL DATASET EN DOS OBTENIENDO: `GMI_join_cc_cs_filtroPI_CANARIAS` Y `GMI_join_cc_cs_filtroPI_`\n"
   ]
  },
  {
   "cell_type": "markdown",
   "metadata": {},
   "source": [
    "## 7.2 OTRO FILTRO MAS: FILTRAMOS SOLO POR ISLA -> CANARIAS DESDE EL FILTRO ANTERIOR"
   ]
  },
  {
   "cell_type": "code",
   "execution_count": 51,
   "metadata": {},
   "outputs": [
    {
     "data": {
      "text/plain": [
       "(280, 39)"
      ]
     },
     "execution_count": 51,
     "metadata": {},
     "output_type": "execute_result"
    }
   ],
   "source": [
    "GMI_join_cc_cs_filtroPI_FCanarias = GMI_join_cc_cs_filtroPI[GMI_join_cc_cs_filtroPI.isla.isin([\"CANARIAS\"])]                            \n",
    "#filtrogc.drop(['sexo','edad'], axis=1, inplace=True)    \n",
    "GMI_join_cc_cs_filtroPI_FCanarias.reset_index(drop=True, inplace=True)\n",
    "GMI_join_cc_cs_filtroPI_FCanarias.shape"
   ]
  },
  {
   "cell_type": "code",
   "execution_count": 52,
   "metadata": {},
   "outputs": [
    {
     "data": {
      "text/plain": [
       "isla                                                       0\n",
       "fecha                                                      0\n",
       "Ingresos totales                                           0\n",
       "RevPAR                                                     0\n",
       "ADR                                                        0\n",
       "pais                                                       0\n",
       "Total Turistas                                             0\n",
       "Total Turistas Principales                               280\n",
       "Total Turistas Secundarios                               280\n",
       "total gasto por turista                                    0\n",
       "gasto por turista alojamiento                              0\n",
       "gasto por turista transporte nacional / internacional      0\n",
       "gasto por turista  otros                                   0\n",
       "Turistas Hombres De 15 a 24                                0\n",
       "Turistas Mujeres De 15 a 24                                0\n",
       "Turistas Hombres De 25 a 44                                0\n",
       "Turistas Mujeres De 25 a 44                                0\n",
       "Turistas Hombres De 45 a 64                                0\n",
       "Turistas Mujeres De 45 a 64                                0\n",
       "Turistas Hombres Mayor de 64                               0\n",
       "Turistas Mujeres Mayor de 64                               0\n",
       "Turistas Hombres Menor de 15                               0\n",
       "Turistas Mujeres Menor de 15                               0\n",
       "Turistas Hombres TOTAL EDADES                              0\n",
       "Turistas Mujeres TOTAL EDADES                              0\n",
       "Total Turistas por motivo: Ocio o vacaciones               0\n",
       "Total Turistas por motivo: Otros motivos                   0\n",
       "Total Turistas por motivo: Personal                        0\n",
       "Total Turistas por motivo: TOTAL MOTIVOS                   0\n",
       "Total Turistas por motivo: Trabajo o negocios              0\n",
       "Total Turistas: No contrataron un paquete turístico        0\n",
       "Total Turistas: Sí contrataron un paquete turístico        0\n",
       "Total Turistas: Total                                      0\n",
       "Establecimientos abiertos                                  0\n",
       "Hab-aprt disponibles                                       0\n",
       "Plazas ofertadas                                           0\n",
       "Estancia media                                             0\n",
       "Tasa ocupación por Hab-aprt                                0\n",
       "Tasa ocupación por plazas                                  0\n",
       "dtype: int64"
      ]
     },
     "execution_count": 52,
     "metadata": {},
     "output_type": "execute_result"
    }
   ],
   "source": [
    "GMI_join_cc_cs_filtroPI_FCanarias.isnull().sum()"
   ]
  },
  {
   "cell_type": "markdown",
   "metadata": {},
   "source": [
    "Elimino columnas y filas nulas"
   ]
  },
  {
   "cell_type": "code",
   "execution_count": 53,
   "metadata": {},
   "outputs": [
    {
     "data": {
      "text/plain": [
       "(280, 37)"
      ]
     },
     "execution_count": 53,
     "metadata": {},
     "output_type": "execute_result"
    }
   ],
   "source": [
    "GMI_join_cc_cs_filtroPI_FCanarias = GMI_join_cc_cs_filtroPI_FCanarias.dropna(1) #elimino columnas nulas\n",
    "GMI_join_cc_cs_filtroPI_FCanarias = GMI_join_cc_cs_filtroPI_FCanarias.dropna() # elimino filas nulas\n",
    "GMI_join_cc_cs_filtroPI_FCanarias.shape"
   ]
  },
  {
   "cell_type": "code",
   "execution_count": 54,
   "metadata": {},
   "outputs": [
    {
     "data": {
      "text/html": [
       "<div>\n",
       "<style scoped>\n",
       "    .dataframe tbody tr th:only-of-type {\n",
       "        vertical-align: middle;\n",
       "    }\n",
       "\n",
       "    .dataframe tbody tr th {\n",
       "        vertical-align: top;\n",
       "    }\n",
       "\n",
       "    .dataframe thead th {\n",
       "        text-align: right;\n",
       "    }\n",
       "</style>\n",
       "<table border=\"1\" class=\"dataframe\">\n",
       "  <thead>\n",
       "    <tr style=\"text-align: right;\">\n",
       "      <th></th>\n",
       "      <th>isla</th>\n",
       "      <th>fecha</th>\n",
       "      <th>Ingresos totales</th>\n",
       "      <th>RevPAR</th>\n",
       "      <th>ADR</th>\n",
       "      <th>pais</th>\n",
       "      <th>Total Turistas</th>\n",
       "      <th>total gasto por turista</th>\n",
       "      <th>gasto por turista alojamiento</th>\n",
       "      <th>gasto por turista transporte nacional / internacional</th>\n",
       "      <th>...</th>\n",
       "      <th>Total Turistas por motivo: Trabajo o negocios</th>\n",
       "      <th>Total Turistas: No contrataron un paquete turístico</th>\n",
       "      <th>Total Turistas: Sí contrataron un paquete turístico</th>\n",
       "      <th>Total Turistas: Total</th>\n",
       "      <th>Establecimientos abiertos</th>\n",
       "      <th>Hab-aprt disponibles</th>\n",
       "      <th>Plazas ofertadas</th>\n",
       "      <th>Estancia media</th>\n",
       "      <th>Tasa ocupación por Hab-aprt</th>\n",
       "      <th>Tasa ocupación por plazas</th>\n",
       "    </tr>\n",
       "  </thead>\n",
       "  <tbody>\n",
       "    <tr>\n",
       "      <th>0</th>\n",
       "      <td>CANARIAS</td>\n",
       "      <td>2010Q1</td>\n",
       "      <td>647140262.7</td>\n",
       "      <td>40.72</td>\n",
       "      <td>58.483333</td>\n",
       "      <td>Alemania</td>\n",
       "      <td>620920.0</td>\n",
       "      <td>1147.19</td>\n",
       "      <td>472.84</td>\n",
       "      <td>341.47</td>\n",
       "      <td>...</td>\n",
       "      <td>4134.0</td>\n",
       "      <td>154831.0</td>\n",
       "      <td>466089.0</td>\n",
       "      <td>620920.0</td>\n",
       "      <td>5524.0</td>\n",
       "      <td>528460.0</td>\n",
       "      <td>1304800.0</td>\n",
       "      <td>11.340000</td>\n",
       "      <td>69.603333</td>\n",
       "      <td>58.31</td>\n",
       "    </tr>\n",
       "    <tr>\n",
       "      <th>1</th>\n",
       "      <td>CANARIAS</td>\n",
       "      <td>2010Q1</td>\n",
       "      <td>647140262.7</td>\n",
       "      <td>40.72</td>\n",
       "      <td>58.483333</td>\n",
       "      <td>España</td>\n",
       "      <td>335230.0</td>\n",
       "      <td>666.96</td>\n",
       "      <td>238.65</td>\n",
       "      <td>166.80</td>\n",
       "      <td>...</td>\n",
       "      <td>53619.0</td>\n",
       "      <td>201097.0</td>\n",
       "      <td>134132.0</td>\n",
       "      <td>335230.0</td>\n",
       "      <td>5524.0</td>\n",
       "      <td>528460.0</td>\n",
       "      <td>1304800.0</td>\n",
       "      <td>4.683333</td>\n",
       "      <td>69.603333</td>\n",
       "      <td>58.31</td>\n",
       "    </tr>\n",
       "    <tr>\n",
       "      <th>2</th>\n",
       "      <td>CANARIAS</td>\n",
       "      <td>2010Q1</td>\n",
       "      <td>647140262.7</td>\n",
       "      <td>40.72</td>\n",
       "      <td>58.483333</td>\n",
       "      <td>Holanda</td>\n",
       "      <td>94439.0</td>\n",
       "      <td>1107.77</td>\n",
       "      <td>455.40</td>\n",
       "      <td>337.60</td>\n",
       "      <td>...</td>\n",
       "      <td>961.0</td>\n",
       "      <td>21215.0</td>\n",
       "      <td>73224.0</td>\n",
       "      <td>94439.0</td>\n",
       "      <td>5524.0</td>\n",
       "      <td>528460.0</td>\n",
       "      <td>1304800.0</td>\n",
       "      <td>10.133333</td>\n",
       "      <td>69.603333</td>\n",
       "      <td>58.31</td>\n",
       "    </tr>\n",
       "    <tr>\n",
       "      <th>3</th>\n",
       "      <td>CANARIAS</td>\n",
       "      <td>2010Q1</td>\n",
       "      <td>647140262.7</td>\n",
       "      <td>40.72</td>\n",
       "      <td>58.483333</td>\n",
       "      <td>Otros países</td>\n",
       "      <td>439882.0</td>\n",
       "      <td>1023.57</td>\n",
       "      <td>417.21</td>\n",
       "      <td>291.47</td>\n",
       "      <td>...</td>\n",
       "      <td>11445.0</td>\n",
       "      <td>185037.0</td>\n",
       "      <td>254843.0</td>\n",
       "      <td>439881.0</td>\n",
       "      <td>5524.0</td>\n",
       "      <td>528460.0</td>\n",
       "      <td>1304800.0</td>\n",
       "      <td>9.021667</td>\n",
       "      <td>69.603333</td>\n",
       "      <td>58.31</td>\n",
       "    </tr>\n",
       "    <tr>\n",
       "      <th>4</th>\n",
       "      <td>CANARIAS</td>\n",
       "      <td>2010Q1</td>\n",
       "      <td>647140262.7</td>\n",
       "      <td>40.72</td>\n",
       "      <td>58.483333</td>\n",
       "      <td>Países Nórdicos</td>\n",
       "      <td>537221.0</td>\n",
       "      <td>1193.58</td>\n",
       "      <td>448.43</td>\n",
       "      <td>294.31</td>\n",
       "      <td>...</td>\n",
       "      <td>3339.0</td>\n",
       "      <td>81875.0</td>\n",
       "      <td>455346.0</td>\n",
       "      <td>537220.0</td>\n",
       "      <td>5524.0</td>\n",
       "      <td>528460.0</td>\n",
       "      <td>1304800.0</td>\n",
       "      <td>8.546667</td>\n",
       "      <td>69.603333</td>\n",
       "      <td>58.31</td>\n",
       "    </tr>\n",
       "  </tbody>\n",
       "</table>\n",
       "<p>5 rows × 37 columns</p>\n",
       "</div>"
      ],
      "text/plain": [
       "       isla   fecha  Ingresos totales  RevPAR        ADR             pais  \\\n",
       "0  CANARIAS  2010Q1       647140262.7   40.72  58.483333         Alemania   \n",
       "1  CANARIAS  2010Q1       647140262.7   40.72  58.483333           España   \n",
       "2  CANARIAS  2010Q1       647140262.7   40.72  58.483333          Holanda   \n",
       "3  CANARIAS  2010Q1       647140262.7   40.72  58.483333     Otros países   \n",
       "4  CANARIAS  2010Q1       647140262.7   40.72  58.483333  Países Nórdicos   \n",
       "\n",
       "   Total Turistas  total gasto por turista  gasto por turista alojamiento  \\\n",
       "0        620920.0                  1147.19                         472.84   \n",
       "1        335230.0                   666.96                         238.65   \n",
       "2         94439.0                  1107.77                         455.40   \n",
       "3        439882.0                  1023.57                         417.21   \n",
       "4        537221.0                  1193.58                         448.43   \n",
       "\n",
       "   gasto por turista transporte nacional / internacional  ...  \\\n",
       "0                                             341.47      ...   \n",
       "1                                             166.80      ...   \n",
       "2                                             337.60      ...   \n",
       "3                                             291.47      ...   \n",
       "4                                             294.31      ...   \n",
       "\n",
       "   Total Turistas por motivo: Trabajo o negocios  \\\n",
       "0                                         4134.0   \n",
       "1                                        53619.0   \n",
       "2                                          961.0   \n",
       "3                                        11445.0   \n",
       "4                                         3339.0   \n",
       "\n",
       "   Total Turistas: No contrataron un paquete turístico  \\\n",
       "0                                           154831.0     \n",
       "1                                           201097.0     \n",
       "2                                            21215.0     \n",
       "3                                           185037.0     \n",
       "4                                            81875.0     \n",
       "\n",
       "   Total Turistas: Sí contrataron un paquete turístico  Total Turistas: Total  \\\n",
       "0                                           466089.0                 620920.0   \n",
       "1                                           134132.0                 335230.0   \n",
       "2                                            73224.0                  94439.0   \n",
       "3                                           254843.0                 439881.0   \n",
       "4                                           455346.0                 537220.0   \n",
       "\n",
       "   Establecimientos abiertos  Hab-aprt disponibles  Plazas ofertadas  \\\n",
       "0                     5524.0              528460.0         1304800.0   \n",
       "1                     5524.0              528460.0         1304800.0   \n",
       "2                     5524.0              528460.0         1304800.0   \n",
       "3                     5524.0              528460.0         1304800.0   \n",
       "4                     5524.0              528460.0         1304800.0   \n",
       "\n",
       "   Estancia media  Tasa ocupación por Hab-aprt  Tasa ocupación por plazas  \n",
       "0       11.340000                    69.603333                      58.31  \n",
       "1        4.683333                    69.603333                      58.31  \n",
       "2       10.133333                    69.603333                      58.31  \n",
       "3        9.021667                    69.603333                      58.31  \n",
       "4        8.546667                    69.603333                      58.31  \n",
       "\n",
       "[5 rows x 37 columns]"
      ]
     },
     "execution_count": 54,
     "metadata": {},
     "output_type": "execute_result"
    }
   ],
   "source": [
    "GMI_join_cc_cs_filtroPI_FCanarias.head()"
   ]
  },
  {
   "cell_type": "markdown",
   "metadata": {},
   "source": [
    "## GUARDAMOS..."
   ]
  },
  {
   "cell_type": "code",
   "execution_count": 55,
   "metadata": {},
   "outputs": [],
   "source": [
    "rutaDatosTratados = \"../PredictorGastoTuristico/DatosGuardados/\"\n",
    "GMI_join_cc_cs_filtroPI_FCanarias.to_csv(rutaDatosTratados+\"GMI_join_cc_cs_filtroPI_FCanarias.csv\", index = False, encoding='utf-8')"
   ]
  },
  {
   "cell_type": "markdown",
   "metadata": {},
   "source": [
    "## 7.3 OTRO FILTRO MAS: \n",
    "\n",
    "    1- Primero filtramos por islas que no sea CANARIAS que se refiere a datos en global\n",
    "    \n",
    "    2- Eliminamos todo lo que se refiere a la cantidad de turistas que vienen ya que esta cantidad solo está especificada por que vienen a Canarias y no a las diferentes islas así que perderemos información relativa a la cantidad de turistas que vienen por sexo y edad o si vienen por ocio...\n",
    "    \n",
    "    3- Eliminamos las filas nulas\n",
    "    "
   ]
  },
  {
   "cell_type": "markdown",
   "metadata": {},
   "source": [
    "1. Filtramos por islas que no sea CANARIAS que se refiere a datos en global"
   ]
  },
  {
   "cell_type": "code",
   "execution_count": 56,
   "metadata": {},
   "outputs": [
    {
     "data": {
      "text/plain": [
       "(1400, 39)"
      ]
     },
     "execution_count": 56,
     "metadata": {},
     "output_type": "execute_result"
    }
   ],
   "source": [
    "GMI_join_cc_cs_filtroPI_F = GMI_join_cc_cs_filtroPI[~GMI_join_cc_cs_filtroPI.isla.isin([\"CANARIAS\"])]                             \n",
    "GMI_join_cc_cs_filtroPI_F.reset_index(drop=True, inplace=True)\n",
    "GMI_join_cc_cs_filtroPI_F.shape"
   ]
  },
  {
   "cell_type": "code",
   "execution_count": 57,
   "metadata": {},
   "outputs": [
    {
     "data": {
      "text/plain": [
       "Index(['isla', 'fecha', 'Ingresos totales', 'RevPAR', 'ADR', 'pais',\n",
       "       'Total Turistas', 'Total Turistas Principales',\n",
       "       'Total Turistas Secundarios', 'total gasto por turista',\n",
       "       'gasto por turista alojamiento',\n",
       "       'gasto por turista transporte nacional / internacional',\n",
       "       'gasto por turista  otros', 'Turistas Hombres De 15 a 24',\n",
       "       'Turistas Mujeres De 15 a 24', 'Turistas Hombres De 25 a 44',\n",
       "       'Turistas Mujeres De 25 a 44', 'Turistas Hombres De 45 a 64',\n",
       "       'Turistas Mujeres De 45 a 64', 'Turistas Hombres Mayor de 64',\n",
       "       'Turistas Mujeres Mayor de 64', 'Turistas Hombres Menor de 15',\n",
       "       'Turistas Mujeres Menor de 15', 'Turistas Hombres TOTAL EDADES',\n",
       "       'Turistas Mujeres TOTAL EDADES',\n",
       "       'Total Turistas por motivo: Ocio o vacaciones',\n",
       "       'Total Turistas por motivo: Otros motivos',\n",
       "       'Total Turistas por motivo: Personal',\n",
       "       'Total Turistas por motivo: TOTAL MOTIVOS',\n",
       "       'Total Turistas por motivo: Trabajo o negocios',\n",
       "       'Total Turistas: No contrataron un paquete turístico',\n",
       "       'Total Turistas: Sí contrataron un paquete turístico',\n",
       "       'Total Turistas: Total', 'Establecimientos abiertos',\n",
       "       'Hab-aprt disponibles', 'Plazas ofertadas', 'Estancia media',\n",
       "       'Tasa ocupación por Hab-aprt', 'Tasa ocupación por plazas'],\n",
       "      dtype='object')"
      ]
     },
     "execution_count": 57,
     "metadata": {},
     "output_type": "execute_result"
    }
   ],
   "source": [
    "GMI_join_cc_cs_filtroPI_F.columns"
   ]
  },
  {
   "cell_type": "markdown",
   "metadata": {},
   "source": [
    "Columnas que voy a eliminar:"
   ]
  },
  {
   "cell_type": "code",
   "execution_count": 58,
   "metadata": {
    "scrolled": true
   },
   "outputs": [
    {
     "data": {
      "text/plain": [
       "isla                                                        0\n",
       "fecha                                                       0\n",
       "Ingresos totales                                            0\n",
       "RevPAR                                                      0\n",
       "ADR                                                         0\n",
       "pais                                                        0\n",
       "Total Turistas                                              0\n",
       "Total Turistas Principales                                  0\n",
       "Total Turistas Secundarios                                  0\n",
       "total gasto por turista                                     5\n",
       "gasto por turista alojamiento                              10\n",
       "gasto por turista transporte nacional / internacional       6\n",
       "gasto por turista  otros                                    4\n",
       "Turistas Hombres De 15 a 24                              1400\n",
       "Turistas Mujeres De 15 a 24                              1400\n",
       "Turistas Hombres De 25 a 44                              1400\n",
       "Turistas Mujeres De 25 a 44                              1400\n",
       "Turistas Hombres De 45 a 64                              1400\n",
       "Turistas Mujeres De 45 a 64                              1400\n",
       "Turistas Hombres Mayor de 64                             1400\n",
       "Turistas Mujeres Mayor de 64                             1400\n",
       "Turistas Hombres Menor de 15                             1400\n",
       "Turistas Mujeres Menor de 15                             1400\n",
       "Turistas Hombres TOTAL EDADES                            1400\n",
       "Turistas Mujeres TOTAL EDADES                            1400\n",
       "Total Turistas por motivo: Ocio o vacaciones             1000\n",
       "Total Turistas por motivo: Otros motivos                 1000\n",
       "Total Turistas por motivo: Personal                      1000\n",
       "Total Turistas por motivo: TOTAL MOTIVOS                 1000\n",
       "Total Turistas por motivo: Trabajo o negocios            1000\n",
       "Total Turistas: No contrataron un paquete turístico      1000\n",
       "Total Turistas: Sí contrataron un paquete turístico      1000\n",
       "Total Turistas: Total                                    1000\n",
       "Establecimientos abiertos                                   0\n",
       "Hab-aprt disponibles                                        0\n",
       "Plazas ofertadas                                            0\n",
       "Estancia media                                              0\n",
       "Tasa ocupación por Hab-aprt                                 0\n",
       "Tasa ocupación por plazas                                   0\n",
       "dtype: int64"
      ]
     },
     "execution_count": 58,
     "metadata": {},
     "output_type": "execute_result"
    }
   ],
   "source": [
    "GMI_join_cc_cs_filtroPI_F.isnull().sum()"
   ]
  },
  {
   "cell_type": "markdown",
   "metadata": {},
   "source": [
    "2. Eliminamos todo lo que se refiere a la cantidad de turistas que vienen ya que esta cantidad solo está especificada por que vienen a Canarias y no a las diferentes islas así que perderemos información relativa a la cantidad de turistas que vienen por sexo y edad."
   ]
  },
  {
   "cell_type": "markdown",
   "metadata": {},
   "source": [
    "Elimino columnas y filas nulas"
   ]
  },
  {
   "cell_type": "code",
   "execution_count": 60,
   "metadata": {},
   "outputs": [
    {
     "name": "stderr",
     "output_type": "stream",
     "text": [
      "C:\\Users\\angel\\anaconda3\\lib\\site-packages\\pandas\\core\\frame.py:4163: SettingWithCopyWarning: \n",
      "A value is trying to be set on a copy of a slice from a DataFrame\n",
      "\n",
      "See the caveats in the documentation: https://pandas.pydata.org/pandas-docs/stable/user_guide/indexing.html#returning-a-view-versus-a-copy\n",
      "  return super().drop(\n"
     ]
    }
   ],
   "source": [
    "datosEliminar = ['Turistas Hombres De 15 a 24',\n",
    "       'Turistas Mujeres De 15 a 24', 'Turistas Hombres De 25 a 44',\n",
    "       'Turistas Mujeres De 25 a 44', 'Turistas Hombres De 45 a 64',\n",
    "       'Turistas Mujeres De 45 a 64', 'Turistas Hombres Mayor de 64',\n",
    "       'Turistas Mujeres Mayor de 64', 'Turistas Hombres Menor de 15',\n",
    "       'Turistas Mujeres Menor de 15', 'Turistas Hombres TOTAL EDADES',\n",
    "       'Turistas Mujeres TOTAL EDADES',\n",
    "       'Total Turistas por motivo: Ocio o vacaciones',\n",
    "       'Total Turistas por motivo: Otros motivos',\n",
    "       'Total Turistas por motivo: Personal',\n",
    "       'Total Turistas por motivo: TOTAL MOTIVOS',\n",
    "       'Total Turistas por motivo: Trabajo o negocios',\n",
    "       'Total Turistas: No contrataron un paquete turístico',\n",
    "       'Total Turistas: Sí contrataron un paquete turístico',\n",
    "       'Total Turistas: Total']\n",
    "\n",
    "GMI_join_cc_cs_filtroPI_F.drop(datosEliminar, axis=1, inplace=True)  "
   ]
  },
  {
   "cell_type": "code",
   "execution_count": 61,
   "metadata": {
    "scrolled": false
   },
   "outputs": [
    {
     "data": {
      "text/plain": [
       "isla                                                      0\n",
       "fecha                                                     0\n",
       "Ingresos totales                                          0\n",
       "RevPAR                                                    0\n",
       "ADR                                                       0\n",
       "pais                                                      0\n",
       "Total Turistas                                            0\n",
       "Total Turistas Principales                                0\n",
       "Total Turistas Secundarios                                0\n",
       "total gasto por turista                                   5\n",
       "gasto por turista alojamiento                            10\n",
       "gasto por turista transporte nacional / internacional     6\n",
       "gasto por turista  otros                                  4\n",
       "Establecimientos abiertos                                 0\n",
       "Hab-aprt disponibles                                      0\n",
       "Plazas ofertadas                                          0\n",
       "Estancia media                                            0\n",
       "Tasa ocupación por Hab-aprt                               0\n",
       "Tasa ocupación por plazas                                 0\n",
       "dtype: int64"
      ]
     },
     "execution_count": 61,
     "metadata": {},
     "output_type": "execute_result"
    }
   ],
   "source": [
    "GMI_join_cc_cs_filtroPI_F.isnull().sum()"
   ]
  },
  {
   "cell_type": "code",
   "execution_count": 63,
   "metadata": {},
   "outputs": [
    {
     "data": {
      "text/plain": [
       "(1400, 19)"
      ]
     },
     "execution_count": 63,
     "metadata": {},
     "output_type": "execute_result"
    }
   ],
   "source": [
    "GMI_join_cc_cs_filtroPI_F.shape"
   ]
  },
  {
   "cell_type": "markdown",
   "metadata": {},
   "source": [
    "#### NOTA\n",
    "Total Turistas por motivo: Ocio o vacaciones             1000\n",
    "Total Turistas por motivo: Otros motivos                 1000\n",
    "Total Turistas por motivo: Personal                      1000\n",
    "Total Turistas por motivo: TOTAL MOTIVOS                 1000\n",
    "Total Turistas por motivo: Trabajo o negocios            1000\n",
    "Total Turistas: No contrataron un paquete turístico      1000\n",
    "Total Turistas: Sí contrataron un paquete turístico      1000\n",
    "Total Turistas: Total                                    1000\n",
    "\n",
    "**estas columnas no me sirven básicamente porque solo hacen referencia a dos países España total y países en el extranjero y entonces pues la mayoría de los datos son nulos si me hubiera dado cuenta antes pues no los hubiera tratado en fin es lo que hay**"
   ]
  },
  {
   "cell_type": "code",
   "execution_count": 64,
   "metadata": {},
   "outputs": [
    {
     "data": {
      "text/plain": [
       "(1390, 19)"
      ]
     },
     "execution_count": 64,
     "metadata": {},
     "output_type": "execute_result"
    }
   ],
   "source": [
    "#GMI_join_cc_cs_filtroPI_F = GMI_join_cc_cs_filtroPI_F.dropna(1) #elimino columnas nulas\n",
    "GMI_join_cc_cs_filtroPI_F = GMI_join_cc_cs_filtroPI_F.dropna() # elimino filas nulas\n",
    "GMI_join_cc_cs_filtroPI_F.shape"
   ]
  },
  {
   "cell_type": "code",
   "execution_count": 65,
   "metadata": {},
   "outputs": [
    {
     "data": {
      "text/html": [
       "<div>\n",
       "<style scoped>\n",
       "    .dataframe tbody tr th:only-of-type {\n",
       "        vertical-align: middle;\n",
       "    }\n",
       "\n",
       "    .dataframe tbody tr th {\n",
       "        vertical-align: top;\n",
       "    }\n",
       "\n",
       "    .dataframe thead th {\n",
       "        text-align: right;\n",
       "    }\n",
       "</style>\n",
       "<table border=\"1\" class=\"dataframe\">\n",
       "  <thead>\n",
       "    <tr style=\"text-align: right;\">\n",
       "      <th></th>\n",
       "      <th>isla</th>\n",
       "      <th>fecha</th>\n",
       "      <th>Ingresos totales</th>\n",
       "      <th>RevPAR</th>\n",
       "      <th>ADR</th>\n",
       "      <th>pais</th>\n",
       "      <th>Total Turistas</th>\n",
       "      <th>Total Turistas Principales</th>\n",
       "      <th>Total Turistas Secundarios</th>\n",
       "      <th>total gasto por turista</th>\n",
       "      <th>gasto por turista alojamiento</th>\n",
       "      <th>gasto por turista transporte nacional / internacional</th>\n",
       "      <th>gasto por turista  otros</th>\n",
       "      <th>Establecimientos abiertos</th>\n",
       "      <th>Hab-aprt disponibles</th>\n",
       "      <th>Plazas ofertadas</th>\n",
       "      <th>Estancia media</th>\n",
       "      <th>Tasa ocupación por Hab-aprt</th>\n",
       "      <th>Tasa ocupación por plazas</th>\n",
       "    </tr>\n",
       "  </thead>\n",
       "  <tbody>\n",
       "    <tr>\n",
       "      <th>0</th>\n",
       "      <td>Fuerteventura</td>\n",
       "      <td>2010Q1</td>\n",
       "      <td>90130386.63</td>\n",
       "      <td>35.486667</td>\n",
       "      <td>57.63</td>\n",
       "      <td>Alemania</td>\n",
       "      <td>143560.0</td>\n",
       "      <td>139893.0</td>\n",
       "      <td>3668.0</td>\n",
       "      <td>1040.55</td>\n",
       "      <td>473.62</td>\n",
       "      <td>334.83</td>\n",
       "      <td>232.11</td>\n",
       "      <td>491.0</td>\n",
       "      <td>83818.0</td>\n",
       "      <td>201847.0</td>\n",
       "      <td>11.193333</td>\n",
       "      <td>61.59</td>\n",
       "      <td>48.633333</td>\n",
       "    </tr>\n",
       "    <tr>\n",
       "      <th>1</th>\n",
       "      <td>Fuerteventura</td>\n",
       "      <td>2010Q1</td>\n",
       "      <td>90130386.63</td>\n",
       "      <td>35.486667</td>\n",
       "      <td>57.63</td>\n",
       "      <td>España</td>\n",
       "      <td>26503.0</td>\n",
       "      <td>23225.0</td>\n",
       "      <td>3278.0</td>\n",
       "      <td>692.60</td>\n",
       "      <td>271.42</td>\n",
       "      <td>175.27</td>\n",
       "      <td>245.91</td>\n",
       "      <td>491.0</td>\n",
       "      <td>83818.0</td>\n",
       "      <td>201847.0</td>\n",
       "      <td>4.090000</td>\n",
       "      <td>61.59</td>\n",
       "      <td>48.633333</td>\n",
       "    </tr>\n",
       "    <tr>\n",
       "      <th>2</th>\n",
       "      <td>Fuerteventura</td>\n",
       "      <td>2010Q1</td>\n",
       "      <td>90130386.63</td>\n",
       "      <td>35.486667</td>\n",
       "      <td>57.63</td>\n",
       "      <td>Holanda</td>\n",
       "      <td>8226.0</td>\n",
       "      <td>8155.0</td>\n",
       "      <td>71.0</td>\n",
       "      <td>1008.43</td>\n",
       "      <td>423.49</td>\n",
       "      <td>309.84</td>\n",
       "      <td>275.10</td>\n",
       "      <td>491.0</td>\n",
       "      <td>83818.0</td>\n",
       "      <td>201847.0</td>\n",
       "      <td>10.490000</td>\n",
       "      <td>61.59</td>\n",
       "      <td>48.633333</td>\n",
       "    </tr>\n",
       "    <tr>\n",
       "      <th>3</th>\n",
       "      <td>Fuerteventura</td>\n",
       "      <td>2010Q1</td>\n",
       "      <td>90130386.63</td>\n",
       "      <td>35.486667</td>\n",
       "      <td>57.63</td>\n",
       "      <td>Otros países</td>\n",
       "      <td>41629.0</td>\n",
       "      <td>40790.0</td>\n",
       "      <td>838.0</td>\n",
       "      <td>871.73</td>\n",
       "      <td>380.71</td>\n",
       "      <td>270.55</td>\n",
       "      <td>220.47</td>\n",
       "      <td>491.0</td>\n",
       "      <td>83818.0</td>\n",
       "      <td>201847.0</td>\n",
       "      <td>8.880000</td>\n",
       "      <td>61.59</td>\n",
       "      <td>48.633333</td>\n",
       "    </tr>\n",
       "    <tr>\n",
       "      <th>4</th>\n",
       "      <td>Fuerteventura</td>\n",
       "      <td>2010Q1</td>\n",
       "      <td>90130386.63</td>\n",
       "      <td>35.486667</td>\n",
       "      <td>57.63</td>\n",
       "      <td>Países Nórdicos</td>\n",
       "      <td>34385.0</td>\n",
       "      <td>34081.0</td>\n",
       "      <td>304.0</td>\n",
       "      <td>985.05</td>\n",
       "      <td>442.19</td>\n",
       "      <td>281.08</td>\n",
       "      <td>261.78</td>\n",
       "      <td>491.0</td>\n",
       "      <td>83818.0</td>\n",
       "      <td>201847.0</td>\n",
       "      <td>7.893333</td>\n",
       "      <td>61.59</td>\n",
       "      <td>48.633333</td>\n",
       "    </tr>\n",
       "  </tbody>\n",
       "</table>\n",
       "</div>"
      ],
      "text/plain": [
       "            isla   fecha  Ingresos totales     RevPAR    ADR             pais  \\\n",
       "0  Fuerteventura  2010Q1       90130386.63  35.486667  57.63         Alemania   \n",
       "1  Fuerteventura  2010Q1       90130386.63  35.486667  57.63           España   \n",
       "2  Fuerteventura  2010Q1       90130386.63  35.486667  57.63          Holanda   \n",
       "3  Fuerteventura  2010Q1       90130386.63  35.486667  57.63     Otros países   \n",
       "4  Fuerteventura  2010Q1       90130386.63  35.486667  57.63  Países Nórdicos   \n",
       "\n",
       "   Total Turistas  Total Turistas Principales  Total Turistas Secundarios  \\\n",
       "0        143560.0                    139893.0                      3668.0   \n",
       "1         26503.0                     23225.0                      3278.0   \n",
       "2          8226.0                      8155.0                        71.0   \n",
       "3         41629.0                     40790.0                       838.0   \n",
       "4         34385.0                     34081.0                       304.0   \n",
       "\n",
       "   total gasto por turista  gasto por turista alojamiento  \\\n",
       "0                  1040.55                         473.62   \n",
       "1                   692.60                         271.42   \n",
       "2                  1008.43                         423.49   \n",
       "3                   871.73                         380.71   \n",
       "4                   985.05                         442.19   \n",
       "\n",
       "   gasto por turista transporte nacional / internacional  \\\n",
       "0                                             334.83       \n",
       "1                                             175.27       \n",
       "2                                             309.84       \n",
       "3                                             270.55       \n",
       "4                                             281.08       \n",
       "\n",
       "   gasto por turista  otros  Establecimientos abiertos  Hab-aprt disponibles  \\\n",
       "0                    232.11                      491.0               83818.0   \n",
       "1                    245.91                      491.0               83818.0   \n",
       "2                    275.10                      491.0               83818.0   \n",
       "3                    220.47                      491.0               83818.0   \n",
       "4                    261.78                      491.0               83818.0   \n",
       "\n",
       "   Plazas ofertadas  Estancia media  Tasa ocupación por Hab-aprt  \\\n",
       "0          201847.0       11.193333                        61.59   \n",
       "1          201847.0        4.090000                        61.59   \n",
       "2          201847.0       10.490000                        61.59   \n",
       "3          201847.0        8.880000                        61.59   \n",
       "4          201847.0        7.893333                        61.59   \n",
       "\n",
       "   Tasa ocupación por plazas  \n",
       "0                  48.633333  \n",
       "1                  48.633333  \n",
       "2                  48.633333  \n",
       "3                  48.633333  \n",
       "4                  48.633333  "
      ]
     },
     "execution_count": 65,
     "metadata": {},
     "output_type": "execute_result"
    }
   ],
   "source": [
    "GMI_join_cc_cs_filtroPI_F.head()"
   ]
  },
  {
   "cell_type": "markdown",
   "metadata": {},
   "source": [
    "## GUARDAMOS..."
   ]
  },
  {
   "cell_type": "code",
   "execution_count": 66,
   "metadata": {},
   "outputs": [],
   "source": [
    "rutaDatosTratados = \"../PredictorGastoTuristico/DatosGuardados/\"\n",
    "GMI_join_cc_cs_filtroPI_F.to_csv(rutaDatosTratados+\"GMI_join_cc_cs_filtroPI_F.csv\", index = False, encoding='utf-8')"
   ]
  }
 ],
 "metadata": {
  "kernelspec": {
   "display_name": "Python 3",
   "language": "python",
   "name": "python3"
  },
  "language_info": {
   "codemirror_mode": {
    "name": "ipython",
    "version": 3
   },
   "file_extension": ".py",
   "mimetype": "text/x-python",
   "name": "python",
   "nbconvert_exporter": "python",
   "pygments_lexer": "ipython3",
   "version": "3.8.5"
  }
 },
 "nbformat": 4,
 "nbformat_minor": 4
}
