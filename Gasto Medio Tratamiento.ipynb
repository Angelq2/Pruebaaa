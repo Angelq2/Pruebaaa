{
 "cells": [
  {
   "cell_type": "markdown",
   "metadata": {},
   "source": [
    "# GASTO MEDIO - TRATAMIENTO"
   ]
  },
  {
   "cell_type": "markdown",
   "metadata": {},
   "source": [
    "# Proposito:"
   ]
  },
  {
   "cell_type": "markdown",
   "metadata": {},
   "source": [
    "En este notebook nos dedicaremos al tratamiento del gasto medio con el objetivo de establecer un estándar y limpiar los datos para quedarnos con lo que realmente nos interesa. "
   ]
  },
  {
   "cell_type": "code",
   "execution_count": 1,
   "metadata": {
    "scrolled": true
   },
   "outputs": [
    {
     "name": "stdout",
     "output_type": "stream",
     "text": [
      "Last updated: 2023-02-10T12:17:19.936727+00:00\n",
      "\n",
      "Python implementation: CPython\n",
      "Python version       : 3.8.5\n",
      "IPython version      : 7.19.0\n",
      "\n",
      "Compiler    : MSC v.1916 64 bit (AMD64)\n",
      "OS          : Windows\n",
      "Release     : 10\n",
      "Machine     : AMD64\n",
      "Processor   : Intel64 Family 6 Model 126 Stepping 5, GenuineIntel\n",
      "CPU cores   : 8\n",
      "Architecture: 64bit\n",
      "\n"
     ]
    }
   ],
   "source": [
    "%load_ext watermark\n",
    "%watermark"
   ]
  },
  {
   "cell_type": "code",
   "execution_count": 2,
   "metadata": {},
   "outputs": [],
   "source": [
    "import pandas as pd\n",
    "import numpy as np\n",
    "import os\n",
    "import re"
   ]
  },
  {
   "cell_type": "markdown",
   "metadata": {},
   "source": [
    "# PREPARACION PREVIA\n",
    "\n",
    "Primero necesitamos copiar todos nuestros archivos en una carpeta donde podramos manipularlos para así conservar los archivos originales"
   ]
  },
  {
   "cell_type": "code",
   "execution_count": 3,
   "metadata": {},
   "outputs": [],
   "source": [
    "from distutils.dir_util import copy_tree\n",
    "\n",
    "# Método que limpia la carpeta de datos volatiles ya que es \n",
    "# una carpeta activa en todos los programas que hemos generado.\n",
    "def limpiaCarpetaVolatil(rutaCopia):\n",
    "    print(\"Limpiando Carpeta Volatil...\")\n",
    "    for f in os.listdir(rutaCopia):\n",
    "        os.remove(os.path.join(rutaCopia, f))\n",
    "        \n",
    "#Metodo que copia recursivamente\n",
    "def copia(dir_origen,dir_destino):\n",
    "    print(\"Copiando...\")\n",
    "    copy_tree(dir_origen, dir_destino)\n",
    "    print(\"Copiado\")\n",
    "    print(os.listdir(dir_destino))\n",
    "  \n"
   ]
  },
  {
   "cell_type": "code",
   "execution_count": 4,
   "metadata": {
    "scrolled": true
   },
   "outputs": [
    {
     "name": "stdout",
     "output_type": "stream",
     "text": [
      "Limpiando Carpeta Volatil...\n",
      "Copiando...\n",
      "Copiado\n",
      "['gasto_medio_islas.csv']\n"
     ]
    }
   ],
   "source": [
    "rutaBase= \"../PredictorGastoTuristico/DatosVirgenes/ISTAC/gasto/\"\n",
    "rutaCopia= \"../PredictorGastoTuristico/DatosVolatiles/\"\n",
    "\n",
    "limpiaCarpetaVolatil(rutaCopia)\n",
    "copia(rutaBase,rutaCopia)"
   ]
  },
  {
   "cell_type": "code",
   "execution_count": 5,
   "metadata": {},
   "outputs": [],
   "source": [
    "gasto_medio_islas = pd.read_csv(rutaCopia+'gasto_medio_islas.csv',keep_default_na=False, na_values=[\"\"])"
   ]
  },
  {
   "cell_type": "code",
   "execution_count": 6,
   "metadata": {
    "scrolled": true
   },
   "outputs": [
    {
     "data": {
      "text/html": [
       "<div>\n",
       "<style scoped>\n",
       "    .dataframe tbody tr th:only-of-type {\n",
       "        vertical-align: middle;\n",
       "    }\n",
       "\n",
       "    .dataframe tbody tr th {\n",
       "        vertical-align: top;\n",
       "    }\n",
       "\n",
       "    .dataframe thead th {\n",
       "        text-align: right;\n",
       "    }\n",
       "</style>\n",
       "<table border=\"1\" class=\"dataframe\">\n",
       "  <thead>\n",
       "    <tr style=\"text-align: right;\">\n",
       "      <th></th>\n",
       "      <th>fecha</th>\n",
       "      <th>pais</th>\n",
       "      <th>isla</th>\n",
       "      <th>total gasto por turista</th>\n",
       "      <th>gasto por turista alojamiento</th>\n",
       "      <th>gasto por turista transporte nacional / internacional</th>\n",
       "      <th>gasto por turista  otros</th>\n",
       "    </tr>\n",
       "  </thead>\n",
       "  <tbody>\n",
       "    <tr>\n",
       "      <th>0</th>\n",
       "      <td>2022 Tercer trimestre</td>\n",
       "      <td>TOTAL</td>\n",
       "      <td>Gran Canaria</td>\n",
       "      <td>1.340,83</td>\n",
       "      <td>558,90</td>\n",
       "      <td>400,26</td>\n",
       "      <td>381,67</td>\n",
       "    </tr>\n",
       "    <tr>\n",
       "      <th>1</th>\n",
       "      <td>2022 Segundo trimestre</td>\n",
       "      <td>TOTAL</td>\n",
       "      <td>Gran Canaria</td>\n",
       "      <td>1.216,91</td>\n",
       "      <td>493,12</td>\n",
       "      <td>349,26</td>\n",
       "      <td>374,53</td>\n",
       "    </tr>\n",
       "    <tr>\n",
       "      <th>2</th>\n",
       "      <td>2022 Primer trimestre</td>\n",
       "      <td>TOTAL</td>\n",
       "      <td>Gran Canaria</td>\n",
       "      <td>1.440,08</td>\n",
       "      <td>645,89</td>\n",
       "      <td>370,33</td>\n",
       "      <td>423,86</td>\n",
       "    </tr>\n",
       "    <tr>\n",
       "      <th>3</th>\n",
       "      <td>2021</td>\n",
       "      <td>TOTAL</td>\n",
       "      <td>Gran Canaria</td>\n",
       "      <td>1.234,73</td>\n",
       "      <td>539,72</td>\n",
       "      <td>317,03</td>\n",
       "      <td>377,98</td>\n",
       "    </tr>\n",
       "    <tr>\n",
       "      <th>4</th>\n",
       "      <td>2021 Cuarto trimestre</td>\n",
       "      <td>TOTAL</td>\n",
       "      <td>Gran Canaria</td>\n",
       "      <td>1.274,38</td>\n",
       "      <td>575,45</td>\n",
       "      <td>340,81</td>\n",
       "      <td>358,12</td>\n",
       "    </tr>\n",
       "    <tr>\n",
       "      <th>5</th>\n",
       "      <td>2021 Tercer trimestre</td>\n",
       "      <td>TOTAL</td>\n",
       "      <td>Gran Canaria</td>\n",
       "      <td>1.143,95</td>\n",
       "      <td>485,78</td>\n",
       "      <td>295,00</td>\n",
       "      <td>363,17</td>\n",
       "    </tr>\n",
       "    <tr>\n",
       "      <th>6</th>\n",
       "      <td>2021 Segundo trimestre</td>\n",
       "      <td>TOTAL</td>\n",
       "      <td>Gran Canaria</td>\n",
       "      <td>1.197,36</td>\n",
       "      <td>477,30</td>\n",
       "      <td>284,06</td>\n",
       "      <td>436,00</td>\n",
       "    </tr>\n",
       "    <tr>\n",
       "      <th>7</th>\n",
       "      <td>2021 Primer trimestre</td>\n",
       "      <td>TOTAL</td>\n",
       "      <td>Gran Canaria</td>\n",
       "      <td>1.381,47</td>\n",
       "      <td>607,07</td>\n",
       "      <td>288,77</td>\n",
       "      <td>485,63</td>\n",
       "    </tr>\n",
       "    <tr>\n",
       "      <th>8</th>\n",
       "      <td>2020</td>\n",
       "      <td>TOTAL</td>\n",
       "      <td>Gran Canaria</td>\n",
       "      <td>1.253,77</td>\n",
       "      <td>564,23</td>\n",
       "      <td>324,24</td>\n",
       "      <td>365,30</td>\n",
       "    </tr>\n",
       "    <tr>\n",
       "      <th>9</th>\n",
       "      <td>2020 Cuarto trimestre</td>\n",
       "      <td>TOTAL</td>\n",
       "      <td>Gran Canaria</td>\n",
       "      <td>1.066,61</td>\n",
       "      <td>432,29</td>\n",
       "      <td>255,13</td>\n",
       "      <td>379,19</td>\n",
       "    </tr>\n",
       "  </tbody>\n",
       "</table>\n",
       "</div>"
      ],
      "text/plain": [
       "                          fecha   pais             isla  \\\n",
       "0         2022 Tercer trimestre  TOTAL     Gran Canaria   \n",
       "1        2022 Segundo trimestre  TOTAL     Gran Canaria   \n",
       "2         2022 Primer trimestre  TOTAL     Gran Canaria   \n",
       "3                          2021  TOTAL     Gran Canaria   \n",
       "4         2021 Cuarto trimestre  TOTAL     Gran Canaria   \n",
       "5         2021 Tercer trimestre  TOTAL     Gran Canaria   \n",
       "6        2021 Segundo trimestre  TOTAL     Gran Canaria   \n",
       "7         2021 Primer trimestre  TOTAL     Gran Canaria   \n",
       "8                          2020  TOTAL     Gran Canaria   \n",
       "9         2020 Cuarto trimestre  TOTAL     Gran Canaria   \n",
       "\n",
       "  total gasto por turista gasto por turista alojamiento  \\\n",
       "0                1.340,83                        558,90   \n",
       "1                1.216,91                        493,12   \n",
       "2                1.440,08                        645,89   \n",
       "3                1.234,73                        539,72   \n",
       "4                1.274,38                        575,45   \n",
       "5                1.143,95                        485,78   \n",
       "6                1.197,36                        477,30   \n",
       "7                1.381,47                        607,07   \n",
       "8                1.253,77                        564,23   \n",
       "9                1.066,61                        432,29   \n",
       "\n",
       "  gasto por turista transporte nacional / internacional  \\\n",
       "0                                             400,26      \n",
       "1                                             349,26      \n",
       "2                                             370,33      \n",
       "3                                             317,03      \n",
       "4                                             340,81      \n",
       "5                                             295,00      \n",
       "6                                             284,06      \n",
       "7                                             288,77      \n",
       "8                                             324,24      \n",
       "9                                             255,13      \n",
       "\n",
       "  gasto por turista  otros  \n",
       "0                   381,67  \n",
       "1                   374,53  \n",
       "2                   423,86  \n",
       "3                   377,98  \n",
       "4                   358,12  \n",
       "5                   363,17  \n",
       "6                   436,00  \n",
       "7                   485,63  \n",
       "8                   365,30  \n",
       "9                   379,19  "
      ]
     },
     "execution_count": 6,
     "metadata": {},
     "output_type": "execute_result"
    }
   ],
   "source": [
    "gasto_medio_islas.head(10)"
   ]
  },
  {
   "cell_type": "code",
   "execution_count": 7,
   "metadata": {},
   "outputs": [
    {
     "data": {
      "text/plain": [
       "(2646, 7)"
      ]
     },
     "execution_count": 7,
     "metadata": {},
     "output_type": "execute_result"
    }
   ],
   "source": [
    "gasto_medio_islas.shape"
   ]
  },
  {
   "cell_type": "markdown",
   "metadata": {},
   "source": [
    "Visualizamos previamente los datos que tenemos: "
   ]
  },
  {
   "cell_type": "code",
   "execution_count": 8,
   "metadata": {},
   "outputs": [
    {
     "name": "stdout",
     "output_type": "stream",
     "text": [
      "fecha\n",
      "['      2022 Tercer trimestre' '      2022 Segundo trimestre'\n",
      " '      2022 Primer trimestre' '2021' '      2021 Cuarto trimestre'\n",
      " '      2021 Tercer trimestre' '      2021 Segundo trimestre'\n",
      " '      2021 Primer trimestre' '2020' '      2020 Cuarto trimestre'\n",
      " '      2020 Tercer trimestre' '      2020 Segundo trimestre'\n",
      " '      2020 Primer trimestre' '2019' '      2019 Cuarto trimestre'\n",
      " '      2019 Tercer trimestre' '      2019 Segundo trimestre'\n",
      " '      2019 Primer trimestre' '2018' '      2018 Cuarto trimestre'\n",
      " '      2018 Tercer trimestre' '      2018 Segundo trimestre'\n",
      " '      2018 Primer trimestre' '2017' '      2017 Cuarto trimestre'\n",
      " '      2017 Tercer trimestre' '      2017 Segundo trimestre'\n",
      " '      2017 Primer trimestre' '2016' '      2016 Cuarto trimestre'\n",
      " '      2016 Tercer trimestre' '      2016 Segundo trimestre'\n",
      " '      2016 Primer trimestre' '2015' '      2015 Cuarto trimestre'\n",
      " '      2015 Tercer trimestre' '      2015 Segundo trimestre'\n",
      " '      2015 Primer trimestre' '2014' '      2014 Cuarto trimestre'\n",
      " '      2014 Tercer trimestre' '      2014 Segundo trimestre'\n",
      " '      2014 Primer trimestre' '2013' '      2013 Cuarto trimestre'\n",
      " '      2013 Tercer trimestre' '      2013 Segundo trimestre'\n",
      " '      2013 Primer trimestre' '2012' '      2012 Cuarto trimestre'\n",
      " '      2012 Tercer trimestre' '      2012 Segundo trimestre'\n",
      " '      2012 Primer trimestre' '2011' '      2011 Cuarto trimestre'\n",
      " '      2011 Tercer trimestre' '      2011 Segundo trimestre'\n",
      " '      2011 Primer trimestre' '2010' '      2010 Cuarto trimestre'\n",
      " '      2010 Tercer trimestre' '      2010 Segundo trimestre'\n",
      " '      2010 Primer trimestre' '      2021' '      2020' '      2019'\n",
      " '      2018' '      2017' '      2016' '      2015' '      2014'\n",
      " '      2013' '      2012' '      2011' '      2010']\n",
      "\n",
      "\n",
      "pais\n",
      "['TOTAL' 'Alemania' 'España' 'Holanda' 'Países Nórdicos' 'Reino Unido'\n",
      " 'Otros países']\n",
      "\n",
      "\n",
      "isla\n",
      "['   Gran Canaria' '   Fuerteventura' '   La Palma' '   Lanzarote'\n",
      " '   Tenerife' '   CANARIAS']\n",
      "\n",
      "\n",
      "total gasto por turista\n",
      "['1.340,83' '1.216,91' '1.440,08' ... '1.195,53' '1.017,30' '1.023,57']\n",
      "\n",
      "\n",
      "gasto por turista alojamiento\n",
      "['558,90' '493,12' '645,89' ... '490,12' '423,18' '417,21']\n",
      "\n",
      "\n",
      "gasto por turista transporte nacional / internacional\n",
      "['400,26' '349,26' '370,33' ... '327,36' '279,12' '291,47']\n",
      "\n",
      "\n",
      "gasto por turista  otros\n",
      "['381,67' '374,53' '423,86' ... '378,06' '315,00' '314,90']\n",
      "\n",
      "\n"
     ]
    }
   ],
   "source": [
    "for columna in gasto_medio_islas:\n",
    "    print(columna)\n",
    "    print(gasto_medio_islas[columna].unique())\n",
    "    print(\"\\n\")"
   ]
  },
  {
   "cell_type": "markdown",
   "metadata": {},
   "source": [
    "# UNIFICACIÓN Y ESTANDARIZACIÓN DE DATOS"
   ]
  },
  {
   "cell_type": "markdown",
   "metadata": {},
   "source": [
    "## 1. FECHA"
   ]
  },
  {
   "cell_type": "code",
   "execution_count": 9,
   "metadata": {},
   "outputs": [],
   "source": [
    "# A esta funcion se la pasa un dataframe, la columna y el elemento que queremos encontrar y remplazar en toda la columna\n",
    "def replace_value(df, df_column_name, patron_to_find, patron_to_replace):\n",
    "    try:\n",
    "        my_list = []\n",
    "        for item in df[df_column_name]: \n",
    "            #my_list.append(re.sub(r'(\\d+)M(\\d+)',r'\\1-\\2',item))\n",
    "            my_list.append(re.sub(patron_to_find, patron_to_replace,item))\n",
    "            \n",
    "        print(\"Se ha cambiado el patron ({}) por el patron ({}) en la columna {}\".format(\n",
    "                patron_to_find, patron_to_replace, str(df[df_column_name].name)\n",
    "            ))\n",
    "        df[df_column_name] = pd.DataFrame(my_list)\n",
    "        #print(df.head(5))\n",
    "    except:\n",
    "        print(\"Algo no funciona como deberia probablemente el error este en el patron\")  "
   ]
  },
  {
   "cell_type": "markdown",
   "metadata": {},
   "source": [
    "## 1.0 ESTANDARIZAMOS  (Problema dificíl de ver)\n",
    "**IMPORTANTE LEER:**\n",
    "\n",
    "Nos hemos percatado en posteriores códigos para hacer merge (Horas y horas pensado que el merge no funcionaba como debería) que en columna fecha había duplicados del cuartil Q1, y no tenia sentido porque ya habiamos eliminado las fechas anuales antes de transformar los cuartiles...\n",
    "\n",
    "Vale pues resulta que **hay tres formatos**  en la columna fecha: \n",
    "  - '______2022 Tercer trimestre' (con espacios iniciales que no se ven)\n",
    "  - '2010'\n",
    "  - '_______2010' (con espacios iniciales)\n",
    "\n",
    "Este ultimo no habia sido eliminado asique era el foco de problemas en uniones posteriores\n",
    "\n",
    "Tiene unos espaciados que imposibilitan La Unión posterior de datos de tipo fecha así que vamos a tratarlo. esto nos enseña una vez más cómo el proceso de análisis de datos y tratamiento es un proceso en constante revisión y mejora que implica dar pasos hacia atrás debido a percatarnos de cosas que habíamos pasado previamente por alto."
   ]
  },
  {
   "cell_type": "code",
   "execution_count": 10,
   "metadata": {},
   "outputs": [
    {
     "data": {
      "text/plain": [
       "array(['      2022 Tercer trimestre', '      2022 Segundo trimestre',\n",
       "       '      2022 Primer trimestre', '2021',\n",
       "       '      2021 Cuarto trimestre', '      2021 Tercer trimestre',\n",
       "       '      2021 Segundo trimestre', '      2021 Primer trimestre',\n",
       "       '2020', '      2020 Cuarto trimestre',\n",
       "       '      2020 Tercer trimestre', '      2020 Segundo trimestre',\n",
       "       '      2020 Primer trimestre', '2019',\n",
       "       '      2019 Cuarto trimestre', '      2019 Tercer trimestre',\n",
       "       '      2019 Segundo trimestre', '      2019 Primer trimestre',\n",
       "       '2018', '      2018 Cuarto trimestre',\n",
       "       '      2018 Tercer trimestre', '      2018 Segundo trimestre',\n",
       "       '      2018 Primer trimestre', '2017',\n",
       "       '      2017 Cuarto trimestre', '      2017 Tercer trimestre',\n",
       "       '      2017 Segundo trimestre', '      2017 Primer trimestre',\n",
       "       '2016', '      2016 Cuarto trimestre',\n",
       "       '      2016 Tercer trimestre', '      2016 Segundo trimestre',\n",
       "       '      2016 Primer trimestre', '2015',\n",
       "       '      2015 Cuarto trimestre', '      2015 Tercer trimestre',\n",
       "       '      2015 Segundo trimestre', '      2015 Primer trimestre',\n",
       "       '2014', '      2014 Cuarto trimestre',\n",
       "       '      2014 Tercer trimestre', '      2014 Segundo trimestre',\n",
       "       '      2014 Primer trimestre', '2013',\n",
       "       '      2013 Cuarto trimestre', '      2013 Tercer trimestre',\n",
       "       '      2013 Segundo trimestre', '      2013 Primer trimestre',\n",
       "       '2012', '      2012 Cuarto trimestre',\n",
       "       '      2012 Tercer trimestre', '      2012 Segundo trimestre',\n",
       "       '      2012 Primer trimestre', '2011',\n",
       "       '      2011 Cuarto trimestre', '      2011 Tercer trimestre',\n",
       "       '      2011 Segundo trimestre', '      2011 Primer trimestre',\n",
       "       '2010', '      2010 Cuarto trimestre',\n",
       "       '      2010 Tercer trimestre', '      2010 Segundo trimestre',\n",
       "       '      2010 Primer trimestre', '      2021', '      2020',\n",
       "       '      2019', '      2018', '      2017', '      2016',\n",
       "       '      2015', '      2014', '      2013', '      2012',\n",
       "       '      2011', '      2010'], dtype=object)"
      ]
     },
     "execution_count": 10,
     "metadata": {},
     "output_type": "execute_result"
    }
   ],
   "source": [
    "gasto_medio_islas.fecha.unique()"
   ]
  },
  {
   "cell_type": "code",
   "execution_count": 11,
   "metadata": {},
   "outputs": [
    {
     "name": "stdout",
     "output_type": "stream",
     "text": [
      "Se ha cambiado el patron (\\s+2010) por el patron (2010) en la columna fecha\n",
      "Se ha cambiado el patron (\\s+2011) por el patron (2011) en la columna fecha\n",
      "Se ha cambiado el patron (\\s+2012) por el patron (2012) en la columna fecha\n",
      "Se ha cambiado el patron (\\s+2013) por el patron (2013) en la columna fecha\n",
      "Se ha cambiado el patron (\\s+2014) por el patron (2014) en la columna fecha\n",
      "Se ha cambiado el patron (\\s+2015) por el patron (2015) en la columna fecha\n",
      "Se ha cambiado el patron (\\s+2016) por el patron (2016) en la columna fecha\n",
      "Se ha cambiado el patron (\\s+2017) por el patron (2017) en la columna fecha\n",
      "Se ha cambiado el patron (\\s+2018) por el patron (2018) en la columna fecha\n",
      "Se ha cambiado el patron (\\s+2019) por el patron (2019) en la columna fecha\n",
      "Se ha cambiado el patron (\\s+2020) por el patron (2020) en la columna fecha\n",
      "Se ha cambiado el patron (\\s+2021) por el patron (2021) en la columna fecha\n"
     ]
    }
   ],
   "source": [
    "dates=[\"2010\",\"2011\",\"2012\",\"2013\",\"2014\",\"2015\",\"2016\",\"2017\",\"2018\",\"2019\",\"2020\",\"2021\"]\n",
    "\n",
    "for i in dates:\n",
    "    pattern= r\"\\s+\"+i\n",
    "    p = r\"\"+i\n",
    "    replace_value(gasto_medio_islas, \"fecha\", pattern, p)"
   ]
  },
  {
   "cell_type": "code",
   "execution_count": 12,
   "metadata": {},
   "outputs": [
    {
     "data": {
      "text/plain": [
       "array(['      2022 Tercer trimestre', '      2022 Segundo trimestre',\n",
       "       '      2022 Primer trimestre', '2021', '2021 Cuarto trimestre',\n",
       "       '2021 Tercer trimestre', '2021 Segundo trimestre',\n",
       "       '2021 Primer trimestre', '2020', '2020 Cuarto trimestre',\n",
       "       '2020 Tercer trimestre', '2020 Segundo trimestre',\n",
       "       '2020 Primer trimestre', '2019', '2019 Cuarto trimestre',\n",
       "       '2019 Tercer trimestre', '2019 Segundo trimestre',\n",
       "       '2019 Primer trimestre', '2018', '2018 Cuarto trimestre',\n",
       "       '2018 Tercer trimestre', '2018 Segundo trimestre',\n",
       "       '2018 Primer trimestre', '2017', '2017 Cuarto trimestre',\n",
       "       '2017 Tercer trimestre', '2017 Segundo trimestre',\n",
       "       '2017 Primer trimestre', '2016', '2016 Cuarto trimestre',\n",
       "       '2016 Tercer trimestre', '2016 Segundo trimestre',\n",
       "       '2016 Primer trimestre', '2015', '2015 Cuarto trimestre',\n",
       "       '2015 Tercer trimestre', '2015 Segundo trimestre',\n",
       "       '2015 Primer trimestre', '2014', '2014 Cuarto trimestre',\n",
       "       '2014 Tercer trimestre', '2014 Segundo trimestre',\n",
       "       '2014 Primer trimestre', '2013', '2013 Cuarto trimestre',\n",
       "       '2013 Tercer trimestre', '2013 Segundo trimestre',\n",
       "       '2013 Primer trimestre', '2012', '2012 Cuarto trimestre',\n",
       "       '2012 Tercer trimestre', '2012 Segundo trimestre',\n",
       "       '2012 Primer trimestre', '2011', '2011 Cuarto trimestre',\n",
       "       '2011 Tercer trimestre', '2011 Segundo trimestre',\n",
       "       '2011 Primer trimestre', '2010', '2010 Cuarto trimestre',\n",
       "       '2010 Tercer trimestre', '2010 Segundo trimestre',\n",
       "       '2010 Primer trimestre'], dtype=object)"
      ]
     },
     "execution_count": 12,
     "metadata": {},
     "output_type": "execute_result"
    }
   ],
   "source": [
    "gasto_medio_islas.fecha.unique()"
   ]
  },
  {
   "cell_type": "markdown",
   "metadata": {},
   "source": [
    "Se han quitado los espacios y vemos como no se ha modificado nada mas..."
   ]
  },
  {
   "cell_type": "markdown",
   "metadata": {},
   "source": [
    "### 1.1 Transformamos la fecha a un formato usable Year-month"
   ]
  },
  {
   "cell_type": "markdown",
   "metadata": {},
   "source": [
    "Vamos a estandarizar la fecha usando los valores trimestrales, pero en el formato estándar de cuartiles. Ya que vemos que tiene el formato \"2020 Primer Trimestre\""
   ]
  },
  {
   "cell_type": "markdown",
   "metadata": {},
   "source": [
    "Tratamos turistas_motivos['fecha'] cambiando las fechas por nuestro patron donde ponemos el primer mes que representa el inicio del periodo en cuartiles, para la posterior transformación."
   ]
  },
  {
   "cell_type": "code",
   "execution_count": 13,
   "metadata": {
    "scrolled": false
   },
   "outputs": [
    {
     "name": "stdout",
     "output_type": "stream",
     "text": [
      "Se ha cambiado el patron ((\\d+) Primer trimestre) por el patron (\\1-01) en la columna fecha\n",
      "Se ha cambiado el patron ((\\d+) Segundo trimestre) por el patron (\\1-04) en la columna fecha\n",
      "Se ha cambiado el patron ((\\d+) Tercer trimestre) por el patron (\\1-07) en la columna fecha\n",
      "Se ha cambiado el patron ((\\d+) Cuarto trimestre) por el patron (\\1-10) en la columna fecha\n"
     ]
    },
    {
     "data": {
      "text/html": [
       "<div>\n",
       "<style scoped>\n",
       "    .dataframe tbody tr th:only-of-type {\n",
       "        vertical-align: middle;\n",
       "    }\n",
       "\n",
       "    .dataframe tbody tr th {\n",
       "        vertical-align: top;\n",
       "    }\n",
       "\n",
       "    .dataframe thead th {\n",
       "        text-align: right;\n",
       "    }\n",
       "</style>\n",
       "<table border=\"1\" class=\"dataframe\">\n",
       "  <thead>\n",
       "    <tr style=\"text-align: right;\">\n",
       "      <th></th>\n",
       "      <th>fecha</th>\n",
       "      <th>pais</th>\n",
       "      <th>isla</th>\n",
       "      <th>total gasto por turista</th>\n",
       "      <th>gasto por turista alojamiento</th>\n",
       "      <th>gasto por turista transporte nacional / internacional</th>\n",
       "      <th>gasto por turista  otros</th>\n",
       "    </tr>\n",
       "  </thead>\n",
       "  <tbody>\n",
       "    <tr>\n",
       "      <th>0</th>\n",
       "      <td>2022-07</td>\n",
       "      <td>TOTAL</td>\n",
       "      <td>Gran Canaria</td>\n",
       "      <td>1.340,83</td>\n",
       "      <td>558,90</td>\n",
       "      <td>400,26</td>\n",
       "      <td>381,67</td>\n",
       "    </tr>\n",
       "    <tr>\n",
       "      <th>1</th>\n",
       "      <td>2022-04</td>\n",
       "      <td>TOTAL</td>\n",
       "      <td>Gran Canaria</td>\n",
       "      <td>1.216,91</td>\n",
       "      <td>493,12</td>\n",
       "      <td>349,26</td>\n",
       "      <td>374,53</td>\n",
       "    </tr>\n",
       "    <tr>\n",
       "      <th>2</th>\n",
       "      <td>2022-01</td>\n",
       "      <td>TOTAL</td>\n",
       "      <td>Gran Canaria</td>\n",
       "      <td>1.440,08</td>\n",
       "      <td>645,89</td>\n",
       "      <td>370,33</td>\n",
       "      <td>423,86</td>\n",
       "    </tr>\n",
       "    <tr>\n",
       "      <th>3</th>\n",
       "      <td>2021</td>\n",
       "      <td>TOTAL</td>\n",
       "      <td>Gran Canaria</td>\n",
       "      <td>1.234,73</td>\n",
       "      <td>539,72</td>\n",
       "      <td>317,03</td>\n",
       "      <td>377,98</td>\n",
       "    </tr>\n",
       "    <tr>\n",
       "      <th>4</th>\n",
       "      <td>2021-10</td>\n",
       "      <td>TOTAL</td>\n",
       "      <td>Gran Canaria</td>\n",
       "      <td>1.274,38</td>\n",
       "      <td>575,45</td>\n",
       "      <td>340,81</td>\n",
       "      <td>358,12</td>\n",
       "    </tr>\n",
       "    <tr>\n",
       "      <th>5</th>\n",
       "      <td>2021-07</td>\n",
       "      <td>TOTAL</td>\n",
       "      <td>Gran Canaria</td>\n",
       "      <td>1.143,95</td>\n",
       "      <td>485,78</td>\n",
       "      <td>295,00</td>\n",
       "      <td>363,17</td>\n",
       "    </tr>\n",
       "    <tr>\n",
       "      <th>6</th>\n",
       "      <td>2021-04</td>\n",
       "      <td>TOTAL</td>\n",
       "      <td>Gran Canaria</td>\n",
       "      <td>1.197,36</td>\n",
       "      <td>477,30</td>\n",
       "      <td>284,06</td>\n",
       "      <td>436,00</td>\n",
       "    </tr>\n",
       "    <tr>\n",
       "      <th>7</th>\n",
       "      <td>2021-01</td>\n",
       "      <td>TOTAL</td>\n",
       "      <td>Gran Canaria</td>\n",
       "      <td>1.381,47</td>\n",
       "      <td>607,07</td>\n",
       "      <td>288,77</td>\n",
       "      <td>485,63</td>\n",
       "    </tr>\n",
       "    <tr>\n",
       "      <th>8</th>\n",
       "      <td>2020</td>\n",
       "      <td>TOTAL</td>\n",
       "      <td>Gran Canaria</td>\n",
       "      <td>1.253,77</td>\n",
       "      <td>564,23</td>\n",
       "      <td>324,24</td>\n",
       "      <td>365,30</td>\n",
       "    </tr>\n",
       "    <tr>\n",
       "      <th>9</th>\n",
       "      <td>2020-10</td>\n",
       "      <td>TOTAL</td>\n",
       "      <td>Gran Canaria</td>\n",
       "      <td>1.066,61</td>\n",
       "      <td>432,29</td>\n",
       "      <td>255,13</td>\n",
       "      <td>379,19</td>\n",
       "    </tr>\n",
       "  </tbody>\n",
       "</table>\n",
       "</div>"
      ],
      "text/plain": [
       "           fecha   pais             isla total gasto por turista  \\\n",
       "0        2022-07  TOTAL     Gran Canaria                1.340,83   \n",
       "1        2022-04  TOTAL     Gran Canaria                1.216,91   \n",
       "2        2022-01  TOTAL     Gran Canaria                1.440,08   \n",
       "3           2021  TOTAL     Gran Canaria                1.234,73   \n",
       "4        2021-10  TOTAL     Gran Canaria                1.274,38   \n",
       "5        2021-07  TOTAL     Gran Canaria                1.143,95   \n",
       "6        2021-04  TOTAL     Gran Canaria                1.197,36   \n",
       "7        2021-01  TOTAL     Gran Canaria                1.381,47   \n",
       "8           2020  TOTAL     Gran Canaria                1.253,77   \n",
       "9        2020-10  TOTAL     Gran Canaria                1.066,61   \n",
       "\n",
       "  gasto por turista alojamiento  \\\n",
       "0                        558,90   \n",
       "1                        493,12   \n",
       "2                        645,89   \n",
       "3                        539,72   \n",
       "4                        575,45   \n",
       "5                        485,78   \n",
       "6                        477,30   \n",
       "7                        607,07   \n",
       "8                        564,23   \n",
       "9                        432,29   \n",
       "\n",
       "  gasto por turista transporte nacional / internacional  \\\n",
       "0                                             400,26      \n",
       "1                                             349,26      \n",
       "2                                             370,33      \n",
       "3                                             317,03      \n",
       "4                                             340,81      \n",
       "5                                             295,00      \n",
       "6                                             284,06      \n",
       "7                                             288,77      \n",
       "8                                             324,24      \n",
       "9                                             255,13      \n",
       "\n",
       "  gasto por turista  otros  \n",
       "0                   381,67  \n",
       "1                   374,53  \n",
       "2                   423,86  \n",
       "3                   377,98  \n",
       "4                   358,12  \n",
       "5                   363,17  \n",
       "6                   436,00  \n",
       "7                   485,63  \n",
       "8                   365,30  \n",
       "9                   379,19  "
      ]
     },
     "execution_count": 13,
     "metadata": {},
     "output_type": "execute_result"
    }
   ],
   "source": [
    "replace_value(gasto_medio_islas, \"fecha\", r'(\\d+) Primer trimestre', r'\\1-01')\n",
    "replace_value(gasto_medio_islas, \"fecha\", r'(\\d+) Segundo trimestre', r'\\1-04')\n",
    "replace_value(gasto_medio_islas, \"fecha\", r'(\\d+) Tercer trimestre', r'\\1-07')\n",
    "replace_value(gasto_medio_islas, \"fecha\", r'(\\d+) Cuarto trimestre', r'\\1-10')\n",
    "\n",
    "gasto_medio_islas.head(10)"
   ]
  },
  {
   "cell_type": "markdown",
   "metadata": {},
   "source": [
    "### 1.2 Eliminamos fechas anuales"
   ]
  },
  {
   "cell_type": "markdown",
   "metadata": {},
   "source": [
    "Eliminamos las fechas anuales ya que nos vamos a centrar en las fechas por trimestres. Para ello, primero convertimos la columna fecha de object a string."
   ]
  },
  {
   "cell_type": "code",
   "execution_count": 14,
   "metadata": {},
   "outputs": [
    {
     "data": {
      "text/plain": [
       "0             2022-07\n",
       "1             2022-04\n",
       "2             2022-01\n",
       "3                2021\n",
       "4             2021-10\n",
       "            ...      \n",
       "2641             2010\n",
       "2642          2010-10\n",
       "2643          2010-07\n",
       "2644          2010-04\n",
       "2645          2010-01\n",
       "Name: fecha, Length: 2646, dtype: string"
      ]
     },
     "execution_count": 14,
     "metadata": {},
     "output_type": "execute_result"
    }
   ],
   "source": [
    "gasto_medio_islas.fecha.astype(\"string\")"
   ]
  },
  {
   "cell_type": "markdown",
   "metadata": {},
   "source": [
    "Ahora buscamos las fechas anuales y las eliminamos:"
   ]
  },
  {
   "cell_type": "code",
   "execution_count": 15,
   "metadata": {},
   "outputs": [],
   "source": [
    "#CODIGO INEFICIENTE QUE USAMOS EN OTRO JUPYTER NOTEBOOK PERO CON MUCHOS DATOS TARDA LA VIDA\n",
    "# Y CLARO ME DI CUENTA QUE HACER ESTE CODIGO ES LO MISMO QUE USAR EL ISIN DE PYTHON... :)\n",
    "\n",
    "\n",
    "##dates=[\"2010\",\"2011\",\"2012\",\"2013\",\"2014\",\"2015\",\"2016\",\"2017\",\"2018\",\"2019\",\"2020\",\"2021\",\"2022\"]\n",
    "##\n",
    "##for row in gasto_medio_islas.fecha:\n",
    "##    for year in dates:\n",
    "##        if row == year:\n",
    "##            gasto_medio_islas.drop(gasto_medio_islas[gasto_medio_islas['fecha'] == year].index,  axis=0, inplace=True)\n",
    "##            break\n",
    "##gasto_medio_islas.head(7)"
   ]
  },
  {
   "cell_type": "markdown",
   "metadata": {},
   "source": [
    "#### SOLUCION A LO ANTERIOR...\n",
    "#### ¿COMO?\n",
    "**Filtrando con ~isin** que elimina filas que estan en la lista"
   ]
  },
  {
   "cell_type": "code",
   "execution_count": 16,
   "metadata": {},
   "outputs": [
    {
     "name": "stdout",
     "output_type": "stream",
     "text": [
      "SE HAN ELIMINADO FECHAS ANUALES \n",
      " El archivo tenia: (2646, 7) y ahora tiene (2142, 7)\n"
     ]
    }
   ],
   "source": [
    "dates=[\"2010\",\"2011\",\"2012\",\"2013\",\"2014\",\"2015\",\"2016\",\"2017\",\"2018\",\"2019\",\"2020\",\"2021\",\"2022\"]\n",
    "\n",
    "last_shape = gasto_medio_islas.shape\n",
    "\n",
    "gasto_medio_islas = gasto_medio_islas[~gasto_medio_islas.fecha.isin(dates)] \n",
    "gasto_medio_islas.reset_index(drop=True, inplace=True)\n",
    "\n",
    "actual_shape = gasto_medio_islas.shape\n",
    "    \n",
    "print(\"SE HAN ELIMINADO FECHAS ANUALES \\n El archivo tenia: {} y ahora tiene {}\".format(last_shape,actual_shape))"
   ]
  },
  {
   "cell_type": "code",
   "execution_count": 17,
   "metadata": {
    "scrolled": true
   },
   "outputs": [
    {
     "data": {
      "text/html": [
       "<div>\n",
       "<style scoped>\n",
       "    .dataframe tbody tr th:only-of-type {\n",
       "        vertical-align: middle;\n",
       "    }\n",
       "\n",
       "    .dataframe tbody tr th {\n",
       "        vertical-align: top;\n",
       "    }\n",
       "\n",
       "    .dataframe thead th {\n",
       "        text-align: right;\n",
       "    }\n",
       "</style>\n",
       "<table border=\"1\" class=\"dataframe\">\n",
       "  <thead>\n",
       "    <tr style=\"text-align: right;\">\n",
       "      <th></th>\n",
       "      <th>fecha</th>\n",
       "      <th>pais</th>\n",
       "      <th>isla</th>\n",
       "      <th>total gasto por turista</th>\n",
       "      <th>gasto por turista alojamiento</th>\n",
       "      <th>gasto por turista transporte nacional / internacional</th>\n",
       "      <th>gasto por turista  otros</th>\n",
       "    </tr>\n",
       "  </thead>\n",
       "  <tbody>\n",
       "    <tr>\n",
       "      <th>0</th>\n",
       "      <td>2022-07</td>\n",
       "      <td>TOTAL</td>\n",
       "      <td>Gran Canaria</td>\n",
       "      <td>1.340,83</td>\n",
       "      <td>558,90</td>\n",
       "      <td>400,26</td>\n",
       "      <td>381,67</td>\n",
       "    </tr>\n",
       "    <tr>\n",
       "      <th>1</th>\n",
       "      <td>2022-04</td>\n",
       "      <td>TOTAL</td>\n",
       "      <td>Gran Canaria</td>\n",
       "      <td>1.216,91</td>\n",
       "      <td>493,12</td>\n",
       "      <td>349,26</td>\n",
       "      <td>374,53</td>\n",
       "    </tr>\n",
       "  </tbody>\n",
       "</table>\n",
       "</div>"
      ],
      "text/plain": [
       "           fecha   pais             isla total gasto por turista  \\\n",
       "0        2022-07  TOTAL     Gran Canaria                1.340,83   \n",
       "1        2022-04  TOTAL     Gran Canaria                1.216,91   \n",
       "\n",
       "  gasto por turista alojamiento  \\\n",
       "0                        558,90   \n",
       "1                        493,12   \n",
       "\n",
       "  gasto por turista transporte nacional / internacional  \\\n",
       "0                                             400,26      \n",
       "1                                             349,26      \n",
       "\n",
       "  gasto por turista  otros  \n",
       "0                   381,67  \n",
       "1                   374,53  "
      ]
     },
     "execution_count": 17,
     "metadata": {},
     "output_type": "execute_result"
    }
   ],
   "source": [
    "gasto_medio_islas.head(2)"
   ]
  },
  {
   "cell_type": "markdown",
   "metadata": {},
   "source": [
    "### 1.3 Transformamos a cuartiles"
   ]
  },
  {
   "cell_type": "markdown",
   "metadata": {},
   "source": [
    "Convertimos de datatime a a quarter"
   ]
  },
  {
   "cell_type": "code",
   "execution_count": 18,
   "metadata": {},
   "outputs": [],
   "source": [
    "gasto_medio_islas['fecha'] = pd.PeriodIndex(gasto_medio_islas.fecha, freq=\"Q\")"
   ]
  },
  {
   "cell_type": "code",
   "execution_count": 19,
   "metadata": {},
   "outputs": [
    {
     "data": {
      "text/html": [
       "<div>\n",
       "<style scoped>\n",
       "    .dataframe tbody tr th:only-of-type {\n",
       "        vertical-align: middle;\n",
       "    }\n",
       "\n",
       "    .dataframe tbody tr th {\n",
       "        vertical-align: top;\n",
       "    }\n",
       "\n",
       "    .dataframe thead th {\n",
       "        text-align: right;\n",
       "    }\n",
       "</style>\n",
       "<table border=\"1\" class=\"dataframe\">\n",
       "  <thead>\n",
       "    <tr style=\"text-align: right;\">\n",
       "      <th></th>\n",
       "      <th>fecha</th>\n",
       "      <th>pais</th>\n",
       "      <th>isla</th>\n",
       "      <th>total gasto por turista</th>\n",
       "      <th>gasto por turista alojamiento</th>\n",
       "      <th>gasto por turista transporte nacional / internacional</th>\n",
       "      <th>gasto por turista  otros</th>\n",
       "    </tr>\n",
       "  </thead>\n",
       "  <tbody>\n",
       "    <tr>\n",
       "      <th>0</th>\n",
       "      <td>2022Q3</td>\n",
       "      <td>TOTAL</td>\n",
       "      <td>Gran Canaria</td>\n",
       "      <td>1.340,83</td>\n",
       "      <td>558,90</td>\n",
       "      <td>400,26</td>\n",
       "      <td>381,67</td>\n",
       "    </tr>\n",
       "    <tr>\n",
       "      <th>1</th>\n",
       "      <td>2022Q2</td>\n",
       "      <td>TOTAL</td>\n",
       "      <td>Gran Canaria</td>\n",
       "      <td>1.216,91</td>\n",
       "      <td>493,12</td>\n",
       "      <td>349,26</td>\n",
       "      <td>374,53</td>\n",
       "    </tr>\n",
       "    <tr>\n",
       "      <th>2</th>\n",
       "      <td>2022Q1</td>\n",
       "      <td>TOTAL</td>\n",
       "      <td>Gran Canaria</td>\n",
       "      <td>1.440,08</td>\n",
       "      <td>645,89</td>\n",
       "      <td>370,33</td>\n",
       "      <td>423,86</td>\n",
       "    </tr>\n",
       "    <tr>\n",
       "      <th>3</th>\n",
       "      <td>2021Q4</td>\n",
       "      <td>TOTAL</td>\n",
       "      <td>Gran Canaria</td>\n",
       "      <td>1.274,38</td>\n",
       "      <td>575,45</td>\n",
       "      <td>340,81</td>\n",
       "      <td>358,12</td>\n",
       "    </tr>\n",
       "    <tr>\n",
       "      <th>4</th>\n",
       "      <td>2021Q3</td>\n",
       "      <td>TOTAL</td>\n",
       "      <td>Gran Canaria</td>\n",
       "      <td>1.143,95</td>\n",
       "      <td>485,78</td>\n",
       "      <td>295,00</td>\n",
       "      <td>363,17</td>\n",
       "    </tr>\n",
       "    <tr>\n",
       "      <th>5</th>\n",
       "      <td>2021Q2</td>\n",
       "      <td>TOTAL</td>\n",
       "      <td>Gran Canaria</td>\n",
       "      <td>1.197,36</td>\n",
       "      <td>477,30</td>\n",
       "      <td>284,06</td>\n",
       "      <td>436,00</td>\n",
       "    </tr>\n",
       "    <tr>\n",
       "      <th>6</th>\n",
       "      <td>2021Q1</td>\n",
       "      <td>TOTAL</td>\n",
       "      <td>Gran Canaria</td>\n",
       "      <td>1.381,47</td>\n",
       "      <td>607,07</td>\n",
       "      <td>288,77</td>\n",
       "      <td>485,63</td>\n",
       "    </tr>\n",
       "  </tbody>\n",
       "</table>\n",
       "</div>"
      ],
      "text/plain": [
       "    fecha   pais             isla total gasto por turista  \\\n",
       "0  2022Q3  TOTAL     Gran Canaria                1.340,83   \n",
       "1  2022Q2  TOTAL     Gran Canaria                1.216,91   \n",
       "2  2022Q1  TOTAL     Gran Canaria                1.440,08   \n",
       "3  2021Q4  TOTAL     Gran Canaria                1.274,38   \n",
       "4  2021Q3  TOTAL     Gran Canaria                1.143,95   \n",
       "5  2021Q2  TOTAL     Gran Canaria                1.197,36   \n",
       "6  2021Q1  TOTAL     Gran Canaria                1.381,47   \n",
       "\n",
       "  gasto por turista alojamiento  \\\n",
       "0                        558,90   \n",
       "1                        493,12   \n",
       "2                        645,89   \n",
       "3                        575,45   \n",
       "4                        485,78   \n",
       "5                        477,30   \n",
       "6                        607,07   \n",
       "\n",
       "  gasto por turista transporte nacional / internacional  \\\n",
       "0                                             400,26      \n",
       "1                                             349,26      \n",
       "2                                             370,33      \n",
       "3                                             340,81      \n",
       "4                                             295,00      \n",
       "5                                             284,06      \n",
       "6                                             288,77      \n",
       "\n",
       "  gasto por turista  otros  \n",
       "0                   381,67  \n",
       "1                   374,53  \n",
       "2                   423,86  \n",
       "3                   358,12  \n",
       "4                   363,17  \n",
       "5                   436,00  \n",
       "6                   485,63  "
      ]
     },
     "execution_count": 19,
     "metadata": {},
     "output_type": "execute_result"
    }
   ],
   "source": [
    "gasto_medio_islas.head(7)"
   ]
  },
  {
   "cell_type": "code",
   "execution_count": 20,
   "metadata": {
    "scrolled": true
   },
   "outputs": [
    {
     "data": {
      "text/plain": [
       "(2142, 7)"
      ]
     },
     "execution_count": 20,
     "metadata": {},
     "output_type": "execute_result"
    }
   ],
   "source": [
    "gasto_medio_islas.shape"
   ]
  },
  {
   "cell_type": "markdown",
   "metadata": {},
   "source": [
    "### 1.4 Eliminamos cuartiles de 2020 y 2021 al ser anomalos por el covi-19"
   ]
  },
  {
   "cell_type": "code",
   "execution_count": 21,
   "metadata": {},
   "outputs": [
    {
     "data": {
      "text/html": [
       "<div>\n",
       "<style scoped>\n",
       "    .dataframe tbody tr th:only-of-type {\n",
       "        vertical-align: middle;\n",
       "    }\n",
       "\n",
       "    .dataframe tbody tr th {\n",
       "        vertical-align: top;\n",
       "    }\n",
       "\n",
       "    .dataframe thead th {\n",
       "        text-align: right;\n",
       "    }\n",
       "</style>\n",
       "<table border=\"1\" class=\"dataframe\">\n",
       "  <thead>\n",
       "    <tr style=\"text-align: right;\">\n",
       "      <th></th>\n",
       "      <th>fecha</th>\n",
       "      <th>pais</th>\n",
       "      <th>isla</th>\n",
       "      <th>total gasto por turista</th>\n",
       "      <th>gasto por turista alojamiento</th>\n",
       "      <th>gasto por turista transporte nacional / internacional</th>\n",
       "      <th>gasto por turista  otros</th>\n",
       "    </tr>\n",
       "  </thead>\n",
       "  <tbody>\n",
       "    <tr>\n",
       "      <th>0</th>\n",
       "      <td>2022Q3</td>\n",
       "      <td>TOTAL</td>\n",
       "      <td>Gran Canaria</td>\n",
       "      <td>1.340,83</td>\n",
       "      <td>558,90</td>\n",
       "      <td>400,26</td>\n",
       "      <td>381,67</td>\n",
       "    </tr>\n",
       "    <tr>\n",
       "      <th>1</th>\n",
       "      <td>2022Q2</td>\n",
       "      <td>TOTAL</td>\n",
       "      <td>Gran Canaria</td>\n",
       "      <td>1.216,91</td>\n",
       "      <td>493,12</td>\n",
       "      <td>349,26</td>\n",
       "      <td>374,53</td>\n",
       "    </tr>\n",
       "    <tr>\n",
       "      <th>2</th>\n",
       "      <td>2022Q1</td>\n",
       "      <td>TOTAL</td>\n",
       "      <td>Gran Canaria</td>\n",
       "      <td>1.440,08</td>\n",
       "      <td>645,89</td>\n",
       "      <td>370,33</td>\n",
       "      <td>423,86</td>\n",
       "    </tr>\n",
       "    <tr>\n",
       "      <th>3</th>\n",
       "      <td>2021Q4</td>\n",
       "      <td>TOTAL</td>\n",
       "      <td>Gran Canaria</td>\n",
       "      <td>1.274,38</td>\n",
       "      <td>575,45</td>\n",
       "      <td>340,81</td>\n",
       "      <td>358,12</td>\n",
       "    </tr>\n",
       "    <tr>\n",
       "      <th>4</th>\n",
       "      <td>2021Q3</td>\n",
       "      <td>TOTAL</td>\n",
       "      <td>Gran Canaria</td>\n",
       "      <td>1.143,95</td>\n",
       "      <td>485,78</td>\n",
       "      <td>295,00</td>\n",
       "      <td>363,17</td>\n",
       "    </tr>\n",
       "  </tbody>\n",
       "</table>\n",
       "</div>"
      ],
      "text/plain": [
       "    fecha   pais             isla total gasto por turista  \\\n",
       "0  2022Q3  TOTAL     Gran Canaria                1.340,83   \n",
       "1  2022Q2  TOTAL     Gran Canaria                1.216,91   \n",
       "2  2022Q1  TOTAL     Gran Canaria                1.440,08   \n",
       "3  2021Q4  TOTAL     Gran Canaria                1.274,38   \n",
       "4  2021Q3  TOTAL     Gran Canaria                1.143,95   \n",
       "\n",
       "  gasto por turista alojamiento  \\\n",
       "0                        558,90   \n",
       "1                        493,12   \n",
       "2                        645,89   \n",
       "3                        575,45   \n",
       "4                        485,78   \n",
       "\n",
       "  gasto por turista transporte nacional / internacional  \\\n",
       "0                                             400,26      \n",
       "1                                             349,26      \n",
       "2                                             370,33      \n",
       "3                                             340,81      \n",
       "4                                             295,00      \n",
       "\n",
       "  gasto por turista  otros  \n",
       "0                   381,67  \n",
       "1                   374,53  \n",
       "2                   423,86  \n",
       "3                   358,12  \n",
       "4                   363,17  "
      ]
     },
     "execution_count": 21,
     "metadata": {},
     "output_type": "execute_result"
    }
   ],
   "source": [
    "gasto_medio_islas.head()    "
   ]
  },
  {
   "cell_type": "code",
   "execution_count": 22,
   "metadata": {},
   "outputs": [
    {
     "data": {
      "text/plain": [
       "(2142, 7)"
      ]
     },
     "execution_count": 22,
     "metadata": {},
     "output_type": "execute_result"
    }
   ],
   "source": [
    "gasto_medio_islas.shape"
   ]
  },
  {
   "cell_type": "markdown",
   "metadata": {},
   "source": [
    "Vemos el rango que usaremos como filtro"
   ]
  },
  {
   "cell_type": "code",
   "execution_count": 23,
   "metadata": {},
   "outputs": [
    {
     "data": {
      "text/plain": [
       "PeriodIndex(['2010Q1', '2010Q2', '2010Q3', '2010Q4', '2011Q1', '2011Q2',\n",
       "             '2011Q3', '2011Q4', '2012Q1', '2012Q2', '2012Q3', '2012Q4',\n",
       "             '2013Q1', '2013Q2', '2013Q3', '2013Q4', '2014Q1', '2014Q2',\n",
       "             '2014Q3', '2014Q4', '2015Q1', '2015Q2', '2015Q3', '2015Q4',\n",
       "             '2016Q1', '2016Q2', '2016Q3', '2016Q4', '2017Q1', '2017Q2',\n",
       "             '2017Q3', '2017Q4', '2018Q1', '2018Q2', '2018Q3', '2018Q4',\n",
       "             '2019Q1', '2019Q2', '2019Q3', '2019Q4'],\n",
       "            dtype='period[Q-DEC]', freq='Q-DEC')"
      ]
     },
     "execution_count": 23,
     "metadata": {},
     "output_type": "execute_result"
    }
   ],
   "source": [
    "pd.period_range(start=pd.Period('2010Q1', freq='Q'),end=pd.Period('2019Q4', freq='Q'))"
   ]
  },
  {
   "cell_type": "code",
   "execution_count": 24,
   "metadata": {},
   "outputs": [
    {
     "data": {
      "text/html": [
       "<div>\n",
       "<style scoped>\n",
       "    .dataframe tbody tr th:only-of-type {\n",
       "        vertical-align: middle;\n",
       "    }\n",
       "\n",
       "    .dataframe tbody tr th {\n",
       "        vertical-align: top;\n",
       "    }\n",
       "\n",
       "    .dataframe thead th {\n",
       "        text-align: right;\n",
       "    }\n",
       "</style>\n",
       "<table border=\"1\" class=\"dataframe\">\n",
       "  <thead>\n",
       "    <tr style=\"text-align: right;\">\n",
       "      <th></th>\n",
       "      <th>fecha</th>\n",
       "      <th>pais</th>\n",
       "      <th>isla</th>\n",
       "      <th>total gasto por turista</th>\n",
       "      <th>gasto por turista alojamiento</th>\n",
       "      <th>gasto por turista transporte nacional / internacional</th>\n",
       "      <th>gasto por turista  otros</th>\n",
       "    </tr>\n",
       "  </thead>\n",
       "  <tbody>\n",
       "    <tr>\n",
       "      <th>0</th>\n",
       "      <td>2019Q4</td>\n",
       "      <td>TOTAL</td>\n",
       "      <td>Gran Canaria</td>\n",
       "      <td>1.254,62</td>\n",
       "      <td>510,15</td>\n",
       "      <td>413,23</td>\n",
       "      <td>331,24</td>\n",
       "    </tr>\n",
       "    <tr>\n",
       "      <th>1</th>\n",
       "      <td>2019Q3</td>\n",
       "      <td>TOTAL</td>\n",
       "      <td>Gran Canaria</td>\n",
       "      <td>1.239,57</td>\n",
       "      <td>520,76</td>\n",
       "      <td>365,67</td>\n",
       "      <td>353,14</td>\n",
       "    </tr>\n",
       "    <tr>\n",
       "      <th>2</th>\n",
       "      <td>2019Q2</td>\n",
       "      <td>TOTAL</td>\n",
       "      <td>Gran Canaria</td>\n",
       "      <td>1.124,73</td>\n",
       "      <td>474,48</td>\n",
       "      <td>340,77</td>\n",
       "      <td>309,48</td>\n",
       "    </tr>\n",
       "    <tr>\n",
       "      <th>3</th>\n",
       "      <td>2019Q1</td>\n",
       "      <td>TOTAL</td>\n",
       "      <td>Gran Canaria</td>\n",
       "      <td>1.059,74</td>\n",
       "      <td>478,40</td>\n",
       "      <td>259,42</td>\n",
       "      <td>321,92</td>\n",
       "    </tr>\n",
       "    <tr>\n",
       "      <th>4</th>\n",
       "      <td>2018Q4</td>\n",
       "      <td>TOTAL</td>\n",
       "      <td>Gran Canaria</td>\n",
       "      <td>1.205,52</td>\n",
       "      <td>528,63</td>\n",
       "      <td>341,18</td>\n",
       "      <td>335,71</td>\n",
       "    </tr>\n",
       "  </tbody>\n",
       "</table>\n",
       "</div>"
      ],
      "text/plain": [
       "    fecha   pais             isla total gasto por turista  \\\n",
       "0  2019Q4  TOTAL     Gran Canaria                1.254,62   \n",
       "1  2019Q3  TOTAL     Gran Canaria                1.239,57   \n",
       "2  2019Q2  TOTAL     Gran Canaria                1.124,73   \n",
       "3  2019Q1  TOTAL     Gran Canaria                1.059,74   \n",
       "4  2018Q4  TOTAL     Gran Canaria                1.205,52   \n",
       "\n",
       "  gasto por turista alojamiento  \\\n",
       "0                        510,15   \n",
       "1                        520,76   \n",
       "2                        474,48   \n",
       "3                        478,40   \n",
       "4                        528,63   \n",
       "\n",
       "  gasto por turista transporte nacional / internacional  \\\n",
       "0                                             413,23      \n",
       "1                                             365,67      \n",
       "2                                             340,77      \n",
       "3                                             259,42      \n",
       "4                                             341,18      \n",
       "\n",
       "  gasto por turista  otros  \n",
       "0                   331,24  \n",
       "1                   353,14  \n",
       "2                   309,48  \n",
       "3                   321,92  \n",
       "4                   335,71  "
      ]
     },
     "execution_count": 24,
     "metadata": {},
     "output_type": "execute_result"
    }
   ],
   "source": [
    "#Aqui cojo el año y filtro eliminadno 2020 y 2021\n",
    "gasto_medio_islas = gasto_medio_islas[gasto_medio_islas.fecha.isin(pd.period_range(start = pd.Period('2010Q1', freq='Q'), end = pd.Period('2019Q4', freq='Q')))]\n",
    "gasto_medio_islas.reset_index(drop=True, inplace=True)   #podemos resetear el index del DataFrame\n",
    "gasto_medio_islas.head()"
   ]
  },
  {
   "cell_type": "code",
   "execution_count": 25,
   "metadata": {},
   "outputs": [
    {
     "data": {
      "text/plain": [
       "(1680, 7)"
      ]
     },
     "execution_count": 25,
     "metadata": {},
     "output_type": "execute_result"
    }
   ],
   "source": [
    "gasto_medio_islas.shape"
   ]
  },
  {
   "cell_type": "markdown",
   "metadata": {},
   "source": [
    "## 2. ESTANDARIZAMOS ISLAS (Problema dificíl de ver)\n",
    "**IMPORTANTE LEER:**\n",
    "\n",
    "Nos hemos percatado en posteriores códigos para hacer merge (Horas y horas pensado que el merge no funcionaba como debería) que la columna isla tiene unos espaciados que imposibilitan La Unión posterior de datos de tipo isla así que vamos a tratarlo. esto nos enseña una vez más cómo el proceso de análisis de datos y tratamiento es un proceso en constante revisión y mejora que implica dar pasos hacia atrás debido a percatarnos de cosas que habíamos pasado previamente por alto."
   ]
  },
  {
   "cell_type": "code",
   "execution_count": 26,
   "metadata": {},
   "outputs": [
    {
     "data": {
      "text/plain": [
       "array(['   Gran Canaria', '   Fuerteventura', '   La Palma',\n",
       "       '   Lanzarote', '   Tenerife', '   CANARIAS'], dtype=object)"
      ]
     },
     "execution_count": 26,
     "metadata": {},
     "output_type": "execute_result"
    }
   ],
   "source": [
    "gasto_medio_islas.isla.unique()"
   ]
  },
  {
   "cell_type": "code",
   "execution_count": 27,
   "metadata": {},
   "outputs": [
    {
     "name": "stdout",
     "output_type": "stream",
     "text": [
      "Se ha cambiado el patron (\\s+Gran Canaria) por el patron (Gran Canaria) en la columna isla\n",
      "Se ha cambiado el patron (\\s+Fuerteventura) por el patron (Fuerteventura) en la columna isla\n",
      "Se ha cambiado el patron (\\s+La Palma) por el patron (La Palma) en la columna isla\n",
      "Se ha cambiado el patron (\\s+Lanzarote) por el patron (Lanzarote) en la columna isla\n",
      "Se ha cambiado el patron (\\s+Tenerife) por el patron (Tenerife) en la columna isla\n",
      "Se ha cambiado el patron (\\s+CANARIAS) por el patron (CANARIAS) en la columna isla\n"
     ]
    }
   ],
   "source": [
    "replace_value(gasto_medio_islas, \"isla\", r'\\s+Gran Canaria', r'Gran Canaria')\n",
    "replace_value(gasto_medio_islas, \"isla\", r'\\s+Fuerteventura', r'Fuerteventura')\n",
    "replace_value(gasto_medio_islas, \"isla\", r'\\s+La Palma', r'La Palma')\n",
    "replace_value(gasto_medio_islas, \"isla\", r'\\s+Lanzarote', r'Lanzarote')\n",
    "replace_value(gasto_medio_islas, \"isla\", r'\\s+Tenerife', r'Tenerife')\n",
    "replace_value(gasto_medio_islas, \"isla\", r'\\s+CANARIAS', r'CANARIAS')"
   ]
  },
  {
   "cell_type": "markdown",
   "metadata": {},
   "source": [
    "Se han quitado los espacios..."
   ]
  },
  {
   "cell_type": "code",
   "execution_count": 28,
   "metadata": {},
   "outputs": [
    {
     "data": {
      "text/plain": [
       "array(['Gran Canaria', 'Fuerteventura', 'La Palma', 'Lanzarote',\n",
       "       'Tenerife', 'CANARIAS'], dtype=object)"
      ]
     },
     "execution_count": 28,
     "metadata": {},
     "output_type": "execute_result"
    }
   ],
   "source": [
    "gasto_medio_islas.isla.unique()"
   ]
  },
  {
   "cell_type": "markdown",
   "metadata": {},
   "source": [
    "## 3. ESTANDARIZAMOS TIPOS"
   ]
  },
  {
   "cell_type": "code",
   "execution_count": 29,
   "metadata": {
    "scrolled": true
   },
   "outputs": [
    {
     "data": {
      "text/plain": [
       "fecha                                                    period[Q-DEC]\n",
       "pais                                                            object\n",
       "isla                                                            object\n",
       "total gasto por turista                                         object\n",
       "gasto por turista alojamiento                                   object\n",
       "gasto por turista transporte nacional / internacional           object\n",
       "gasto por turista  otros                                        object\n",
       "dtype: object"
      ]
     },
     "execution_count": 29,
     "metadata": {},
     "output_type": "execute_result"
    }
   ],
   "source": [
    "gasto_medio_islas.dtypes"
   ]
  },
  {
   "cell_type": "markdown",
   "metadata": {},
   "source": [
    "Pandas tiene un dtype especial para variables categoricas llamado `category`. El especificar a pandas que un campo es una categoria en vez de un object (un string generalmente) amplia las funcionalidades que podemos usar.Además, las categorias en general ocupan menos espacio en memoria (si su cardinalidad no es muy elevada)."
   ]
  },
  {
   "cell_type": "code",
   "execution_count": 30,
   "metadata": {},
   "outputs": [],
   "source": [
    "gasto_medio_islas.pais = gasto_medio_islas.pais.astype(\"category\")\n",
    "gasto_medio_islas.isla = gasto_medio_islas.isla.astype(\"category\")"
   ]
  },
  {
   "cell_type": "markdown",
   "metadata": {},
   "source": [
    "hemos detectado que en la columna valor hay elementos que no son numeros, y son \".\", \"..\" o \"...\", vamos a sustituir esto por \"0\""
   ]
  },
  {
   "cell_type": "code",
   "execution_count": 31,
   "metadata": {
    "scrolled": true
   },
   "outputs": [
    {
     "name": "stdout",
     "output_type": "stream",
     "text": [
      "Se ha cambiado el patron (\\.+) por el patron () en la columna total gasto por turista\n",
      "Se ha cambiado el patron ((\\d+),(\\d+)) por el patron (\\1.\\2) en la columna total gasto por turista\n",
      "Done! Format: float32\n",
      "Se ha cambiado el patron (\\.+) por el patron () en la columna gasto por turista alojamiento\n",
      "Se ha cambiado el patron ((\\d+),(\\d+)) por el patron (\\1.\\2) en la columna gasto por turista alojamiento\n",
      "Done! Format: float32\n",
      "Se ha cambiado el patron (\\.+) por el patron () en la columna gasto por turista transporte nacional / internacional\n",
      "Se ha cambiado el patron ((\\d+),(\\d+)) por el patron (\\1.\\2) en la columna gasto por turista transporte nacional / internacional\n",
      "Done! Format: float32\n",
      "Se ha cambiado el patron (\\.+) por el patron () en la columna gasto por turista  otros\n",
      "Se ha cambiado el patron ((\\d+),(\\d+)) por el patron (\\1.\\2) en la columna gasto por turista  otros\n",
      "Done! Format: float32\n"
     ]
    }
   ],
   "source": [
    "columns=[\"total gasto por turista\",\n",
    "         \"gasto por turista alojamiento\",\n",
    "        \"gasto por turista transporte nacional / internacional\",\n",
    "        \"gasto por turista  otros\"]\n",
    "\n",
    "for column in columns:\n",
    "    gasto_medio_islas[column] = gasto_medio_islas[column].astype(str)\n",
    "    \n",
    "    replace_value(gasto_medio_islas, column, r'\\.+', r'')   #reemplazamos los puntos por nada porque si no el metodo to_numeric da error\n",
    "\n",
    "    #gasto_medio_islas[column] = gasto_medio_islas[column].apply(lambda x: float(x.split()[0].replace(',', '.')))\n",
    "    #gasto_medio_islas[column] = gasto_medio_islas[column].apply(lambda x: float(x.split()[0].replace('.', '')))\n",
    "\n",
    "    replace_value(gasto_medio_islas, column, r'(\\d+),(\\d+)', r'\\1.\\2') #Ahora remplazamos las comas por puntos\n",
    "\n",
    "    #replace_value(gasto_medio_islas, column, r'nan', r'0')\n",
    "    #replace_value(gasto_medio_islas, column, r'(\\d+).(\\d+).(\\d+)', r'\\1\\2.\\3') \n",
    "    gasto_medio_islas[column] = gasto_medio_islas[column].fillna(int(0))\n",
    "    \n",
    "    #gasto_medio_islas[column].astype(float)\n",
    "    \n",
    "    gasto_medio_islas[column] = pd.to_numeric(gasto_medio_islas[column].astype(str), downcast=\"float\")  #pasamos la columna a numeros\n",
    "\n",
    "    print(\"Done! Format: {}\".format(gasto_medio_islas[column].dtypes))"
   ]
  },
  {
   "cell_type": "code",
   "execution_count": 32,
   "metadata": {},
   "outputs": [
    {
     "data": {
      "text/html": [
       "<div>\n",
       "<style scoped>\n",
       "    .dataframe tbody tr th:only-of-type {\n",
       "        vertical-align: middle;\n",
       "    }\n",
       "\n",
       "    .dataframe tbody tr th {\n",
       "        vertical-align: top;\n",
       "    }\n",
       "\n",
       "    .dataframe thead th {\n",
       "        text-align: right;\n",
       "    }\n",
       "</style>\n",
       "<table border=\"1\" class=\"dataframe\">\n",
       "  <thead>\n",
       "    <tr style=\"text-align: right;\">\n",
       "      <th></th>\n",
       "      <th>fecha</th>\n",
       "      <th>pais</th>\n",
       "      <th>isla</th>\n",
       "      <th>total gasto por turista</th>\n",
       "      <th>gasto por turista alojamiento</th>\n",
       "      <th>gasto por turista transporte nacional / internacional</th>\n",
       "      <th>gasto por turista  otros</th>\n",
       "    </tr>\n",
       "  </thead>\n",
       "  <tbody>\n",
       "    <tr>\n",
       "      <th>0</th>\n",
       "      <td>2019Q4</td>\n",
       "      <td>TOTAL</td>\n",
       "      <td>Gran Canaria</td>\n",
       "      <td>1254.619995</td>\n",
       "      <td>510.149994</td>\n",
       "      <td>413.230011</td>\n",
       "      <td>331.239990</td>\n",
       "    </tr>\n",
       "    <tr>\n",
       "      <th>1</th>\n",
       "      <td>2019Q3</td>\n",
       "      <td>TOTAL</td>\n",
       "      <td>Gran Canaria</td>\n",
       "      <td>1239.569946</td>\n",
       "      <td>520.760010</td>\n",
       "      <td>365.670013</td>\n",
       "      <td>353.140015</td>\n",
       "    </tr>\n",
       "    <tr>\n",
       "      <th>2</th>\n",
       "      <td>2019Q2</td>\n",
       "      <td>TOTAL</td>\n",
       "      <td>Gran Canaria</td>\n",
       "      <td>1124.729980</td>\n",
       "      <td>474.480011</td>\n",
       "      <td>340.769989</td>\n",
       "      <td>309.480011</td>\n",
       "    </tr>\n",
       "    <tr>\n",
       "      <th>3</th>\n",
       "      <td>2019Q1</td>\n",
       "      <td>TOTAL</td>\n",
       "      <td>Gran Canaria</td>\n",
       "      <td>1059.739990</td>\n",
       "      <td>478.399994</td>\n",
       "      <td>259.420013</td>\n",
       "      <td>321.920013</td>\n",
       "    </tr>\n",
       "    <tr>\n",
       "      <th>4</th>\n",
       "      <td>2018Q4</td>\n",
       "      <td>TOTAL</td>\n",
       "      <td>Gran Canaria</td>\n",
       "      <td>1205.520020</td>\n",
       "      <td>528.630005</td>\n",
       "      <td>341.179993</td>\n",
       "      <td>335.709991</td>\n",
       "    </tr>\n",
       "  </tbody>\n",
       "</table>\n",
       "</div>"
      ],
      "text/plain": [
       "    fecha   pais          isla  total gasto por turista  \\\n",
       "0  2019Q4  TOTAL  Gran Canaria              1254.619995   \n",
       "1  2019Q3  TOTAL  Gran Canaria              1239.569946   \n",
       "2  2019Q2  TOTAL  Gran Canaria              1124.729980   \n",
       "3  2019Q1  TOTAL  Gran Canaria              1059.739990   \n",
       "4  2018Q4  TOTAL  Gran Canaria              1205.520020   \n",
       "\n",
       "   gasto por turista alojamiento  \\\n",
       "0                     510.149994   \n",
       "1                     520.760010   \n",
       "2                     474.480011   \n",
       "3                     478.399994   \n",
       "4                     528.630005   \n",
       "\n",
       "   gasto por turista transporte nacional / internacional  \\\n",
       "0                                         413.230011       \n",
       "1                                         365.670013       \n",
       "2                                         340.769989       \n",
       "3                                         259.420013       \n",
       "4                                         341.179993       \n",
       "\n",
       "   gasto por turista  otros  \n",
       "0                331.239990  \n",
       "1                353.140015  \n",
       "2                309.480011  \n",
       "3                321.920013  \n",
       "4                335.709991  "
      ]
     },
     "execution_count": 32,
     "metadata": {},
     "output_type": "execute_result"
    }
   ],
   "source": [
    "gasto_medio_islas.head()"
   ]
  },
  {
   "cell_type": "code",
   "execution_count": 33,
   "metadata": {},
   "outputs": [
    {
     "data": {
      "text/plain": [
       "fecha                                                    period[Q-DEC]\n",
       "pais                                                          category\n",
       "isla                                                          category\n",
       "total gasto por turista                                        float32\n",
       "gasto por turista alojamiento                                  float32\n",
       "gasto por turista transporte nacional / internacional          float32\n",
       "gasto por turista  otros                                       float32\n",
       "dtype: object"
      ]
     },
     "execution_count": 33,
     "metadata": {},
     "output_type": "execute_result"
    }
   ],
   "source": [
    "gasto_medio_islas.dtypes"
   ]
  },
  {
   "cell_type": "markdown",
   "metadata": {},
   "source": [
    "# GUARDAMOS LOS CAMBIOS"
   ]
  },
  {
   "cell_type": "code",
   "execution_count": 34,
   "metadata": {},
   "outputs": [],
   "source": [
    "rutaDatosTratados = \"../PredictorGastoTuristico/DatosGuardados/\"\n",
    "gasto_medio_islas.to_csv(rutaDatosTratados+\"gasto_medio_islas.csv\", index = False, encoding='utf-8')"
   ]
  }
 ],
 "metadata": {
  "kernelspec": {
   "display_name": "Python 3",
   "language": "python",
   "name": "python3"
  },
  "language_info": {
   "codemirror_mode": {
    "name": "ipython",
    "version": 3
   },
   "file_extension": ".py",
   "mimetype": "text/x-python",
   "name": "python",
   "nbconvert_exporter": "python",
   "pygments_lexer": "ipython3",
   "version": "3.8.5"
  }
 },
 "nbformat": 4,
 "nbformat_minor": 4
}
