{
 "cells": [
  {
   "cell_type": "markdown",
   "metadata": {},
   "source": [
    "# PREDICTOR - GASTO MEDIO\n",
    "# 01"
   ]
  },
  {
   "cell_type": "markdown",
   "metadata": {},
   "source": [
    "# Proposito:"
   ]
  },
  {
   "cell_type": "markdown",
   "metadata": {},
   "source": [
    "En este notebook nos dedicaremos a la creación del predictor para gasto medio con características de nuestro cliente. "
   ]
  },
  {
   "cell_type": "code",
   "execution_count": 1,
   "metadata": {
    "scrolled": true
   },
   "outputs": [
    {
     "name": "stdout",
     "output_type": "stream",
     "text": [
      "Last updated: 2023-01-27T09:55:54.324890+00:00\n",
      "\n",
      "Python implementation: CPython\n",
      "Python version       : 3.8.5\n",
      "IPython version      : 7.19.0\n",
      "\n",
      "Compiler    : MSC v.1916 64 bit (AMD64)\n",
      "OS          : Windows\n",
      "Release     : 10\n",
      "Machine     : AMD64\n",
      "Processor   : Intel64 Family 6 Model 126 Stepping 5, GenuineIntel\n",
      "CPU cores   : 8\n",
      "Architecture: 64bit\n",
      "\n"
     ]
    }
   ],
   "source": [
    "%load_ext watermark\n",
    "%watermark"
   ]
  },
  {
   "cell_type": "code",
   "execution_count": 2,
   "metadata": {},
   "outputs": [],
   "source": [
    "import pandas as pd\n",
    "import numpy as np\n",
    "import os\n",
    "import re"
   ]
  },
  {
   "cell_type": "markdown",
   "metadata": {},
   "source": [
    "# PREPARACION PREVIA\n",
    "\n",
    "Primero necesitamos copiar todos nuestros archivos en una carpeta donde podramos manipularlos para así conservar los archivos originales"
   ]
  },
  {
   "cell_type": "code",
   "execution_count": 3,
   "metadata": {},
   "outputs": [],
   "source": [
    "from distutils.dir_util import copy_tree\n",
    "\n",
    "# Método que limpia la carpeta de datos volatiles ya que es \n",
    "# una carpeta activa en todos los programas que hemos generado.\n",
    "def limpiaCarpetaVolatil(rutaCopia):\n",
    "    print(\"Limpiando Carpeta Volatil...\")\n",
    "    for f in os.listdir(rutaCopia):\n",
    "        os.remove(os.path.join(rutaCopia, f))\n",
    "        \n",
    "#Metodo que copia recursivamente\n",
    "def copia(dir_origen,dir_destino):\n",
    "    print(\"Copiando...\")\n",
    "    copy_tree(dir_origen, dir_destino)\n",
    "    print(\"Copiado\")\n",
    "    print(os.listdir(dir_destino))\n",
    "  \n"
   ]
  },
  {
   "cell_type": "code",
   "execution_count": 4,
   "metadata": {
    "scrolled": true
   },
   "outputs": [
    {
     "name": "stdout",
     "output_type": "stream",
     "text": [
      "Limpiando Carpeta Volatil...\n",
      "Copiando...\n",
      "Copiado\n",
      "['gasto_medio_canarias.csv']\n"
     ]
    }
   ],
   "source": [
    "rutaBase= \"../PredictorGastoTuristico/DatosPredictor/01\"\n",
    "rutaCopia= \"../PredictorGastoTuristico/DatosVolatiles/\"\n",
    "\n",
    "limpiaCarpetaVolatil(rutaCopia)\n",
    "copia(rutaBase,rutaCopia)"
   ]
  },
  {
   "cell_type": "markdown",
   "metadata": {},
   "source": [
    "## Primero cargamos los archivos para tratarlos y finalmente unirlos:"
   ]
  },
  {
   "cell_type": "code",
   "execution_count": 5,
   "metadata": {
    "scrolled": true
   },
   "outputs": [
    {
     "name": "stdout",
     "output_type": "stream",
     "text": [
      "0 gasto_medio_canarias.csv\n"
     ]
    }
   ],
   "source": [
    "ruta = rutaCopia\n",
    "list_csv_names = os.listdir(ruta)\n",
    "index = 0\n",
    "for archivo in list_csv_names:\n",
    "    print(str(index) + \" \" + archivo)\n",
    "    index = index + 1"
   ]
  },
  {
   "cell_type": "code",
   "execution_count": 6,
   "metadata": {},
   "outputs": [],
   "source": [
    "gasto_medio = pd.read_csv(ruta+list_csv_names[0],keep_default_na=False, na_values=[\"\"])"
   ]
  },
  {
   "cell_type": "code",
   "execution_count": 7,
   "metadata": {},
   "outputs": [
    {
     "data": {
      "text/html": [
       "<div>\n",
       "<style scoped>\n",
       "    .dataframe tbody tr th:only-of-type {\n",
       "        vertical-align: middle;\n",
       "    }\n",
       "\n",
       "    .dataframe tbody tr th {\n",
       "        vertical-align: top;\n",
       "    }\n",
       "\n",
       "    .dataframe thead th {\n",
       "        text-align: right;\n",
       "    }\n",
       "</style>\n",
       "<table border=\"1\" class=\"dataframe\">\n",
       "  <thead>\n",
       "    <tr style=\"text-align: right;\">\n",
       "      <th></th>\n",
       "      <th>fecha</th>\n",
       "      <th>pais</th>\n",
       "      <th>isla</th>\n",
       "      <th>total gasto por turista</th>\n",
       "      <th>gasto por turista alojamiento</th>\n",
       "      <th>gasto por turista transporte nacional / internacional</th>\n",
       "      <th>gasto por turista  otros</th>\n",
       "      <th>Turistas Hombres De 15 a 24</th>\n",
       "      <th>Turistas Mujeres De 15 a 24</th>\n",
       "      <th>Turistas Hombres De 25 a 44</th>\n",
       "      <th>...</th>\n",
       "      <th>Turistas Hombres TOTAL EDADES</th>\n",
       "      <th>Turistas Mujeres TOTAL EDADES</th>\n",
       "      <th>Total Turistas por motivo: Ocio o vacaciones</th>\n",
       "      <th>Total Turistas por motivo: Otros motivos</th>\n",
       "      <th>Total Turistas por motivo: Personal</th>\n",
       "      <th>Total Turistas por motivo: TOTAL MOTIVOS</th>\n",
       "      <th>Total Turistas por motivo: Trabajo o negocios</th>\n",
       "      <th>Total Turistas: No contrataron un paquete turístico</th>\n",
       "      <th>Total Turistas: Sí contrataron un paquete turístico</th>\n",
       "      <th>Total Turistas: Total</th>\n",
       "    </tr>\n",
       "  </thead>\n",
       "  <tbody>\n",
       "    <tr>\n",
       "      <th>0</th>\n",
       "      <td>2010Q1</td>\n",
       "      <td>Alemania</td>\n",
       "      <td>CANARIAS</td>\n",
       "      <td>1121.10</td>\n",
       "      <td>469.68</td>\n",
       "      <td>338.11</td>\n",
       "      <td>313.30</td>\n",
       "      <td>16718.0</td>\n",
       "      <td>15374.0</td>\n",
       "      <td>93932.0</td>\n",
       "      <td>...</td>\n",
       "      <td>300809.0</td>\n",
       "      <td>320111.0</td>\n",
       "      <td>604627.0</td>\n",
       "      <td>3633.0</td>\n",
       "      <td>8526.0</td>\n",
       "      <td>620920.0</td>\n",
       "      <td>4134.0</td>\n",
       "      <td>154831.0</td>\n",
       "      <td>466089.0</td>\n",
       "      <td>620920.0</td>\n",
       "    </tr>\n",
       "    <tr>\n",
       "      <th>1</th>\n",
       "      <td>2010Q1</td>\n",
       "      <td>Alemania</td>\n",
       "      <td>CANARIAS</td>\n",
       "      <td>1147.19</td>\n",
       "      <td>472.84</td>\n",
       "      <td>341.47</td>\n",
       "      <td>332.88</td>\n",
       "      <td>16718.0</td>\n",
       "      <td>15374.0</td>\n",
       "      <td>93932.0</td>\n",
       "      <td>...</td>\n",
       "      <td>300809.0</td>\n",
       "      <td>320111.0</td>\n",
       "      <td>604627.0</td>\n",
       "      <td>3633.0</td>\n",
       "      <td>8526.0</td>\n",
       "      <td>620920.0</td>\n",
       "      <td>4134.0</td>\n",
       "      <td>154831.0</td>\n",
       "      <td>466089.0</td>\n",
       "      <td>620920.0</td>\n",
       "    </tr>\n",
       "    <tr>\n",
       "      <th>2</th>\n",
       "      <td>2010Q1</td>\n",
       "      <td>España</td>\n",
       "      <td>CANARIAS</td>\n",
       "      <td>769.14</td>\n",
       "      <td>293.16</td>\n",
       "      <td>193.28</td>\n",
       "      <td>282.70</td>\n",
       "      <td>10179.0</td>\n",
       "      <td>8403.0</td>\n",
       "      <td>55682.0</td>\n",
       "      <td>...</td>\n",
       "      <td>180231.0</td>\n",
       "      <td>154998.0</td>\n",
       "      <td>270814.0</td>\n",
       "      <td>3700.0</td>\n",
       "      <td>7096.0</td>\n",
       "      <td>335230.0</td>\n",
       "      <td>53619.0</td>\n",
       "      <td>201097.0</td>\n",
       "      <td>134132.0</td>\n",
       "      <td>335230.0</td>\n",
       "    </tr>\n",
       "    <tr>\n",
       "      <th>3</th>\n",
       "      <td>2010Q1</td>\n",
       "      <td>España</td>\n",
       "      <td>CANARIAS</td>\n",
       "      <td>666.96</td>\n",
       "      <td>238.65</td>\n",
       "      <td>166.80</td>\n",
       "      <td>261.51</td>\n",
       "      <td>10179.0</td>\n",
       "      <td>8403.0</td>\n",
       "      <td>55682.0</td>\n",
       "      <td>...</td>\n",
       "      <td>180231.0</td>\n",
       "      <td>154998.0</td>\n",
       "      <td>270814.0</td>\n",
       "      <td>3700.0</td>\n",
       "      <td>7096.0</td>\n",
       "      <td>335230.0</td>\n",
       "      <td>53619.0</td>\n",
       "      <td>201097.0</td>\n",
       "      <td>134132.0</td>\n",
       "      <td>335230.0</td>\n",
       "    </tr>\n",
       "    <tr>\n",
       "      <th>4</th>\n",
       "      <td>2010Q1</td>\n",
       "      <td>Holanda</td>\n",
       "      <td>CANARIAS</td>\n",
       "      <td>1072.71</td>\n",
       "      <td>436.86</td>\n",
       "      <td>320.57</td>\n",
       "      <td>315.28</td>\n",
       "      <td>2861.0</td>\n",
       "      <td>2899.0</td>\n",
       "      <td>13466.0</td>\n",
       "      <td>...</td>\n",
       "      <td>46656.0</td>\n",
       "      <td>47784.0</td>\n",
       "      <td>90723.0</td>\n",
       "      <td>2245.0</td>\n",
       "      <td>511.0</td>\n",
       "      <td>94439.0</td>\n",
       "      <td>961.0</td>\n",
       "      <td>21215.0</td>\n",
       "      <td>73224.0</td>\n",
       "      <td>94439.0</td>\n",
       "    </tr>\n",
       "  </tbody>\n",
       "</table>\n",
       "<p>5 rows × 27 columns</p>\n",
       "</div>"
      ],
      "text/plain": [
       "    fecha      pais      isla  total gasto por turista  \\\n",
       "0  2010Q1  Alemania  CANARIAS                  1121.10   \n",
       "1  2010Q1  Alemania  CANARIAS                  1147.19   \n",
       "2  2010Q1    España  CANARIAS                   769.14   \n",
       "3  2010Q1    España  CANARIAS                   666.96   \n",
       "4  2010Q1   Holanda  CANARIAS                  1072.71   \n",
       "\n",
       "   gasto por turista alojamiento  \\\n",
       "0                         469.68   \n",
       "1                         472.84   \n",
       "2                         293.16   \n",
       "3                         238.65   \n",
       "4                         436.86   \n",
       "\n",
       "   gasto por turista transporte nacional / internacional  \\\n",
       "0                                             338.11       \n",
       "1                                             341.47       \n",
       "2                                             193.28       \n",
       "3                                             166.80       \n",
       "4                                             320.57       \n",
       "\n",
       "   gasto por turista  otros  Turistas Hombres De 15 a 24  \\\n",
       "0                    313.30                      16718.0   \n",
       "1                    332.88                      16718.0   \n",
       "2                    282.70                      10179.0   \n",
       "3                    261.51                      10179.0   \n",
       "4                    315.28                       2861.0   \n",
       "\n",
       "   Turistas Mujeres De 15 a 24  Turistas Hombres De 25 a 44  ...  \\\n",
       "0                      15374.0                      93932.0  ...   \n",
       "1                      15374.0                      93932.0  ...   \n",
       "2                       8403.0                      55682.0  ...   \n",
       "3                       8403.0                      55682.0  ...   \n",
       "4                       2899.0                      13466.0  ...   \n",
       "\n",
       "   Turistas Hombres TOTAL EDADES  Turistas Mujeres TOTAL EDADES  \\\n",
       "0                       300809.0                       320111.0   \n",
       "1                       300809.0                       320111.0   \n",
       "2                       180231.0                       154998.0   \n",
       "3                       180231.0                       154998.0   \n",
       "4                        46656.0                        47784.0   \n",
       "\n",
       "   Total Turistas por motivo: Ocio o vacaciones  \\\n",
       "0                                      604627.0   \n",
       "1                                      604627.0   \n",
       "2                                      270814.0   \n",
       "3                                      270814.0   \n",
       "4                                       90723.0   \n",
       "\n",
       "   Total Turistas por motivo: Otros motivos  \\\n",
       "0                                    3633.0   \n",
       "1                                    3633.0   \n",
       "2                                    3700.0   \n",
       "3                                    3700.0   \n",
       "4                                    2245.0   \n",
       "\n",
       "   Total Turistas por motivo: Personal  \\\n",
       "0                               8526.0   \n",
       "1                               8526.0   \n",
       "2                               7096.0   \n",
       "3                               7096.0   \n",
       "4                                511.0   \n",
       "\n",
       "   Total Turistas por motivo: TOTAL MOTIVOS  \\\n",
       "0                                  620920.0   \n",
       "1                                  620920.0   \n",
       "2                                  335230.0   \n",
       "3                                  335230.0   \n",
       "4                                   94439.0   \n",
       "\n",
       "   Total Turistas por motivo: Trabajo o negocios  \\\n",
       "0                                         4134.0   \n",
       "1                                         4134.0   \n",
       "2                                        53619.0   \n",
       "3                                        53619.0   \n",
       "4                                          961.0   \n",
       "\n",
       "   Total Turistas: No contrataron un paquete turístico  \\\n",
       "0                                           154831.0     \n",
       "1                                           154831.0     \n",
       "2                                           201097.0     \n",
       "3                                           201097.0     \n",
       "4                                            21215.0     \n",
       "\n",
       "   Total Turistas: Sí contrataron un paquete turístico  Total Turistas: Total  \n",
       "0                                           466089.0                 620920.0  \n",
       "1                                           466089.0                 620920.0  \n",
       "2                                           134132.0                 335230.0  \n",
       "3                                           134132.0                 335230.0  \n",
       "4                                            73224.0                  94439.0  \n",
       "\n",
       "[5 rows x 27 columns]"
      ]
     },
     "execution_count": 7,
     "metadata": {},
     "output_type": "execute_result"
    }
   ],
   "source": [
    "gasto_medio.head()"
   ]
  },
  {
   "cell_type": "code",
   "execution_count": 8,
   "metadata": {},
   "outputs": [
    {
     "data": {
      "text/plain": [
       "(350, 27)"
      ]
     },
     "execution_count": 8,
     "metadata": {},
     "output_type": "execute_result"
    }
   ],
   "source": [
    "gasto_medio.shape"
   ]
  },
  {
   "cell_type": "markdown",
   "metadata": {},
   "source": [
    "# PREDICTOR"
   ]
  },
  {
   "cell_type": "code",
   "execution_count": 9,
   "metadata": {},
   "outputs": [
    {
     "data": {
      "image/jpeg": "[encoded data removed]",
      "text/plain": [
       "<IPython.core.display.Image object>"
      ]
     },
     "execution_count": 9,
     "metadata": {},
     "output_type": "execute_result"
    }
   ],
   "source": [
    "from IPython.display import Image\n",
    "\n",
    "Image(\"../PredictorGastoTuristico/OtrosRecursos/Imagenes/img01.jpg\")"
   ]
  },
  {
   "cell_type": "code",
   "execution_count": 10,
   "metadata": {},
   "outputs": [],
   "source": [
    "from sklearn.linear_model import LinearRegression\n",
    "from sklearn import metrics"
   ]
  },
  {
   "cell_type": "code",
   "execution_count": 11,
   "metadata": {},
   "outputs": [],
   "source": [
    "def rmse(objetivo, estimaciones):\n",
    "    return np.sqrt(metrics.mean_squared_error(objetivo, estimaciones)\n",
    "                  )\n",
    "\n",
    "def adjusted_r2(objetivo, estimaciones, n, k):\n",
    "    r2 = metrics.r2_score(objetivo, estimaciones)\n",
    "    return 1 - (1-r2)*(n-1) / (n - k - 1)\n",
    "\n",
    "def evaluar_modelo(objetivo, estimaciones, n, k):\n",
    "    return {\n",
    "        \"rmse\": rmse(objetivo, estimaciones),\n",
    "        \"mae\": metrics.mean_absolute_error(objetivo, estimaciones),\n",
    "        \"adjusted_r2\": adjusted_r2(objetivo, estimaciones, n, k)\n",
    "           }"
   ]
  },
  {
   "cell_type": "code",
   "execution_count": 12,
   "metadata": {},
   "outputs": [
    {
     "data": {
      "text/plain": [
       "Index(['fecha', 'pais', 'isla', 'total gasto por turista',\n",
       "       'gasto por turista alojamiento',\n",
       "       'gasto por turista transporte nacional / internacional',\n",
       "       'gasto por turista  otros', 'Turistas Hombres De 15 a 24',\n",
       "       'Turistas Mujeres De 15 a 24', 'Turistas Hombres De 25 a 44',\n",
       "       'Turistas Mujeres De 25 a 44', 'Turistas Hombres De 45 a 64',\n",
       "       'Turistas Mujeres De 45 a 64', 'Turistas Hombres Mayor de 64',\n",
       "       'Turistas Mujeres Mayor de 64', 'Turistas Hombres Menor de 15',\n",
       "       'Turistas Mujeres Menor de 15', 'Turistas Hombres TOTAL EDADES',\n",
       "       'Turistas Mujeres TOTAL EDADES',\n",
       "       'Total Turistas por motivo: Ocio o vacaciones',\n",
       "       'Total Turistas por motivo: Otros motivos',\n",
       "       'Total Turistas por motivo: Personal',\n",
       "       'Total Turistas por motivo: TOTAL MOTIVOS',\n",
       "       'Total Turistas por motivo: Trabajo o negocios',\n",
       "       'Total Turistas: No contrataron un paquete turístico',\n",
       "       'Total Turistas: Sí contrataron un paquete turístico',\n",
       "       'Total Turistas: Total'],\n",
       "      dtype='object')"
      ]
     },
     "execution_count": 12,
     "metadata": {},
     "output_type": "execute_result"
    }
   ],
   "source": [
    "gasto_medio.columns"
   ]
  },
  {
   "cell_type": "markdown",
   "metadata": {},
   "source": [
    "quite islas, paises y fechas ya que me da problemas en al regresion esto lo hago solo por probar a ver como es\n"
   ]
  },
  {
   "cell_type": "code",
   "execution_count": 13,
   "metadata": {},
   "outputs": [],
   "source": [
    "nombres_variables_independientes = ['Turistas Hombres De 15 a 24',\n",
    "       'Turistas Mujeres De 15 a 24', 'Turistas Hombres De 25 a 44',\n",
    "       'Turistas Mujeres De 25 a 44', 'Turistas Hombres De 45 a 64',\n",
    "       'Turistas Mujeres De 45 a 64', 'Turistas Hombres Mayor de 64',\n",
    "       'Turistas Mujeres Mayor de 64', 'Turistas Hombres Menor de 15',\n",
    "       'Turistas Mujeres Menor de 15', 'Turistas Hombres TOTAL EDADES',\n",
    "       'Turistas Mujeres TOTAL EDADES',\n",
    "       'Total Turistas por motivo: Ocio o vacaciones',\n",
    "       'Total Turistas por motivo: Otros motivos',\n",
    "       'Total Turistas por motivo: Personal',\n",
    "       'Total Turistas por motivo: TOTAL MOTIVOS',\n",
    "       'Total Turistas por motivo: Trabajo o negocios',\n",
    "       'Total Turistas: No contrataron un paquete turístico',\n",
    "       'Total Turistas: Sí contrataron un paquete turístico',\n",
    "       'Total Turistas: Total']"
   ]
  },
  {
   "cell_type": "code",
   "execution_count": 14,
   "metadata": {},
   "outputs": [
    {
     "data": {
      "text/html": [
       "<div>\n",
       "<style scoped>\n",
       "    .dataframe tbody tr th:only-of-type {\n",
       "        vertical-align: middle;\n",
       "    }\n",
       "\n",
       "    .dataframe tbody tr th {\n",
       "        vertical-align: top;\n",
       "    }\n",
       "\n",
       "    .dataframe thead th {\n",
       "        text-align: right;\n",
       "    }\n",
       "</style>\n",
       "<table border=\"1\" class=\"dataframe\">\n",
       "  <thead>\n",
       "    <tr style=\"text-align: right;\">\n",
       "      <th></th>\n",
       "      <th>Turistas Hombres De 15 a 24</th>\n",
       "      <th>Turistas Mujeres De 15 a 24</th>\n",
       "      <th>Turistas Hombres De 25 a 44</th>\n",
       "      <th>Turistas Mujeres De 25 a 44</th>\n",
       "      <th>Turistas Hombres De 45 a 64</th>\n",
       "      <th>Turistas Mujeres De 45 a 64</th>\n",
       "      <th>Turistas Hombres Mayor de 64</th>\n",
       "      <th>Turistas Mujeres Mayor de 64</th>\n",
       "      <th>Turistas Hombres Menor de 15</th>\n",
       "      <th>Turistas Mujeres Menor de 15</th>\n",
       "      <th>Turistas Hombres TOTAL EDADES</th>\n",
       "      <th>Turistas Mujeres TOTAL EDADES</th>\n",
       "      <th>Total Turistas por motivo: Ocio o vacaciones</th>\n",
       "      <th>Total Turistas por motivo: Otros motivos</th>\n",
       "      <th>Total Turistas por motivo: Personal</th>\n",
       "      <th>Total Turistas por motivo: TOTAL MOTIVOS</th>\n",
       "      <th>Total Turistas por motivo: Trabajo o negocios</th>\n",
       "      <th>Total Turistas: No contrataron un paquete turístico</th>\n",
       "      <th>Total Turistas: Sí contrataron un paquete turístico</th>\n",
       "      <th>Total Turistas: Total</th>\n",
       "    </tr>\n",
       "  </thead>\n",
       "  <tbody>\n",
       "    <tr>\n",
       "      <th>0</th>\n",
       "      <td>16718.0</td>\n",
       "      <td>15374.0</td>\n",
       "      <td>93932.0</td>\n",
       "      <td>100462.0</td>\n",
       "      <td>113098.0</td>\n",
       "      <td>121978.0</td>\n",
       "      <td>36697.0</td>\n",
       "      <td>40075.0</td>\n",
       "      <td>40365.0</td>\n",
       "      <td>42222.0</td>\n",
       "      <td>300809.0</td>\n",
       "      <td>320111.0</td>\n",
       "      <td>604627.0</td>\n",
       "      <td>3633.0</td>\n",
       "      <td>8526.0</td>\n",
       "      <td>620920.0</td>\n",
       "      <td>4134.0</td>\n",
       "      <td>154831.0</td>\n",
       "      <td>466089.0</td>\n",
       "      <td>620920.0</td>\n",
       "    </tr>\n",
       "    <tr>\n",
       "      <th>1</th>\n",
       "      <td>16718.0</td>\n",
       "      <td>15374.0</td>\n",
       "      <td>93932.0</td>\n",
       "      <td>100462.0</td>\n",
       "      <td>113098.0</td>\n",
       "      <td>121978.0</td>\n",
       "      <td>36697.0</td>\n",
       "      <td>40075.0</td>\n",
       "      <td>40365.0</td>\n",
       "      <td>42222.0</td>\n",
       "      <td>300809.0</td>\n",
       "      <td>320111.0</td>\n",
       "      <td>604627.0</td>\n",
       "      <td>3633.0</td>\n",
       "      <td>8526.0</td>\n",
       "      <td>620920.0</td>\n",
       "      <td>4134.0</td>\n",
       "      <td>154831.0</td>\n",
       "      <td>466089.0</td>\n",
       "      <td>620920.0</td>\n",
       "    </tr>\n",
       "    <tr>\n",
       "      <th>2</th>\n",
       "      <td>10179.0</td>\n",
       "      <td>8403.0</td>\n",
       "      <td>55682.0</td>\n",
       "      <td>48843.0</td>\n",
       "      <td>67299.0</td>\n",
       "      <td>60046.0</td>\n",
       "      <td>22696.0</td>\n",
       "      <td>18803.0</td>\n",
       "      <td>24376.0</td>\n",
       "      <td>18905.0</td>\n",
       "      <td>180231.0</td>\n",
       "      <td>154998.0</td>\n",
       "      <td>270814.0</td>\n",
       "      <td>3700.0</td>\n",
       "      <td>7096.0</td>\n",
       "      <td>335230.0</td>\n",
       "      <td>53619.0</td>\n",
       "      <td>201097.0</td>\n",
       "      <td>134132.0</td>\n",
       "      <td>335230.0</td>\n",
       "    </tr>\n",
       "    <tr>\n",
       "      <th>3</th>\n",
       "      <td>10179.0</td>\n",
       "      <td>8403.0</td>\n",
       "      <td>55682.0</td>\n",
       "      <td>48843.0</td>\n",
       "      <td>67299.0</td>\n",
       "      <td>60046.0</td>\n",
       "      <td>22696.0</td>\n",
       "      <td>18803.0</td>\n",
       "      <td>24376.0</td>\n",
       "      <td>18905.0</td>\n",
       "      <td>180231.0</td>\n",
       "      <td>154998.0</td>\n",
       "      <td>270814.0</td>\n",
       "      <td>3700.0</td>\n",
       "      <td>7096.0</td>\n",
       "      <td>335230.0</td>\n",
       "      <td>53619.0</td>\n",
       "      <td>201097.0</td>\n",
       "      <td>134132.0</td>\n",
       "      <td>335230.0</td>\n",
       "    </tr>\n",
       "    <tr>\n",
       "      <th>4</th>\n",
       "      <td>2861.0</td>\n",
       "      <td>2899.0</td>\n",
       "      <td>13466.0</td>\n",
       "      <td>15240.0</td>\n",
       "      <td>17878.0</td>\n",
       "      <td>17614.0</td>\n",
       "      <td>5842.0</td>\n",
       "      <td>5783.0</td>\n",
       "      <td>6610.0</td>\n",
       "      <td>6249.0</td>\n",
       "      <td>46656.0</td>\n",
       "      <td>47784.0</td>\n",
       "      <td>90723.0</td>\n",
       "      <td>2245.0</td>\n",
       "      <td>511.0</td>\n",
       "      <td>94439.0</td>\n",
       "      <td>961.0</td>\n",
       "      <td>21215.0</td>\n",
       "      <td>73224.0</td>\n",
       "      <td>94439.0</td>\n",
       "    </tr>\n",
       "    <tr>\n",
       "      <th>...</th>\n",
       "      <td>...</td>\n",
       "      <td>...</td>\n",
       "      <td>...</td>\n",
       "      <td>...</td>\n",
       "      <td>...</td>\n",
       "      <td>...</td>\n",
       "      <td>...</td>\n",
       "      <td>...</td>\n",
       "      <td>...</td>\n",
       "      <td>...</td>\n",
       "      <td>...</td>\n",
       "      <td>...</td>\n",
       "      <td>...</td>\n",
       "      <td>...</td>\n",
       "      <td>...</td>\n",
       "      <td>...</td>\n",
       "      <td>...</td>\n",
       "      <td>...</td>\n",
       "      <td>...</td>\n",
       "      <td>...</td>\n",
       "    </tr>\n",
       "    <tr>\n",
       "      <th>345</th>\n",
       "      <td>14060.0</td>\n",
       "      <td>15458.0</td>\n",
       "      <td>81840.0</td>\n",
       "      <td>85275.0</td>\n",
       "      <td>97702.0</td>\n",
       "      <td>104686.0</td>\n",
       "      <td>29645.0</td>\n",
       "      <td>33925.0</td>\n",
       "      <td>36488.0</td>\n",
       "      <td>38143.0</td>\n",
       "      <td>259733.0</td>\n",
       "      <td>277487.0</td>\n",
       "      <td>527480.0</td>\n",
       "      <td>3717.0</td>\n",
       "      <td>2684.0</td>\n",
       "      <td>537220.0</td>\n",
       "      <td>3339.0</td>\n",
       "      <td>81875.0</td>\n",
       "      <td>455346.0</td>\n",
       "      <td>537220.0</td>\n",
       "    </tr>\n",
       "    <tr>\n",
       "      <th>346</th>\n",
       "      <td>14060.0</td>\n",
       "      <td>15458.0</td>\n",
       "      <td>81840.0</td>\n",
       "      <td>85275.0</td>\n",
       "      <td>97702.0</td>\n",
       "      <td>104686.0</td>\n",
       "      <td>29645.0</td>\n",
       "      <td>33925.0</td>\n",
       "      <td>36488.0</td>\n",
       "      <td>38143.0</td>\n",
       "      <td>259733.0</td>\n",
       "      <td>277487.0</td>\n",
       "      <td>527480.0</td>\n",
       "      <td>3717.0</td>\n",
       "      <td>2684.0</td>\n",
       "      <td>537220.0</td>\n",
       "      <td>3339.0</td>\n",
       "      <td>81875.0</td>\n",
       "      <td>455346.0</td>\n",
       "      <td>537220.0</td>\n",
       "    </tr>\n",
       "    <tr>\n",
       "      <th>347</th>\n",
       "      <td>18299.0</td>\n",
       "      <td>16411.0</td>\n",
       "      <td>91431.0</td>\n",
       "      <td>83872.0</td>\n",
       "      <td>85030.0</td>\n",
       "      <td>77251.0</td>\n",
       "      <td>19997.0</td>\n",
       "      <td>20304.0</td>\n",
       "      <td>28618.0</td>\n",
       "      <td>27633.0</td>\n",
       "      <td>243374.0</td>\n",
       "      <td>225472.0</td>\n",
       "      <td>463409.0</td>\n",
       "      <td>1241.0</td>\n",
       "      <td>2142.0</td>\n",
       "      <td>468846.0</td>\n",
       "      <td>2057.0</td>\n",
       "      <td>76036.0</td>\n",
       "      <td>392810.0</td>\n",
       "      <td>468846.0</td>\n",
       "    </tr>\n",
       "    <tr>\n",
       "      <th>348</th>\n",
       "      <td>5077.0</td>\n",
       "      <td>4507.0</td>\n",
       "      <td>15914.0</td>\n",
       "      <td>15163.0</td>\n",
       "      <td>9724.0</td>\n",
       "      <td>9466.0</td>\n",
       "      <td>594.0</td>\n",
       "      <td>890.0</td>\n",
       "      <td>6491.0</td>\n",
       "      <td>6376.0</td>\n",
       "      <td>37800.0</td>\n",
       "      <td>36404.0</td>\n",
       "      <td>73069.0</td>\n",
       "      <td>170.0</td>\n",
       "      <td>378.0</td>\n",
       "      <td>74204.0</td>\n",
       "      <td>589.0</td>\n",
       "      <td>23803.0</td>\n",
       "      <td>50400.0</td>\n",
       "      <td>74204.0</td>\n",
       "    </tr>\n",
       "    <tr>\n",
       "      <th>349</th>\n",
       "      <td>3486.0</td>\n",
       "      <td>4060.0</td>\n",
       "      <td>18480.0</td>\n",
       "      <td>18901.0</td>\n",
       "      <td>15769.0</td>\n",
       "      <td>15635.0</td>\n",
       "      <td>4143.0</td>\n",
       "      <td>4035.0</td>\n",
       "      <td>8276.0</td>\n",
       "      <td>8347.0</td>\n",
       "      <td>50149.0</td>\n",
       "      <td>50976.0</td>\n",
       "      <td>98574.0</td>\n",
       "      <td>506.0</td>\n",
       "      <td>823.0</td>\n",
       "      <td>101125.0</td>\n",
       "      <td>1222.0</td>\n",
       "      <td>23966.0</td>\n",
       "      <td>77159.0</td>\n",
       "      <td>101125.0</td>\n",
       "    </tr>\n",
       "  </tbody>\n",
       "</table>\n",
       "<p>350 rows × 20 columns</p>\n",
       "</div>"
      ],
      "text/plain": [
       "     Turistas Hombres De 15 a 24  Turistas Mujeres De 15 a 24  \\\n",
       "0                        16718.0                      15374.0   \n",
       "1                        16718.0                      15374.0   \n",
       "2                        10179.0                       8403.0   \n",
       "3                        10179.0                       8403.0   \n",
       "4                         2861.0                       2899.0   \n",
       "..                           ...                          ...   \n",
       "345                      14060.0                      15458.0   \n",
       "346                      14060.0                      15458.0   \n",
       "347                      18299.0                      16411.0   \n",
       "348                       5077.0                       4507.0   \n",
       "349                       3486.0                       4060.0   \n",
       "\n",
       "     Turistas Hombres De 25 a 44  Turistas Mujeres De 25 a 44  \\\n",
       "0                        93932.0                     100462.0   \n",
       "1                        93932.0                     100462.0   \n",
       "2                        55682.0                      48843.0   \n",
       "3                        55682.0                      48843.0   \n",
       "4                        13466.0                      15240.0   \n",
       "..                           ...                          ...   \n",
       "345                      81840.0                      85275.0   \n",
       "346                      81840.0                      85275.0   \n",
       "347                      91431.0                      83872.0   \n",
       "348                      15914.0                      15163.0   \n",
       "349                      18480.0                      18901.0   \n",
       "\n",
       "     Turistas Hombres De 45 a 64  Turistas Mujeres De 45 a 64  \\\n",
       "0                       113098.0                     121978.0   \n",
       "1                       113098.0                     121978.0   \n",
       "2                        67299.0                      60046.0   \n",
       "3                        67299.0                      60046.0   \n",
       "4                        17878.0                      17614.0   \n",
       "..                           ...                          ...   \n",
       "345                      97702.0                     104686.0   \n",
       "346                      97702.0                     104686.0   \n",
       "347                      85030.0                      77251.0   \n",
       "348                       9724.0                       9466.0   \n",
       "349                      15769.0                      15635.0   \n",
       "\n",
       "     Turistas Hombres Mayor de 64  Turistas Mujeres Mayor de 64  \\\n",
       "0                         36697.0                       40075.0   \n",
       "1                         36697.0                       40075.0   \n",
       "2                         22696.0                       18803.0   \n",
       "3                         22696.0                       18803.0   \n",
       "4                          5842.0                        5783.0   \n",
       "..                            ...                           ...   \n",
       "345                       29645.0                       33925.0   \n",
       "346                       29645.0                       33925.0   \n",
       "347                       19997.0                       20304.0   \n",
       "348                         594.0                         890.0   \n",
       "349                        4143.0                        4035.0   \n",
       "\n",
       "     Turistas Hombres Menor de 15  Turistas Mujeres Menor de 15  \\\n",
       "0                         40365.0                       42222.0   \n",
       "1                         40365.0                       42222.0   \n",
       "2                         24376.0                       18905.0   \n",
       "3                         24376.0                       18905.0   \n",
       "4                          6610.0                        6249.0   \n",
       "..                            ...                           ...   \n",
       "345                       36488.0                       38143.0   \n",
       "346                       36488.0                       38143.0   \n",
       "347                       28618.0                       27633.0   \n",
       "348                        6491.0                        6376.0   \n",
       "349                        8276.0                        8347.0   \n",
       "\n",
       "     Turistas Hombres TOTAL EDADES  Turistas Mujeres TOTAL EDADES  \\\n",
       "0                         300809.0                       320111.0   \n",
       "1                         300809.0                       320111.0   \n",
       "2                         180231.0                       154998.0   \n",
       "3                         180231.0                       154998.0   \n",
       "4                          46656.0                        47784.0   \n",
       "..                             ...                            ...   \n",
       "345                       259733.0                       277487.0   \n",
       "346                       259733.0                       277487.0   \n",
       "347                       243374.0                       225472.0   \n",
       "348                        37800.0                        36404.0   \n",
       "349                        50149.0                        50976.0   \n",
       "\n",
       "     Total Turistas por motivo: Ocio o vacaciones  \\\n",
       "0                                        604627.0   \n",
       "1                                        604627.0   \n",
       "2                                        270814.0   \n",
       "3                                        270814.0   \n",
       "4                                         90723.0   \n",
       "..                                            ...   \n",
       "345                                      527480.0   \n",
       "346                                      527480.0   \n",
       "347                                      463409.0   \n",
       "348                                       73069.0   \n",
       "349                                       98574.0   \n",
       "\n",
       "     Total Turistas por motivo: Otros motivos  \\\n",
       "0                                      3633.0   \n",
       "1                                      3633.0   \n",
       "2                                      3700.0   \n",
       "3                                      3700.0   \n",
       "4                                      2245.0   \n",
       "..                                        ...   \n",
       "345                                    3717.0   \n",
       "346                                    3717.0   \n",
       "347                                    1241.0   \n",
       "348                                     170.0   \n",
       "349                                     506.0   \n",
       "\n",
       "     Total Turistas por motivo: Personal  \\\n",
       "0                                 8526.0   \n",
       "1                                 8526.0   \n",
       "2                                 7096.0   \n",
       "3                                 7096.0   \n",
       "4                                  511.0   \n",
       "..                                   ...   \n",
       "345                               2684.0   \n",
       "346                               2684.0   \n",
       "347                               2142.0   \n",
       "348                                378.0   \n",
       "349                                823.0   \n",
       "\n",
       "     Total Turistas por motivo: TOTAL MOTIVOS  \\\n",
       "0                                    620920.0   \n",
       "1                                    620920.0   \n",
       "2                                    335230.0   \n",
       "3                                    335230.0   \n",
       "4                                     94439.0   \n",
       "..                                        ...   \n",
       "345                                  537220.0   \n",
       "346                                  537220.0   \n",
       "347                                  468846.0   \n",
       "348                                   74204.0   \n",
       "349                                  101125.0   \n",
       "\n",
       "     Total Turistas por motivo: Trabajo o negocios  \\\n",
       "0                                           4134.0   \n",
       "1                                           4134.0   \n",
       "2                                          53619.0   \n",
       "3                                          53619.0   \n",
       "4                                            961.0   \n",
       "..                                             ...   \n",
       "345                                         3339.0   \n",
       "346                                         3339.0   \n",
       "347                                         2057.0   \n",
       "348                                          589.0   \n",
       "349                                         1222.0   \n",
       "\n",
       "     Total Turistas: No contrataron un paquete turístico  \\\n",
       "0                                             154831.0     \n",
       "1                                             154831.0     \n",
       "2                                             201097.0     \n",
       "3                                             201097.0     \n",
       "4                                              21215.0     \n",
       "..                                                 ...     \n",
       "345                                            81875.0     \n",
       "346                                            81875.0     \n",
       "347                                            76036.0     \n",
       "348                                            23803.0     \n",
       "349                                            23966.0     \n",
       "\n",
       "     Total Turistas: Sí contrataron un paquete turístico  \\\n",
       "0                                             466089.0     \n",
       "1                                             466089.0     \n",
       "2                                             134132.0     \n",
       "3                                             134132.0     \n",
       "4                                              73224.0     \n",
       "..                                                 ...     \n",
       "345                                           455346.0     \n",
       "346                                           455346.0     \n",
       "347                                           392810.0     \n",
       "348                                            50400.0     \n",
       "349                                            77159.0     \n",
       "\n",
       "     Total Turistas: Total  \n",
       "0                 620920.0  \n",
       "1                 620920.0  \n",
       "2                 335230.0  \n",
       "3                 335230.0  \n",
       "4                  94439.0  \n",
       "..                     ...  \n",
       "345               537220.0  \n",
       "346               537220.0  \n",
       "347               468846.0  \n",
       "348                74204.0  \n",
       "349               101125.0  \n",
       "\n",
       "[350 rows x 20 columns]"
      ]
     },
     "execution_count": 14,
     "metadata": {},
     "output_type": "execute_result"
    }
   ],
   "source": [
    "gasto_medio[nombres_variables_independientes]"
   ]
  },
  {
   "cell_type": "code",
   "execution_count": 15,
   "metadata": {},
   "outputs": [],
   "source": [
    "nombre_variables_objetivas = ['total gasto por turista',\n",
    "       'gasto por turista alojamiento',\n",
    "       'gasto por turista transporte nacional / internacional',\n",
    "       'gasto por turista  otros']"
   ]
  },
  {
   "cell_type": "markdown",
   "metadata": {},
   "source": [
    "# PROBAMOS HACIENDO UN MODELO SENCILLO"
   ]
  },
  {
   "cell_type": "code",
   "execution_count": 16,
   "metadata": {},
   "outputs": [],
   "source": [
    "modelo_ols = LinearRegression()\n",
    "\n",
    "modelo_ols.fit(X=gasto_medio[nombres_variables_independientes], y=gasto_medio[nombre_variables_objetivas[0]])\n",
    "\n",
    "modelo_ols_preds = modelo_ols.predict(gasto_medio[nombres_variables_independientes])"
   ]
  },
  {
   "cell_type": "code",
   "execution_count": 17,
   "metadata": {},
   "outputs": [],
   "source": [
    "RESULTADOS = {}"
   ]
  },
  {
   "cell_type": "code",
   "execution_count": 18,
   "metadata": {},
   "outputs": [
    {
     "data": {
      "text/plain": [
       "{'ols': {'rmse': 109.73721444858712,\n",
       "  'mae': 84.70074088279948,\n",
       "  'adjusted_r2': 0.5792083056003767}}"
      ]
     },
     "execution_count": 18,
     "metadata": {},
     "output_type": "execute_result"
    }
   ],
   "source": [
    "N = gasto_medio[nombres_variables_independientes].shape[0]\n",
    "\n",
    "RESULTADOS[\"ols\"] = evaluar_modelo(\n",
    "    gasto_medio[nombre_variables_objetivas[0]],\n",
    "    modelo_ols_preds,\n",
    "    N,\n",
    "    len(modelo_ols.coef_)\n",
    ")\n",
    "\n",
    "RESULTADOS"
   ]
  },
  {
   "cell_type": "markdown",
   "metadata": {},
   "source": [
    "# AQUÍ DIVIDIMOS EL DATASET EN TRAIN Y TEST"
   ]
  },
  {
   "cell_type": "code",
   "execution_count": 19,
   "metadata": {},
   "outputs": [],
   "source": [
    "from sklearn.model_selection import train_test_split"
   ]
  },
  {
   "cell_type": "code",
   "execution_count": 20,
   "metadata": {},
   "outputs": [],
   "source": [
    "train_test_split?"
   ]
  },
  {
   "cell_type": "code",
   "execution_count": 21,
   "metadata": {},
   "outputs": [
    {
     "data": {
      "text/plain": [
       "(350, 20)"
      ]
     },
     "execution_count": 21,
     "metadata": {},
     "output_type": "execute_result"
    }
   ],
   "source": [
    "gasto_medio[nombres_variables_independientes].shape"
   ]
  },
  {
   "cell_type": "code",
   "execution_count": 22,
   "metadata": {},
   "outputs": [],
   "source": [
    "X_train, X_test, y_train, y_test = train_test_split(\n",
    "     gasto_medio[nombres_variables_independientes], gasto_medio[nombre_variables_objetivas[0]],\n",
    "     test_size=0.33, random_state=13\n",
    ")"
   ]
  },
  {
   "cell_type": "code",
   "execution_count": 23,
   "metadata": {},
   "outputs": [
    {
     "name": "stdout",
     "output_type": "stream",
     "text": [
      "(234, 20) (234,)\n"
     ]
    }
   ],
   "source": [
    "print(X_train.shape, y_train.shape)"
   ]
  },
  {
   "cell_type": "code",
   "execution_count": 24,
   "metadata": {},
   "outputs": [
    {
     "name": "stdout",
     "output_type": "stream",
     "text": [
      "(116, 20) (116,)\n"
     ]
    }
   ],
   "source": [
    "print(X_test.shape, y_test.shape)"
   ]
  },
  {
   "cell_type": "code",
   "execution_count": 25,
   "metadata": {},
   "outputs": [],
   "source": [
    "modelo_ols = LinearRegression()\n",
    "modelo_ols.fit(X=X_train, y=y_train)\n",
    "modelo_ols_train_preds = modelo_ols.predict(X_train)"
   ]
  },
  {
   "cell_type": "code",
   "execution_count": 26,
   "metadata": {},
   "outputs": [],
   "source": [
    "RESULTADOS[\"ols_train\"] = evaluar_modelo(\n",
    "    y_train,\n",
    "    modelo_ols_train_preds,\n",
    "    X_train.shape[0],\n",
    "    len(modelo_ols.coef_)\n",
    ")"
   ]
  },
  {
   "cell_type": "code",
   "execution_count": 27,
   "metadata": {},
   "outputs": [],
   "source": [
    "modelo_ols_test_preds = modelo_ols.predict(X_test)\n",
    "\n",
    "RESULTADOS[\"ols_test\"] = evaluar_modelo(\n",
    "    y_test,\n",
    "    modelo_ols_test_preds,\n",
    "    X_test.shape[0],\n",
    "    len(modelo_ols.coef_)\n",
    ")"
   ]
  },
  {
   "cell_type": "code",
   "execution_count": 28,
   "metadata": {},
   "outputs": [
    {
     "data": {
      "text/html": [
       "<div>\n",
       "<style scoped>\n",
       "    .dataframe tbody tr th:only-of-type {\n",
       "        vertical-align: middle;\n",
       "    }\n",
       "\n",
       "    .dataframe tbody tr th {\n",
       "        vertical-align: top;\n",
       "    }\n",
       "\n",
       "    .dataframe thead th {\n",
       "        text-align: right;\n",
       "    }\n",
       "</style>\n",
       "<table border=\"1\" class=\"dataframe\">\n",
       "  <thead>\n",
       "    <tr style=\"text-align: right;\">\n",
       "      <th></th>\n",
       "      <th>ols</th>\n",
       "      <th>ols_train</th>\n",
       "      <th>ols_test</th>\n",
       "    </tr>\n",
       "  </thead>\n",
       "  <tbody>\n",
       "    <tr>\n",
       "      <th>rmse</th>\n",
       "      <td>109.737214</td>\n",
       "      <td>111.418064</td>\n",
       "      <td>117.173336</td>\n",
       "    </tr>\n",
       "    <tr>\n",
       "      <th>mae</th>\n",
       "      <td>84.700741</td>\n",
       "      <td>86.361091</td>\n",
       "      <td>89.181922</td>\n",
       "    </tr>\n",
       "    <tr>\n",
       "      <th>adjusted_r2</th>\n",
       "      <td>0.579208</td>\n",
       "      <td>0.556259</td>\n",
       "      <td>0.431125</td>\n",
       "    </tr>\n",
       "  </tbody>\n",
       "</table>\n",
       "</div>"
      ],
      "text/plain": [
       "                    ols   ols_train    ols_test\n",
       "rmse         109.737214  111.418064  117.173336\n",
       "mae           84.700741   86.361091   89.181922\n",
       "adjusted_r2    0.579208    0.556259    0.431125"
      ]
     },
     "execution_count": 28,
     "metadata": {},
     "output_type": "execute_result"
    }
   ],
   "source": [
    "pd.DataFrame(RESULTADOS)"
   ]
  },
  {
   "cell_type": "markdown",
   "metadata": {},
   "source": [
    "Vemos que al separar los datos de entrenamiento y los de test se obtiene un resultado peor al evaluar los datos de test.\n",
    "\n",
    "Podríamos parar aquí y decir *\"El error RMSE de mi modelo es 117.173336\"*, y podríamos pensar que esta todo bien ya que no hemos entrenado el modelo en los datos que hemos usado para evaluarlo.\n",
    "\n",
    "Pero hay un grave error. Y es que hemos usado un `random_state=13` para la función `train_test_split` que garantiza que la separación de entrenamiento y test sea siempre la misma. Podemos usar cualquier número para este argumento, si ponemos otro como `random_state=42` nos data un resultado diferente."
   ]
  },
  {
   "cell_type": "code",
   "execution_count": 29,
   "metadata": {},
   "outputs": [
    {
     "data": {
      "text/html": [
       "<div>\n",
       "<style scoped>\n",
       "    .dataframe tbody tr th:only-of-type {\n",
       "        vertical-align: middle;\n",
       "    }\n",
       "\n",
       "    .dataframe tbody tr th {\n",
       "        vertical-align: top;\n",
       "    }\n",
       "\n",
       "    .dataframe thead th {\n",
       "        text-align: right;\n",
       "    }\n",
       "</style>\n",
       "<table border=\"1\" class=\"dataframe\">\n",
       "  <thead>\n",
       "    <tr style=\"text-align: right;\">\n",
       "      <th></th>\n",
       "      <th>ols_train</th>\n",
       "      <th>ols_test</th>\n",
       "    </tr>\n",
       "  </thead>\n",
       "  <tbody>\n",
       "    <tr>\n",
       "      <th>rmse</th>\n",
       "      <td>109.830262</td>\n",
       "      <td>115.056067</td>\n",
       "    </tr>\n",
       "    <tr>\n",
       "      <th>mae</th>\n",
       "      <td>84.952995</td>\n",
       "      <td>88.847163</td>\n",
       "    </tr>\n",
       "    <tr>\n",
       "      <th>adjusted_r2</th>\n",
       "      <td>0.534708</td>\n",
       "      <td>0.533093</td>\n",
       "    </tr>\n",
       "  </tbody>\n",
       "</table>\n",
       "</div>"
      ],
      "text/plain": [
       "              ols_train    ols_test\n",
       "rmse         109.830262  115.056067\n",
       "mae           84.952995   88.847163\n",
       "adjusted_r2    0.534708    0.533093"
      ]
     },
     "execution_count": 29,
     "metadata": {},
     "output_type": "execute_result"
    }
   ],
   "source": [
    "RESULTADOS = {}\n",
    "\n",
    "X_train, X_test, y_train, y_test = train_test_split(\n",
    "    #Es lo mismo que lo anteriro pero cambiando la semilla (random_state)\n",
    "     gasto_medio[nombres_variables_independientes], gasto_medio[nombre_variables_objetivas[0]],\n",
    "     test_size=0.33, random_state=42\n",
    ")\n",
    "\n",
    "\n",
    "modelo_ols = LinearRegression()\n",
    "modelo_ols.fit(X=X_train, y=y_train)\n",
    "modelo_ols_train_preds = modelo_ols.predict(X_train)\n",
    "modelo_ols_test_preds = modelo_ols.predict(X_test)\n",
    "\n",
    "\n",
    "RESULTADOS[\"ols_train\"] = evaluar_modelo(\n",
    "    y_train,\n",
    "    modelo_ols_train_preds,\n",
    "    X_train.shape[0],\n",
    "    len(modelo_ols.coef_)\n",
    ")\n",
    "\n",
    "RESULTADOS[\"ols_test\"] = evaluar_modelo(\n",
    "    y_test,\n",
    "    modelo_ols_test_preds,\n",
    "    X_test.shape[0],\n",
    "    len(modelo_ols.coef_)\n",
    ")\n",
    "\n",
    "pd.DataFrame(RESULTADOS)"
   ]
  },
  {
   "cell_type": "markdown",
   "metadata": {},
   "source": [
    "Para ver la magnitud del error en el que estamos cayendo al hacer una sola separación entre test y entrenamiento, vamos a probar un monton de semillas y ver cual es el rango del error que se puede obtener "
   ]
  },
  {
   "cell_type": "code",
   "execution_count": 30,
   "metadata": {},
   "outputs": [],
   "source": [
    "model=LinearRegression()\n",
    "results = []\n",
    "\n",
    "def test_seed(seed):\n",
    "    \n",
    "    X_train, X_test, y_train, y_test = train_test_split(\n",
    "     gasto_medio[nombres_variables_independientes], gasto_medio[nombre_variables_objetivas[0]],\n",
    "     test_size=0.33, random_state=seed\n",
    "    )\n",
    "    test_preds = model.fit(X_train, y_train).predict(X_test)\n",
    "    seed_rmse = rmse(y_test, test_preds)\n",
    "    results.append([seed_rmse, seed])"
   ]
  },
  {
   "cell_type": "code",
   "execution_count": 31,
   "metadata": {},
   "outputs": [],
   "source": [
    "for i in range(1000):\n",
    "    test_seed(i)"
   ]
  },
  {
   "cell_type": "code",
   "execution_count": 32,
   "metadata": {},
   "outputs": [
    {
     "data": {
      "text/plain": [
       "[[112.5484484885666, 0],\n",
       " [129.89689764849854, 1],\n",
       " [116.98307997817808, 2],\n",
       " [109.59617357842214, 3],\n",
       " [121.39295888813406, 4]]"
      ]
     },
     "execution_count": 32,
     "metadata": {},
     "output_type": "execute_result"
    }
   ],
   "source": [
    "results[:5]"
   ]
  },
  {
   "cell_type": "code",
   "execution_count": 33,
   "metadata": {},
   "outputs": [],
   "source": [
    "results_sorted = sorted(results, key=lambda x: x[0], reverse=False)"
   ]
  },
  {
   "cell_type": "code",
   "execution_count": 34,
   "metadata": {},
   "outputs": [
    {
     "data": {
      "text/plain": [
       "[90.82502362587272, 24]"
      ]
     },
     "execution_count": 34,
     "metadata": {},
     "output_type": "execute_result"
    }
   ],
   "source": [
    "results_sorted[0]"
   ]
  },
  {
   "cell_type": "code",
   "execution_count": 35,
   "metadata": {},
   "outputs": [
    {
     "data": {
      "text/plain": [
       "[149.66937646375817, 900]"
      ]
     },
     "execution_count": 35,
     "metadata": {},
     "output_type": "execute_result"
    }
   ],
   "source": [
    "results_sorted[-1]"
   ]
  },
  {
   "cell_type": "markdown",
   "metadata": {},
   "source": [
    "# Validación Cruzada (Cross Validation)"
   ]
  },
  {
   "cell_type": "markdown",
   "metadata": {},
   "source": [
    "Vemos que entre la semilla con menor error de test y la semilla con mayor error hay una diferencia casi del doble!"
   ]
  },
  {
   "cell_type": "markdown",
   "metadata": {},
   "source": [
    "Una forma de evitar el cometer este error es mediante la **Validación cruzada**\n",
    "\n",
    "![cross_val](https://cdn-images-1.medium.com/max/1600/1*J2B_bcbd1-s1kpWOu_FZrg.png)"
   ]
  },
  {
   "cell_type": "code",
   "execution_count": 36,
   "metadata": {},
   "outputs": [],
   "source": [
    "from sklearn.model_selection import cross_val_score"
   ]
  },
  {
   "cell_type": "code",
   "execution_count": 37,
   "metadata": {},
   "outputs": [],
   "source": [
    "cross_val_score?"
   ]
  },
  {
   "cell_type": "code",
   "execution_count": 38,
   "metadata": {},
   "outputs": [],
   "source": [
    "modelo_ols = LinearRegression()\n",
    "X = gasto_medio[nombres_variables_independientes]\n",
    "y = gasto_medio[nombre_variables_objetivas[0]]\n",
    "\n",
    "resultados_validación_cruzada = cross_val_score(\n",
    "    estimator=modelo_ols, \n",
    "    X=X,\n",
    "    y=y,\n",
    "    scoring=\"neg_mean_squared_error\", \n",
    "    cv=10\n",
    ")"
   ]
  },
  {
   "cell_type": "code",
   "execution_count": 39,
   "metadata": {},
   "outputs": [
    {
     "data": {
      "text/plain": [
       "array([-12616.9177294 , -20209.56363627,  -7774.42519286, -14374.01315129,\n",
       "       -18260.78278016, -14926.11092577, -11872.54775758, -20160.59608957,\n",
       "       -36005.08989601, -13032.00807344])"
      ]
     },
     "execution_count": 39,
     "metadata": {},
     "output_type": "execute_result"
    }
   ],
   "source": [
    "resultados_validación_cruzada"
   ]
  },
  {
   "cell_type": "code",
   "execution_count": 40,
   "metadata": {},
   "outputs": [
    {
     "data": {
      "text/plain": [
       "-16923.20552323703"
      ]
     },
     "execution_count": 40,
     "metadata": {},
     "output_type": "execute_result"
    }
   ],
   "source": [
    "resultados_validación_cruzada.mean()"
   ]
  },
  {
   "cell_type": "code",
   "execution_count": 41,
   "metadata": {},
   "outputs": [],
   "source": [
    "def rmse_cross_val(estimator, X, y):\n",
    "    y_pred = estimator.predict(X)\n",
    "    return np.sqrt(metrics.mean_squared_error(y, y_pred))"
   ]
  },
  {
   "cell_type": "code",
   "execution_count": 42,
   "metadata": {},
   "outputs": [],
   "source": [
    "resultados_cv = []\n",
    "for i in range(10,100):\n",
    "    cv_rmse = cross_val_score(\n",
    "        estimator=modelo_ols, \n",
    "        X=X,\n",
    "        y=y,\n",
    "        scoring=rmse_cross_val, \n",
    "        cv=i\n",
    "    ).mean()\n",
    "    resultados_cv.append(cv_rmse)"
   ]
  },
  {
   "cell_type": "code",
   "execution_count": 43,
   "metadata": {},
   "outputs": [],
   "source": [
    "%matplotlib inline\n",
    "import matplotlib.pyplot as plt"
   ]
  },
  {
   "cell_type": "code",
   "execution_count": 44,
   "metadata": {},
   "outputs": [
    {
     "data": {
      "text/plain": [
       "[<matplotlib.lines.Line2D at 0x14c7bca4af0>]"
      ]
     },
     "execution_count": 44,
     "metadata": {},
     "output_type": "execute_result"
    },
    {
     "data": {
      "image/png": "[encoded data removed]",
      "text/plain": [
       "<Figure size 432x288 with 1 Axes>"
      ]
     },
     "metadata": {
      "needs_background": "light"
     },
     "output_type": "display_data"
    }
   ],
   "source": [
    "plt.plot(resultados_cv)"
   ]
  },
  {
   "cell_type": "code",
   "execution_count": 45,
   "metadata": {},
   "outputs": [],
   "source": [
    "from sklearn.model_selection import cross_validate\n",
    "scoring = {\"mae\": \"neg_mean_absolute_error\", \"rmse\": rmse_cross_val}\n",
    "estimator = modelo_ols\n",
    "scores = cross_validate(estimator, gasto_medio[nombres_variables_independientes],\n",
    "                        gasto_medio[nombre_variables_objetivas[0]], scoring=scoring,\n",
    "                         cv=100, return_train_score=True)"
   ]
  },
  {
   "cell_type": "code",
   "execution_count": 46,
   "metadata": {},
   "outputs": [
    {
     "data": {
      "text/plain": [
       "fit_time        0.007327\n",
       "score_time      0.010685\n",
       "test_mae      -94.280120\n",
       "train_mae     -84.646913\n",
       "test_rmse     110.624232\n",
       "train_rmse    109.681900\n",
       "dtype: float64"
      ]
     },
     "execution_count": 46,
     "metadata": {},
     "output_type": "execute_result"
    }
   ],
   "source": [
    "pd.DataFrame(scores).mean()"
   ]
  },
  {
   "cell_type": "code",
   "execution_count": null,
   "metadata": {},
   "outputs": [],
   "source": []
  },
  {
   "cell_type": "code",
   "execution_count": null,
   "metadata": {},
   "outputs": [],
   "source": []
  }
 ],
 "metadata": {
  "kernelspec": {
   "display_name": "Python 3",
   "language": "python",
   "name": "python3"
  },
  "language_info": {
   "codemirror_mode": {
    "name": "ipython",
    "version": 3
   },
   "file_extension": ".py",
   "mimetype": "text/x-python",
   "name": "python",
   "nbconvert_exporter": "python",
   "pygments_lexer": "ipython3",
   "version": "3.8.5"
  }
 },
 "nbformat": 4,
 "nbformat_minor": 4
}
